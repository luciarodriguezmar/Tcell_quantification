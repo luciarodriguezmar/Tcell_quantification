{
 "cells": [
  {
   "cell_type": "markdown",
   "id": "6d3c775e",
   "metadata": {},
   "source": [
    "# 1. Extraction of features from segmentation data"
   ]
  },
  {
   "cell_type": "markdown",
   "id": "3ed5efe2",
   "metadata": {},
   "source": [
    "This first part of the analysis quantifies several features of the cells in 2D (analysis of each section of the stack individually): area of all segmented organelles per cell, number of mitochondria and nucleus, and shape of cell, mitochondria and nuclei. Shape is quantified as:\n",
    "\n",
    "Aspect ratio: ratio between the longest and shortest sides of the bbox. The bbox is the minimal rectangle that contains the whole object in terms of its coordenates.\n",
    "Roundness: ratio between the object´s area and its longest side (FH) of the bbox:\n",
    "$$roundness = \\frac{4*A}{\\pi*F_{H}^{2}}$$"
   ]
  },
  {
   "cell_type": "markdown",
   "id": "c336d09a",
   "metadata": {},
   "source": [
    "## Export segmentation\n",
    "The script uses segmentation files exported from Vast Lite using the following conditions:\n",
    "\n",
    "- Multi-tile stack\n",
    "- Mip level: 0\n",
    "- Export segmentation as \".png\"\n",
    "- 8bit/px\n",
    "- Collapsed labels as in current view\n",
    "- Export currently selected label (and select each segmen layer for each organelle manually).\n",
    "\n",
    "Each of the segments for each organelle has to be stored in a different folder and the name of the individual files must contain \".vsseg_export_s\". After \"s\", it detects the number of the section using the following, so that if the section has two digits zfill(2) and if it has three digits zfill(3):\n",
    "\n",
    "- self.file = r'*export_s{}*'.format(str(sl_num).zfill(...))\n",
    "For the tile size: recommended to use a divisible number to the total height and width of the section.\n",
    "\n",
    "In case of changing the tile size: need to change the numbers on Cells.py (in patchsize inside of the function definition get_imageshape) and the number of tiles that will be created from that into self.imageshape (first two values).\n",
    "For example: if for a image of 1024x1024 the tile size selected is 256x256, it would create four tiles, so:\n",
    "\n",
    "- patchsize=(256,256)\n",
    "- self.imageshape = (4,4,*patchsize)"
   ]
  },
  {
   "cell_type": "code",
   "execution_count": 1,
   "id": "44ffbf7f",
   "metadata": {},
   "outputs": [
    {
     "name": "stderr",
     "output_type": "stream",
     "text": [
      "C:\\Users\\Gast-User\\.conda\\envs\\MG\\lib\\site-packages\\numba\\core\\decorators.py:253: RuntimeWarning: nopython is set for njit and is ignored\n",
      "  warnings.warn('nopython is set for njit and is ignored', RuntimeWarning)\n"
     ]
    }
   ],
   "source": [
    "from Cells import Cells\n",
    "from MGFeatures import *\n",
    "import numpy as np\n",
    "import pandas as pd\n",
    "from joblib import Parallel, delayed\n",
    "import napari\n",
    "from tifffile import imsave\n",
    "import skimage.measure\n",
    "import time\n",
    "import matplotlib.pyplot as plt\n",
    "import seaborn as sns\n",
    "from sklearn.preprocessing import StandardScaler\n",
    "from sklearn.cluster import KMeans\n",
    "from sklearn.decomposition import PCA"
   ]
  },
  {
   "cell_type": "code",
   "execution_count": 2,
   "id": "e0a0c4f8",
   "metadata": {},
   "outputs": [],
   "source": [
    "# TO-DO: include this definition in Cells.py or MGFeatures.py\n",
    "\n",
    "def get_area(labels, labels_list): \n",
    "    areas = []\n",
    "    for i in labels_list:\n",
    "        area = np.count_nonzero(labels == i)\n",
    "        areas.append(area)\n",
    "    areas = np.array(areas)\n",
    "    return areas"
   ]
  },
  {
   "cell_type": "code",
   "execution_count": 3,
   "id": "852391d3",
   "metadata": {},
   "outputs": [],
   "source": [
    "folder = r'Y:\\MS293_Shun_Immunogold_030523\\Segmentation\\cell_final'\n",
    "heterochromatin_folder = r'Y:\\MS293_Shun_Immunogold_030523\\Segmentation\\heterochromatin_final'\n",
    "gold_folder = r'Y:\\MS293_Shun_Immunogold_030523\\Segmentation\\gold_final'\n",
    "lysosomes_folder = r'Y:\\MS293_Shun_Immunogold_030523\\Segmentation\\lysosome_final'\n",
    "mitochondria_folder = r'Y:\\MS293_Shun_Immunogold_030523\\Segmentation\\mitochondria_final'\n",
    "nucleus_folder = r'Y:\\MS293_Shun_Immunogold_030523\\Segmentation\\nucleus_final'\n",
    "ER_folder = r'Y:\\MS293_Shun_Immunogold_030523\\Segmentation\\er_final'\n",
    "golgi_folder = r'Y:\\MS293_Shun_Immunogold_030523\\Segmentation\\golgi_final'"
   ]
  },
  {
   "cell_type": "markdown",
   "id": "abe285df",
   "metadata": {},
   "source": [
    "##  tcell_properties function"
   ]
  },
  {
   "cell_type": "markdown",
   "id": "630665ec",
   "metadata": {},
   "source": [
    "The following functionautomatically extracts several features of the segments per label, being here a label one cell in each plane. The code is divided into different functions:\n",
    "\n",
    "- #### A. Label cells\n",
    "\n",
    "This part of the code creates the labels for the cell segment. It runs over the i, which is the section number. The functions indicated: 'get_imageshape()', 'img_from_tiles()', 'label_cells()' are described in Cells.py. These functions reconstruct the whole image from the tiles created for the segmentation export and detects the connected elements to label the individual cells. 'cell_labels' is an array that can be visualized with napari.\n",
    "\n",
    "- #### B: Label organelles\n",
    "\n",
    "This part of the code creates individual labels for the organelles, but they are dependent of the cell label via the mask_it() function. This function returns an array np.int8, in which the information is the number of the label of the cell.\n",
    "For example, if a cell with label number 1 has two mitochondria, both of these mitochondria will be labeled 1.\n",
    "\n",
    "- #### C: Connected labels\n",
    "\n",
    "The skimage.measure.label() with connectivity=2 creates labelling of the organelles in a different way, so that two mitochondria present in the same cell contain a different label. This is not necessary for the cell labels, but it changes the data to an array of np.int64 in all cases.\n",
    "\n",
    "- #### D: Dataframe with cell, mitochondria and nucleus coordinates\n",
    "\n",
    "For the cell, mitochondria and nucleus labels, a pandas data frame is created that contains per label the coordinates of the bbox, stored as the minimum and maximum values of x and y axis.\n",
    "\n",
    "- #### E. Assign mitochondria and nucleus to cell coordinates\n",
    "\n",
    "The loop assigns the label of the cell to which each organelle belongs and stores it as 'id_cell', so that the organelles that belong to the same cell can later be grouped and extracted the mean values.\n",
    "\n",
    "- #### F. Calculate properties per cell\n",
    "\n",
    "Using the coordinates of each label we calculate the aspect ratio and roundness. For the aspect ratio, the largest and smallest side of the bbox are calculated as the maximum and minimum difference, respectively, between the row and column values. \n",
    "\n",
    "- #### G. Add properties to data frame\n",
    "\n",
    "All properties are added to an empty data frame. In the case of properties related to mitochondria and nucleus, the mean properties of the organelles is calculated per cell, by grouping them by their cell id."
   ]
  },
  {
   "cell_type": "code",
   "execution_count": 4,
   "id": "b57acb0c",
   "metadata": {},
   "outputs": [],
   "source": [
    "def tcell_properties(i):\n",
    "    #propertiesall  = pd.DataFrame()\n",
    "    # A. Label cells\n",
    "    cell = Cells(i)\n",
    "    imageshape = cell.get_imageshape(folder) #TODO: this step is redundant! Fix in cells\n",
    "    cell_image = cell.img_from_tiles(folder)\n",
    "    cell_labels = cell.label_cells(cell_image)\n",
    "    labels_list = np.unique(cell_labels)[1:]\n",
    "    \n",
    "    # B. label organelles\n",
    "    heterochromatin_labels = mask_it(cell_labels, cell.img_from_tiles(heterochromatin_folder))\n",
    "    lysosomes_labels = mask_it(cell_labels, cell.img_from_tiles(lysosomes_folder))\n",
    "    mitochondria_labels = mask_it(cell_labels, cell.img_from_tiles(mitochondria_folder))\n",
    "    nucleus_labels = mask_it(cell_labels, cell.img_from_tiles(nucleus_folder))\n",
    "    gold_labels = mask_it(cell_labels, cell.img_from_tiles(gold_folder))\n",
    "    golgi_labels = mask_it(cell_labels, cell.img_from_tiles(golgi_folder))\n",
    "    ER = cell.img_from_tiles(ER_folder)\n",
    "    \n",
    "    # C. Connected labels\n",
    "    cell_label = skimage.measure.label(cell_labels, connectivity=2)\n",
    "    mito_label = skimage.measure.label(mitochondria_labels, connectivity=2)\n",
    "    nuc_label = skimage.measure.label(nucleus_labels, connectivity=2)\n",
    "    \n",
    "    #D. Dataframe with cell, mitochondria and nucleus coordinates\n",
    "    cell_coord = []\n",
    "    coord_cell = pd.DataFrame()\n",
    "    region = regionprops(cell_label)\n",
    "    for r in region:\n",
    "        min_row, min_col, max_row, max_col = r.bbox\n",
    "        cell_coord.append((min_row, max_row, min_col, max_col))\n",
    "    coord_cell = pd.DataFrame(cell_coord, columns = [\"min_row\",\"max_row\", \"min_col\", \"max_col\"])\n",
    "   \n",
    "    mito_coord = []\n",
    "    coord_mito = pd.DataFrame()\n",
    "    region = regionprops(mito_label)\n",
    "    for r in region:\n",
    "        min_row, min_col, max_row, max_col = r.bbox\n",
    "        mito_coord.append((min_row, min_col, max_row, max_col))\n",
    "    coord_mito = pd.DataFrame(mito_coord, columns = [\"min_row\", \"min_col\", \"max_row\", \"max_col\"])\n",
    "    \n",
    "    nuc_coord = []\n",
    "    coord_nuc = pd.DataFrame()\n",
    "    region = regionprops(nuc_label)\n",
    "    for r in region:\n",
    "        min_row, min_col, max_row, max_col = r.bbox\n",
    "        nuc_coord.append((min_row, min_col, max_row, max_col))\n",
    "    coord_nuc = pd.DataFrame(nuc_coord, columns = [\"min_row\", \"min_col\", \"max_row\", \"max_col\"])\n",
    "    \n",
    "    #E. Assign mitochondria and nucleus to cell coordinates\n",
    "    coord_mito['id_cell'] = 0\n",
    "    for x in range(len(coord_cell)):\n",
    "        for y in range(len(coord_mito)):\n",
    "            if (coord_mito[\"min_row\"][y] >= coord_cell[\"min_row\"][x]  and coord_mito[\"max_row\"][y] <= coord_cell[\"max_row\"][x]) and (coord_mito[\"min_col\"][y] >= coord_cell[\"min_col\"][x]and coord_mito[\"max_col\"][y] <= coord_cell[\"max_col\"][x]):\n",
    "                coord_mito['id_cell'][y] = x\n",
    "    \n",
    "    coord_nuc['id_cell'] = 0\n",
    "    for y in range(len(coord_nuc)):\n",
    "        for x in range(len(coord_cell)):\n",
    "            if (coord_nuc[\"min_row\"][y] >= coord_cell[\"min_row\"][x]  and coord_nuc[\"max_row\"][y] <= coord_cell[\"max_row\"][x]) and (coord_nuc[\"min_col\"][y] >= coord_cell[\"min_col\"][x]and coord_nuc[\"max_col\"][y] <= coord_cell[\"max_col\"][x]):\n",
    "                coord_nuc['id_cell'][y] = x\n",
    "    \n",
    "    #F. Calculate properties per cell\n",
    "    #F1. Mitochondria\n",
    "    coord_mito['mito_large'] = 0\n",
    "    coord_mito['mito_small'] = 0\n",
    "    for y in range(len(coord_mito)):\n",
    "        D = max(coord_mito['max_row'][y] - coord_mito['min_row'][y], coord_mito['max_col'][y] - coord_mito['min_col'][y])\n",
    "        coord_mito['mito_large'][y] = D\n",
    "        d = min(coord_mito['max_row'][y] - coord_mito['min_row'][y], coord_mito['max_col'][y] - coord_mito['min_col'][y])\n",
    "        coord_mito['mito_small'][y] = d\n",
    "    coord_mito['mito_aspect'] = coord_mito['mito_small']/coord_mito['mito_large']\n",
    "    mito_list = np.unique(mito_label)[1:]\n",
    "    mito_area = get_area(mito_label, mito_list)\n",
    "    coord_mito['mito_area'] = mito_area\n",
    "    coord_mito['mito_roundness'] = (4*coord_mito['mito_area'])/(np.pi*(coord_mito['mito_large']**2))\n",
    "    \n",
    "    #F2. Nucleus\n",
    "    coord_nuc['nuc_large'] = 0\n",
    "    coord_nuc['nuc_small'] = 0\n",
    "    for y in range(len(coord_nuc)):\n",
    "        M = max(coord_nuc['max_row'][y] - coord_nuc['min_row'][y], coord_nuc['max_col'][y] - coord_nuc['min_col'][y])\n",
    "        coord_nuc['nuc_large'][y] = M\n",
    "        m = min(coord_nuc['max_row'][y] - coord_nuc['min_row'][y], coord_nuc['max_col'][y] - coord_nuc['min_col'][y])\n",
    "        coord_nuc['nuc_small'][y] = m\n",
    "    coord_nuc['nuc_aspect'] = coord_nuc['nuc_small']/coord_nuc['nuc_large']\n",
    "    nuc_list = np.unique(nuc_label)[1:]\n",
    "    nuc_area = get_area(nuc_label, nuc_list)\n",
    "    coord_nuc['nuc_area'] = nuc_area\n",
    "    coord_nuc['nuc_roundness'] = (4*coord_nuc['nuc_area'])/(np.pi*(coord_nuc['nuc_large']**2))\n",
    "    \n",
    "    #F3. Cell\n",
    "    coord_cell['cell_large'] = 0\n",
    "    coord_cell['cell_small'] = 0\n",
    "    for y in range(len(coord_cell)):\n",
    "        D = max(coord_cell['max_row'][y] - coord_cell['min_row'][y], coord_cell['max_col'][y] - coord_cell['min_col'][y])\n",
    "        coord_cell['cell_large'][y] = D\n",
    "        d = min(coord_cell['max_row'][y] - coord_cell['min_row'][y], coord_cell['max_col'][y] - coord_cell['min_col'][y])\n",
    "        coord_cell['cell_small'][y] = d\n",
    "    coord_cell['cell_aspect'] = coord_cell['cell_small']/coord_cell['cell_large']\n",
    "    \n",
    "    #G. Add to properties data frame\n",
    "    properties = pd.DataFrame()\n",
    "    cell_list = np.unique(cell_labels)[1:]\n",
    "    properties['cell_area'] = get_area(cell_labels, cell_list)\n",
    "    properties['cell_aspect'] = coord_cell['cell_aspect']\n",
    "    properties['cell_roundness'] = (4*properties['cell_area'])/(np.pi*(coord_cell['cell_large']**2))\n",
    "    properties['number_mito'] = coord_mito.groupby(['id_cell']).size()\n",
    "    properties['mean_mito_aspect'] = coord_mito.groupby(['id_cell'])['mito_aspect'].mean()\n",
    "    properties['std_mito_aspect'] = coord_mito.groupby(['id_cell'])['mito_aspect'].std()\n",
    "    properties['mean_mito_area'] = coord_mito.groupby(['id_cell'])['mito_area'].mean()\n",
    "    properties['std_mito_area'] = coord_mito.groupby(['id_cell'])['mito_area'].std()\n",
    "    properties['mean_mito_roundness'] = coord_mito.groupby(['id_cell'])['mito_roundness'].mean()\n",
    "    properties['std_mito_roundness'] = coord_mito.groupby(['id_cell'])['mito_roundness'].std()\n",
    "    properties['sum_mito_area'] = coord_mito.groupby(['id_cell'])['mito_area'].sum()\n",
    "    properties['number_nuc'] = coord_nuc.groupby(['id_cell']).size()\n",
    "    properties['mean_nuc_aspect'] = coord_nuc.groupby(['id_cell'])['nuc_aspect'].mean()\n",
    "    properties['std_nuc_aspect'] = coord_nuc.groupby(['id_cell'])['nuc_aspect'].std()\n",
    "    properties['mean_nuc_area'] = coord_nuc.groupby(['id_cell'])['nuc_area'].mean()\n",
    "    properties['std_nuc_area'] = coord_nuc.groupby(['id_cell'])['nuc_area'].std()\n",
    "    properties['mean_nuc_roundness'] = coord_nuc.groupby(['id_cell'])['nuc_roundness'].mean()\n",
    "    properties['std_nuc_roundness'] = coord_nuc.groupby(['id_cell'])['nuc_roundness'].std()\n",
    "    properties['std_nuc_area'] = coord_nuc.groupby(['id_cell'])['nuc_area'].std()\n",
    "    properties['lysosomal_area'] = get_area(lysosomes_labels, labels_list)\n",
    "    properties['heterochromatin_area'] = get_area(heterochromatin_labels, labels_list)\n",
    "    properties['gold_area'] = get_area(gold_labels, labels_list)\n",
    "    properties['nucleus_area'] = coord_nuc['nuc_area']\n",
    "    properties['golgi_area'] = get_area(golgi_labels, labels_list)\n",
    "    properties['cytoplasm_area'] = properties['cell_area'] - properties['nucleus_area']\n",
    "    properties['ER_lengths'] = ER_length(ER, cell_labels)\n",
    "    properties['sl_num'] = np.array([i]*len(labels_list))\n",
    "    properties['x1'] = coord_cell['min_row']\n",
    "    properties['x2'] = coord_cell['max_row']\n",
    "    properties['y1'] = coord_cell['min_col']\n",
    "    properties['y2'] = coord_cell['max_col']\n",
    "    properties= properties.fillna(0)\n",
    "    #propertiesall = propertiesall.append(properties)\n",
    "    return properties"
   ]
  },
  {
   "cell_type": "markdown",
   "id": "aaa8354c",
   "metadata": {},
   "source": [
    "## Running the tcell_properties function in parallel\n",
    "In order to make the process faster, the for loop to run each section using this function is achieved by running them in parallel. The nslices that can run in parallel in each case will depend on the number of cores of the pc and the total number in the range in the station´s RAM."
   ]
  },
  {
   "cell_type": "code",
   "execution_count": null,
   "id": "509ef217",
   "metadata": {},
   "outputs": [],
   "source": [
    "start_time = time.time()\n",
    "nslices = 6\n",
    "properties0_5 = Parallel(n_jobs=nslices, verbose=True)(delayed(tcell_properties)(i) for i in range(5))\n",
    "end_time = time.time()\n",
    "elapsed_time = end_time - start_time\n",
    "print(\"Elapsed time: \", elapsed_time)"
   ]
  },
  {
   "cell_type": "code",
   "execution_count": null,
   "id": "36db523c",
   "metadata": {},
   "outputs": [],
   "source": [
    "propertiessum0_5 = pd.DataFrame()\n",
    "for i in range(5):\n",
    "    propertiessum0_5= propertiessum0_5.append(properties0_5[i]) \n",
    "propertiessum0_5.to_excel(\"tcell_properties_0_5_v4.xlsx\")"
   ]
  },
  {
   "cell_type": "code",
   "execution_count": null,
   "id": "4bc0d6e6",
   "metadata": {},
   "outputs": [],
   "source": [
    "start_time = time.time()\n",
    "nslices = 5\n",
    "properties5_10 = Parallel(n_jobs=nslices, verbose=True)(delayed(tcell_properties)(i) for i in range(5,10))\n",
    "end_time = time.time()\n",
    "elapsed_time = end_time - start_time\n",
    "print(\"Elapsed time: \", elapsed_time)"
   ]
  },
  {
   "cell_type": "code",
   "execution_count": null,
   "id": "4691ff1f",
   "metadata": {},
   "outputs": [],
   "source": [
    "propertiessum5_10 = pd.DataFrame()\n",
    "for i in range(5):\n",
    "    propertiessum5_10= propertiessum5_10.append(properties5_10[i]) \n",
    "propertiessum5_10.to_excel(\"tcell_properties_5_10_v4.xlsx\")"
   ]
  },
  {
   "cell_type": "code",
   "execution_count": null,
   "id": "63e6acf6",
   "metadata": {},
   "outputs": [],
   "source": [
    "start_time = time.time()\n",
    "nslices = 5\n",
    "properties10_15 = Parallel(n_jobs=nslices, verbose=True)(delayed(tcell_properties)(i) for i in range(10,15))\n",
    "end_time = time.time()\n",
    "elapsed_time = end_time - start_time\n",
    "print(\"Elapsed time: \", elapsed_time)"
   ]
  },
  {
   "cell_type": "code",
   "execution_count": null,
   "id": "a98c6853",
   "metadata": {},
   "outputs": [],
   "source": [
    "propertiessum10_15 = pd.DataFrame()\n",
    "for i in range(5):\n",
    "    propertiessum10_15= propertiessum10_15.append(properties10_15[i]) \n",
    "propertiessum10_15.to_excel(\"tcell_properties_10_15_v4.xlsx\")"
   ]
  },
  {
   "cell_type": "code",
   "execution_count": null,
   "id": "5571c207",
   "metadata": {},
   "outputs": [],
   "source": [
    "start_time = time.time()\n",
    "nslices = 5\n",
    "properties15_20 = Parallel(n_jobs=nslices, verbose=True)(delayed(tcell_properties)(i) for i in range(15,20))\n",
    "end_time = time.time()\n",
    "elapsed_time = end_time - start_time\n",
    "print(\"Elapsed time: \", elapsed_time)"
   ]
  },
  {
   "cell_type": "code",
   "execution_count": null,
   "id": "aef780b2",
   "metadata": {},
   "outputs": [],
   "source": [
    "propertiessum15_20 = pd.DataFrame()\n",
    "for i in range(5):\n",
    "    propertiessum15_20= propertiessum15_20.append(properties15_20[i]) \n",
    "propertiessum15_20.to_excel(\"tcell_properties_15_20_v4.xlsx\")"
   ]
  },
  {
   "cell_type": "code",
   "execution_count": null,
   "id": "30154d60",
   "metadata": {},
   "outputs": [],
   "source": [
    "start_time = time.time()\n",
    "nslices = 5\n",
    "properties20_25 = Parallel(n_jobs=nslices, verbose=True)(delayed(tcell_properties)(i) for i in range(20,25))\n",
    "end_time = time.time()\n",
    "elapsed_time = end_time - start_time\n",
    "print(\"Elapsed time: \", elapsed_time)"
   ]
  },
  {
   "cell_type": "code",
   "execution_count": null,
   "id": "425fa73c",
   "metadata": {},
   "outputs": [],
   "source": [
    "propertiessum20_25 = pd.DataFrame()\n",
    "for i in range(5):\n",
    "    propertiessum20_25= propertiessum20_25.append(properties20_25[i]) \n",
    "propertiessum20_25.to_excel(\"tcell_properties_20_25_v4.xlsx\")"
   ]
  },
  {
   "cell_type": "markdown",
   "id": "6b570f89",
   "metadata": {},
   "source": [
    "## Start from here"
   ]
  },
  {
   "cell_type": "code",
   "execution_count": 5,
   "id": "57d20d5d",
   "metadata": {},
   "outputs": [
    {
     "name": "stderr",
     "output_type": "stream",
     "text": [
      "[Parallel(n_jobs=5)]: Using backend LokyBackend with 5 concurrent workers.\n",
      "[Parallel(n_jobs=5)]: Done   2 out of   5 | elapsed: 16.3min remaining: 24.4min\n"
     ]
    },
    {
     "name": "stdout",
     "output_type": "stream",
     "text": [
      "Elapsed time:  2112.881951570511\n"
     ]
    },
    {
     "name": "stderr",
     "output_type": "stream",
     "text": [
      "[Parallel(n_jobs=5)]: Done   5 out of   5 | elapsed: 35.2min finished\n"
     ]
    }
   ],
   "source": [
    "start_time = time.time()\n",
    "nslices = 5\n",
    "properties25_30 = Parallel(n_jobs=nslices, verbose=True)(delayed(tcell_properties)(i) for i in range(25,30))\n",
    "end_time = time.time()\n",
    "elapsed_time = end_time - start_time\n",
    "print(\"Elapsed time: \", elapsed_time)"
   ]
  },
  {
   "cell_type": "code",
   "execution_count": 6,
   "id": "7af4ac15",
   "metadata": {},
   "outputs": [
    {
     "name": "stderr",
     "output_type": "stream",
     "text": [
      "C:\\Users\\Gast-User\\AppData\\Local\\Temp\\ipykernel_3292\\2626863135.py:3: FutureWarning: The frame.append method is deprecated and will be removed from pandas in a future version. Use pandas.concat instead.\n",
      "  propertiessum25_30= propertiessum25_30.append(properties25_30[i])\n",
      "C:\\Users\\Gast-User\\AppData\\Local\\Temp\\ipykernel_3292\\2626863135.py:3: FutureWarning: The frame.append method is deprecated and will be removed from pandas in a future version. Use pandas.concat instead.\n",
      "  propertiessum25_30= propertiessum25_30.append(properties25_30[i])\n",
      "C:\\Users\\Gast-User\\AppData\\Local\\Temp\\ipykernel_3292\\2626863135.py:3: FutureWarning: The frame.append method is deprecated and will be removed from pandas in a future version. Use pandas.concat instead.\n",
      "  propertiessum25_30= propertiessum25_30.append(properties25_30[i])\n"
     ]
    }
   ],
   "source": [
    "propertiessum25_30 = pd.DataFrame()\n",
    "for i in range(5):\n",
    "    propertiessum25_30= propertiessum25_30.append(properties25_30[i]) \n",
    "propertiessum25_30.to_excel(\"tcell_properties_25_30_v4.xlsx\")"
   ]
  },
  {
   "cell_type": "code",
   "execution_count": 7,
   "id": "4cc32a75",
   "metadata": {},
   "outputs": [
    {
     "name": "stderr",
     "output_type": "stream",
     "text": [
      "[Parallel(n_jobs=5)]: Using backend LokyBackend with 5 concurrent workers.\n",
      "[Parallel(n_jobs=5)]: Done   2 out of   5 | elapsed: 14.7min remaining: 22.1min\n"
     ]
    },
    {
     "name": "stdout",
     "output_type": "stream",
     "text": [
      "Elapsed time:  954.7967352867126\n"
     ]
    },
    {
     "name": "stderr",
     "output_type": "stream",
     "text": [
      "[Parallel(n_jobs=5)]: Done   5 out of   5 | elapsed: 15.9min finished\n"
     ]
    }
   ],
   "source": [
    "start_time = time.time()\n",
    "nslices = 5\n",
    "properties30_35 = Parallel(n_jobs=nslices, verbose=True)(delayed(tcell_properties)(i) for i in range(30,35))\n",
    "end_time = time.time()\n",
    "elapsed_time = end_time - start_time\n",
    "print(\"Elapsed time: \", elapsed_time)"
   ]
  },
  {
   "cell_type": "code",
   "execution_count": 8,
   "id": "0704f949",
   "metadata": {},
   "outputs": [
    {
     "name": "stderr",
     "output_type": "stream",
     "text": [
      "C:\\Users\\Gast-User\\AppData\\Local\\Temp\\ipykernel_3292\\512546378.py:3: FutureWarning: The frame.append method is deprecated and will be removed from pandas in a future version. Use pandas.concat instead.\n",
      "  propertiessum30_35= propertiessum30_35.append(properties30_35[i])\n",
      "C:\\Users\\Gast-User\\AppData\\Local\\Temp\\ipykernel_3292\\512546378.py:3: FutureWarning: The frame.append method is deprecated and will be removed from pandas in a future version. Use pandas.concat instead.\n",
      "  propertiessum30_35= propertiessum30_35.append(properties30_35[i])\n",
      "C:\\Users\\Gast-User\\AppData\\Local\\Temp\\ipykernel_3292\\512546378.py:3: FutureWarning: The frame.append method is deprecated and will be removed from pandas in a future version. Use pandas.concat instead.\n",
      "  propertiessum30_35= propertiessum30_35.append(properties30_35[i])\n"
     ]
    }
   ],
   "source": [
    "propertiessum30_35 = pd.DataFrame()\n",
    "for i in range(5):\n",
    "    propertiessum30_35= propertiessum30_35.append(properties30_35[i]) \n",
    "propertiessum30_35.to_excel(\"tcell_properties_30_35_v4.xlsx\")"
   ]
  },
  {
   "cell_type": "code",
   "execution_count": 9,
   "id": "8491da6c",
   "metadata": {},
   "outputs": [
    {
     "name": "stderr",
     "output_type": "stream",
     "text": [
      "[Parallel(n_jobs=5)]: Using backend LokyBackend with 5 concurrent workers.\n",
      "[Parallel(n_jobs=5)]: Done   2 out of   5 | elapsed: 13.6min remaining: 20.4min\n"
     ]
    },
    {
     "name": "stdout",
     "output_type": "stream",
     "text": [
      "Elapsed time:  931.2061541080475\n"
     ]
    },
    {
     "name": "stderr",
     "output_type": "stream",
     "text": [
      "[Parallel(n_jobs=5)]: Done   5 out of   5 | elapsed: 15.5min finished\n"
     ]
    }
   ],
   "source": [
    "start_time = time.time()\n",
    "nslices = 5\n",
    "properties35_40 = Parallel(n_jobs=nslices, verbose=True)(delayed(tcell_properties)(i) for i in range(35,40))\n",
    "end_time = time.time()\n",
    "elapsed_time = end_time - start_time\n",
    "print(\"Elapsed time: \", elapsed_time)"
   ]
  },
  {
   "cell_type": "code",
   "execution_count": 10,
   "id": "2ad193e3",
   "metadata": {},
   "outputs": [
    {
     "name": "stderr",
     "output_type": "stream",
     "text": [
      "C:\\Users\\Gast-User\\AppData\\Local\\Temp\\ipykernel_3292\\3265785951.py:3: FutureWarning: The frame.append method is deprecated and will be removed from pandas in a future version. Use pandas.concat instead.\n",
      "  propertiessum35_40= propertiessum35_40.append(properties35_40[i])\n",
      "C:\\Users\\Gast-User\\AppData\\Local\\Temp\\ipykernel_3292\\3265785951.py:3: FutureWarning: The frame.append method is deprecated and will be removed from pandas in a future version. Use pandas.concat instead.\n",
      "  propertiessum35_40= propertiessum35_40.append(properties35_40[i])\n",
      "C:\\Users\\Gast-User\\AppData\\Local\\Temp\\ipykernel_3292\\3265785951.py:3: FutureWarning: The frame.append method is deprecated and will be removed from pandas in a future version. Use pandas.concat instead.\n",
      "  propertiessum35_40= propertiessum35_40.append(properties35_40[i])\n"
     ]
    }
   ],
   "source": [
    "propertiessum35_40 = pd.DataFrame()\n",
    "for i in range(5):\n",
    "    propertiessum35_40= propertiessum35_40.append(properties35_40[i]) \n",
    "propertiessum35_40.to_excel(\"tcell_properties_35_40_v4.xlsx\")"
   ]
  },
  {
   "cell_type": "code",
   "execution_count": 11,
   "id": "5726243b",
   "metadata": {},
   "outputs": [
    {
     "name": "stderr",
     "output_type": "stream",
     "text": [
      "[Parallel(n_jobs=5)]: Using backend LokyBackend with 5 concurrent workers.\n",
      "[Parallel(n_jobs=5)]: Done   2 out of   5 | elapsed: 10.5min remaining: 15.8min\n"
     ]
    },
    {
     "name": "stdout",
     "output_type": "stream",
     "text": [
      "Elapsed time:  792.4029803276062\n"
     ]
    },
    {
     "name": "stderr",
     "output_type": "stream",
     "text": [
      "[Parallel(n_jobs=5)]: Done   5 out of   5 | elapsed: 13.2min finished\n"
     ]
    }
   ],
   "source": [
    "start_time = time.time()\n",
    "nslices = 5\n",
    "properties40_45 = Parallel(n_jobs=nslices, verbose=True)(delayed(tcell_properties)(i) for i in range(40,45))\n",
    "end_time = time.time()\n",
    "elapsed_time = end_time - start_time\n",
    "print(\"Elapsed time: \", elapsed_time)"
   ]
  },
  {
   "cell_type": "code",
   "execution_count": 12,
   "id": "aefb5277",
   "metadata": {},
   "outputs": [
    {
     "name": "stderr",
     "output_type": "stream",
     "text": [
      "C:\\Users\\Gast-User\\AppData\\Local\\Temp\\ipykernel_3292\\3284945451.py:3: FutureWarning: The frame.append method is deprecated and will be removed from pandas in a future version. Use pandas.concat instead.\n",
      "  propertiessum40_45= propertiessum40_45.append(properties40_45[i])\n",
      "C:\\Users\\Gast-User\\AppData\\Local\\Temp\\ipykernel_3292\\3284945451.py:3: FutureWarning: The frame.append method is deprecated and will be removed from pandas in a future version. Use pandas.concat instead.\n",
      "  propertiessum40_45= propertiessum40_45.append(properties40_45[i])\n",
      "C:\\Users\\Gast-User\\AppData\\Local\\Temp\\ipykernel_3292\\3284945451.py:3: FutureWarning: The frame.append method is deprecated and will be removed from pandas in a future version. Use pandas.concat instead.\n",
      "  propertiessum40_45= propertiessum40_45.append(properties40_45[i])\n"
     ]
    }
   ],
   "source": [
    "propertiessum40_45 = pd.DataFrame()\n",
    "for i in range(5):\n",
    "    propertiessum40_45= propertiessum40_45.append(properties40_45[i]) \n",
    "propertiessum40_45.to_excel(\"tcell_properties_40_45_v4.xlsx\")"
   ]
  },
  {
   "cell_type": "code",
   "execution_count": 13,
   "id": "c798a81a",
   "metadata": {},
   "outputs": [
    {
     "name": "stderr",
     "output_type": "stream",
     "text": [
      "[Parallel(n_jobs=5)]: Using backend LokyBackend with 5 concurrent workers.\n",
      "[Parallel(n_jobs=5)]: Done   2 out of   5 | elapsed: 10.4min remaining: 15.7min\n"
     ]
    },
    {
     "name": "stdout",
     "output_type": "stream",
     "text": [
      "Elapsed time:  831.9728043079376\n"
     ]
    },
    {
     "name": "stderr",
     "output_type": "stream",
     "text": [
      "[Parallel(n_jobs=5)]: Done   5 out of   5 | elapsed: 13.9min finished\n"
     ]
    }
   ],
   "source": [
    "start_time = time.time()\n",
    "nslices = 5\n",
    "properties45_50 = Parallel(n_jobs=nslices, verbose=True)(delayed(tcell_properties)(i) for i in range(45,50))\n",
    "end_time = time.time()\n",
    "elapsed_time = end_time - start_time\n",
    "print(\"Elapsed time: \", elapsed_time)"
   ]
  },
  {
   "cell_type": "code",
   "execution_count": 14,
   "id": "c83e5132",
   "metadata": {},
   "outputs": [
    {
     "name": "stderr",
     "output_type": "stream",
     "text": [
      "C:\\Users\\Gast-User\\AppData\\Local\\Temp\\ipykernel_3292\\3156594406.py:3: FutureWarning: The frame.append method is deprecated and will be removed from pandas in a future version. Use pandas.concat instead.\n",
      "  propertiessum45_50= propertiessum45_50.append(properties45_50[i])\n",
      "C:\\Users\\Gast-User\\AppData\\Local\\Temp\\ipykernel_3292\\3156594406.py:3: FutureWarning: The frame.append method is deprecated and will be removed from pandas in a future version. Use pandas.concat instead.\n",
      "  propertiessum45_50= propertiessum45_50.append(properties45_50[i])\n",
      "C:\\Users\\Gast-User\\AppData\\Local\\Temp\\ipykernel_3292\\3156594406.py:3: FutureWarning: The frame.append method is deprecated and will be removed from pandas in a future version. Use pandas.concat instead.\n",
      "  propertiessum45_50= propertiessum45_50.append(properties45_50[i])\n"
     ]
    }
   ],
   "source": [
    "propertiessum45_50 = pd.DataFrame()\n",
    "for i in range(5):\n",
    "    propertiessum45_50= propertiessum45_50.append(properties45_50[i]) \n",
    "propertiessum45_50.to_excel(\"tcell_properties_45_50_v4.xlsx\")"
   ]
  },
  {
   "cell_type": "code",
   "execution_count": 15,
   "id": "6e6c80ab",
   "metadata": {},
   "outputs": [
    {
     "name": "stderr",
     "output_type": "stream",
     "text": [
      "[Parallel(n_jobs=5)]: Using backend LokyBackend with 5 concurrent workers.\n",
      "[Parallel(n_jobs=5)]: Done   2 out of   5 | elapsed:  8.0min remaining: 11.9min\n"
     ]
    },
    {
     "name": "stdout",
     "output_type": "stream",
     "text": [
      "Elapsed time:  514.4088485240936\n"
     ]
    },
    {
     "name": "stderr",
     "output_type": "stream",
     "text": [
      "[Parallel(n_jobs=5)]: Done   5 out of   5 | elapsed:  8.6min finished\n"
     ]
    }
   ],
   "source": [
    "start_time = time.time()\n",
    "nslices = 5\n",
    "properties50_55 = Parallel(n_jobs=nslices, verbose=True)(delayed(tcell_properties)(i) for i in range(50,55))\n",
    "end_time = time.time()\n",
    "elapsed_time = end_time - start_time\n",
    "print(\"Elapsed time: \", elapsed_time)"
   ]
  },
  {
   "cell_type": "code",
   "execution_count": 16,
   "id": "7b41fe1f",
   "metadata": {},
   "outputs": [
    {
     "name": "stderr",
     "output_type": "stream",
     "text": [
      "C:\\Users\\Gast-User\\AppData\\Local\\Temp\\ipykernel_3292\\2998702726.py:3: FutureWarning: The frame.append method is deprecated and will be removed from pandas in a future version. Use pandas.concat instead.\n",
      "  propertiessum50_55= propertiessum50_55.append(properties50_55[i])\n",
      "C:\\Users\\Gast-User\\AppData\\Local\\Temp\\ipykernel_3292\\2998702726.py:3: FutureWarning: The frame.append method is deprecated and will be removed from pandas in a future version. Use pandas.concat instead.\n",
      "  propertiessum50_55= propertiessum50_55.append(properties50_55[i])\n",
      "C:\\Users\\Gast-User\\AppData\\Local\\Temp\\ipykernel_3292\\2998702726.py:3: FutureWarning: The frame.append method is deprecated and will be removed from pandas in a future version. Use pandas.concat instead.\n",
      "  propertiessum50_55= propertiessum50_55.append(properties50_55[i])\n"
     ]
    }
   ],
   "source": [
    "propertiessum50_55 = pd.DataFrame()\n",
    "for i in range(5):\n",
    "    propertiessum50_55= propertiessum50_55.append(properties50_55[i]) \n",
    "propertiessum50_55.to_excel(\"tcell_properties_50_55_v4.xlsx\")"
   ]
  },
  {
   "cell_type": "code",
   "execution_count": 17,
   "id": "d06087bd",
   "metadata": {},
   "outputs": [
    {
     "name": "stderr",
     "output_type": "stream",
     "text": [
      "[Parallel(n_jobs=5)]: Using backend LokyBackend with 5 concurrent workers.\n",
      "[Parallel(n_jobs=5)]: Done   2 out of   5 | elapsed:  7.6min remaining: 11.4min\n"
     ]
    },
    {
     "name": "stdout",
     "output_type": "stream",
     "text": [
      "Elapsed time:  485.8726234436035\n"
     ]
    },
    {
     "name": "stderr",
     "output_type": "stream",
     "text": [
      "[Parallel(n_jobs=5)]: Done   5 out of   5 | elapsed:  8.1min finished\n"
     ]
    }
   ],
   "source": [
    "start_time = time.time()\n",
    "nslices = 5\n",
    "properties55_60 = Parallel(n_jobs=nslices, verbose=True)(delayed(tcell_properties)(i) for i in range(55,60))\n",
    "end_time = time.time()\n",
    "elapsed_time = end_time - start_time\n",
    "print(\"Elapsed time: \", elapsed_time)"
   ]
  },
  {
   "cell_type": "code",
   "execution_count": 18,
   "id": "497c2af2",
   "metadata": {},
   "outputs": [
    {
     "name": "stderr",
     "output_type": "stream",
     "text": [
      "C:\\Users\\Gast-User\\AppData\\Local\\Temp\\ipykernel_3292\\1160059991.py:3: FutureWarning: The frame.append method is deprecated and will be removed from pandas in a future version. Use pandas.concat instead.\n",
      "  propertiessum55_60= propertiessum55_60.append(properties55_60[i])\n",
      "C:\\Users\\Gast-User\\AppData\\Local\\Temp\\ipykernel_3292\\1160059991.py:3: FutureWarning: The frame.append method is deprecated and will be removed from pandas in a future version. Use pandas.concat instead.\n",
      "  propertiessum55_60= propertiessum55_60.append(properties55_60[i])\n",
      "C:\\Users\\Gast-User\\AppData\\Local\\Temp\\ipykernel_3292\\1160059991.py:3: FutureWarning: The frame.append method is deprecated and will be removed from pandas in a future version. Use pandas.concat instead.\n",
      "  propertiessum55_60= propertiessum55_60.append(properties55_60[i])\n"
     ]
    }
   ],
   "source": [
    "propertiessum55_60 = pd.DataFrame()\n",
    "for i in range(5):\n",
    "    propertiessum55_60= propertiessum55_60.append(properties55_60[i]) \n",
    "propertiessum55_60.to_excel(\"tcell_properties_55_60_v4.xlsx\")"
   ]
  },
  {
   "cell_type": "code",
   "execution_count": 19,
   "id": "ffe698eb",
   "metadata": {},
   "outputs": [
    {
     "name": "stderr",
     "output_type": "stream",
     "text": [
      "[Parallel(n_jobs=5)]: Using backend LokyBackend with 5 concurrent workers.\n",
      "[Parallel(n_jobs=5)]: Done   2 out of   5 | elapsed:  8.9min remaining: 13.3min\n"
     ]
    },
    {
     "name": "stdout",
     "output_type": "stream",
     "text": [
      "Elapsed time:  1005.5485219955444\n"
     ]
    },
    {
     "name": "stderr",
     "output_type": "stream",
     "text": [
      "[Parallel(n_jobs=5)]: Done   5 out of   5 | elapsed: 16.8min finished\n"
     ]
    }
   ],
   "source": [
    "start_time = time.time()\n",
    "nslices = 5\n",
    "properties60_65 = Parallel(n_jobs=nslices, verbose=True)(delayed(tcell_properties)(i) for i in range(60,65))\n",
    "end_time = time.time()\n",
    "elapsed_time = end_time - start_time\n",
    "print(\"Elapsed time: \", elapsed_time)"
   ]
  },
  {
   "cell_type": "code",
   "execution_count": 20,
   "id": "b92cf969",
   "metadata": {},
   "outputs": [
    {
     "name": "stderr",
     "output_type": "stream",
     "text": [
      "C:\\Users\\Gast-User\\AppData\\Local\\Temp\\ipykernel_3292\\2365184860.py:3: FutureWarning: The frame.append method is deprecated and will be removed from pandas in a future version. Use pandas.concat instead.\n",
      "  propertiessum60_65= propertiessum60_65.append(properties60_65[i])\n",
      "C:\\Users\\Gast-User\\AppData\\Local\\Temp\\ipykernel_3292\\2365184860.py:3: FutureWarning: The frame.append method is deprecated and will be removed from pandas in a future version. Use pandas.concat instead.\n",
      "  propertiessum60_65= propertiessum60_65.append(properties60_65[i])\n",
      "C:\\Users\\Gast-User\\AppData\\Local\\Temp\\ipykernel_3292\\2365184860.py:3: FutureWarning: The frame.append method is deprecated and will be removed from pandas in a future version. Use pandas.concat instead.\n",
      "  propertiessum60_65= propertiessum60_65.append(properties60_65[i])\n"
     ]
    }
   ],
   "source": [
    "propertiessum60_65 = pd.DataFrame()\n",
    "for i in range(5):\n",
    "    propertiessum60_65= propertiessum60_65.append(properties60_65[i]) \n",
    "propertiessum60_65.to_excel(\"tcell_properties_60_65_v4.xlsx\")"
   ]
  },
  {
   "cell_type": "code",
   "execution_count": 21,
   "id": "34c5e480",
   "metadata": {},
   "outputs": [
    {
     "name": "stderr",
     "output_type": "stream",
     "text": [
      "[Parallel(n_jobs=5)]: Using backend LokyBackend with 5 concurrent workers.\n",
      "[Parallel(n_jobs=5)]: Done   2 out of   5 | elapsed:  8.2min remaining: 12.3min\n"
     ]
    },
    {
     "name": "stdout",
     "output_type": "stream",
     "text": [
      "Elapsed time:  512.316899061203\n"
     ]
    },
    {
     "name": "stderr",
     "output_type": "stream",
     "text": [
      "[Parallel(n_jobs=5)]: Done   5 out of   5 | elapsed:  8.5min finished\n"
     ]
    }
   ],
   "source": [
    "start_time = time.time()\n",
    "nslices = 5\n",
    "properties65_70 = Parallel(n_jobs=nslices, verbose=True)(delayed(tcell_properties)(i) for i in range(65,70))\n",
    "end_time = time.time()\n",
    "elapsed_time = end_time - start_time\n",
    "print(\"Elapsed time: \", elapsed_time)"
   ]
  },
  {
   "cell_type": "code",
   "execution_count": 22,
   "id": "149bca01",
   "metadata": {},
   "outputs": [
    {
     "name": "stderr",
     "output_type": "stream",
     "text": [
      "C:\\Users\\Gast-User\\AppData\\Local\\Temp\\ipykernel_3292\\2606102559.py:3: FutureWarning: The frame.append method is deprecated and will be removed from pandas in a future version. Use pandas.concat instead.\n",
      "  propertiessum65_70= propertiessum65_70.append(properties65_70[i])\n",
      "C:\\Users\\Gast-User\\AppData\\Local\\Temp\\ipykernel_3292\\2606102559.py:3: FutureWarning: The frame.append method is deprecated and will be removed from pandas in a future version. Use pandas.concat instead.\n",
      "  propertiessum65_70= propertiessum65_70.append(properties65_70[i])\n",
      "C:\\Users\\Gast-User\\AppData\\Local\\Temp\\ipykernel_3292\\2606102559.py:3: FutureWarning: The frame.append method is deprecated and will be removed from pandas in a future version. Use pandas.concat instead.\n",
      "  propertiessum65_70= propertiessum65_70.append(properties65_70[i])\n"
     ]
    }
   ],
   "source": [
    "propertiessum65_70 = pd.DataFrame()\n",
    "for i in range(5):\n",
    "    propertiessum65_70= propertiessum65_70.append(properties65_70[i]) \n",
    "propertiessum65_70.to_excel(\"tcell_properties_65_70_v4.xlsx\")"
   ]
  },
  {
   "cell_type": "code",
   "execution_count": null,
   "id": "0f98e548",
   "metadata": {},
   "outputs": [
    {
     "name": "stderr",
     "output_type": "stream",
     "text": [
      "[Parallel(n_jobs=5)]: Using backend LokyBackend with 5 concurrent workers.\n"
     ]
    }
   ],
   "source": [
    "start_time = time.time()\n",
    "nslices = 5\n",
    "properties70_75 = Parallel(n_jobs=nslices, verbose=True)(delayed(tcell_properties)(i) for i in range(70,75))\n",
    "end_time = time.time()\n",
    "elapsed_time = end_time - start_time\n",
    "print(\"Elapsed time: \", elapsed_time)"
   ]
  },
  {
   "cell_type": "code",
   "execution_count": null,
   "id": "139fd5cd",
   "metadata": {},
   "outputs": [],
   "source": [
    "propertiessum70_75 = pd.DataFrame()\n",
    "for i in range(5):\n",
    "    propertiessum70_75= propertiessum70_75.append(properties70_75[i]) \n",
    "propertiessum70_75.to_excel(\"tcell_properties_70_75_v4.xlsx\")"
   ]
  },
  {
   "cell_type": "code",
   "execution_count": null,
   "id": "ce8f3907",
   "metadata": {},
   "outputs": [],
   "source": [
    "start_time = time.time()\n",
    "nslices = 5\n",
    "properties75_80 = Parallel(n_jobs=nslices, verbose=True)(delayed(tcell_properties)(i) for i in range(75,80))\n",
    "end_time = time.time()\n",
    "elapsed_time = end_time - start_time\n",
    "print(\"Elapsed time: \", elapsed_time)"
   ]
  },
  {
   "cell_type": "code",
   "execution_count": null,
   "id": "6805fc9d",
   "metadata": {},
   "outputs": [],
   "source": [
    "propertiessum75_80 = pd.DataFrame()\n",
    "for i in range(5):\n",
    "    propertiessum75_80= propertiessum75_80.append(properties75_80[i]) \n",
    "propertiessum75_80.to_excel(\"tcell_properties_75_80_v4.xlsx\")"
   ]
  },
  {
   "cell_type": "code",
   "execution_count": null,
   "id": "bc07d501",
   "metadata": {},
   "outputs": [],
   "source": [
    "start_time = time.time()\n",
    "nslices = 5\n",
    "properties80_85 = Parallel(n_jobs=nslices, verbose=True)(delayed(tcell_properties)(i) for i in range(80,85))\n",
    "end_time = time.time()\n",
    "elapsed_time = end_time - start_time\n",
    "print(\"Elapsed time: \", elapsed_time)"
   ]
  },
  {
   "cell_type": "code",
   "execution_count": null,
   "id": "2a7ad511",
   "metadata": {},
   "outputs": [],
   "source": [
    "propertiessum80_85 = pd.DataFrame()\n",
    "for i in range(5):\n",
    "    propertiessum80_85= propertiessum80_85.append(properties80_85[i]) \n",
    "propertiessum80_85.to_excel(\"tcell_properties_80_85_v4.xlsx\")"
   ]
  },
  {
   "cell_type": "code",
   "execution_count": null,
   "id": "930043ce",
   "metadata": {},
   "outputs": [],
   "source": [
    "start_time = time.time()\n",
    "nslices = 5\n",
    "properties85_90 = Parallel(n_jobs=nslices, verbose=True)(delayed(tcell_properties)(i) for i in range(85,90))\n",
    "end_time = time.time()\n",
    "elapsed_time = end_time - start_time\n",
    "print(\"Elapsed time: \", elapsed_time)"
   ]
  },
  {
   "cell_type": "code",
   "execution_count": null,
   "id": "771077f8",
   "metadata": {},
   "outputs": [],
   "source": [
    "propertiessum85_90 = pd.DataFrame()\n",
    "for i in range(5):\n",
    "    propertiessum85_90= propertiessum85_90.append(properties85_90[i]) \n",
    "propertiessum85_90.to_excel(\"tcell_properties_85_90_v4.xlsx\")"
   ]
  },
  {
   "cell_type": "code",
   "execution_count": null,
   "id": "3f256c9a",
   "metadata": {},
   "outputs": [],
   "source": [
    "start_time = time.time()\n",
    "nslices = 5\n",
    "properties90_95 = Parallel(n_jobs=nslices, verbose=True)(delayed(tcell_properties)(i) for i in range(90,95))\n",
    "end_time = time.time()\n",
    "elapsed_time = end_time - start_time\n",
    "print(\"Elapsed time: \", elapsed_time)"
   ]
  },
  {
   "cell_type": "code",
   "execution_count": null,
   "id": "69ea2dc4",
   "metadata": {},
   "outputs": [],
   "source": [
    "propertiessum90_95 = pd.DataFrame()\n",
    "for i in range(5):\n",
    "    propertiessum90_95= propertiessum90_95.append(properties90_95[i]) \n",
    "propertiessum90_95.to_excel(\"tcell_properties_90_95_v4.xlsx\")"
   ]
  },
  {
   "cell_type": "code",
   "execution_count": null,
   "id": "0e02dd8d",
   "metadata": {},
   "outputs": [],
   "source": [
    "start_time = time.time()\n",
    "nslices = 5\n",
    "properties95_100 = Parallel(n_jobs=nslices, verbose=True)(delayed(tcell_properties)(i) for i in range(95,100))\n",
    "end_time = time.time()\n",
    "elapsed_time = end_time - start_time\n",
    "print(\"Elapsed time: \", elapsed_time)"
   ]
  },
  {
   "cell_type": "code",
   "execution_count": null,
   "id": "005dac0f",
   "metadata": {},
   "outputs": [],
   "source": [
    "propertiessum95_100 = pd.DataFrame()\n",
    "for i in range(5):\n",
    "    propertiessum95_100= propertiessum95_100.append(properties95_100[i]) \n",
    "propertiessum95_100.to_excel(\"tcell_properties_95_100_v4.xlsx\")"
   ]
  },
  {
   "cell_type": "code",
   "execution_count": null,
   "id": "0467e35d",
   "metadata": {},
   "outputs": [],
   "source": [
    "start_time = time.time()\n",
    "nslices = 5\n",
    "properties100_105 = Parallel(n_jobs=nslices, verbose=True)(delayed(tcell_properties)(i) for i in range(100,105))\n",
    "end_time = time.time()\n",
    "elapsed_time = end_time - start_time\n",
    "print(\"Elapsed time: \", elapsed_time)"
   ]
  },
  {
   "cell_type": "code",
   "execution_count": null,
   "id": "798a1122",
   "metadata": {},
   "outputs": [],
   "source": [
    "propertiessum100_105 = pd.DataFrame()\n",
    "for i in range(5):\n",
    "    propertiessum100_105= propertiessum100_105.append(properties100_105[i]) \n",
    "propertiessum100_105.to_excel(\"tcell_properties_100_105_v4.xlsx\")"
   ]
  },
  {
   "cell_type": "code",
   "execution_count": null,
   "id": "7863b348",
   "metadata": {},
   "outputs": [],
   "source": [
    "start_time = time.time()\n",
    "nslices = 5\n",
    "properties105_110 = Parallel(n_jobs=nslices, verbose=True)(delayed(tcell_properties)(i) for i in range(105,110))\n",
    "end_time = time.time()\n",
    "elapsed_time = end_time - start_time\n",
    "print(\"Elapsed time: \", elapsed_time)"
   ]
  },
  {
   "cell_type": "code",
   "execution_count": null,
   "id": "88022d44",
   "metadata": {},
   "outputs": [],
   "source": [
    "propertiessum105_110= pd.DataFrame()\n",
    "for i in range(5):\n",
    "    propertiessum105_110= propertiessum105_110.append(properties105_110[i]) \n",
    "propertiessum105_110.to_excel(\"tcell_properties_105_110_v4.xlsx\")"
   ]
  },
  {
   "cell_type": "code",
   "execution_count": null,
   "id": "dc570dc9",
   "metadata": {},
   "outputs": [],
   "source": [
    "start_time = time.time()\n",
    "nslices = 5\n",
    "properties110_115 = Parallel(n_jobs=nslices, verbose=True)(delayed(tcell_properties)(i) for i in range(110,115))\n",
    "end_time = time.time()\n",
    "elapsed_time = end_time - start_time\n",
    "print(\"Elapsed time: \", elapsed_time)"
   ]
  },
  {
   "cell_type": "code",
   "execution_count": null,
   "id": "3229aed0",
   "metadata": {},
   "outputs": [],
   "source": [
    "propertiessum110_115= pd.DataFrame()\n",
    "for i in range(5):\n",
    "    propertiessum110_115= propertiessum110_115.append(properties110_115[i]) \n",
    "propertiessum110_115.to_excel(\"tcell_properties_110_115_v4.xlsx\")"
   ]
  },
  {
   "cell_type": "code",
   "execution_count": null,
   "id": "0b5423f3",
   "metadata": {},
   "outputs": [],
   "source": [
    "start_time = time.time()\n",
    "nslices = 5\n",
    "properties115_120 = Parallel(n_jobs=nslices, verbose=True)(delayed(tcell_properties)(i) for i in range(115,120))\n",
    "end_time = time.time()\n",
    "elapsed_time = end_time - start_time\n",
    "print(\"Elapsed time: \", elapsed_time)"
   ]
  },
  {
   "cell_type": "code",
   "execution_count": null,
   "id": "bdedbc8e",
   "metadata": {},
   "outputs": [],
   "source": [
    "propertiessum115_120= pd.DataFrame()\n",
    "for i in range(5):\n",
    "    propertiessum115_120= propertiessum115_120.append(properties115_120[i]) \n",
    "propertiessum115_120.to_excel(\"tcell_properties_115_120_v4.xlsx\")"
   ]
  },
  {
   "cell_type": "code",
   "execution_count": null,
   "id": "5ed5219f",
   "metadata": {},
   "outputs": [],
   "source": [
    "start_time = time.time()\n",
    "nslices = 5\n",
    "properties120_125 = Parallel(n_jobs=nslices, verbose=True)(delayed(tcell_properties)(i) for i in range(120,125))\n",
    "end_time = time.time()\n",
    "elapsed_time = end_time - start_time\n",
    "print(\"Elapsed time: \", elapsed_time)"
   ]
  },
  {
   "cell_type": "code",
   "execution_count": null,
   "id": "0d0445c0",
   "metadata": {},
   "outputs": [],
   "source": [
    "propertiessum120_125= pd.DataFrame()\n",
    "for i in range(5):\n",
    "    propertiessum120_125= propertiessum120_125.append(properties120_125[i]) \n",
    "propertiessum120_125.to_excel(\"tcell_properties_120_125_v4.xlsx\")"
   ]
  },
  {
   "cell_type": "code",
   "execution_count": null,
   "id": "265161c9",
   "metadata": {},
   "outputs": [],
   "source": [
    "start_time = time.time()\n",
    "nslices = 5\n",
    "properties125_130 = Parallel(n_jobs=nslices, verbose=True)(delayed(tcell_properties)(i) for i in range(125,130))\n",
    "end_time = time.time()\n",
    "elapsed_time = end_time - start_time\n",
    "print(\"Elapsed time: \", elapsed_time)"
   ]
  },
  {
   "cell_type": "code",
   "execution_count": null,
   "id": "af55a8b8",
   "metadata": {},
   "outputs": [],
   "source": [
    "propertiessum125_130= pd.DataFrame()\n",
    "for i in range(5):\n",
    "    propertiessum125_130= propertiessum125_130.append(properties125_130[i]) \n",
    "propertiessum125_130.to_excel(\"tcell_properties_125_130_v4.xlsx\")"
   ]
  },
  {
   "cell_type": "code",
   "execution_count": null,
   "id": "e6285331",
   "metadata": {},
   "outputs": [],
   "source": [
    "start_time = time.time()\n",
    "nslices = 5\n",
    "properties130_135 = Parallel(n_jobs=nslices, verbose=True)(delayed(tcell_properties)(i) for i in range(130,135))\n",
    "end_time = time.time()\n",
    "elapsed_time = end_time - start_time\n",
    "print(\"Elapsed time: \", elapsed_time)"
   ]
  },
  {
   "cell_type": "code",
   "execution_count": null,
   "id": "374862fd",
   "metadata": {},
   "outputs": [],
   "source": [
    "propertiessum130_135= pd.DataFrame()\n",
    "for i in range(5):\n",
    "    propertiessum130_135= propertiessum130_135.append(properties130_135[i]) \n",
    "propertiessum130_135.to_excel(\"tcell_properties_130_135_v4.xlsx\")"
   ]
  },
  {
   "cell_type": "code",
   "execution_count": null,
   "id": "c46dd227",
   "metadata": {},
   "outputs": [],
   "source": [
    "start_time = time.time()\n",
    "nslices = 5\n",
    "properties135_140 = Parallel(n_jobs=nslices, verbose=True)(delayed(tcell_properties)(i) for i in range(135,140))\n",
    "end_time = time.time()\n",
    "elapsed_time = end_time - start_time\n",
    "print(\"Elapsed time: \", elapsed_time)"
   ]
  },
  {
   "cell_type": "code",
   "execution_count": null,
   "id": "d19c91d8",
   "metadata": {},
   "outputs": [],
   "source": [
    "propertiessum135_140= pd.DataFrame()\n",
    "for i in range(5):\n",
    "    propertiessum135_140= propertiessum135_140.append(properties135_140[i]) \n",
    "propertiessum135_140.to_excel(\"tcell_properties_135_140_v4.xlsx\")"
   ]
  },
  {
   "cell_type": "code",
   "execution_count": null,
   "id": "52a3e8c0",
   "metadata": {},
   "outputs": [],
   "source": [
    "start_time = time.time()\n",
    "nslices = 5\n",
    "properties140_145 = Parallel(n_jobs=nslices, verbose=True)(delayed(tcell_properties)(i) for i in range(140,145))\n",
    "end_time = time.time()\n",
    "elapsed_time = end_time - start_time\n",
    "print(\"Elapsed time: \", elapsed_time)"
   ]
  },
  {
   "cell_type": "code",
   "execution_count": null,
   "id": "9fb664c4",
   "metadata": {},
   "outputs": [],
   "source": [
    "propertiessum140_145= pd.DataFrame()\n",
    "for i in range(5):\n",
    "    propertiessum140_145= propertiessum140_145.append(properties140_145[i]) \n",
    "propertiessum140_145.to_excel(\"tcell_properties_140_145_v4.xlsx\")"
   ]
  },
  {
   "cell_type": "code",
   "execution_count": null,
   "id": "f4b3657d",
   "metadata": {},
   "outputs": [],
   "source": [
    "start_time = time.time()\n",
    "nslices = 5\n",
    "properties145_150 = Parallel(n_jobs=nslices, verbose=True)(delayed(tcell_properties)(i) for i in range(145,150))\n",
    "end_time = time.time()\n",
    "elapsed_time = end_time - start_time\n",
    "print(\"Elapsed time: \", elapsed_time)"
   ]
  },
  {
   "cell_type": "code",
   "execution_count": null,
   "id": "ed41f4fe",
   "metadata": {},
   "outputs": [],
   "source": [
    "propertiessum145_150= pd.DataFrame()\n",
    "for i in range(5):\n",
    "    propertiessum145_150= propertiessum145_150.append(properties145_150[i]) \n",
    "propertiessum145_150.to_excel(\"tcell_properties_145_150_v4.xlsx\")"
   ]
  },
  {
   "cell_type": "code",
   "execution_count": null,
   "id": "fcf54443",
   "metadata": {},
   "outputs": [],
   "source": [
    "start_time = time.time()\n",
    "nslices = 5\n",
    "properties150_155 = Parallel(n_jobs=nslices, verbose=True)(delayed(tcell_properties)(i) for i in range(150,155))\n",
    "end_time = time.time()\n",
    "elapsed_time = end_time - start_time\n",
    "print(\"Elapsed time: \", elapsed_time)"
   ]
  },
  {
   "cell_type": "code",
   "execution_count": null,
   "id": "11e756d0",
   "metadata": {},
   "outputs": [],
   "source": [
    "propertiessum150_155= pd.DataFrame()\n",
    "for i in range(5):\n",
    "    propertiessum150_155= propertiessum150_155.append(properties150_155[i]) \n",
    "propertiessum150_155.to_excel(\"tcell_properties_150_155_v4.xlsx\")"
   ]
  },
  {
   "cell_type": "code",
   "execution_count": null,
   "id": "7c7d2ad2",
   "metadata": {},
   "outputs": [],
   "source": []
  }
 ],
 "metadata": {
  "kernelspec": {
   "display_name": "Python 3 (ipykernel)",
   "language": "python",
   "name": "python3"
  },
  "language_info": {
   "codemirror_mode": {
    "name": "ipython",
    "version": 3
   },
   "file_extension": ".py",
   "mimetype": "text/x-python",
   "name": "python",
   "nbconvert_exporter": "python",
   "pygments_lexer": "ipython3",
   "version": "3.10.4"
  }
 },
 "nbformat": 4,
 "nbformat_minor": 5
}
