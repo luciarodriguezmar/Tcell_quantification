{
 "cells": [
  {
   "cell_type": "code",
   "execution_count": 1,
   "id": "71d0a730",
   "metadata": {},
   "outputs": [
    {
     "name": "stderr",
     "output_type": "stream",
     "text": [
      "C:\\Users\\Gast-User\\.conda\\envs\\MG\\lib\\site-packages\\numba\\core\\decorators.py:253: RuntimeWarning: nopython is set for njit and is ignored\n",
      "  warnings.warn('nopython is set for njit and is ignored', RuntimeWarning)\n"
     ]
    }
   ],
   "source": [
    "from Cells import Cells\n",
    "from MGFeatures import *\n",
    "import numpy as np\n",
    "import pandas as pd\n",
    "from joblib import Parallel, delayed\n",
    "import napari\n",
    "from tifffile import imsave\n",
    "import skimage.measure\n",
    "import time\n",
    "import seaborn as sns\n",
    "import matplotlib.pyplot as plt\n",
    "import cc3d\n",
    "from progressbar import ProgressBar"
   ]
  },
  {
   "cell_type": "code",
   "execution_count": 2,
   "id": "69376851",
   "metadata": {},
   "outputs": [],
   "source": [
    "def get_area(labels, labels_list): \n",
    "    areas = []\n",
    "    for i in labels_list:\n",
    "        area = np.count_nonzero(labels == i)\n",
    "        areas.append(area)\n",
    "    areas = np.array(areas)\n",
    "    return areas"
   ]
  },
  {
   "cell_type": "code",
   "execution_count": 3,
   "id": "06699ff0",
   "metadata": {},
   "outputs": [],
   "source": [
    "folder = r'Y:\\MS293_Shun_Immunogold_030523\\Segmentation\\cell_final'\n",
    "heterochromatin_folder = r'Y:\\MS293_Shun_Immunogold_030523\\Segmentation\\heterochromatin_final'\n",
    "gold_folder = r'Y:\\MS293_Shun_Immunogold_030523\\Segmentation\\gold_final'\n",
    "lysosomes_folder = r'Y:\\MS293_Shun_Immunogold_030523\\Segmentation\\lysosomes_final'\n",
    "mitochondria_folder = r'Y:\\MS293_Shun_Immunogold_030523\\Segmentation\\mitochondria_final'\n",
    "nucleus_folder = r'Y:\\MS293_Shun_Immunogold_030523\\Segmentation\\nucleus_final'\n",
    "ER_folder = r'Y:\\MS293_Shun_Immunogold_030523\\Segmentation\\er_final'\n",
    "golgi_folder = r'Y:\\MS293_Shun_Immunogold_030523\\Segmentation\\golgi_final'"
   ]
  },
  {
   "cell_type": "markdown",
   "id": "321b553c",
   "metadata": {},
   "source": []
  },
  {
   "cell_type": "code",
   "execution_count": null,
   "id": "589d08d6",
   "metadata": {},
   "outputs": [],
   "source": [
    "start_time = time.time()\n",
    "# Initialize an empty list to collect data for all 'sl_num'\n",
    "all_mito_data = []\n",
    "mito_stack = np.zeros(shape = (5, 37440, 35168))\n",
    "# Initialize an empty list to collect 'mito_area' values for each 'sl_num'\n",
    "mito_area_values_list = []\n",
    "pbar = ProgressBar()\n",
    "for i in range(0, 5):\n",
    "    cell = Cells(i)\n",
    "    imageshape = cell.get_imageshape(folder) \n",
    "    cell_image = cell.img_from_tiles(folder)\n",
    "    cell_labels = cell.label_cells(cell_image)\n",
    "    mitochondria_labels = mask_it(cell_labels, cell.img_from_tiles(mitochondria_folder))\n",
    "    mito_label = skimage.measure.label(mitochondria_labels, connectivity=2)\n",
    "    mito_coord = []\n",
    "    region = regionprops(mito_label)\n",
    "    for r in region:\n",
    "        sl_num = i\n",
    "        min_row, min_col, max_row, max_col = r.bbox\n",
    "        mito_coord.append((min_row, min_col, max_row, max_col, sl_num))\n",
    "    \n",
    "    # Append mito_coord data for the current 'sl_num' to all_mito_data\n",
    "    all_mito_data.extend(mito_coord)\n",
    "    \n",
    "    # Calculate 'mito_area' for the current 'sl_num' and collect the values\n",
    "    mito_list = np.unique(mito_label)[1:]\n",
    "    mito_area_values = get_area(mito_label, mito_list)\n",
    "    mito_area_values_list.append(mito_area_values)\n",
    "    mito_stack[i] = mito_label\n",
    "# Create the coord_mito DataFrame from the collected data\n",
    "coord_mito = pd.DataFrame(all_mito_data, columns=[\"min_row\", \"min_col\", \"max_row\", \"max_col\", 'sl_num'])\n",
    "# Combine 'mito_area' values into a single list\n",
    "mito_area_values_combined = np.concatenate(mito_area_values_list)\n",
    "\n",
    "# Assign 'mito_area' values to the coord_mito DataFrame\n",
    "coord_mito['mito_area'] = mito_area_values_combined\n",
    "end_time = time.time()\n",
    "elapsed_time = end_time - start_time\n",
    "print(\"Elapsed time: \", elapsed_time)"
   ]
  },
  {
   "cell_type": "code",
   "execution_count": null,
   "id": "8365ef7b",
   "metadata": {},
   "outputs": [],
   "source": [
    "start_time = time.time()\n",
    "# Initialize the 'mito_large' column with zeros\n",
    "coord_mito['mito_large'] = 0\n",
    "pbar = ProgressBar()\n",
    "# Calculate 'mito_large' values\n",
    "for y in range(len(coord_mito)):\n",
    "    D = max(coord_mito['max_row'][y] - coord_mito['min_row'][y], coord_mito['max_col'][y] - coord_mito['min_col'][y])\n",
    "    coord_mito.loc[y, 'mito_large'] = D\n",
    "end_time = time.time()\n",
    "elapsed_time = end_time - start_time\n",
    "print(\"Elapsed time: \", elapsed_time)"
   ]
  },
  {
   "cell_type": "code",
   "execution_count": null,
   "id": "5891c468",
   "metadata": {},
   "outputs": [],
   "source": [
    "coord_mito['volumen'] = coord_mito['mito_area'] * 200"
   ]
  },
  {
   "cell_type": "code",
   "execution_count": null,
   "id": "c99b8f75",
   "metadata": {},
   "outputs": [],
   "source": [
    "coord_mito"
   ]
  },
  {
   "cell_type": "code",
   "execution_count": null,
   "id": "685d5be1",
   "metadata": {},
   "outputs": [],
   "source": [
    "mito_labels = cc3d.connected_components(mito_stack, connectivity=26)"
   ]
  },
  {
   "cell_type": "code",
   "execution_count": null,
   "id": "5b0316d5",
   "metadata": {},
   "outputs": [],
   "source": [
    "mito_labels.max()"
   ]
  },
  {
   "cell_type": "code",
   "execution_count": null,
   "id": "b07374e9",
   "metadata": {},
   "outputs": [],
   "source": [
    "def mito_to_3d(mito_labels, coord_mito):\n",
    "    pbar = ProgressBar()\n",
    "    features_mito =  coord_mito.copy()\n",
    "    features_mito['mito_3d'] = 0\n",
    "    for j in range(5):\n",
    "        for i in range(1, mito_labels[j].max()+1):\n",
    "            layer = np.where(mito_labels[j] == i)\n",
    "            if layer[0].size != 0: #coordinates of the first section of each of the cells\n",
    "                for n in range(len(features_mito)):\n",
    "                    if features_mito.loc[n, 'sl_num'] == j:\n",
    "                        if (layer[0].min() >= features_mito['min_row'][n]) and (layer[0].max() <= features_mito['max_row'][n]) and (layer[1].min() >= features_mito['min_col'][n]) and (layer[1].max() <= features_mito['max_col'][n]):\n",
    "                            features_mito['mito_3d'][n] = i\n",
    "    return features_mito"
   ]
  },
  {
   "cell_type": "code",
   "execution_count": null,
   "id": "056893dd",
   "metadata": {},
   "outputs": [],
   "source": [
    "start_time = time.time()\n",
    "features_mito_5_3d = mito_to_3d(mito_labels, coord_mito)\n",
    "end_time = time.time()\n",
    "elapsed_time = end_time - start_time\n",
    "print(\"Elapsed time: \", elapsed_time)"
   ]
  },
  {
   "cell_type": "code",
   "execution_count": null,
   "id": "96184cc3",
   "metadata": {},
   "outputs": [],
   "source": [
    "features_mito_5_3d.to_excel('features_mito_5_3d_v1.xlsx')"
   ]
  },
  {
   "cell_type": "code",
   "execution_count": null,
   "id": "0bbc7a10",
   "metadata": {},
   "outputs": [],
   "source": [
    "start_time = time.time()\n",
    "# Initialize an empty list to collect data for all 'sl_num'\n",
    "all_mito_data = []\n",
    "mito_stack_30 = np.zeros(shape = (30, 37440, 35168), dtype = np.int8)\n",
    "# Initialize an empty list to collect 'mito_area' values for each 'sl_num'\n",
    "mito_area_values_list = []\n",
    "pbar = ProgressBar()\n",
    "for i in pbar(range(0,30)):\n",
    "    cell = Cells(i)\n",
    "    imageshape = cell.get_imageshape(folder) \n",
    "    cell_image = cell.img_from_tiles(folder)\n",
    "    cell_labels = cell.label_cells(cell_image)\n",
    "    mitochondria_labels = mask_it(cell_labels, cell.img_from_tiles(mitochondria_folder))\n",
    "    mito_label = skimage.measure.label(mitochondria_labels, connectivity=2)\n",
    "    mito_coord = []\n",
    "    region = regionprops(mito_label)\n",
    "    for r in region:\n",
    "        sl_num = i\n",
    "        min_row, min_col, max_row, max_col = r.bbox\n",
    "        mito_coord.append((min_row, min_col, max_row, max_col, sl_num))\n",
    "    \n",
    "    # Append mito_coord data for the current 'sl_num' to all_mito_data\n",
    "    all_mito_data.extend(mito_coord)\n",
    "    \n",
    "    # Calculate 'mito_area' for the current 'sl_num' and collect the values\n",
    "    mito_list = np.unique(mito_label)[1:]\n",
    "    mito_area_values = get_area(mito_label, mito_list)\n",
    "    mito_area_values_list.append(mito_area_values)\n",
    "    mito_stack_30[i] = mito_label\n",
    "# Create the coord_mito DataFrame from the collected data\n",
    "coord_mito_30 = pd.DataFrame(all_mito_data, columns=[\"min_row\", \"min_col\", \"max_row\", \"max_col\", 'sl_num'])\n",
    "# Combine 'mito_area' values into a single list\n",
    "mito_area_values_combined = np.concatenate(mito_area_values_list)\n",
    "\n",
    "# Assign 'mito_area' values to the coord_mito DataFrame\n",
    "coord_mito_30['mito_area'] = mito_area_values_combined"
   ]
  },
  {
   "cell_type": "code",
   "execution_count": null,
   "id": "583b631b",
   "metadata": {},
   "outputs": [],
   "source": [
    "start_time = time.time()\n",
    "# Initialize the 'mito_large' column with zeros\n",
    "coord_mito_30['mito_large'] = 0\n",
    "pbar = ProgressBar()\n",
    "# Calculate 'mito_large' values\n",
    "for y in pbar(range(len(coord_mito_30))):\n",
    "    D = max(coord_mito_30['max_row'][y] - coord_mito_30['min_row'][y], coord_mito_30['max_col'][y] -coord_mito_30['min_col'][y])\n",
    "    coord_mito_30.loc[y, 'mito_large'] = D\n",
    "end_time = time.time()\n",
    "elapsed_time = end_time - start_time\n",
    "print(\"Elapsed time: \", elapsed_time)"
   ]
  },
  {
   "cell_type": "code",
   "execution_count": null,
   "id": "eef156ce",
   "metadata": {},
   "outputs": [],
   "source": [
    "def mito_to_3d(mito_labels, coord_mito):\n",
    "    pbar = ProgressBar()\n",
    "    features_mito =  coord_mito.copy()\n",
    "    features_mito['mito_3d'] = 0\n",
    "    for j in pbar(range(30)):\n",
    "        for i in range(1, mito_labels[j].max()+1):\n",
    "            layer = np.where(mito_labels[j] == i)\n",
    "            if layer[0].size != 0: #coordinates of the first section of each of the cells\n",
    "                for n in range(len(features_mito)):\n",
    "                    if features_mito.loc[n, 'sl_num'] == j:\n",
    "                        if (layer[0].min() >= features_mito['min_row'][n]) and (layer[0].max() <= features_mito['max_row'][n]) and (layer[1].min() >= features_mito['min_col'][n]) and (layer[1].max() <= features_mito['max_col'][n]):\n",
    "                            features_mito['mito_3d'][n] = i\n",
    "    return features_mito"
   ]
  },
  {
   "cell_type": "code",
   "execution_count": null,
   "id": "6224478f",
   "metadata": {},
   "outputs": [],
   "source": [
    "coord_mito_30['volumen'] = coord_mito_30['mito_area'] * 200"
   ]
  },
  {
   "cell_type": "code",
   "execution_count": null,
   "id": "022a775c",
   "metadata": {},
   "outputs": [],
   "source": [
    "mito_labels_30 = cc3d.connected_components(mito_stack_30, connectivity=26)"
   ]
  },
  {
   "cell_type": "code",
   "execution_count": null,
   "id": "9a74cf24",
   "metadata": {},
   "outputs": [],
   "source": [
    "start_time = time.time()\n",
    "features_mito_30_3d = mito_to_3d(mito_labels_30, coord_mito_30)\n",
    "end_time = time.time()\n",
    "elapsed_time = end_time - start_time\n",
    "print(\"Elapsed time: \", elapsed_time)"
   ]
  },
  {
   "cell_type": "code",
   "execution_count": null,
   "id": "506eb51a",
   "metadata": {},
   "outputs": [],
   "source": [
    "features_mito_30_3d.to_excel('features_mito_30_3d_v1.xlsx')"
   ]
  },
  {
   "cell_type": "code",
   "execution_count": null,
   "id": "d8378f7c",
   "metadata": {},
   "outputs": [],
   "source": [
    "start_time = time.time()\n",
    "# Initialize an empty list to collect data for all 'sl_num'\n",
    "all_mito_data = []\n",
    "mito_stack_60 = np.zeros(shape = (30, 37440, 35168), dtype = np.int8)\n",
    "# Initialize an empty list to collect 'mito_area' values for each 'sl_num'\n",
    "mito_area_values_list = []\n",
    "pbar = ProgressBar()\n",
    "for i in pbar(range(30,60)):\n",
    "    cell = Cells(i)\n",
    "    imageshape = cell.get_imageshape(folder) \n",
    "    cell_image = cell.img_from_tiles(folder)\n",
    "    cell_labels = cell.label_cells(cell_image)\n",
    "    mitochondria_labels = mask_it(cell_labels, cell.img_from_tiles(mitochondria_folder))\n",
    "    mito_label = skimage.measure.label(mitochondria_labels, connectivity=2)\n",
    "    mito_coord = []\n",
    "    region = regionprops(mito_label)\n",
    "    for r in region:\n",
    "        sl_num = i\n",
    "        min_row, min_col, max_row, max_col = r.bbox\n",
    "        mito_coord.append((min_row, min_col, max_row, max_col, sl_num))\n",
    "    \n",
    "    # Append mito_coord data for the current 'sl_num' to all_mito_data\n",
    "    all_mito_data.extend(mito_coord)\n",
    "    \n",
    "    # Calculate 'mito_area' for the current 'sl_num' and collect the values\n",
    "    mito_list = np.unique(mito_label)[1:]\n",
    "    mito_area_values = get_area(mito_label, mito_list)\n",
    "    mito_area_values_list.append(mito_area_values)\n",
    "    mito_stack_60[i-30] = mito_label\n",
    "# Create the coord_mito DataFrame from the collected data\n",
    "coord_mito_60 = pd.DataFrame(all_mito_data, columns=[\"min_row\", \"min_col\", \"max_row\", \"max_col\", 'sl_num'])\n",
    "# Combine 'mito_area' values into a single list\n",
    "mito_area_values_combined = np.concatenate(mito_area_values_list)\n",
    "\n",
    "# Assign 'mito_area' values to the coord_mito DataFrame\n",
    "coord_mito_60['mito_area'] = mito_area_values_combined\n",
    "end_time = time.time()\n",
    "elapsed_time = end_time - start_time\n",
    "print(\"Elapsed time: \", elapsed_time)"
   ]
  },
  {
   "cell_type": "code",
   "execution_count": null,
   "id": "f3b71d37",
   "metadata": {},
   "outputs": [],
   "source": [
    "start_time = time.time()\n",
    "# Initialize the 'mito_large' column with zeros\n",
    "coord_mito_60['mito_large'] = 0\n",
    "pbar = ProgressBar()\n",
    "# Calculate 'mito_large' values\n",
    "for y in range(len(coord_mito_60)):\n",
    "    D = max(coord_mito_60['max_row'][y] - coord_mito_60['min_row'][y], coord_mito_60['max_col'][y] -coord_mito_60['min_col'][y])\n",
    "    coord_mito_60.loc[y, 'mito_large'] = D\n",
    "end_time = time.time()\n",
    "elapsed_time = end_time - start_time\n",
    "print(\"Elapsed time: \", elapsed_time)"
   ]
  },
  {
   "cell_type": "code",
   "execution_count": null,
   "id": "90ae3a5f",
   "metadata": {},
   "outputs": [],
   "source": [
    "coord_mito_60['volumen'] = coord_mito_60['mito_area'] * 200"
   ]
  },
  {
   "cell_type": "code",
   "execution_count": null,
   "id": "5384ec7e",
   "metadata": {},
   "outputs": [],
   "source": [
    "mito_labels_60 = cc3d.connected_components(mito_stack_60, connectivity=26)"
   ]
  },
  {
   "cell_type": "code",
   "execution_count": null,
   "id": "6335751b",
   "metadata": {},
   "outputs": [],
   "source": [
    "def mito_to_3d(mito_labels, coord_mito):\n",
    "    pbar = ProgressBar()\n",
    "    features_mito =  coord_mito.copy()\n",
    "    features_mito['mito_3d'] = 0\n",
    "    for j in pbar(range(30)):\n",
    "        for i in range(1, mito_labels[j].max()+1):\n",
    "            layer = np.where(mito_labels[j] == i)\n",
    "            if layer[0].size != 0: #coordinates of the first section of each of the cells\n",
    "                for n in range(len(features_mito)):\n",
    "                    if features_mito.loc[n, 'sl_num'] == j + 30:\n",
    "                        if (layer[0].min() >= features_mito['min_row'][n]) and (layer[0].max() <= features_mito['max_row'][n]) and (layer[1].min() >= features_mito['min_col'][n]) and (layer[1].max() <= features_mito['max_col'][n]):\n",
    "                            features_mito['mito_3d'][n] = i\n",
    "    return features_mito"
   ]
  },
  {
   "cell_type": "code",
   "execution_count": null,
   "id": "cefea3d7",
   "metadata": {},
   "outputs": [],
   "source": [
    "start_time = time.time()\n",
    "features_mito_60_3d = mito_to_3d(mito_labels_60, coord_mito_60)\n",
    "end_time = time.time()\n",
    "elapsed_time = end_time - start_time\n",
    "print(\"Elapsed time: \", elapsed_time)"
   ]
  },
  {
   "cell_type": "code",
   "execution_count": null,
   "id": "40504b43",
   "metadata": {},
   "outputs": [],
   "source": [
    "features_mito_60_3d.to_excel('features_mito_60_3d_v1.xlsx')"
   ]
  },
  {
   "cell_type": "code",
   "execution_count": null,
   "id": "f440051f",
   "metadata": {},
   "outputs": [],
   "source": [
    "start_time = time.time()\n",
    "# Initialize an empty list to collect data for all 'sl_num'\n",
    "all_mito_data = []\n",
    "mito_stack_90 = np.zeros(shape = (30, 37440, 35168), dtype = np.int8)\n",
    "# Initialize an empty list to collect 'mito_area' values for each 'sl_num'\n",
    "mito_area_values_list = []\n",
    "pbar = ProgressBar()\n",
    "for i in pbar(range(60,90)):\n",
    "    cell = Cells(i)\n",
    "    imageshape = cell.get_imageshape(folder) \n",
    "    cell_image = cell.img_from_tiles(folder)\n",
    "    cell_labels = cell.label_cells(cell_image)\n",
    "    mitochondria_labels = mask_it(cell_labels, cell.img_from_tiles(mitochondria_folder))\n",
    "    mito_label = skimage.measure.label(mitochondria_labels, connectivity=2)\n",
    "    mito_coord = []\n",
    "    region = regionprops(mito_label)\n",
    "    for r in region:\n",
    "        sl_num = i\n",
    "        min_row, min_col, max_row, max_col = r.bbox\n",
    "        mito_coord.append((min_row, min_col, max_row, max_col, sl_num))\n",
    "    \n",
    "    # Append mito_coord data for the current 'sl_num' to all_mito_data\n",
    "    all_mito_data.extend(mito_coord)\n",
    "    \n",
    "    # Calculate 'mito_area' for the current 'sl_num' and collect the values\n",
    "    mito_list = np.unique(mito_label)[1:]\n",
    "    mito_area_values = get_area(mito_label, mito_list)\n",
    "    mito_area_values_list.append(mito_area_values)\n",
    "    mito_stack_90[i-60] = mito_label\n",
    "# Create the coord_mito DataFrame from the collected data\n",
    "coord_mito_90 = pd.DataFrame(all_mito_data, columns=[\"min_row\", \"min_col\", \"max_row\", \"max_col\", 'sl_num'])\n",
    "# Combine 'mito_area' values into a single list\n",
    "mito_area_values_combined = np.concatenate(mito_area_values_list)\n",
    "\n",
    "# Assign 'mito_area' values to the coord_mito DataFrame\n",
    "coord_mito_90['mito_area'] = mito_area_values_combined\n",
    "end_time = time.time()\n",
    "elapsed_time = end_time - start_time\n",
    "print(\"Elapsed time: \", elapsed_time)"
   ]
  },
  {
   "cell_type": "code",
   "execution_count": null,
   "id": "fa915f62",
   "metadata": {},
   "outputs": [],
   "source": [
    "start_time = time.time()\n",
    "# Initialize the 'mito_large' column with zeros\n",
    "coord_mito_90['mito_large'] = 0\n",
    "pbar = ProgressBar()\n",
    "# Calculate 'mito_large' values\n",
    "for y in range(len(coord_mito_90)):\n",
    "    D = max(coord_mito_90['max_row'][y] - coord_mito_90['min_row'][y], coord_mito_90['max_col'][y] -coord_mito_90['min_col'][y])\n",
    "    coord_mito_90.loc[y, 'mito_large'] = D\n",
    "end_time = time.time()\n",
    "elapsed_time = end_time - start_time\n",
    "print(\"Elapsed time: \", elapsed_time)"
   ]
  },
  {
   "cell_type": "code",
   "execution_count": null,
   "id": "9ea7ed16",
   "metadata": {},
   "outputs": [],
   "source": [
    "coord_mito_90['volumen'] = coord_mito_90['mito_area'] * 200"
   ]
  },
  {
   "cell_type": "code",
   "execution_count": null,
   "id": "1f277f70",
   "metadata": {},
   "outputs": [],
   "source": [
    "mito_labels_90 = cc3d.connected_components(mito_stack_90, connectivity=26)"
   ]
  },
  {
   "cell_type": "code",
   "execution_count": null,
   "id": "66014009",
   "metadata": {},
   "outputs": [],
   "source": [
    "def mito_to_3d(mito_labels, coord_mito):\n",
    "    pbar = ProgressBar()\n",
    "    features_mito =  coord_mito.copy()\n",
    "    features_mito['mito_3d'] = 0\n",
    "    for j in range(30):\n",
    "        for i in range(1, mito_labels[j].max()+1):\n",
    "            layer = np.where(mito_labels[j] == i)\n",
    "            if layer[0].size != 0: #coordinates of the first section of each of the cells\n",
    "                for n in range(len(features_mito)):\n",
    "                    if features_mito.loc[n, 'sl_num'] == j + 60:\n",
    "                        if (layer[0].min() >= features_mito['min_row'][n]) and (layer[0].max() <= features_mito['max_row'][n]) and (layer[1].min() >= features_mito['min_col'][n]) and (layer[1].max() <= features_mito['max_col'][n]):\n",
    "                            features_mito['mito_3d'][n] = i\n",
    "    return features_mito"
   ]
  },
  {
   "cell_type": "code",
   "execution_count": null,
   "id": "c754ed9a",
   "metadata": {},
   "outputs": [],
   "source": [
    "start_time = time.time()\n",
    "features_mito_90_3d = mito_to_3d(mito_labels_90, coord_mito_90)\n",
    "end_time = time.time()\n",
    "elapsed_time = end_time - start_time\n",
    "print(\"Elapsed time: \", elapsed_time)"
   ]
  },
  {
   "cell_type": "code",
   "execution_count": null,
   "id": "50aad9f1",
   "metadata": {},
   "outputs": [],
   "source": [
    "features_mito_90_3d.to_excel('features_mito_90_3d_v1.xlsx')"
   ]
  },
  {
   "cell_type": "code",
   "execution_count": null,
   "id": "303cc264",
   "metadata": {},
   "outputs": [],
   "source": [
    "start_time = time.time()\n",
    "# Initialize an empty list to collect data for all 'sl_num'\n",
    "all_mito_data = []\n",
    "mito_stack_120 = np.zeros(shape = (30, 37440, 35168))\n",
    "# Initialize an empty list to collect 'mito_area' values for each 'sl_num'\n",
    "mito_area_values_list = []\n",
    "pbar = ProgressBar()\n",
    "for i in pbar(range(90,120)):\n",
    "    cell = Cells(i)\n",
    "    imageshape = cell.get_imageshape(folder) \n",
    "    cell_image = cell.img_from_tiles(folder)\n",
    "    cell_labels = cell.label_cells(cell_image)\n",
    "    mitochondria_labels = mask_it(cell_labels, cell.img_from_tiles(mitochondria_folder))\n",
    "    mito_label = skimage.measure.label(mitochondria_labels, connectivity=2)\n",
    "    mito_coord = []\n",
    "    region = regionprops(mito_label)\n",
    "    for r in region:\n",
    "        sl_num = i\n",
    "        min_row, min_col, max_row, max_col = r.bbox\n",
    "        mito_coord.append((min_row, min_col, max_row, max_col, sl_num))\n",
    "    \n",
    "    # Append mito_coord data for the current 'sl_num' to all_mito_data\n",
    "    all_mito_data.extend(mito_coord)\n",
    "    \n",
    "    # Calculate 'mito_area' for the current 'sl_num' and collect the values\n",
    "    mito_list = np.unique(mito_label)[1:]\n",
    "    mito_area_values = get_area(mito_label, mito_list)\n",
    "    mito_area_values_list.append(mito_area_values)\n",
    "    mito_stack_120[i-90] = mito_label\n",
    "# Create the coord_mito DataFrame from the collected data\n",
    "coord_mito_120 = pd.DataFrame(all_mito_data, columns=[\"min_row\", \"min_col\", \"max_row\", \"max_col\", 'sl_num'])\n",
    "# Combine 'mito_area' values into a single list\n",
    "mito_area_values_combined = np.concatenate(mito_area_values_list)\n",
    "\n",
    "# Assign 'mito_area' values to the coord_mito DataFrame\n",
    "coord_mito_120['mito_area'] = mito_area_values_combined\n",
    "end_time = time.time()\n",
    "elapsed_time = end_time - start_time\n",
    "print(\"Elapsed time: \", elapsed_time)"
   ]
  },
  {
   "cell_type": "code",
   "execution_count": null,
   "id": "b6b6fcda",
   "metadata": {},
   "outputs": [],
   "source": [
    "start_time = time.time()\n",
    "# Initialize the 'mito_large' column with zeros\n",
    "coord_mito_120['mito_large'] = 0\n",
    "pbar = ProgressBar()\n",
    "# Calculate 'mito_large' values\n",
    "for y in pbar(range(len(coord_mito_120))):\n",
    "    D = max(coord_mito_120['max_row'][y] - coord_mito_120['min_row'][y], coord_mito_120['max_col'][y] -coord_mito_120['min_col'][y])\n",
    "    coord_mito_120.loc[y, 'mito_large'] = D\n",
    "end_time = time.time()\n",
    "elapsed_time = end_time - start_time\n",
    "print(\"Elapsed time: \", elapsed_time)"
   ]
  },
  {
   "cell_type": "code",
   "execution_count": null,
   "id": "7f261cdb",
   "metadata": {},
   "outputs": [],
   "source": [
    "coord_mito_120['volumen'] = coord_mito_120['mito_area'] * 200"
   ]
  },
  {
   "cell_type": "code",
   "execution_count": null,
   "id": "68df2759",
   "metadata": {},
   "outputs": [],
   "source": [
    "mito_labels_120 = cc3d.connected_components(mito_stack_120, connectivity=26)"
   ]
  },
  {
   "cell_type": "code",
   "execution_count": null,
   "id": "34470115",
   "metadata": {},
   "outputs": [],
   "source": [
    "def mito_to_3d(mito_labels, coord_mito):\n",
    "    pbar = ProgressBar()\n",
    "    features_mito =  coord_mito.copy()\n",
    "    features_mito['mito_3d'] = 0\n",
    "    for j in pbar(range(30)):\n",
    "        for i in range(1, mito_labels[j].max()+1):\n",
    "            layer = np.where(mito_labels[j] == i)\n",
    "            if layer[0].size != 0: #coordinates of the first section of each of the cells\n",
    "                for n in range(len(features_mito)):\n",
    "                    if features_mito.loc[n, 'sl_num'] == j + 90:\n",
    "                        if (layer[0].min() >= features_mito['min_row'][n]) and (layer[0].max() <= features_mito['max_row'][n]) and (layer[1].min() >= features_mito['min_col'][n]) and (layer[1].max() <= features_mito['max_col'][n]):\n",
    "                            features_mito['mito_3d'][n] = i\n",
    "    return features_mito"
   ]
  },
  {
   "cell_type": "code",
   "execution_count": null,
   "id": "4c9c0078",
   "metadata": {},
   "outputs": [],
   "source": [
    "start_time = time.time()\n",
    "features_mito_120_3d = mito_to_3d(mito_labels_120, coord_mito_120)\n",
    "end_time = time.time()\n",
    "elapsed_time = end_time - start_time\n",
    "print(\"Elapsed time: \", elapsed_time)"
   ]
  },
  {
   "cell_type": "code",
   "execution_count": null,
   "id": "0d0e671b",
   "metadata": {},
   "outputs": [],
   "source": [
    "features_mito_120_3d.to_excel('features_mito_120_3d_v1.xlsx')"
   ]
  },
  {
   "cell_type": "code",
   "execution_count": null,
   "id": "21551b8b",
   "metadata": {},
   "outputs": [],
   "source": [
    "start_time = time.time()\n",
    "# Initialize an empty list to collect data for all 'sl_num'\n",
    "all_mito_data = []\n",
    "mito_stack_155 = np.zeros(shape = (35, 37440, 35168), dtype = np.int8)\n",
    "# Initialize an empty list to collect 'mito_area' values for each 'sl_num'\n",
    "mito_area_values_list = []\n",
    "pbar = ProgressBar()\n",
    "for i in pbar(range(120,155)):\n",
    "    cell = Cells(i)\n",
    "    imageshape = cell.get_imageshape(folder) \n",
    "    cell_image = cell.img_from_tiles(folder)\n",
    "    cell_labels = cell.label_cells(cell_image)\n",
    "    mitochondria_labels = mask_it(cell_labels, cell.img_from_tiles(mitochondria_folder))\n",
    "    mito_label = skimage.measure.label(mitochondria_labels, connectivity=2)\n",
    "    mito_coord = []\n",
    "    region = regionprops(mito_label)\n",
    "    for r in region:\n",
    "        sl_num = i\n",
    "        min_row, min_col, max_row, max_col = r.bbox\n",
    "        mito_coord.append((min_row, min_col, max_row, max_col, sl_num))\n",
    "    \n",
    "    # Append mito_coord data for the current 'sl_num' to all_mito_data\n",
    "    all_mito_data.extend(mito_coord)\n",
    "    \n",
    "    # Calculate 'mito_area' for the current 'sl_num' and collect the values\n",
    "    mito_list = np.unique(mito_label)[1:]\n",
    "    mito_area_values = get_area(mito_label, mito_list)\n",
    "    mito_area_values_list.append(mito_area_values)\n",
    "    mito_stack_155[i-120] = mito_label\n",
    "# Create the coord_mito DataFrame from the collected data\n",
    "coord_mito_155 = pd.DataFrame(all_mito_data, columns=[\"min_row\", \"min_col\", \"max_row\", \"max_col\", 'sl_num'])\n",
    "# Combine 'mito_area' values into a single list\n",
    "mito_area_values_combined = np.concatenate(mito_area_values_list)\n",
    "\n",
    "# Assign 'mito_area' values to the coord_mito DataFrame\n",
    "coord_mito_155['mito_area'] = mito_area_values_combined\n",
    "end_time = time.time()\n",
    "elapsed_time = end_time - start_time\n",
    "print(\"Elapsed time: \", elapsed_time)"
   ]
  },
  {
   "cell_type": "code",
   "execution_count": null,
   "id": "2e3b866a",
   "metadata": {},
   "outputs": [],
   "source": [
    "start_time = time.time()\n",
    "# Initialize the 'mito_large' column with zeros\n",
    "coord_mito_155['mito_large'] = 0\n",
    "pbar = ProgressBar()\n",
    "# Calculate 'mito_large' values\n",
    "for y in range(len(coord_mito_155)):\n",
    "    D = max(coord_mito_155['max_row'][y] - coord_mito_155['min_row'][y], coord_mito_155['max_col'][y] -coord_mito_155['min_col'][y])\n",
    "    coord_mito_155.loc[y, 'mito_large'] = D\n",
    "end_time = time.time()\n",
    "elapsed_time = end_time - start_time\n",
    "print(\"Elapsed time: \", elapsed_time)"
   ]
  },
  {
   "cell_type": "code",
   "execution_count": null,
   "id": "74248878",
   "metadata": {},
   "outputs": [],
   "source": [
    "coord_mito_155['volumen'] = coord_mito_155['mito_area'] * 200"
   ]
  },
  {
   "cell_type": "code",
   "execution_count": null,
   "id": "46602468",
   "metadata": {},
   "outputs": [],
   "source": [
    "mito_labels_155 = cc3d.connected_components(mito_stack_155, connectivity=26)"
   ]
  },
  {
   "cell_type": "code",
   "execution_count": null,
   "id": "8e0ac19f",
   "metadata": {},
   "outputs": [],
   "source": [
    "def mito_to_3d(mito_labels, coord_mito):\n",
    "    pbar = ProgressBar()\n",
    "    features_mito =  coord_mito.copy()\n",
    "    features_mito['mito_3d'] = 0\n",
    "    for j in pbar(range(30)):\n",
    "        for i in range(1, mito_labels[j].max()+1):\n",
    "            layer = np.where(mito_labels[j] == i)\n",
    "            if layer[0].size != 0: #coordinates of the first section of each of the cells\n",
    "                for n in range(len(features_mito)):\n",
    "                    if features_mito.loc[n, 'sl_num'] == j + 120:\n",
    "                        if (layer[0].min() >= features_mito['min_row'][n]) and (layer[0].max() <= features_mito['max_row'][n]) and (layer[1].min() >= features_mito['min_col'][n]) and (layer[1].max() <= features_mito['max_col'][n]):\n",
    "                            features_mito['mito_3d'][n] = i\n",
    "    return features_mito"
   ]
  },
  {
   "cell_type": "code",
   "execution_count": null,
   "id": "f3d7ba9d",
   "metadata": {},
   "outputs": [],
   "source": [
    "start_time = time.time()\n",
    "features_mito_155_3d = mito_to_3d(mito_labels_155, coord_mito_155)\n",
    "end_time = time.time()\n",
    "elapsed_time = end_time - start_time\n",
    "print(\"Elapsed time: \", elapsed_time)"
   ]
  },
  {
   "cell_type": "code",
   "execution_count": null,
   "id": "41a8f69b",
   "metadata": {},
   "outputs": [],
   "source": [
    "features_mito_155_3d.to_excel('features_mito_155_3d_v1.xlsx')"
   ]
  },
  {
   "cell_type": "code",
   "execution_count": null,
   "id": "c743c57c",
   "metadata": {},
   "outputs": [],
   "source": [
    "start_time = time.time()\n",
    "# Initialize an empty list to collect data for all 'sl_num'\n",
    "all_nuc_data = []\n",
    "nuc_stack_20 = np.zeros(shape = (10, 37440, 35168), dtype = np.int8)\n",
    "# Initialize an empty list to collect 'mito_area' values for each 'sl_num'\n",
    "nuc_area_values_list = []\n",
    "pbar = ProgressBar()\n",
    "for i in pbar(range(10,20)):\n",
    "    cell = Cells(i)\n",
    "    imageshape = cell.get_imageshape(folder) \n",
    "    cell_image = cell.img_from_tiles(folder)\n",
    "    cell_labels = cell.label_cells(cell_image)\n",
    "    nucleus_labels = mask_it(cell_labels, cell.img_from_tiles(nucleus_folder))\n",
    "    nuc_label = skimage.measure.label(nucleus_labels, connectivity=2)\n",
    "    nuc_coord = []\n",
    "    region = regionprops(nuc_label)\n",
    "    for r in region:\n",
    "        sl_num = i\n",
    "        min_row, min_col, max_row, max_col = r.bbox\n",
    "        nuc_coord.append((min_row, min_col, max_row, max_col, sl_num))\n",
    "    \n",
    "    # Append mito_coord data for the current 'sl_num' to all_mito_data\n",
    "    all_nuc_data.extend(nuc_coord)\n",
    "    \n",
    "    # Calculate 'mito_area' for the current 'sl_num' and collect the values\n",
    "    nuc_list = np.unique(nuc_label)[1:]\n",
    "    nuc_area_values = get_area(nuc_label, nuc_list)\n",
    "    nuc_area_values_list.append(nuc_area_values)\n",
    "    nuc_stack_20[i-10] = nuc_label\n",
    "# Create the coord_mito DataFrame from the collected data\n",
    "coord_nuc_20 = pd.DataFrame(all_nuc_data, columns=[\"min_row\", \"min_col\", \"max_row\", \"max_col\", 'sl_num'])\n",
    "# Combine 'mito_area' values into a single list\n",
    "nuc_area_values_combined = np.concatenate(nuc_area_values_list)\n",
    "\n",
    "# Assign 'mito_area' values to the coord_mito DataFrame\n",
    "coord_nuc_20['nuc_area'] = nuc_area_values_combined"
   ]
  },
  {
   "cell_type": "code",
   "execution_count": null,
   "id": "793464c3",
   "metadata": {},
   "outputs": [],
   "source": [
    "start_time = time.time()\n",
    "# Initialize the 'mito_large' column with zeros\n",
    "coord_nuc_20['nuc_large'] = 0\n",
    "pbar = ProgressBar()\n",
    "# Calculate 'mito_large' values\n",
    "for y in pbar(range(len(coord_nuc_20))):\n",
    "    D = max(coord_nuc_20['max_row'][y] - coord_nuc_20['min_row'][y], coord_nuc_20['max_col'][y] -coord_nuc_20['min_col'][y])\n",
    "    coord_nuc_20.loc[y, 'nuc_large'] = D\n",
    "end_time = time.time()\n",
    "elapsed_time = end_time - start_time\n",
    "print(\"Elapsed time: \", elapsed_time)"
   ]
  },
  {
   "cell_type": "code",
   "execution_count": null,
   "id": "e156c262",
   "metadata": {},
   "outputs": [],
   "source": [
    "coord_nuc_20['volumen'] = coord_nuc_20['nuc_area'] * 200"
   ]
  },
  {
   "cell_type": "code",
   "execution_count": null,
   "id": "6b9ca8d4",
   "metadata": {},
   "outputs": [],
   "source": [
    "nuc_labels_20 = cc3d.connected_components(nuc_stack_20, connectivity=26)"
   ]
  },
  {
   "cell_type": "code",
   "execution_count": null,
   "id": "32492d38",
   "metadata": {},
   "outputs": [],
   "source": [
    "def nuc_to_3d(nuc_labels, coord_nuc):\n",
    "    pbar = ProgressBar()\n",
    "    features_nuc =  coord_nuc.copy()\n",
    "    features_nuc['nuc_3d'] = 0\n",
    "    for j in pbar(range(10)):\n",
    "        for i in range(1, nuc_labels[j].max()+1):\n",
    "            layer = np.where(nuc_labels[j] == i)\n",
    "            if layer[0].size != 0: #coordinates of the first section of each of the cells\n",
    "                for n in range(len(features_nuc)):\n",
    "                    if features_nuc.loc[n, 'sl_num'] == j + 10:\n",
    "                        if (layer[0].min() >= features_nuc['min_row'][n]) and (layer[0].max() <= features_nuc['max_row'][n]) and (layer[1].min() >= features_nuc['min_col'][n]) and (layer[1].max() <= features_nuc['max_col'][n]):\n",
    "                            features_nuc['nuc_3d'][n] = i\n",
    "    return features_nuc"
   ]
  },
  {
   "cell_type": "code",
   "execution_count": null,
   "id": "57d90801",
   "metadata": {},
   "outputs": [],
   "source": [
    "start_time = time.time()\n",
    "features_nuc_20_3d = nuc_to_3d(nuc_labels_20, coord_nuc_20)\n",
    "end_time = time.time()\n",
    "elapsed_time = end_time - start_time\n",
    "print(\"Elapsed time: \", elapsed_time)"
   ]
  },
  {
   "cell_type": "code",
   "execution_count": null,
   "id": "8dfd75b8",
   "metadata": {},
   "outputs": [],
   "source": [
    "features_nuc_20_3d.to_excel('features_nuc_20_3d_v1.xlsx')"
   ]
  },
  {
   "cell_type": "code",
   "execution_count": null,
   "id": "e764d734",
   "metadata": {},
   "outputs": [],
   "source": [
    "start_time = time.time()\n",
    "# Initialize an empty list to collect data for all 'sl_num'\n",
    "all_nuc_data = []\n",
    "nuc_stack_30 = np.zeros(shape = (10, 37440, 35168), dtype=np.int8)\n",
    "# Initialize an empty list to collect 'mito_area' values for each 'sl_num'\n",
    "nuc_area_values_list = []\n",
    "pbar = ProgressBar()\n",
    "for i in pbar(range(20,30)):\n",
    "    cell = Cells(i)\n",
    "    imageshape = cell.get_imageshape(folder) \n",
    "    cell_image = cell.img_from_tiles(folder)\n",
    "    cell_labels = cell.label_cells(cell_image)\n",
    "    nucleus_labels = mask_it(cell_labels, cell.img_from_tiles(nucleus_folder))\n",
    "    nuc_label = skimage.measure.label(nucleus_labels, connectivity=2)\n",
    "    nuc_coord = []\n",
    "    region = regionprops(nuc_label)\n",
    "    for r in region:\n",
    "        sl_num = i\n",
    "        min_row, min_col, max_row, max_col = r.bbox\n",
    "        nuc_coord.append((min_row, min_col, max_row, max_col, sl_num))\n",
    "    \n",
    "    # Append mito_coord data for the current 'sl_num' to all_mito_data\n",
    "    all_nuc_data.extend(nuc_coord)\n",
    "    \n",
    "    # Calculate 'mito_area' for the current 'sl_num' and collect the values\n",
    "    nuc_list = np.unique(nuc_label)[1:]\n",
    "    nuc_area_values = get_area(nuc_label, nuc_list)\n",
    "    nuc_area_values_list.append(nuc_area_values)\n",
    "    nuc_stack_30[i-20] = nuc_label\n",
    "# Create the coord_mito DataFrame from the collected data\n",
    "coord_nuc_30 = pd.DataFrame(all_nuc_data, columns=[\"min_row\", \"min_col\", \"max_row\", \"max_col\", 'sl_num'])\n",
    "# Combine 'mito_area' values into a single list\n",
    "nuc_area_values_combined = np.concatenate(nuc_area_values_list)\n",
    "\n",
    "# Assign 'mito_area' values to the coord_mito DataFrame\n",
    "coord_nuc_30['nuc_area'] = nuc_area_values_combined"
   ]
  },
  {
   "cell_type": "code",
   "execution_count": null,
   "id": "277af4e5",
   "metadata": {},
   "outputs": [],
   "source": [
    "start_time = time.time()\n",
    "# Initialize the 'mito_large' column with zeros\n",
    "coord_nuc_30['nuc_large'] = 0\n",
    "pbar = ProgressBar()\n",
    "# Calculate 'mito_large' values\n",
    "for y in pbar(range(len(coord_nuc_30))):\n",
    "    D = max(coord_nuc_30['max_row'][y] - coord_nuc_30['min_row'][y], coord_nuc_30['max_col'][y] -coord_nuc_30['min_col'][y])\n",
    "    coord_nuc_30.loc[y, 'mito_large'] = D\n",
    "end_time = time.time()\n",
    "elapsed_time = end_time - start_time\n",
    "print(\"Elapsed time: \", elapsed_time)"
   ]
  },
  {
   "cell_type": "code",
   "execution_count": null,
   "id": "bb9fc105",
   "metadata": {},
   "outputs": [],
   "source": [
    "coord_nuc_30['volumen'] = coord_nuc_30['nuc_area'] * 200"
   ]
  },
  {
   "cell_type": "code",
   "execution_count": null,
   "id": "f380aebb",
   "metadata": {},
   "outputs": [],
   "source": [
    "nuc_labels_30 = cc3d.connected_components(nuc_stack_30, connectivity=26)"
   ]
  },
  {
   "cell_type": "code",
   "execution_count": null,
   "id": "76f34d51",
   "metadata": {},
   "outputs": [],
   "source": [
    "def nuc_to_3d(nuc_labels, coord_nuc):\n",
    "    pbar = ProgressBar()\n",
    "    features_nuc =  coord_nuc.copy()\n",
    "    features_nuc['nuc_3d'] = 0\n",
    "    for j in pbar(range(10)):\n",
    "        for i in range(1, nuc_labels[j].max()+1):\n",
    "            layer = np.where(nuc_labels[j] == i)\n",
    "            if layer[0].size != 0: #coordinates of the first section of each of the cells\n",
    "                for n in range(len(features_nuc)):\n",
    "                    if features_nuc.loc[n, 'sl_num'] == j + 20:\n",
    "                        if (layer[0].min() >= features_nuc['min_row'][n]) and (layer[0].max() <= features_nuc['max_row'][n]) and (layer[1].min() >= features_nuc['min_col'][n]) and (layer[1].max() <= features_nuc['max_col'][n]):\n",
    "                            features_nuc['nuc_3d'][n] = i\n",
    "    return features_nuc"
   ]
  },
  {
   "cell_type": "code",
   "execution_count": null,
   "id": "26671ecf",
   "metadata": {},
   "outputs": [],
   "source": [
    "start_time = time.time()\n",
    "features_nuc_30_3d = nuc_to_3d(nuc_labels_30, coord_nuc_30)\n",
    "end_time = time.time()\n",
    "elapsed_time = end_time - start_time\n",
    "print(\"Elapsed time: \", elapsed_time)"
   ]
  },
  {
   "cell_type": "code",
   "execution_count": null,
   "id": "75e4ab17",
   "metadata": {},
   "outputs": [],
   "source": [
    "features_nuc_30_3d.to_excel('features_nuc_30_3d_v1.xlsx')"
   ]
  },
  {
   "cell_type": "code",
   "execution_count": null,
   "id": "ec20d0d5",
   "metadata": {},
   "outputs": [],
   "source": [
    "start_time = time.time()\n",
    "# Initialize an empty list to collect data for all 'sl_num'\n",
    "all_nuc_data = []\n",
    "nuc_stack_50 = np.zeros(shape = (10, 37440, 35168), dtype = np.int8)\n",
    "# Initialize an empty list to collect 'mito_area' values for each 'sl_num'\n",
    "nuc_area_values_list = []\n",
    "pbar = ProgressBar()\n",
    "for i in pbar(range(40,50)):\n",
    "    cell = Cells(i)\n",
    "    imageshape = cell.get_imageshape(folder) \n",
    "    cell_image = cell.img_from_tiles(folder)\n",
    "    cell_labels = cell.label_cells(cell_image)\n",
    "    nucleus_labels = mask_it(cell_labels, cell.img_from_tiles(nucleus_folder))\n",
    "    nuc_label = skimage.measure.label(nucleus_labels, connectivity=2)\n",
    "    nuc_coord = []\n",
    "    region = regionprops(nuc_label)\n",
    "    for r in region:\n",
    "        sl_num = i\n",
    "        min_row, min_col, max_row, max_col = r.bbox\n",
    "        nuc_coord.append((min_row, min_col, max_row, max_col, sl_num))\n",
    "    \n",
    "    # Append mito_coord data for the current 'sl_num' to all_mito_data\n",
    "    all_nuc_data.extend(nuc_coord)\n",
    "    \n",
    "    # Calculate 'mito_area' for the current 'sl_num' and collect the values\n",
    "    nuc_list = np.unique(nuc_label)[1:]\n",
    "    nuc_area_values = get_area(nuc_label, nuc_list)\n",
    "    nuc_area_values_list.append(nuc_area_values)\n",
    "    nuc_stack_50[i-40] = nuc_label\n",
    "# Create the coord_mito DataFrame from the collected data\n",
    "coord_nuc_50 = pd.DataFrame(all_nuc_data, columns=[\"min_row\", \"min_col\", \"max_row\", \"max_col\", 'sl_num'])\n",
    "# Combine 'mito_area' values into a single list\n",
    "nuc_area_values_combined = np.concatenate(nuc_area_values_list)\n",
    "\n",
    "# Assign 'mito_area' values to the coord_mito DataFrame\n",
    "coord_nuc_50['nuc_area'] = nuc_area_values_combined"
   ]
  },
  {
   "cell_type": "code",
   "execution_count": null,
   "id": "bd44c2dd",
   "metadata": {},
   "outputs": [],
   "source": [
    "start_time = time.time()\n",
    "# Initialize the 'mito_large' column with zeros\n",
    "coord_nuc_50['nuc_large'] = 0\n",
    "pbar = ProgressBar()\n",
    "# Calculate 'mito_large' values\n",
    "for y in pbar(range(len(coord_nuc_50))):\n",
    "    D = max(coord_nuc_50['max_row'][y] - coord_nuc_50['min_row'][y], coord_nuc_50['max_col'][y] -coord_nuc_50['min_col'][y])\n",
    "    coord_nuc_50.loc[y, 'mito_large'] = D\n",
    "end_time = time.time()\n",
    "elapsed_time = end_time - start_time\n",
    "print(\"Elapsed time: \", elapsed_time)"
   ]
  },
  {
   "cell_type": "code",
   "execution_count": null,
   "id": "b3c2f2c6",
   "metadata": {},
   "outputs": [],
   "source": [
    "coord_nuc_50['volumen'] = coord_nuc_50['nuc_area'] * 200"
   ]
  },
  {
   "cell_type": "code",
   "execution_count": null,
   "id": "1b296823",
   "metadata": {},
   "outputs": [],
   "source": [
    "nuc_labels_50 = cc3d.connected_components(nuc_stack_50, connectivity=26)"
   ]
  },
  {
   "cell_type": "code",
   "execution_count": null,
   "id": "a1872892",
   "metadata": {},
   "outputs": [],
   "source": [
    "def nuc_to_3d(nuc_labels, coord_nuc):\n",
    "    pbar = ProgressBar()\n",
    "    features_nuc =  coord_nuc.copy()\n",
    "    features_nuc['nuc_3d'] = 0\n",
    "    for j in range(10):\n",
    "        for i in range(1, nuc_labels[j].max()+1):\n",
    "            layer = np.where(nuc_labels[j] == i)\n",
    "            if layer[0].size != 0: #coordinates of the first section of each of the cells\n",
    "                for n in range(len(features_nuc)):\n",
    "                    if features_nuc.loc[n, 'sl_num'] == j + 40:\n",
    "                        if (layer[0].min() >= features_nuc['min_row'][n]) and (layer[0].max() <= features_nuc['max_row'][n]) and (layer[1].min() >= features_nuc['min_col'][n]) and (layer[1].max() <= features_nuc['max_col'][n]):\n",
    "                            features_nuc['nuc_3d'][n] = i\n",
    "    return features_nuc"
   ]
  },
  {
   "cell_type": "code",
   "execution_count": null,
   "id": "1adefac7",
   "metadata": {},
   "outputs": [],
   "source": [
    "start_time = time.time()\n",
    "features_nuc_50_3d = nuc_to_3d(nuc_labels_50, coord_nuc_50)\n",
    "end_time = time.time()\n",
    "elapsed_time = end_time - start_time\n",
    "print(\"Elapsed time: \", elapsed_time)"
   ]
  },
  {
   "cell_type": "code",
   "execution_count": null,
   "id": "8f9e522e",
   "metadata": {},
   "outputs": [],
   "source": [
    "features_nuc_50_3d.to_excel('features_nuc_50_3d_v1.xlsx')"
   ]
  },
  {
   "cell_type": "code",
   "execution_count": null,
   "id": "a4ce5f76",
   "metadata": {},
   "outputs": [],
   "source": [
    "start_time = time.time()\n",
    "# Initialize an empty list to collect data for all 'sl_num'\n",
    "all_nuc_data = []\n",
    "nuc_stack_80 = np.zeros(shape = (10, 37440, 35168), dtype = np.int8)\n",
    "# Initialize an empty list to collect 'mito_area' values for each 'sl_num'\n",
    "nuc_area_values_list = []\n",
    "pbar = ProgressBar()\n",
    "for i in pbar(range(70,80)):\n",
    "    cell = Cells(i)\n",
    "    imageshape = cell.get_imageshape(folder) \n",
    "    cell_image = cell.img_from_tiles(folder)\n",
    "    cell_labels = cell.label_cells(cell_image)\n",
    "    nucleus_labels = mask_it(cell_labels, cell.img_from_tiles(nucleus_folder))\n",
    "    nuc_label = skimage.measure.label(nucleus_labels, connectivity=2)\n",
    "    nuc_coord = []\n",
    "    region = regionprops(nuc_label)\n",
    "    for r in region:\n",
    "        sl_num = i\n",
    "        min_row, min_col, max_row, max_col = r.bbox\n",
    "        nuc_coord.append((min_row, min_col, max_row, max_col, sl_num))\n",
    "    \n",
    "    # Append mito_coord data for the current 'sl_num' to all_mito_data\n",
    "    all_nuc_data.extend(nuc_coord)\n",
    "    \n",
    "    # Calculate 'mito_area' for the current 'sl_num' and collect the values\n",
    "    nuc_list = np.unique(nuc_label)[1:]\n",
    "    nuc_area_values = get_area(nuc_label, nuc_list)\n",
    "    nuc_area_values_list.append(nuc_area_values)\n",
    "    nuc_stack_80[i-70] = nuc_label\n",
    "# Create the coord_mito DataFrame from the collected data\n",
    "coord_nuc_80 = pd.DataFrame(all_nuc_data, columns=[\"min_row\", \"min_col\", \"max_row\", \"max_col\", 'sl_num'])\n",
    "# Combine 'mito_area' values into a single list\n",
    "nuc_area_values_combined = np.concatenate(nuc_area_values_list)\n",
    "\n",
    "# Assign 'mito_area' values to the coord_mito DataFrame\n",
    "coord_nuc_80['nuc_area'] = nuc_area_values_combined"
   ]
  },
  {
   "cell_type": "code",
   "execution_count": null,
   "id": "a7aebf8a",
   "metadata": {},
   "outputs": [],
   "source": [
    "start_time = time.time()\n",
    "# Initialize the 'mito_large' column with zeros\n",
    "coord_nuc_80['nuc_large'] = 0\n",
    "pbar = ProgressBar()\n",
    "# Calculate 'mito_large' values\n",
    "for y in pbar(range(len(coord_nuc_80))):\n",
    "    D = max(coord_nuc_80['max_row'][y] - coord_nuc_80['min_row'][y], coord_nuc_80['max_col'][y] -coord_nuc_80['min_col'][y])\n",
    "    coord_nuc_80.loc[y, 'nuc_large'] = D\n",
    "end_time = time.time()\n",
    "elapsed_time = end_time - start_time\n",
    "print(\"Elapsed time: \", elapsed_time)"
   ]
  },
  {
   "cell_type": "code",
   "execution_count": null,
   "id": "eef64c7c",
   "metadata": {},
   "outputs": [],
   "source": [
    "coord_nuc_80['volumen'] = coord_nuc_80['nuc_area'] * 200"
   ]
  },
  {
   "cell_type": "code",
   "execution_count": null,
   "id": "0825008e",
   "metadata": {},
   "outputs": [],
   "source": [
    "nuc_labels_80 = cc3d.connected_components(nuc_stack_80, connectivity=26)"
   ]
  },
  {
   "cell_type": "code",
   "execution_count": null,
   "id": "f65c7f73",
   "metadata": {},
   "outputs": [],
   "source": [
    "def nuc_to_3d(nuc_labels, coord_nuc):\n",
    "    pbar = ProgressBar()\n",
    "    features_nuc =  coord_nuc.copy()\n",
    "    features_nuc['nuc_3d'] = 0\n",
    "    for j in range(10):\n",
    "        for i in range(1, nuc_labels[j].max()+1):\n",
    "            layer = np.where(nuc_labels[j] == i)\n",
    "            if layer[0].size != 0: #coordinates of the first section of each of the cells\n",
    "                for n in range(len(features_nuc)):\n",
    "                    if features_nuc.loc[n, 'sl_num'] == j + 70:\n",
    "                        if (layer[0].min() >= features_nuc['min_row'][n]) and (layer[0].max() <= features_nuc['max_row'][n]) and (layer[1].min() >= features_nuc['min_col'][n]) and (layer[1].max() <= features_nuc['max_col'][n]):\n",
    "                            features_nuc['nuc_3d'][n] = i\n",
    "    return features_nuc"
   ]
  },
  {
   "cell_type": "code",
   "execution_count": null,
   "id": "d21a447f",
   "metadata": {},
   "outputs": [],
   "source": [
    "start_time = time.time()\n",
    "features_nuc_80_3d = nuc_to_3d(nuc_labels_80, coord_nuc_80)\n",
    "end_time = time.time()\n",
    "elapsed_time = end_time - start_time\n",
    "print(\"Elapsed time: \", elapsed_time)"
   ]
  },
  {
   "cell_type": "code",
   "execution_count": null,
   "id": "eb74f46c",
   "metadata": {},
   "outputs": [],
   "source": [
    "features_nuc_80_3d.to_excel('features_nuc_80_3d_v1.xlsx')"
   ]
  },
  {
   "cell_type": "code",
   "execution_count": null,
   "id": "85c386ff",
   "metadata": {},
   "outputs": [],
   "source": [
    "start_time = time.time()\n",
    "# Initialize an empty list to collect data for all 'sl_num'\n",
    "all_nuc_data = []\n",
    "nuc_stack_90 = np.zeros(shape = (10, 37440, 35168), dtype = np.int8)\n",
    "# Initialize an empty list to collect 'mito_area' values for each 'sl_num'\n",
    "nuc_area_values_list = []\n",
    "pbar = ProgressBar()\n",
    "for i in pbar(range(80,90)):\n",
    "    cell = Cells(i)\n",
    "    imageshape = cell.get_imageshape(folder) \n",
    "    cell_image = cell.img_from_tiles(folder)\n",
    "    cell_labels = cell.label_cells(cell_image)\n",
    "    nucleus_labels = mask_it(cell_labels, cell.img_from_tiles(nucleus_folder))\n",
    "    nuc_label = skimage.measure.label(nucleus_labels, connectivity=2)\n",
    "    nuc_coord = []\n",
    "    region = regionprops(nuc_label)\n",
    "    for r in region:\n",
    "        sl_num = i\n",
    "        min_row, min_col, max_row, max_col = r.bbox\n",
    "        nuc_coord.append((min_row, min_col, max_row, max_col, sl_num))\n",
    "    \n",
    "    # Append mito_coord data for the current 'sl_num' to all_mito_data\n",
    "    all_nuc_data.extend(nuc_coord)\n",
    "    \n",
    "    # Calculate 'mito_area' for the current 'sl_num' and collect the values\n",
    "    nuc_list = np.unique(nuc_label)[1:]\n",
    "    nuc_area_values = get_area(nuc_label, nuc_list)\n",
    "    nuc_area_values_list.append(nuc_area_values)\n",
    "    nuc_stack_90[i-80] = nuc_label\n",
    "# Create the coord_mito DataFrame from the collected data\n",
    "coord_nuc_90 = pd.DataFrame(all_nuc_data, columns=[\"min_row\", \"min_col\", \"max_row\", \"max_col\", 'sl_num'])\n",
    "# Combine 'mito_area' values into a single list\n",
    "nuc_area_values_combined = np.concatenate(nuc_area_values_list)\n",
    "\n",
    "# Assign 'mito_area' values to the coord_mito DataFrame\n",
    "coord_nuc_90['nuc_area'] = nuc_area_values_combined"
   ]
  },
  {
   "cell_type": "code",
   "execution_count": null,
   "id": "b225a5f1",
   "metadata": {},
   "outputs": [],
   "source": [
    "start_time = time.time()\n",
    "# Initialize the 'mito_large' column with zeros\n",
    "coord_nuc_90['nuc_large'] = 0\n",
    "pbar = ProgressBar()\n",
    "# Calculate 'mito_large' values\n",
    "for y in pbar(range(len(coord_nuc_90))):\n",
    "    D = max(coord_nuc_90['max_row'][y] - coord_nuc_90['min_row'][y], coord_nuc_90['max_col'][y] -coord_nuc_90['min_col'][y])\n",
    "    coord_nuc_90.loc[y, 'nuc_large'] = D\n",
    "end_time = time.time()\n",
    "elapsed_time = end_time - start_time\n",
    "print(\"Elapsed time: \", elapsed_time)"
   ]
  },
  {
   "cell_type": "code",
   "execution_count": null,
   "id": "8a9300c8",
   "metadata": {},
   "outputs": [],
   "source": [
    "coord_nuc_90['volumen'] = coord_nuc_90['nuc_area'] * 200"
   ]
  },
  {
   "cell_type": "code",
   "execution_count": null,
   "id": "e0c70198",
   "metadata": {},
   "outputs": [],
   "source": [
    "nuc_labels_90 = cc3d.connected_components(nuc_stack_90, connectivity=26)"
   ]
  },
  {
   "cell_type": "code",
   "execution_count": null,
   "id": "ca9cd562",
   "metadata": {},
   "outputs": [],
   "source": [
    "def nuc_to_3d(nuc_labels, coord_nuc):\n",
    "    pbar = ProgressBar()\n",
    "    features_nuc =  coord_nuc.copy()\n",
    "    features_nuc['nuc_3d'] = 0\n",
    "    for j in pbar(range(10)):\n",
    "        for i in range(1, nuc_labels[j].max()+1):\n",
    "            layer = np.where(nuc_labels[j] == i)\n",
    "            if layer[0].size != 0: #coordinates of the first section of each of the cells\n",
    "                for n in range(len(features_nuc)):\n",
    "                    if features_nuc.loc[n, 'sl_num'] == j + 80:\n",
    "                        if (layer[0].min() >= features_nuc['min_row'][n]) and (layer[0].max() <= features_nuc['max_row'][n]) and (layer[1].min() >= features_nuc['min_col'][n]) and (layer[1].max() <= features_nuc['max_col'][n]):\n",
    "                            features_nuc['nuc_3d'][n] = i\n",
    "    return features_nuc"
   ]
  },
  {
   "cell_type": "code",
   "execution_count": null,
   "id": "20f46ee1",
   "metadata": {},
   "outputs": [],
   "source": [
    "start_time = time.time()\n",
    "features_nuc_90_3d = nuc_to_3d(nuc_labels_90, coord_nuc_90)\n",
    "end_time = time.time()\n",
    "elapsed_time = end_time - start_time\n",
    "print(\"Elapsed time: \", elapsed_time)"
   ]
  },
  {
   "cell_type": "code",
   "execution_count": null,
   "id": "37c92e2d",
   "metadata": {},
   "outputs": [],
   "source": [
    "features_nuc_90_3d.to_excel('features_nuc_90_3d_v1.xlsx')"
   ]
  },
  {
   "cell_type": "code",
   "execution_count": null,
   "id": "ebee8d9a",
   "metadata": {},
   "outputs": [],
   "source": [
    "start_time = time.time()\n",
    "# Initialize an empty list to collect data for all 'sl_num'\n",
    "all_nuc_data = []\n",
    "nuc_stack_100 = np.zeros(shape = (10, 37440, 35168), dtype = np.int8)\n",
    "# Initialize an empty list to collect 'mito_area' values for each 'sl_num'\n",
    "nuc_area_values_list = []\n",
    "pbar = ProgressBar()\n",
    "for i in pbar(range(90,100)):\n",
    "    cell = Cells(i)\n",
    "    imageshape = cell.get_imageshape(folder) \n",
    "    cell_image = cell.img_from_tiles(folder)\n",
    "    cell_labels = cell.label_cells(cell_image)\n",
    "    nucleus_labels = mask_it(cell_labels, cell.img_from_tiles(nucleus_folder))\n",
    "    nuc_label = skimage.measure.label(nucleus_labels, connectivity=2)\n",
    "    nuc_coord = []\n",
    "    region = regionprops(nuc_label)\n",
    "    for r in region:\n",
    "        sl_num = i\n",
    "        min_row, min_col, max_row, max_col = r.bbox\n",
    "        nuc_coord.append((min_row, min_col, max_row, max_col, sl_num))\n",
    "    \n",
    "    # Append mito_coord data for the current 'sl_num' to all_mito_data\n",
    "    all_nuc_data.extend(nuc_coord)\n",
    "    \n",
    "    # Calculate 'mito_area' for the current 'sl_num' and collect the values\n",
    "    nuc_list = np.unique(nuc_label)[1:]\n",
    "    nuc_area_values = get_area(nuc_label, nuc_list)\n",
    "    nuc_area_values_list.append(nuc_area_values)\n",
    "    nuc_stack_100[i-90] = nuc_label\n",
    "# Create the coord_mito DataFrame from the collected data\n",
    "coord_nuc_100 = pd.DataFrame(all_nuc_data, columns=[\"min_row\", \"min_col\", \"max_row\", \"max_col\", 'sl_num'])\n",
    "# Combine 'mito_area' values into a single list\n",
    "nuc_area_values_combined = np.concatenate(nuc_area_values_list)\n",
    "\n",
    "# Assign 'mito_area' values to the coord_mito DataFrame\n",
    "coord_nuc_100['nuc_area'] = nuc_area_values_combined"
   ]
  },
  {
   "cell_type": "code",
   "execution_count": null,
   "id": "405c6b04",
   "metadata": {},
   "outputs": [],
   "source": [
    "start_time = time.time()\n",
    "# Initialize the 'mito_large' column with zeros\n",
    "coord_nuc_100['nuc_large'] = 0\n",
    "pbar = ProgressBar()\n",
    "# Calculate 'mito_large' values\n",
    "for y in pbar(range(len(coord_nuc_100))):\n",
    "    D = max(coord_nuc_100['max_row'][y] - coord_nuc_100['min_row'][y], coord_nuc_100['max_col'][y] -coord_nuc_100['min_col'][y])\n",
    "    coord_nuc_100.loc[y, 'nuc_large'] = D\n",
    "end_time = time.time()\n",
    "elapsed_time = end_time - start_time\n",
    "print(\"Elapsed time: \", elapsed_time)"
   ]
  },
  {
   "cell_type": "code",
   "execution_count": null,
   "id": "163ce45f",
   "metadata": {},
   "outputs": [],
   "source": [
    "coord_nuc_100['volumen'] = coord_nuc_100['nuc_area'] * 200"
   ]
  },
  {
   "cell_type": "code",
   "execution_count": null,
   "id": "ec5ddc14",
   "metadata": {},
   "outputs": [],
   "source": [
    "nuc_labels_100 = cc3d.connected_components(nuc_stack_100, connectivity=26)"
   ]
  },
  {
   "cell_type": "code",
   "execution_count": null,
   "id": "d347a0b7",
   "metadata": {},
   "outputs": [],
   "source": [
    "def nuc_to_3d(nuc_labels, coord_nuc):\n",
    "    pbar = ProgressBar()\n",
    "    features_nuc =  coord_nuc.copy()\n",
    "    features_nuc['nuc_3d'] = 0\n",
    "    for j in pbar(range(10)):\n",
    "        for i in range(1, nuc_labels[j].max()+1):\n",
    "            layer = np.where(nuc_labels[j] == i)\n",
    "            if layer[0].size != 0: #coordinates of the first section of each of the cells\n",
    "                for n in range(len(features_nuc)):\n",
    "                    if features_nuc.loc[n, 'sl_num'] == j + 90:\n",
    "                        if (layer[0].min() >= features_nuc['min_row'][n]) and (layer[0].max() <= features_nuc['max_row'][n]) and (layer[1].min() >= features_nuc['min_col'][n]) and (layer[1].max() <= features_nuc['max_col'][n]):\n",
    "                            features_nuc['nuc_3d'][n] = i\n",
    "    return features_nuc"
   ]
  },
  {
   "cell_type": "code",
   "execution_count": null,
   "id": "11e23120",
   "metadata": {},
   "outputs": [],
   "source": [
    "start_time = time.time()\n",
    "features_nuc_100_3d = nuc_to_3d(nuc_labels_100, coord_nuc_100)\n",
    "end_time = time.time()\n",
    "elapsed_time = end_time - start_time\n",
    "print(\"Elapsed time: \", elapsed_time)"
   ]
  },
  {
   "cell_type": "code",
   "execution_count": null,
   "id": "1255b4f8",
   "metadata": {},
   "outputs": [],
   "source": [
    "features_nuc_100_3d.to_excel('features_nuc_100_3d_v1.xlsx')"
   ]
  },
  {
   "cell_type": "code",
   "execution_count": null,
   "id": "e7a3db80",
   "metadata": {},
   "outputs": [],
   "source": [
    "start_time = time.time()\n",
    "# Initialize an empty list to collect data for all 'sl_num'\n",
    "all_nuc_data = []\n",
    "nuc_stack_110 = np.zeros(shape = (10, 37440, 35168), dtype = np.int8)\n",
    "# Initialize an empty list to collect 'mito_area' values for each 'sl_num'\n",
    "nuc_area_values_list = []\n",
    "pbar = ProgressBar()\n",
    "for i in pbar(range(100,110)):\n",
    "    cell = Cells(i)\n",
    "    imageshape = cell.get_imageshape(folder) \n",
    "    cell_image = cell.img_from_tiles(folder)\n",
    "    cell_labels = cell.label_cells(cell_image)\n",
    "    nucleus_labels = mask_it(cell_labels, cell.img_from_tiles(nucleus_folder))\n",
    "    nuc_label = skimage.measure.label(nucleus_labels, connectivity=2)\n",
    "    nuc_coord = []\n",
    "    region = regionprops(nuc_label)\n",
    "    for r in region:\n",
    "        sl_num = i\n",
    "        min_row, min_col, max_row, max_col = r.bbox\n",
    "        nuc_coord.append((min_row, min_col, max_row, max_col, sl_num))\n",
    "    \n",
    "    # Append mito_coord data for the current 'sl_num' to all_mito_data\n",
    "    all_nuc_data.extend(nuc_coord)\n",
    "    \n",
    "    # Calculate 'mito_area' for the current 'sl_num' and collect the values\n",
    "    nuc_list = np.unique(nuc_label)[1:]\n",
    "    nuc_area_values = get_area(nuc_label, nuc_list)\n",
    "    nuc_area_values_list.append(nuc_area_values)\n",
    "    nuc_stack_110[i-100] = nuc_label\n",
    "# Create the coord_mito DataFrame from the collected data\n",
    "coord_nuc_110 = pd.DataFrame(all_nuc_data, columns=[\"min_row\", \"min_col\", \"max_row\", \"max_col\", 'sl_num'])\n",
    "# Combine 'mito_area' values into a single list\n",
    "nuc_area_values_combined = np.concatenate(nuc_area_values_list)\n",
    "\n",
    "# Assign 'mito_area' values to the coord_mito DataFrame\n",
    "coord_nuc_110['nuc_area'] = nuc_area_values_combined"
   ]
  },
  {
   "cell_type": "code",
   "execution_count": null,
   "id": "aeafc040",
   "metadata": {},
   "outputs": [],
   "source": [
    "start_time = time.time()\n",
    "# Initialize the 'mito_large' column with zeros\n",
    "coord_nuc_110['nuc_large'] = 0\n",
    "pbar = ProgressBar()\n",
    "# Calculate 'mito_large' values\n",
    "for y in pbar(range(len(coord_nuc_110))):\n",
    "    D = max(coord_nuc_110['max_row'][y] - coord_nuc_110['min_row'][y], coord_nuc_110['max_col'][y] -coord_nuc_110['min_col'][y])\n",
    "    coord_nuc_110.loc[y, 'nuc_large'] = D\n",
    "end_time = time.time()\n",
    "elapsed_time = end_time - start_time\n",
    "print(\"Elapsed time: \", elapsed_time)"
   ]
  },
  {
   "cell_type": "code",
   "execution_count": null,
   "id": "73580413",
   "metadata": {},
   "outputs": [],
   "source": [
    "coord_nuc_110['volumen'] = coord_nuc_110['nuc_area'] * 200"
   ]
  },
  {
   "cell_type": "code",
   "execution_count": null,
   "id": "236dbddb",
   "metadata": {},
   "outputs": [],
   "source": [
    "nuc_labels_110 = cc3d.connected_components(nuc_stack_110, connectivity=26)"
   ]
  },
  {
   "cell_type": "code",
   "execution_count": null,
   "id": "d7c799e6",
   "metadata": {},
   "outputs": [],
   "source": [
    "def nuc_to_3d(nuc_labels, coord_nuc):\n",
    "    pbar = ProgressBar()\n",
    "    features_nuc =  coord_nuc.copy()\n",
    "    features_nuc['nuc_3d'] = 0\n",
    "    for j in pbar(range(10)):\n",
    "        for i in range(1, nuc_labels[j].max()+1):\n",
    "            layer = np.where(nuc_labels[j] == i)\n",
    "            if layer[0].size != 0: #coordinates of the first section of each of the cells\n",
    "                for n in range(len(features_nuc)):\n",
    "                    if features_nuc.loc[n, 'sl_num'] == j + 100:\n",
    "                        if (layer[0].min() >= features_nuc['min_row'][n]) and (layer[0].max() <= features_nuc['max_row'][n]) and (layer[1].min() >= features_nuc['min_col'][n]) and (layer[1].max() <= features_nuc['max_col'][n]):\n",
    "                            features_nuc['nuc_3d'][n] = i\n",
    "    return features_nuc"
   ]
  },
  {
   "cell_type": "code",
   "execution_count": null,
   "id": "22df0de3",
   "metadata": {},
   "outputs": [],
   "source": [
    "start_time = time.time()\n",
    "features_nuc_110_3d = nuc_to_3d(nuc_labels_110, coord_nuc_110)\n",
    "end_time = time.time()\n",
    "elapsed_time = end_time - start_time\n",
    "print(\"Elapsed time: \", elapsed_time)"
   ]
  },
  {
   "cell_type": "code",
   "execution_count": null,
   "id": "287739ba",
   "metadata": {},
   "outputs": [],
   "source": [
    "features_nuc_110_3d.to_excel('features_nuc_110_3d_v1.xlsx')"
   ]
  },
  {
   "cell_type": "code",
   "execution_count": 12,
   "id": "28307579",
   "metadata": {},
   "outputs": [
    {
     "name": "stderr",
     "output_type": "stream",
     "text": [
      "100% (10 of 10) |########################| Elapsed Time: 0:10:28 Time:  0:10:28\n"
     ]
    }
   ],
   "source": [
    "start_time = time.time()\n",
    "# Initialize an empty list to collect data for all 'sl_num'\n",
    "all_nuc_data = []\n",
    "nuc_stack_120 = np.zeros(shape = (10, 37440, 35168), dtype = np.int8)\n",
    "# Initialize an empty list to collect 'mito_area' values for each 'sl_num'\n",
    "nuc_area_values_list = []\n",
    "pbar = ProgressBar()\n",
    "for i in pbar(range(110,120)):\n",
    "    cell = Cells(i)\n",
    "    imageshape = cell.get_imageshape(folder) \n",
    "    cell_image = cell.img_from_tiles(folder)\n",
    "    cell_labels = cell.label_cells(cell_image)\n",
    "    nucleus_labels = mask_it(cell_labels, cell.img_from_tiles(nucleus_folder))\n",
    "    nuc_label = skimage.measure.label(nucleus_labels, connectivity=2)\n",
    "    nuc_coord = []\n",
    "    region = regionprops(nuc_label)\n",
    "    for r in region:\n",
    "        sl_num = i\n",
    "        min_row, min_col, max_row, max_col = r.bbox\n",
    "        nuc_coord.append((min_row, min_col, max_row, max_col, sl_num))\n",
    "    \n",
    "    # Append mito_coord data for the current 'sl_num' to all_mito_data\n",
    "    all_nuc_data.extend(nuc_coord)\n",
    "    \n",
    "    # Calculate 'mito_area' for the current 'sl_num' and collect the values\n",
    "    nuc_list = np.unique(nuc_label)[1:]\n",
    "    nuc_area_values = get_area(nuc_label, nuc_list)\n",
    "    nuc_area_values_list.append(nuc_area_values)\n",
    "    nuc_stack_120[i-110] = nuc_label\n",
    "# Create the coord_mito DataFrame from the collected data\n",
    "coord_nuc_120 = pd.DataFrame(all_nuc_data, columns=[\"min_row\", \"min_col\", \"max_row\", \"max_col\", 'sl_num'])\n",
    "# Combine 'mito_area' values into a single list\n",
    "nuc_area_values_combined = np.concatenate(nuc_area_values_list)\n",
    "\n",
    "# Assign 'mito_area' values to the coord_mito DataFrame\n",
    "coord_nuc_120['nuc_area'] = nuc_area_values_combined"
   ]
  },
  {
   "cell_type": "code",
   "execution_count": 13,
   "id": "d1ac0460",
   "metadata": {},
   "outputs": [
    {
     "name": "stderr",
     "output_type": "stream",
     "text": [
      "100% (17 of 17) |########################| Elapsed Time: 0:00:00 Time:  0:00:00\n"
     ]
    },
    {
     "name": "stdout",
     "output_type": "stream",
     "text": [
      "Elapsed time:  0.021199703216552734\n"
     ]
    }
   ],
   "source": [
    "start_time = time.time()\n",
    "# Initialize the 'mito_large' column with zeros\n",
    "coord_nuc_120['nuc_large'] = 0\n",
    "pbar = ProgressBar()\n",
    "# Calculate 'mito_large' values\n",
    "for y in pbar(range(len(coord_nuc_120))):\n",
    "    D = max(coord_nuc_120['max_row'][y] - coord_nuc_120['min_row'][y], coord_nuc_120['max_col'][y] -coord_nuc_120['min_col'][y])\n",
    "    coord_nuc_120.loc[y, 'nuc_large'] = D\n",
    "end_time = time.time()\n",
    "elapsed_time = end_time - start_time\n",
    "print(\"Elapsed time: \", elapsed_time)"
   ]
  },
  {
   "cell_type": "code",
   "execution_count": 14,
   "id": "7d46a359",
   "metadata": {},
   "outputs": [],
   "source": [
    "coord_nuc_120['volumen'] = coord_nuc_120['nuc_area'] * 200"
   ]
  },
  {
   "cell_type": "code",
   "execution_count": 15,
   "id": "9d553e3a",
   "metadata": {},
   "outputs": [],
   "source": [
    "nuc_labels_120 = cc3d.connected_components(nuc_stack_120, connectivity=26)"
   ]
  },
  {
   "cell_type": "code",
   "execution_count": 16,
   "id": "8ba28261",
   "metadata": {},
   "outputs": [],
   "source": [
    "def nuc_to_3d(nuc_labels, coord_nuc):\n",
    "    pbar = ProgressBar()\n",
    "    features_nuc =  coord_nuc.copy()\n",
    "    features_nuc['nuc_3d'] = 0\n",
    "    for j in pbar(range(10)):\n",
    "        for i in range(1, nuc_labels[j].max()+1):\n",
    "            layer = np.where(nuc_labels[j] == i)\n",
    "            if layer[0].size != 0: #coordinates of the first section of each of the cells\n",
    "                for n in range(len(features_nuc)):\n",
    "                    if features_nuc.loc[n, 'sl_num'] == j + 110:\n",
    "                        if (layer[0].min() >= features_nuc['min_row'][n]) and (layer[0].max() <= features_nuc['max_row'][n]) and (layer[1].min() >= features_nuc['min_col'][n]) and (layer[1].max() <= features_nuc['max_col'][n]):\n",
    "                            features_nuc['nuc_3d'][n] = i\n",
    "    return features_nuc"
   ]
  },
  {
   "cell_type": "code",
   "execution_count": 17,
   "id": "8bb7c41f",
   "metadata": {},
   "outputs": [
    {
     "name": "stderr",
     "output_type": "stream",
     "text": [
      " 30% (3 of 10) |#######                  | Elapsed Time: 0:00:01 ETA:   0:00:03C:\\Users\\Gast-User\\AppData\\Local\\Temp\\ipykernel_17300\\2042944888.py:12: SettingWithCopyWarning: \n",
      "A value is trying to be set on a copy of a slice from a DataFrame\n",
      "\n",
      "See the caveats in the documentation: https://pandas.pydata.org/pandas-docs/stable/user_guide/indexing.html#returning-a-view-versus-a-copy\n",
      "  features_nuc['nuc_3d'][n] = i\n",
      "100% (10 of 10) |########################| Elapsed Time: 0:02:14 Time:  0:02:14\n"
     ]
    },
    {
     "name": "stdout",
     "output_type": "stream",
     "text": [
      "Elapsed time:  134.91941213607788\n"
     ]
    }
   ],
   "source": [
    "start_time = time.time()\n",
    "features_nuc_120_3d = nuc_to_3d(nuc_labels_120, coord_nuc_120)\n",
    "end_time = time.time()\n",
    "elapsed_time = end_time - start_time\n",
    "print(\"Elapsed time: \", elapsed_time)"
   ]
  },
  {
   "cell_type": "code",
   "execution_count": 18,
   "id": "6d5b9391",
   "metadata": {},
   "outputs": [],
   "source": [
    "features_nuc_120_3d.to_excel('features_nuc_120_3d_v1.xlsx')"
   ]
  },
  {
   "cell_type": "code",
   "execution_count": null,
   "id": "7f19f175",
   "metadata": {},
   "outputs": [],
   "source": [
    "start_time = time.time()\n",
    "# Initialize an empty list to collect data for all 'sl_num'\n",
    "all_nuc_data = []\n",
    "nuc_stack_140 = np.zeros(shape = (10, 37440, 35168), dtype = np.int8)\n",
    "# Initialize an empty list to collect 'mito_area' values for each 'sl_num'\n",
    "nuc_area_values_list = []\n",
    "pbar = ProgressBar()\n",
    "for i in pbar(range(130,140)):\n",
    "    cell = Cells(i)\n",
    "    imageshape = cell.get_imageshape(folder) \n",
    "    cell_image = cell.img_from_tiles(folder)\n",
    "    cell_labels = cell.label_cells(cell_image)\n",
    "    nucleus_labels = mask_it(cell_labels, cell.img_from_tiles(nucleus_folder))\n",
    "    nuc_label = skimage.measure.label(nucleus_labels, connectivity=2)\n",
    "    nuc_coord = []\n",
    "    region = regionprops(nuc_label)\n",
    "    for r in region:\n",
    "        sl_num = i\n",
    "        min_row, min_col, max_row, max_col = r.bbox\n",
    "        nuc_coord.append((min_row, min_col, max_row, max_col, sl_num))\n",
    "    \n",
    "    # Append mito_coord data for the current 'sl_num' to all_mito_data\n",
    "    all_nuc_data.extend(nuc_coord)\n",
    "    \n",
    "    # Calculate 'mito_area' for the current 'sl_num' and collect the values\n",
    "    nuc_list = np.unique(nuc_label)[1:]\n",
    "    nuc_area_values = get_area(nuc_label, nuc_list)\n",
    "    nuc_area_values_list.append(nuc_area_values)\n",
    "    nuc_stack_140[i-130] = nuc_label\n",
    "# Create the coord_mito DataFrame from the collected data\n",
    "coord_nuc_140 = pd.DataFrame(all_nuc_data, columns=[\"min_row\", \"min_col\", \"max_row\", \"max_col\", 'sl_num'])\n",
    "# Combine 'mito_area' values into a single list\n",
    "nuc_area_values_combined = np.concatenate(nuc_area_values_list)\n",
    "\n",
    "# Assign 'mito_area' values to the coord_mito DataFrame\n",
    "coord_nuc_140['nuc_area'] = nuc_area_values_combined"
   ]
  },
  {
   "cell_type": "code",
   "execution_count": null,
   "id": "675bbce1",
   "metadata": {},
   "outputs": [],
   "source": [
    "start_time = time.time()\n",
    "# Initialize the 'mito_large' column with zeros\n",
    "coord_nuc_140['nuc_large'] = 0\n",
    "pbar = ProgressBar()\n",
    "# Calculate 'mito_large' values\n",
    "for y in pbar(range(len(coord_nuc_140))):\n",
    "    D = max(coord_nuc_140['max_row'][y] - coord_nuc_140['min_row'][y], coord_nuc_140['max_col'][y] -coord_nuc_140['min_col'][y])\n",
    "    coord_nuc_140.loc[y, 'nuc_large'] = D\n",
    "end_time = time.time()\n",
    "elapsed_time = end_time - start_time\n",
    "print(\"Elapsed time: \", elapsed_time)"
   ]
  },
  {
   "cell_type": "code",
   "execution_count": null,
   "id": "34f440eb",
   "metadata": {},
   "outputs": [],
   "source": [
    "coord_nuc_140['volumen'] = coord_nuc_140['nuc_area'] * 200"
   ]
  },
  {
   "cell_type": "code",
   "execution_count": null,
   "id": "c88fb559",
   "metadata": {},
   "outputs": [],
   "source": [
    "nuc_labels_140 = cc3d.connected_components(nuc_stack_140, connectivity=26)"
   ]
  },
  {
   "cell_type": "code",
   "execution_count": null,
   "id": "69b9cdcf",
   "metadata": {},
   "outputs": [],
   "source": [
    "def nuc_to_3d(nuc_labels, coord_nuc):\n",
    "    pbar = ProgressBar()\n",
    "    features_nuc =  coord_nuc.copy()\n",
    "    features_nuc['nuc_3d'] = 0\n",
    "    for j in pbar(range(10)):\n",
    "        for i in range(1, nuc_labels[j].max()+1):\n",
    "            layer = np.where(nuc_labels[j] == i)\n",
    "            if layer[0].size != 0: #coordinates of the first section of each of the cells\n",
    "                for n in range(len(features_nuc)):\n",
    "                    if features_nuc.loc[n, 'sl_num'] == j + 130:\n",
    "                        if (layer[0].min() >= features_nuc['min_row'][n]) and (layer[0].max() <= features_nuc['max_row'][n]) and (layer[1].min() >= features_nuc['min_col'][n]) and (layer[1].max() <= features_nuc['max_col'][n]):\n",
    "                            features_nuc['nuc_3d'][n] = i\n",
    "    return features_nuc"
   ]
  },
  {
   "cell_type": "code",
   "execution_count": null,
   "id": "4cc28f9e",
   "metadata": {},
   "outputs": [],
   "source": [
    "start_time = time.time()\n",
    "features_nuc_140_3d = nuc_to_3d(nuc_labels_140, coord_nuc_140)\n",
    "end_time = time.time()\n",
    "elapsed_time = end_time - start_time\n",
    "print(\"Elapsed time: \", elapsed_time)"
   ]
  },
  {
   "cell_type": "code",
   "execution_count": null,
   "id": "f65cc9db",
   "metadata": {},
   "outputs": [],
   "source": [
    "features_nuc_140_3d.to_excel('features_nuc_140_3d_v1.xlsx')"
   ]
  },
  {
   "cell_type": "code",
   "execution_count": 4,
   "id": "5dad6d68",
   "metadata": {},
   "outputs": [
    {
     "name": "stderr",
     "output_type": "stream",
     "text": [
      "100% (15 of 15) |########################| Elapsed Time: 0:16:08 Time:  0:16:08\n"
     ]
    }
   ],
   "source": [
    "start_time = time.time()\n",
    "# Initialize an empty list to collect data for all 'sl_num'\n",
    "all_nuc_data = []\n",
    "nuc_stack_155 = np.zeros(shape = (15, 37440, 35168), dtype = np.int8)\n",
    "# Initialize an empty list to collect 'mito_area' values for each 'sl_num'\n",
    "nuc_area_values_list = []\n",
    "pbar = ProgressBar()\n",
    "for i in pbar(range(140,155)):\n",
    "    cell = Cells(i)\n",
    "    imageshape = cell.get_imageshape(folder) \n",
    "    cell_image = cell.img_from_tiles(folder)\n",
    "    cell_labels = cell.label_cells(cell_image)\n",
    "    nucleus_labels = mask_it(cell_labels, cell.img_from_tiles(nucleus_folder))\n",
    "    nuc_label = skimage.measure.label(nucleus_labels, connectivity=2)\n",
    "    nuc_coord = []\n",
    "    region = regionprops(nuc_label)\n",
    "    for r in region:\n",
    "        sl_num = i\n",
    "        min_row, min_col, max_row, max_col = r.bbox\n",
    "        nuc_coord.append((min_row, min_col, max_row, max_col, sl_num))\n",
    "    \n",
    "    # Append mito_coord data for the current 'sl_num' to all_mito_data\n",
    "    all_nuc_data.extend(nuc_coord)\n",
    "    \n",
    "    # Calculate 'mito_area' for the current 'sl_num' and collect the values\n",
    "    nuc_list = np.unique(nuc_label)[1:]\n",
    "    nuc_area_values = get_area(nuc_label, nuc_list)\n",
    "    nuc_area_values_list.append(nuc_area_values)\n",
    "    nuc_stack_155[i-140] = nuc_label\n",
    "# Create the coord_mito DataFrame from the collected data\n",
    "coord_nuc_155 = pd.DataFrame(all_nuc_data, columns=[\"min_row\", \"min_col\", \"max_row\", \"max_col\", 'sl_num'])\n",
    "# Combine 'mito_area' values into a single list\n",
    "nuc_area_values_combined = np.concatenate(nuc_area_values_list)\n",
    "\n",
    "# Assign 'mito_area' values to the coord_mito DataFrame\n",
    "coord_nuc_155['nuc_area'] = nuc_area_values_combined"
   ]
  },
  {
   "cell_type": "code",
   "execution_count": 5,
   "id": "41b222ce",
   "metadata": {},
   "outputs": [
    {
     "name": "stderr",
     "output_type": "stream",
     "text": [
      "100% (40 of 40) |########################| Elapsed Time: 0:00:00 Time:  0:00:00\n"
     ]
    },
    {
     "name": "stdout",
     "output_type": "stream",
     "text": [
      "Elapsed time:  0.01814866065979004\n"
     ]
    }
   ],
   "source": [
    "start_time = time.time()\n",
    "# Initialize the 'mito_large' column with zeros\n",
    "coord_nuc_155['nuc_large'] = 0\n",
    "pbar = ProgressBar()\n",
    "# Calculate 'mito_large' values\n",
    "for y in pbar(range(len(coord_nuc_155))):\n",
    "    D = max(coord_nuc_155['max_row'][y] - coord_nuc_155['min_row'][y], coord_nuc_155['max_col'][y] -coord_nuc_155['min_col'][y])\n",
    "    coord_nuc_155.loc[y, 'nuc_large'] = D\n",
    "end_time = time.time()\n",
    "elapsed_time = end_time - start_time\n",
    "print(\"Elapsed time: \", elapsed_time)"
   ]
  },
  {
   "cell_type": "code",
   "execution_count": 7,
   "id": "b5473871",
   "metadata": {},
   "outputs": [],
   "source": [
    "coord_nuc_155['volumen'] = coord_nuc_155['nuc_area'] * 200"
   ]
  },
  {
   "cell_type": "code",
   "execution_count": 8,
   "id": "8922f039",
   "metadata": {},
   "outputs": [],
   "source": [
    "nuc_labels_155 = cc3d.connected_components(nuc_stack_155, connectivity=26)"
   ]
  },
  {
   "cell_type": "code",
   "execution_count": 9,
   "id": "aee82f0d",
   "metadata": {},
   "outputs": [],
   "source": [
    "def nuc_to_3d(nuc_labels, coord_nuc):\n",
    "    pbar = ProgressBar()\n",
    "    features_nuc =  coord_nuc.copy()\n",
    "    features_nuc['nuc_3d'] = 0\n",
    "    for j in pbar(range(15)):\n",
    "        for i in range(1, nuc_labels[j].max()+1):\n",
    "            layer = np.where(nuc_labels[j] == i)\n",
    "            if layer[0].size != 0: #coordinates of the first section of each of the cells\n",
    "                for n in range(len(features_nuc)):\n",
    "                    if features_nuc.loc[n, 'sl_num'] == j + 140:\n",
    "                        if (layer[0].min() >= features_nuc['min_row'][n]) and (layer[0].max() <= features_nuc['max_row'][n]) and (layer[1].min() >= features_nuc['min_col'][n]) and (layer[1].max() <= features_nuc['max_col'][n]):\n",
    "                            features_nuc['nuc_3d'][n] = i\n",
    "    return features_nuc"
   ]
  },
  {
   "cell_type": "code",
   "execution_count": 10,
   "id": "a5c52c82",
   "metadata": {},
   "outputs": [
    {
     "name": "stderr",
     "output_type": "stream",
     "text": [
      "  0% (0 of 15) |                         | Elapsed Time: 0:00:00 ETA:  --:--:--C:\\Users\\Gast-User\\AppData\\Local\\Temp\\ipykernel_17300\\793204407.py:12: SettingWithCopyWarning: \n",
      "A value is trying to be set on a copy of a slice from a DataFrame\n",
      "\n",
      "See the caveats in the documentation: https://pandas.pydata.org/pandas-docs/stable/user_guide/indexing.html#returning-a-view-versus-a-copy\n",
      "  features_nuc['nuc_3d'][n] = i\n",
      "100% (15 of 15) |########################| Elapsed Time: 0:10:19 Time:  0:10:19\n"
     ]
    },
    {
     "name": "stdout",
     "output_type": "stream",
     "text": [
      "Elapsed time:  619.8422141075134\n"
     ]
    }
   ],
   "source": [
    "start_time = time.time()\n",
    "features_nuc_155_3d = nuc_to_3d(nuc_labels_155, coord_nuc_155)\n",
    "end_time = time.time()\n",
    "elapsed_time = end_time - start_time\n",
    "print(\"Elapsed time: \", elapsed_time)"
   ]
  },
  {
   "cell_type": "code",
   "execution_count": 11,
   "id": "1cf7100c",
   "metadata": {},
   "outputs": [],
   "source": [
    "features_nuc_155_3d.to_excel('features_nuc_155_3d_v1.xlsx')"
   ]
  },
  {
   "cell_type": "code",
   "execution_count": null,
   "id": "70540d0c",
   "metadata": {},
   "outputs": [],
   "source": []
  },
  {
   "cell_type": "code",
   "execution_count": null,
   "id": "fa639877",
   "metadata": {},
   "outputs": [],
   "source": [
    "mitochondria_labels = mask_it(cell_labels, cell.img_from_tiles(mitochondria_folder))"
   ]
  },
  {
   "cell_type": "code",
   "execution_count": null,
   "id": "9607c7de",
   "metadata": {},
   "outputs": [],
   "source": [
    "mito_label = skimage.measure.label(mitochondria_labels, connectivity=2)"
   ]
  },
  {
   "cell_type": "markdown",
   "id": "08713cf4",
   "metadata": {},
   "source": [
    "###  connectivity=26"
   ]
  },
  {
   "cell_type": "code",
   "execution_count": null,
   "id": "29427dba",
   "metadata": {},
   "outputs": [],
   "source": [
    "mito_labels[0].max(), mito_labels[1].max(), mito_labels[2].max(), mito_labels[3].max(), mito_labels[4].max()"
   ]
  },
  {
   "cell_type": "markdown",
   "id": "579c5e45",
   "metadata": {},
   "source": [
    "### connectivity=18"
   ]
  },
  {
   "cell_type": "code",
   "execution_count": null,
   "id": "3ce6b3c4",
   "metadata": {},
   "outputs": [],
   "source": [
    "mito_labels = cc3d.connected_components(mito_stack, connectivity=18)"
   ]
  },
  {
   "cell_type": "code",
   "execution_count": null,
   "id": "fbe0ec64",
   "metadata": {},
   "outputs": [],
   "source": [
    "mito_labels[0].max(), mito_labels[1].max(), mito_labels[2].max(), mito_labels[3].max(), mito_labels[4].max()"
   ]
  },
  {
   "cell_type": "markdown",
   "id": "468fd8e3",
   "metadata": {},
   "source": [
    "### connectivity=6"
   ]
  },
  {
   "cell_type": "code",
   "execution_count": null,
   "id": "687c7536",
   "metadata": {},
   "outputs": [],
   "source": [
    "mito_labels = cc3d.connected_components(mito_stack, connectivity=6)"
   ]
  },
  {
   "cell_type": "code",
   "execution_count": null,
   "id": "3ce21aa2",
   "metadata": {},
   "outputs": [],
   "source": [
    "mito_labels[0].max(), mito_labels[1].max(), mito_labels[2].max(), mito_labels[3].max(), mito_labels[4].max()"
   ]
  },
  {
   "cell_type": "code",
   "execution_count": null,
   "id": "fc7ea022",
   "metadata": {},
   "outputs": [],
   "source": [
    "coord_mito = np.where(mito_labels[0] == 0)"
   ]
  },
  {
   "cell_type": "code",
   "execution_count": null,
   "id": "0bff25ba",
   "metadata": {},
   "outputs": [],
   "source": [
    "coord_mito"
   ]
  },
  {
   "cell_type": "markdown",
   "id": "7005bca0",
   "metadata": {},
   "source": [
    "# Nuclear calculations"
   ]
  },
  {
   "cell_type": "code",
   "execution_count": null,
   "id": "f9e2c26f",
   "metadata": {},
   "outputs": [],
   "source": [
    "start_time = time.time()\n",
    "nuc_stack = np.zeros(shape = (5, 37440, 35168))\n",
    "all_nuc_data = []\n",
    "for i in range(0,5):\n",
    "    cell = Cells(i)\n",
    "    imageshape = cell.get_imageshape(folder) \n",
    "    cell_image = cell.img_from_tiles(folder)\n",
    "    cell_labels = cell.label_cells(cell_image)\n",
    "    nucleus_labels = mask_it(cell_labels, cell.img_from_tiles(nucleus_folder))\n",
    "    nuc_label = skimage.measure.label(nucleus_labels, connectivity=2)\n",
    "    nuc_coord = []\n",
    "    region = regionprops(nuc_label)\n",
    "    for r in region:\n",
    "        sl_num = i\n",
    "        min_row, min_col, max_row, max_col = r.bbox\n",
    "        nuc_coord.append((min_row, min_col, max_row, max_col, sl_num))\n",
    "    all_nuc_data.extend(mito_coord)\n",
    "    nuc_stack[i] = nuc_label\n",
    "coord_nuc = pd.DataFrame(all_mito_data, columns=[\"min_row\", \"min_col\", \"max_row\", \"max_col\", 'sl_num'])\n",
    "#       coord_mito['sl_num'][r] = i\n",
    "unique_sl_nums = coord_mito['sl_num'].unique()\n",
    "for sl_num in unique_sl_nums:\n",
    "    mito_list = np.unique(coord_mito[coord_mito['sl_num'] == sl_num]['sl_num'])\n",
    "    mito_area_values = get_area(mito_label, mito_list)\n",
    "    coord_mito.loc[coord_mito['sl_num'] == sl_num, 'mito_area'] = mito_area_values\n",
    "coord_mito['mito_large'] = 0\n",
    "for y in range(len(coord_mito)):\n",
    "    D = max(coord_mito['max_row'][y] - coord_mito['min_row'][y], coord_mito['max_col'][y] - coord_mito['min_col'][y])\n",
    "    coord_mito['mito_large'][y] = D\n",
    "end_time = time.time()\n",
    "elapsed_time = end_time - start_time\n",
    "print(\"Elapsed time: \", elapsed_time)"
   ]
  }
 ],
 "metadata": {
  "kernelspec": {
   "display_name": "Python 3 (ipykernel)",
   "language": "python",
   "name": "python3"
  },
  "language_info": {
   "codemirror_mode": {
    "name": "ipython",
    "version": 3
   },
   "file_extension": ".py",
   "mimetype": "text/x-python",
   "name": "python",
   "nbconvert_exporter": "python",
   "pygments_lexer": "ipython3",
   "version": "3.10.4"
  }
 },
 "nbformat": 4,
 "nbformat_minor": 5
}
