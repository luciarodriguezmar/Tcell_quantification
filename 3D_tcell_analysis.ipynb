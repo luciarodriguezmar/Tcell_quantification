{
 "cells": [
  {
   "cell_type": "markdown",
   "id": "28c5ebaa",
   "metadata": {},
   "source": [
    "# Tcell analysis in 3D"
   ]
  },
  {
   "cell_type": "markdown",
   "id": "31b81905",
   "metadata": {},
   "source": [
    "# 1. Assigning 3D info to 2D features"
   ]
  },
  {
   "cell_type": "markdown",
   "id": "4699b72f",
   "metadata": {},
   "source": [
    "This code allows the detection of cell labels in 3D, by adding the information of which 3D cell label each section in the 2D analysis belongs to to the data set including the 2D features. "
   ]
  },
  {
   "cell_type": "code",
   "execution_count": 22,
   "id": "f15372cd",
   "metadata": {},
   "outputs": [],
   "source": [
    "from Cells import Cells\n",
    "from MGFeatures import *\n",
    "import numpy as np\n",
    "import pandas as pd\n",
    "from joblib import Parallel, delayed\n",
    "import napari\n",
    "from tifffile import imsave\n",
    "import skimage.measure\n",
    "import time\n",
    "import seaborn as sns\n",
    "import matplotlib.pyplot as plt\n",
    "import cc3d\n",
    "from progressbar import ProgressBar\n",
    "from scipy import stats\n",
    "import itertools"
   ]
  },
  {
   "cell_type": "code",
   "execution_count": 2,
   "id": "ecc75662",
   "metadata": {},
   "outputs": [],
   "source": [
    "def get_area(labels, labels_list): \n",
    "    areas = []\n",
    "    for i in labels_list:\n",
    "        area = np.count_nonzero(labels == i)\n",
    "        areas.append(area)\n",
    "    areas = np.array(areas)\n",
    "    return areas"
   ]
  },
  {
   "cell_type": "code",
   "execution_count": 3,
   "id": "feb3c44b",
   "metadata": {},
   "outputs": [],
   "source": [
    "folder = r'Y:\\MS293_Shun_Immunogold_030523\\Segmentation\\cell_final'\n",
    "heterochromatin_folder = r'Y:\\MS293_Shun_Immunogold_030523\\Segmentation\\heterochromatin_final'\n",
    "gold_folder = r'Y:\\MS293_Shun_Immunogold_030523\\Segmentation\\gold_final'\n",
    "lysosomes_folder = r'Y:\\MS293_Shun_Immunogold_030523\\Segmentation\\lysosomes_final'\n",
    "mitochondria_folder = r'Y:\\MS293_Shun_Immunogold_030523\\Segmentation\\mitochondria_final'\n",
    "nucleus_folder = r'Y:\\MS293_Shun_Immunogold_030523\\Segmentation\\nucleus_final'\n",
    "ER_folder = r'Y:\\MS293_Shun_Immunogold_030523\\Segmentation\\er_final'\n",
    "golgi_folder = r'Y:\\MS293_Shun_Immunogold_030523\\Segmentation\\golgi_final'"
   ]
  },
  {
   "cell_type": "markdown",
   "id": "0a427e39",
   "metadata": {},
   "source": [
    "#### Create cell labels in 3d\n",
    "1. Create a matrix with the size of the images (in this case 37440x35168) and the depth of the total number of images in z that we want to compare at the same time. The total number of images that can be compared depends on CPU and RAM capacity. \n",
    "\n",
    "2. The for loop will add binary images of each section to cell_stack.\n",
    "\n",
    "3. cc3d.connected_components() will assign 3d labels based on the binary information in the cell_stack and store it in the matrix cell_labels. The connectivity value can be set to 6, 18 or 26. For more information (https://pypi.org/project/connected-components-3d/)."
   ]
  },
  {
   "cell_type": "code",
   "execution_count": 4,
   "id": "eb18314b",
   "metadata": {},
   "outputs": [],
   "source": [
    "cell_stack = np.zeros(shape = (5, 37440, 35168), dtype = int8)\n",
    "for i in range(0,5):\n",
    "    cell = Cells(i)\n",
    "    imageshape = cell.get_imageshape(folder) \n",
    "    cell_image = cell.img_from_tiles(folder)\n",
    "    binary_image = cell_image.astype(bool)\n",
    "    cell_stack[i] = binary_image    #*NOTE*: if running from a range that does not start from 0, adjust the index\n",
    "cell_labels = cc3d.connected_components(cell_stack, connectivity=18)"
   ]
  },
  {
   "cell_type": "markdown",
   "id": "b057cb34",
   "metadata": {},
   "source": [
    "#### function features_to_3d\n",
    "This function uses the cell_labels matrix and the features dataframe, which contains the 2D features calculated in the 2D analysis. \n",
    "- cell_labels[j].max() calculates per section which is the maximum number of cell labels in that section.\n",
    "- np.where(cell_labels[j] == i), calculates in which coordinates of x and y in a certain layer j, it corresponds to the cell label i.\n",
    "- The rest of the script compares the location in x and y of the cell labels stored in 'layer' with the coordinates in which each cell label in 2d is located. If one cell section is located inside of a cell label in 3d, it gets assigned its identificator value. \n",
    "- In case the range does not start in 0, add the number of the starting section in x.\n",
    "- Include start section as j and final section as z."
   ]
  },
  {
   "cell_type": "code",
   "execution_count": 20,
   "id": "1f08eab1",
   "metadata": {},
   "outputs": [],
   "source": [
    "def features_to_3d(cell_labels, features, j, z, x):\n",
    "    featuresnew =  features.copy()\n",
    "    featuresnew['id_3d'] = 0\n",
    "    pbar = ProgressBar()\n",
    "    for j in pbar(range(j,z)):\n",
    "        for i in range(1, cell_labels[j].max()+1):\n",
    "            layer = np.where(cell_labels[j] == i)\n",
    "            if layer[0].size != 0: #coordinates of the first section of each of the cells\n",
    "                for n in range(len(featuresnew)):\n",
    "                    if featuresnew.loc[n, 'sl_num'] == j + x:\n",
    "                        if (layer[0].min() >= featuresnew['x1'][n]) and (layer[0].max() <= featuresnew['x2'][n]) and (layer[1].min() >= featuresnew['y1'][n]) and (layer[1].max() <= featuresnew['y2'][n]):\n",
    "                            featuresnew['id_3d'][n] = i\n",
    "    return featuresnew"
   ]
  },
  {
   "cell_type": "code",
   "execution_count": 13,
   "id": "792056af",
   "metadata": {},
   "outputs": [],
   "source": [
    "features2d = pd.read_excel('total_features_v5.xlsx', index_col=0)"
   ]
  },
  {
   "cell_type": "markdown",
   "id": "f07b00f2",
   "metadata": {},
   "source": [
    "Filter the 2d features file to the number of sections to be run with features_to_3d"
   ]
  },
  {
   "cell_type": "code",
   "execution_count": 14,
   "id": "54853619",
   "metadata": {},
   "outputs": [],
   "source": [
    "features5 = pd.DataFrame()\n",
    "features5 = features2d[(features2d['sl_num'] >= 0) & (features2d['sl_num']  < 5)].reset_index()"
   ]
  },
  {
   "cell_type": "code",
   "execution_count": 21,
   "id": "3a8990d8",
   "metadata": {},
   "outputs": [
    {
     "name": "stderr",
     "output_type": "stream",
     "text": [
      "  0% (0 of 5) |                          | Elapsed Time: 0:00:00 ETA:  --:--:--C:\\Users\\Gast-User\\AppData\\Local\\Temp\\ipykernel_28084\\1584851351.py:12: SettingWithCopyWarning: \n",
      "A value is trying to be set on a copy of a slice from a DataFrame\n",
      "\n",
      "See the caveats in the documentation: https://pandas.pydata.org/pandas-docs/stable/user_guide/indexing.html#returning-a-view-versus-a-copy\n",
      "  featuresnew['id_3d'][n] = i\n",
      "100% (5 of 5) |##########################| Elapsed Time: 0:06:44 Time:  0:06:44\n"
     ]
    },
    {
     "name": "stdout",
     "output_type": "stream",
     "text": [
      "Elapsed time:  404.2144966125488\n"
     ]
    }
   ],
   "source": [
    "start_time = time.time()\n",
    "features5_3d = features_to_3d(cell_labels, features5, 0, 5, 0)\n",
    "end_time = time.time()\n",
    "elapsed_time = end_time - start_time\n",
    "print(\"Elapsed time: \", elapsed_time)"
   ]
  },
  {
   "cell_type": "code",
   "execution_count": 19,
   "id": "49ca64cb",
   "metadata": {},
   "outputs": [],
   "source": [
    "features5_3d "
   ]
  },
  {
   "cell_type": "markdown",
   "id": "166e53f4",
   "metadata": {},
   "source": [
    "# 2. 3D labelling for mitochondria"
   ]
  },
  {
   "cell_type": "markdown",
   "id": "1be98d8d",
   "metadata": {},
   "source": [
    "Same procedure as for assigning labels to each cell but in this cae for mitochondria. \n",
    "This also includes the area of each individual mitochondria and its coordinates, beside creating mito_stack for caluclating later on the connected components in 3d.\n",
    "In the same way as in the cell labels, run this for as many sections as possible."
   ]
  },
  {
   "cell_type": "code",
   "execution_count": null,
   "id": "104c3670",
   "metadata": {},
   "outputs": [],
   "source": [
    "start_time = time.time()\n",
    "# Initialize an empty list to collect data for all 'sl_num'\n",
    "all_mito_data = []\n",
    "mito_stack = np.zeros(shape = (5, 37440, 35168), dtype = int8)\n",
    "# Initialize an empty list to collect 'mito_area' values for each 'sl_num'\n",
    "mito_area_values_list = []\n",
    "pbar = ProgressBar()\n",
    "for i in pbar(range(0, 5)):\n",
    "    cell = Cells(i)\n",
    "    imageshape = cell.get_imageshape(folder) \n",
    "    cell_image = cell.img_from_tiles(folder)\n",
    "    cell_labels = cell.label_cells(cell_image)\n",
    "    mitochondria_labels = mask_it(cell_labels, cell.img_from_tiles(mitochondria_folder))\n",
    "    mito_label = skimage.measure.label(mitochondria_labels, connectivity=2)\n",
    "    mito_coord = []\n",
    "    region = regionprops(mito_label)\n",
    "    for r in region:\n",
    "        sl_num = i\n",
    "        min_row, min_col, max_row, max_col = r.bbox\n",
    "        mito_coord.append((min_row, min_col, max_row, max_col, sl_num))\n",
    "    \n",
    "    # Append mito_coord data for the current 'sl_num' to all_mito_data\n",
    "    all_mito_data.extend(mito_coord)\n",
    "    \n",
    "    # Calculate 'mito_area' for the current 'sl_num' and collect the values\n",
    "    mito_list = np.unique(mito_label)[1:]\n",
    "    mito_area_values = get_area(mito_label, mito_list)\n",
    "    mito_area_values_list.append(mito_area_values)\n",
    "    mito_stack[i] = mito_label\n",
    "# Create the coord_mito DataFrame from the collected data\n",
    "coord_mito = pd.DataFrame(all_mito_data, columns=[\"min_row\", \"min_col\", \"max_row\", \"max_col\", 'sl_num'])\n",
    "# Combine 'mito_area' values into a single list\n",
    "mito_area_values_combined = np.concatenate(mito_area_values_list)\n",
    "\n",
    "# Assign 'mito_area' values to the coord_mito DataFrame\n",
    "coord_mito['mito_area'] = mito_area_values_combined\n",
    "end_time = time.time()\n",
    "elapsed_time = end_time - start_time\n",
    "print(\"Elapsed time: \", elapsed_time)"
   ]
  },
  {
   "cell_type": "markdown",
   "id": "3c51e76f",
   "metadata": {},
   "source": [
    "Calculation of the maximum value of the side of each cell and the volume.\n",
    "Axial resolution: 200nm and lateral resolution 10nm -> height is 20 times a pixel in the lateral.\n",
    "## IMPORTANT NOTE\n",
    "If the old excel files are used, these were run calculating the volume by multiplying the area * 200. So if these files are used, the volume has to be divided by 10.\n",
    "However, for running new files, use area * 20."
   ]
  },
  {
   "cell_type": "code",
   "execution_count": null,
   "id": "dfc9022f",
   "metadata": {},
   "outputs": [],
   "source": [
    "start_time = time.time()\n",
    "# Initialize the 'mito_large' column with zeros\n",
    "coord_mito['mito_large'] = 0\n",
    "pbar = ProgressBar()\n",
    "# Calculate 'mito_large' values\n",
    "for y in range(len(coord_mito)):\n",
    "    D = max(coord_mito['max_row'][y] - coord_mito['min_row'][y], coord_mito['max_col'][y] - coord_mito['min_col'][y])\n",
    "    coord_mito.loc[y, 'mito_large'] = D\n",
    "end_time = time.time()\n",
    "elapsed_time = end_time - start_time\n",
    "print(\"Elapsed time: \", elapsed_time)\n",
    "coord_mito['volumen'] = coord_mito['mito_area'] * 20"
   ]
  },
  {
   "cell_type": "code",
   "execution_count": null,
   "id": "fb81a56f",
   "metadata": {},
   "outputs": [],
   "source": [
    "mito_labels = cc3d.connected_components(mito_stack, connectivity=26)"
   ]
  },
  {
   "cell_type": "markdown",
   "id": "5a8d2839",
   "metadata": {},
   "source": [
    "#### Function mito_to_3d\n",
    "This function performs the same as features_to_3d, but takes into account the difference in the names of the columns \n",
    "(Perhaps this could be changed)\n",
    "- In case the range does not start in 0, add the number of the starting section in x.\n",
    "- Include start section as j and final section as z."
   ]
  },
  {
   "cell_type": "code",
   "execution_count": null,
   "id": "05c4743c",
   "metadata": {},
   "outputs": [],
   "source": [
    "def mito_to_3d(mito_labels, coord_mito, j, z, x):\n",
    "    pbar = ProgressBar()\n",
    "    features_mito =  coord_mito.copy()\n",
    "    features_mito['mito_3d'] = 0\n",
    "    for j in pbar(range(j, z)):\n",
    "        for i in range(1, mito_labels[j].max()+1):\n",
    "            layer = np.where(mito_labels[j] == i)\n",
    "            if layer[0].size != 0: #coordinates of the first section of each of the cells\n",
    "                for n in range(len(features_mito)):\n",
    "                    if features_mito.loc[n, 'sl_num'] == j + x:\n",
    "                        if (layer[0].min() >= features_mito['min_row'][n]) and (layer[0].max() <= features_mito['max_row'][n]) and (layer[1].min() >= features_mito['min_col'][n]) and (layer[1].max() <= features_mito['max_col'][n]):\n",
    "                            features_mito['mito_3d'][n] = i\n",
    "    return features_mito"
   ]
  },
  {
   "cell_type": "code",
   "execution_count": null,
   "id": "3d79ab9f",
   "metadata": {},
   "outputs": [],
   "source": [
    "start_time = time.time()\n",
    "features_mito_5_3d = mito_to_3d(mito_labels, coord_mito, 0, 5, 0)\n",
    "end_time = time.time()\n",
    "elapsed_time = end_time - start_time\n",
    "print(\"Elapsed time: \", elapsed_time)"
   ]
  },
  {
   "cell_type": "code",
   "execution_count": null,
   "id": "038a164c",
   "metadata": {},
   "outputs": [],
   "source": [
    "features_mito_5_3d.to_excel('features_mito_5_3d_v1.xlsx')"
   ]
  },
  {
   "cell_type": "markdown",
   "id": "683854da",
   "metadata": {},
   "source": [
    "# 3. 3D labelling for nucleus\n",
    "Same as in mitochondria analysis"
   ]
  },
  {
   "cell_type": "code",
   "execution_count": null,
   "id": "f2a701a5",
   "metadata": {},
   "outputs": [],
   "source": [
    "start_time = time.time()\n",
    "# Initialize an empty list to collect data for all 'sl_num'\n",
    "all_nuc_data = []\n",
    "nuc_stack_20 = np.zeros(shape = (10, 37440, 35168), dtype = np.int8)\n",
    "# Initialize an empty list to collect 'mito_area' values for each 'sl_num'\n",
    "nuc_area_values_list = []\n",
    "pbar = ProgressBar()\n",
    "for i in pbar(range(10,20)):\n",
    "    cell = Cells(i)\n",
    "    imageshape = cell.get_imageshape(folder) \n",
    "    cell_image = cell.img_from_tiles(folder)\n",
    "    cell_labels = cell.label_cells(cell_image)\n",
    "    nucleus_labels = mask_it(cell_labels, cell.img_from_tiles(nucleus_folder))\n",
    "    nuc_label = skimage.measure.label(nucleus_labels, connectivity=2)\n",
    "    nuc_coord = []\n",
    "    region = regionprops(nuc_label)\n",
    "    for r in region:\n",
    "        sl_num = i\n",
    "        min_row, min_col, max_row, max_col = r.bbox\n",
    "        nuc_coord.append((min_row, min_col, max_row, max_col, sl_num))\n",
    "    \n",
    "    # Append mito_coord data for the current 'sl_num' to all_mito_data\n",
    "    all_nuc_data.extend(nuc_coord)\n",
    "    \n",
    "    # Calculate 'mito_area' for the current 'sl_num' and collect the values\n",
    "    nuc_list = np.unique(nuc_label)[1:]\n",
    "    nuc_area_values = get_area(nuc_label, nuc_list)\n",
    "    nuc_area_values_list.append(nuc_area_values)\n",
    "    nuc_stack_20[i-10] = nuc_label\n",
    "# Create the coord_mito DataFrame from the collected data\n",
    "coord_nuc_20 = pd.DataFrame(all_nuc_data, columns=[\"min_row\", \"min_col\", \"max_row\", \"max_col\", 'sl_num'])\n",
    "# Combine 'mito_area' values into a single list\n",
    "nuc_area_values_combined = np.concatenate(nuc_area_values_list)\n",
    "\n",
    "# Assign 'mito_area' values to the coord_mito DataFrame\n",
    "coord_nuc_20['nuc_area'] = nuc_area_values_combined"
   ]
  },
  {
   "cell_type": "code",
   "execution_count": null,
   "id": "ef6f7fee",
   "metadata": {},
   "outputs": [],
   "source": [
    "start_time = time.time()\n",
    "# Initialize the 'mito_large' column with zeros\n",
    "coord_nuc_20['nuc_large'] = 0\n",
    "pbar = ProgressBar()\n",
    "# Calculate 'mito_large' values\n",
    "for y in pbar(range(len(coord_nuc_20))):\n",
    "    D = max(coord_nuc_20['max_row'][y] - coord_nuc_20['min_row'][y], coord_nuc_20['max_col'][y] -coord_nuc_20['min_col'][y])\n",
    "    coord_nuc_20.loc[y, 'nuc_large'] = D\n",
    "end_time = time.time()\n",
    "elapsed_time = end_time - start_time\n",
    "print(\"Elapsed time: \", elapsed_time)\n",
    "coord_nuc_20['volumen'] = coord_nuc_20['nuc_area'] * 20"
   ]
  },
  {
   "cell_type": "code",
   "execution_count": null,
   "id": "56117fa8",
   "metadata": {},
   "outputs": [],
   "source": [
    "nuc_labels_20 = cc3d.connected_components(nuc_stack_20, connectivity=26)"
   ]
  },
  {
   "cell_type": "code",
   "execution_count": null,
   "id": "c8543577",
   "metadata": {},
   "outputs": [],
   "source": [
    "def nuc_to_3d(nuc_labels, coord_nuc, j, z, x):\n",
    "    pbar = ProgressBar()\n",
    "    features_nuc =  coord_nuc.copy()\n",
    "    features_nuc['nuc_3d'] = 0\n",
    "    for j in pbar(range(j, z)):\n",
    "        for i in range(1, nuc_labels[j].max()+1):\n",
    "            layer = np.where(nuc_labels[j] == i)\n",
    "            if layer[0].size != 0: #coordinates of the first section of each of the cells\n",
    "                for n in range(len(features_nuc)):\n",
    "                    if features_nuc.loc[n, 'sl_num'] == j + x:\n",
    "                        if (layer[0].min() >= features_nuc['min_row'][n]) and (layer[0].max() <= features_nuc['max_row'][n]) and (layer[1].min() >= features_nuc['min_col'][n]) and (layer[1].max() <= features_nuc['max_col'][n]):\n",
    "                            features_nuc['nuc_3d'][n] = i\n",
    "    return features_nuc"
   ]
  },
  {
   "cell_type": "code",
   "execution_count": null,
   "id": "b672cb28",
   "metadata": {},
   "outputs": [],
   "source": [
    "start_time = time.time()\n",
    "features_nuc_20_3d = nuc_to_3d(nuc_labels_20, coord_nuc_20, 10, 20, 10)\n",
    "end_time = time.time()\n",
    "elapsed_time = end_time - start_time\n",
    "print(\"Elapsed time: \", elapsed_time)"
   ]
  },
  {
   "cell_type": "code",
   "execution_count": null,
   "id": "ce929c19",
   "metadata": {},
   "outputs": [],
   "source": [
    "features_nuc_20_3d.to_excel('features_nuc_20_3d_v1.xlsx')"
   ]
  },
  {
   "cell_type": "markdown",
   "id": "cac56927",
   "metadata": {},
   "source": [
    "# 4. Combine all individual features files into one dataframe for cell, mitochondria and nucleus "
   ]
  },
  {
   "cell_type": "markdown",
   "id": "850a6d17",
   "metadata": {},
   "source": [
    "## 4.1 Cell features\n",
    "\n",
    "##### sphericity\n",
    "To measure the 3D morphology of the cell we used the sphericity, which is defined as:\n",
    "\n",
    "\n",
    "$$sphericity = \\sqrt[3]{\\frac{Volume}{Volume_{circ}}}$$\n",
    "\n",
    "In which Volume is the real volume of the particle and Volumecirc is the volume of the sphere around it\n",
    "\n",
    "Wadell, H. (1934) “Shape determination of large sedimental rock fragments”. The Pan\u0002American Geologist. Vol. 61, pp. 187-220."
   ]
  },
  {
   "cell_type": "code",
   "execution_count": null,
   "id": "6cffbb5d",
   "metadata": {},
   "outputs": [],
   "source": [
    "features3d = pd.DataFrame()\n",
    "# Load all files with 3d cell features\n",
    "features3d_78 = pd.read_excel(r'C:\\Users\\Gast-User\\Downloads\\features78_v2.xlsx', index_col=0)\n",
    "features3d_155 = pd.read_excel(r'C:\\Users\\Gast-User\\Downloads\\features155_v2.xlsx', index_col=0)\n",
    "# Add the max label in one file to the next, so that labels from different cells do not have an identical value\n",
    "features3d_155_max = features3d_155.copy()\n",
    "features3d_155_max['id_3d'] = features3d_155_max['nuc_3d'] + features3d_78['nuc_3d'].max()\n",
    "features3d = features3d.append(features3d_78) \n",
    "features3d = features3d.append(features3d_155_max) "
   ]
  },
  {
   "cell_type": "code",
   "execution_count": null,
   "id": "0d53c426",
   "metadata": {},
   "outputs": [],
   "source": [
    "features3d.to_excel('features3d_all.xlsx')"
   ]
  },
  {
   "cell_type": "markdown",
   "id": "0ba7aeec",
   "metadata": {},
   "source": [
    "Select only features in the data frame that will be later used in the analysis"
   ]
  },
  {
   "cell_type": "code",
   "execution_count": null,
   "id": "1cba8084",
   "metadata": {},
   "outputs": [],
   "source": [
    "features3d_sel = features3d[['cell_area', 'sum_mito_area', 'nucleus_area', 'heterochromatin_area', 'lysosomal_area', 'gold_area',\n",
    "                            'cytoplasm_area', 'ER_lengths', 'sl_num', 'x1', 'x2', 'y1', 'y2', 'id_3d']]"
   ]
  },
  {
   "cell_type": "markdown",
   "id": "416d48c6",
   "metadata": {},
   "source": [
    "##### features3d_grouped\n",
    "Contains the average per cell of features that describe the sections area of a certain organelle."
   ]
  },
  {
   "cell_type": "code",
   "execution_count": null,
   "id": "306fb49a",
   "metadata": {},
   "outputs": [],
   "source": [
    "features3d_grouped = features3d_sel.groupby(by='id_3d').mean().reset_index()\n",
    "features3d_grouped = features3d_grouped[['id_3d', 'cell_area', 'sum_mito_area', 'nucleus_area', 'heterochromatin_area', 'lysosomal_area', 'gold_area',\n",
    "                            'cytoplasm_area', 'ER_lengths']]"
   ]
  },
  {
   "cell_type": "markdown",
   "id": "3661cc6f",
   "metadata": {},
   "source": [
    "##### features3d_counts\n",
    "Stores in 'counts' the number of sections that belong to the same 'id_3d' and the column 'height' indicates the height of the cell in the z axis."
   ]
  },
  {
   "cell_type": "code",
   "execution_count": null,
   "id": "89f345bb",
   "metadata": {},
   "outputs": [],
   "source": [
    "features3d_counts = features3d.groupby('id_3d', dropna=False).size().reset_index(name='counts')\n",
    "features3d_counts['height'] = features3d_counts['counts']*20"
   ]
  },
  {
   "cell_type": "markdown",
   "id": "ce9d123c",
   "metadata": {},
   "source": [
    "##### features3d_large\n",
    "The largest side from the bbox that surrounds each cell section in 2D is gonna be calculated and stored in the 'large_side' column. \n",
    "##### features3d_max_side\n",
    "Once the largest side per each section in 2d is calculated, this groups the cells by the id_3d index and calculates the maximum side of all the cell in 3D. "
   ]
  },
  {
   "cell_type": "code",
   "execution_count": null,
   "id": "cee94898",
   "metadata": {},
   "outputs": [],
   "source": [
    "features3d_large = features3d.copy()\n",
    "features3d_large['large_side'] = 0\n",
    "for y in range(len(features3d_large)):\n",
    "    D = max(features3d_large['x2'][y] - features3d_large['x1'][y], features3d_large['y2'][y] - features3d_large['y1'][y])\n",
    "    features3d_large['large_side'][y] = D\n",
    "features3d_max_side = features3d_large.groupby('id_3d').max().reset_index()\n",
    "features3d_max_side = features3d_max_side[['id_3d', 'large_side']]\n",
    "features3d_max_side"
   ]
  },
  {
   "cell_type": "markdown",
   "id": "2f4eef6d",
   "metadata": {},
   "source": [
    "##### features3d_diameter\n",
    "This data frame allows knowing the diameter of the Volume circ, which is the minimum sphere that encapsulates the cell 3d. The diameter of this sphere is then either going to be the largest side of the cell in the lateral axis (the maximum side of the bboxes of each section) or in the axial axis (height of the 3d object).\n",
    "Then, the formula to calculate the volume of an sphere is applied."
   ]
  },
  {
   "cell_type": "code",
   "execution_count": null,
   "id": "5fbe9673",
   "metadata": {},
   "outputs": [],
   "source": [
    "features3d_diameter = pd.merge(features3d_counts, features3d_max_side, on='id_3d')\n",
    "features3d_diameter['diameter'] = 0\n",
    "for i in range(len(features3d_diameter)):\n",
    "    if features3d_diameter['large_side'][i] >= features3d_diameter['height'][i]:\n",
    "        features3d_diameter['diameter'][i] = features3d_diameter['large_side'][i]\n",
    "    else:\n",
    "        features3d_diameter['diameter'][i] = features3d_diameter['height'][i]\n",
    "diameter = features3d_diameter['diameter']\n",
    "radius = diameter / 2\n",
    "volume = (4/3) * np.pi * (radius ** 3)\n",
    "features3d_diameter['volume_circ'] = volume"
   ]
  },
  {
   "cell_type": "markdown",
   "id": "e19a9ebd",
   "metadata": {},
   "source": [
    "##### features3d_volume\n",
    "This calculates the total volume of the cell, which is gonna be the sum of all section volumes, which are calculated by their area and the height (200nm)."
   ]
  },
  {
   "cell_type": "code",
   "execution_count": null,
   "id": "2e42fdea",
   "metadata": {},
   "outputs": [],
   "source": [
    "features3d_volume = features3d[['cell_area', 'id_3d']]\n",
    "features3d_volume['volume']= features3d['cell_area'] * 20\n",
    "features3d_volume = features3d_volume.groupby('id_3d').sum().reset_index()\n",
    "features3d_volume = features3d_volume[['id_3d', 'volume']]"
   ]
  },
  {
   "cell_type": "code",
   "execution_count": null,
   "id": "9f615e40",
   "metadata": {},
   "outputs": [],
   "source": [
    "features3d_sphere = pd.merge(features3d_diameter, features3d_volume, on = 'id_3d')\n",
    "features3d_sphere['sphericity'] = (features3d_sphere['volume']/features3d_sphere['volume_circ'])**(1./3.)\n",
    "features3d_sphere"
   ]
  },
  {
   "cell_type": "markdown",
   "id": "b6a73ad6",
   "metadata": {},
   "source": [
    "##### features3d_coord\n",
    "Calculates the min and max values of the total cell. This is used later on to plot the cell in napari."
   ]
  },
  {
   "cell_type": "code",
   "execution_count": null,
   "id": "ac7f617c",
   "metadata": {},
   "outputs": [],
   "source": [
    "features3d_min = features3d.groupby('id_3d').min().reset_index()\n",
    "features3d_min = features3d_min[['id_3d', 'x1', 'y1']]\n",
    "features3d_max = features3d.groupby('id_3d').max().reset_index()\n",
    "features3d_max = features3d_max[['id_3d', 'x2', 'y2']]\n",
    "features3d_coord = pd.merge(features3d_min, features3d_max, on= 'id_3d')\n",
    "features3d_coord"
   ]
  },
  {
   "cell_type": "markdown",
   "id": "75020de7",
   "metadata": {},
   "source": [
    "##### features3d_total\n",
    "We merge the different data frames."
   ]
  },
  {
   "cell_type": "code",
   "execution_count": null,
   "id": "87c06aa0",
   "metadata": {},
   "outputs": [],
   "source": [
    "features3d_merged = pd.merge(features3d_sphere, features3d_grouped, on='id_3d')\n",
    "features3d_total = pd.merge(features3d_merged, features3d_coord, on='id_3d')\n",
    "features3d_total = features3d_total.rename(columns = {'id_3d':'cell_3d'})\n",
    "features3d_total.to_excel('features3d_total_v2.xlsx')"
   ]
  },
  {
   "cell_type": "markdown",
   "id": "4967a38a",
   "metadata": {},
   "source": [
    "## 4.2 Mitochondria features\n",
    "Same calculations in different data frames and then their combination is used for both the mitochondria and the nuclues."
   ]
  },
  {
   "cell_type": "code",
   "execution_count": null,
   "id": "1cf4c7a6",
   "metadata": {},
   "outputs": [],
   "source": [
    "features_mito_30 = pd.read_excel(r'C:\\Users\\Gast-User\\Desktop\\MGFeatures-main\\features_mito_30_3d_v1.xlsx', index_col=0)\n",
    "features_mito_60 = pd.read_excel(r'C:\\Users\\Gast-User\\Desktop\\MGFeatures-main\\features_mito_60_3d_v1.xlsx', index_col=0)\n",
    "features_mito_90 = pd.read_excel(r'C:\\Users\\Gast-User\\Desktop\\MGFeatures-main\\features_mito_90_3d_v1.xlsx', index_col=0)\n",
    "features_mito_120 = pd.read_excel(r'C:\\Users\\Gast-User\\Desktop\\MGFeatures-main\\features_mito_120_3d_v1.xlsx', index_col=0)\n",
    "features_mito_155 = pd.read_excel(r'C:\\Users\\Gast-User\\Desktop\\MGFeatures-main\\features_mito_155_3d_v1.xlsx', index_col=0)"
   ]
  },
  {
   "cell_type": "code",
   "execution_count": null,
   "id": "7badaecd",
   "metadata": {},
   "outputs": [],
   "source": [
    "features_mito_60_max = features_mito_60.copy()\n",
    "features_mito_60_max['mito_3d'] = features_mito_60_max['mito_3d'] + features_mito_30['mito_3d'].max()\n",
    "features_mito_90_max = features_mito_90.copy()\n",
    "features_mito_90_max['mito_3d'] = features_mito_90_max['mito_3d'] + features_mito_60_max['mito_3d'].max()\n",
    "features_mito_120_max = features_mito_120.copy()\n",
    "features_mito_120_max['mito_3d'] = features_mito_120_max['mito_3d'] + features_mito_90_max['mito_3d'].max()\n",
    "features_mito_155_max = features_mito_155.copy()\n",
    "features_mito_155_max['mito_3d'] = features_mito_155_max['mito_3d'] + features_mito_120_max['mito_3d'].max()"
   ]
  },
  {
   "cell_type": "code",
   "execution_count": null,
   "id": "cc92f2b2",
   "metadata": {},
   "outputs": [],
   "source": [
    "features_mito = pd.DataFrame()\n",
    "features_mito = features_mito.append(features_mito_30)\n",
    "features_mito = features_mito.append(features_mito_60_max)\n",
    "features_mito = features_mito.append(features_mito_90_max)\n",
    "features_mito = features_mito.append(features_mito_120_max)\n",
    "features_mito = features_mito.append(features_mito_155_max)\n",
    "features_mito"
   ]
  },
  {
   "cell_type": "code",
   "execution_count": null,
   "id": "72ee4ce6",
   "metadata": {},
   "outputs": [],
   "source": [
    "features_mito.reset_index(drop=True, inplace=True)"
   ]
  },
  {
   "cell_type": "markdown",
   "id": "76a4b5c0",
   "metadata": {},
   "source": [
    "We calculate which cell 3d label belongs to each mito 3d label based on their coordinates."
   ]
  },
  {
   "cell_type": "code",
   "execution_count": null,
   "id": "6bc95dd0",
   "metadata": {},
   "outputs": [],
   "source": [
    "features_mito['cell_3d'] = 0\n",
    "pbar = ProgressBar()\n",
    "for i in pbar(range(len(features_mito))):\n",
    "    for j in range(len(features_3d)):\n",
    "        if (features_mito['min_row'][i] > features_3d['x1'][j]) and (features_mito['min_col'][i] > features_3d['y1'][j]) and (features_mito['max_row'][i] < features_3d['x2'][j]) and (features_mito['max_col'][i] < features_3d['y2'][j]):\n",
    "            features_mito['cell_3d'][i] = features_3d['id_3d'][j]"
   ]
  },
  {
   "cell_type": "code",
   "execution_count": null,
   "id": "b3301ab2",
   "metadata": {},
   "outputs": [],
   "source": [
    "features_mito.to_excel('features_mito_all_v3.xlsx')"
   ]
  },
  {
   "cell_type": "markdown",
   "id": "a3710efb",
   "metadata": {},
   "source": [
    "##### features_mito_sum_volume\n",
    "'mito_sum_volume' represents the total volume that all mitochondria occupy in a cell. \n",
    "##### features_mito_area\n",
    "Calculates per mitochondria the average area.\n",
    "##### features_mito_volume\n",
    "Calculates the volume per mitochondria"
   ]
  },
  {
   "cell_type": "code",
   "execution_count": null,
   "id": "e757a6a8",
   "metadata": {},
   "outputs": [],
   "source": [
    "features_mito_sum_volume = features_mito.groupby('cell_3d').sum().reset_index()\n",
    "features_mito_sum_volume = features_mito_sum_volume[['cell_3d','volumen']]\n",
    "features_mito_sum_volume.rename(columns = {'volumen':'mito_sum_volume'}, inplace = True)"
   ]
  },
  {
   "cell_type": "code",
   "execution_count": null,
   "id": "15605dc9",
   "metadata": {},
   "outputs": [],
   "source": [
    "features_mito_area = features_mito.groupby('mito_3d').mean().reset_index()\n",
    "features_mito_area = features_mito_area[['mito_area', 'mito_3d']]"
   ]
  },
  {
   "cell_type": "code",
   "execution_count": null,
   "id": "deb65764",
   "metadata": {},
   "outputs": [],
   "source": [
    "features_mito_volume = features_mito.groupby('mito_3d').sum().reset_index()\n",
    "features_mito_volume.reset_index(drop=True)\n",
    "features_mito_volume = features_mito_volume[['volumen', 'mito_3d']]"
   ]
  },
  {
   "cell_type": "markdown",
   "id": "4a174f6e",
   "metadata": {},
   "source": [
    "##### Mitochondria sphericity"
   ]
  },
  {
   "cell_type": "code",
   "execution_count": null,
   "id": "f26de3d5",
   "metadata": {},
   "outputs": [],
   "source": [
    "features_mito_counts = features_mito.groupby('mito_3d', dropna=False).size().reset_index(name='counts')\n",
    "features_mito_counts['height'] = 0\n",
    "features_mito_counts['height'] = features_mito_counts['counts']*20"
   ]
  },
  {
   "cell_type": "code",
   "execution_count": null,
   "id": "543f0d43",
   "metadata": {},
   "outputs": [],
   "source": [
    "features_mito_large = pd.DataFrame()\n",
    "features_mito_large = features_mito.groupby('mito_3d').max().reset_index()\n",
    "features_mito_large = features_mito_large[['mito_large', 'mito_3d']]"
   ]
  },
  {
   "cell_type": "code",
   "execution_count": null,
   "id": "bcaf2e24",
   "metadata": {},
   "outputs": [],
   "source": [
    "features_mito_diameter = pd.merge(features_mito_counts, features_mito_large, on='mito_3d')\n",
    "features_mito_diameter['diameter'] = 0\n",
    "for i in range(len(features_mito_diameter)):\n",
    "    if features_mito_diameter['mito_large'][i] >= features_mito_diameter['height'][i]:\n",
    "        features_mito_diameter['diameter'][i] = features_mito_diameter['mito_large'][i]\n",
    "    else:\n",
    "        features_mito_diameter['diameter'][i] = features_mito_diameter['height'][i]"
   ]
  },
  {
   "cell_type": "code",
   "execution_count": null,
   "id": "9eb3e6a6",
   "metadata": {},
   "outputs": [],
   "source": [
    "diameter = features_mito_diameter['diameter']\n",
    "radius = diameter / 2\n",
    "volume = (4/3) * np.pi * (radius ** 3)\n",
    "features_mito_diameter['volume_circ'] = volume"
   ]
  },
  {
   "cell_type": "code",
   "execution_count": null,
   "id": "8e52cf56",
   "metadata": {},
   "outputs": [],
   "source": [
    "features_mito_sphericity = pd.merge(features_mito_diameter, features_mito_volume, on= 'mito_3d')\n",
    "features_mito_sphericity['sphericity'] = (features_mito_sphericity['volumen']/features_mito_sphericity['volume_circ'])**(1./3.)"
   ]
  },
  {
   "cell_type": "markdown",
   "id": "f3b70646",
   "metadata": {},
   "source": [
    "#### Merging\n",
    "All previous features are calculated per mitochondria, so now the mean value of sphericity, mito_area and counts of all mitochondria in one cell is calculated. \n",
    "Also, the sum_mito_volume that already includes the total mitochondria volume in one cell is added."
   ]
  },
  {
   "cell_type": "code",
   "execution_count": null,
   "id": "44f7fa34",
   "metadata": {},
   "outputs": [],
   "source": [
    "features_mito_3d = features_mito[['mito_3d', 'cell_3d']]\n",
    "features_mito_final = pd.DataFrame()\n",
    "features_mito_final = pd.merge(features_mito_sphericity, features_mito_3d, on='mito_3d')\n",
    "features_mito_final = features_mito_final_mean.groupby('cell_3d').mean().reset_index()\n",
    "features_mito_final = features_mito_final[['cell_3d', 'counts', 'mito_area', 'sphericity']]\n",
    "features_mito_final_volume = pd.merge(features_mito_final_mean, features_mito_sum_volume, on='cell_3d')\n",
    "features_mito_final_volume = features_mito_final_volume.rename(columns = {'counts': 'mito_number', 'sphericity': 'mito_sphericity'})\n",
    "features_mito_final_volume.to_excel('features_mito_final_volume_v2.xlsx')"
   ]
  },
  {
   "cell_type": "markdown",
   "id": "6195ea75",
   "metadata": {},
   "source": [
    "## 4.3 Nuclear features\n",
    "### NOTE\n",
    "In the old files, features_nuc_20, features_nuc_30 and features_nuc_40, are missing the nuc_large values, so that has to be calculated if using the raw files instead of the final file that contains all sections"
   ]
  },
  {
   "cell_type": "code",
   "execution_count": null,
   "id": "786d8ca8",
   "metadata": {},
   "outputs": [],
   "source": [
    "features_nuc_10 = pd.read_excel('features_nuc_10_3d_v1.xlsx', index_col=0)\n",
    "features_nuc_20 = pd.read_excel('features_nuc_20_3d_v1.xlsx', index_col=0)\n",
    "features_nuc_30 = pd.read_excel('features_nuc_30_3d_v1.xlsx', index_col=0)\n",
    "features_nuc_40 = pd.read_excel('features_nuc_40_3d_v1.xlsx', index_col=0)\n",
    "features_nuc_50 = pd.read_excel('features_nuc_50_3d_v1.xlsx', index_col=0)\n",
    "features_nuc_60 = pd.read_excel('features_nuc_60_3d_v1.xlsx', index_col=0)\n",
    "features_nuc_70 = pd.read_excel('features_nuc_70_3d_v1.xlsx', index_col=0)\n",
    "features_nuc_80 = pd.read_excel('features_nuc_80_3d_v1.xlsx', index_col=0)\n",
    "features_nuc_90 = pd.read_excel('features_nuc_90_3d_v1.xlsx', index_col=0)\n",
    "features_nuc_100 = pd.read_excel('features_nuc_100_3d_v1.xlsx', index_col=0)\n",
    "features_nuc_110 = pd.read_excel('features_nuc_110_3d_v1.xlsx', index_col=0)\n",
    "features_nuc_120 = pd.read_excel('features_nuc_120_3d_v1.xlsx', index_col=0)\n",
    "features_nuc_130 = pd.read_excel('features_nuc_130_3d_v1.xlsx', index_col=0)\n",
    "features_nuc_140 = pd.read_excel('features_nuc_140_3d_v1.xlsx', index_col=0)\n",
    "features_nuc_155 = pd.read_excel('features_nuc_155_3d_v1.xlsx', index_col=0)"
   ]
  },
  {
   "cell_type": "code",
   "execution_count": null,
   "id": "9a8ba179",
   "metadata": {},
   "outputs": [],
   "source": [
    "features_nuc_20_max = features_nuc_20.copy()\n",
    "features_nuc_20_max['nuc_3d'] = features_nuc_20_max['nuc_3d'] + features_nuc_10['nuc_3d'].max()\n",
    "features_nuc_30_max = features_nuc_30.copy()\n",
    "features_nuc_30_max['nuc_3d'] = features_nuc_30_max['nuc_3d'] + features_nuc_20['nuc_3d'].max()\n",
    "features_nuc_40_max = features_nuc_40.copy()\n",
    "features_nuc_40_max['nuc_3d'] = features_nuc_40_max['nuc_3d'] + features_nuc_30['nuc_3d'].max()\n",
    "features_nuc_50_max = features_nuc_50.copy()\n",
    "features_nuc_50_max['nuc_3d'] = features_nuc_50_max['nuc_3d'] + features_nuc_40['nuc_3d'].max()\n",
    "features_nuc_60_max = features_nuc_60.copy()\n",
    "features_nuc_60_max['nuc_3d'] = features_nuc_60_max['nuc_3d'] + features_nuc_50['nuc_3d'].max()\n",
    "features_nuc_70_max = features_nuc_70.copy()\n",
    "features_nuc_70_max['nuc_3d'] = features_nuc_70_max['nuc_3d'] + features_nuc_60['nuc_3d'].max()\n",
    "features_nuc_80_max = features_nuc_80.copy()\n",
    "features_nuc_80_max['nuc_3d'] = features_nuc_80_max['nuc_3d'] + features_nuc_70['nuc_3d'].max()\n",
    "features_nuc_90_max = features_nuc_90.copy()\n",
    "features_nuc_90_max['nuc_3d'] = features_nuc_90_max['nuc_3d'] + features_nuc_80['nuc_3d'].max()\n",
    "features_nuc_100_max = features_nuc_100.copy()\n",
    "features_nuc_100_max['nuc_3d'] = features_nuc_100_max['nuc_3d'] + features_nuc_90['nuc_3d'].max()\n",
    "features_nuc_110_max = features_nuc_110.copy()\n",
    "features_nuc_110_max['nuc_3d'] = features_nuc_110_max['nuc_3d'] + features_nuc_100['nuc_3d'].max()\n",
    "features_nuc_120_max = features_nuc_120.copy()\n",
    "features_nuc_120_max['nuc_3d'] = features_nuc_120_max['nuc_3d'] + features_nuc_110['nuc_3d'].max()\n",
    "features_nuc_130_max = features_nuc_130.copy()\n",
    "features_nuc_130_max['nuc_3d'] = features_nuc_130_max['nuc_3d'] + features_nuc_120['nuc_3d'].max()\n",
    "features_nuc_140_max = features_nuc_140.copy()\n",
    "features_nuc_140_max['nuc_3d'] = features_nuc_140_max['nuc_3d'] + features_nuc_130['nuc_3d'].max()\n",
    "features_nuc_155_max = features_nuc_155.copy()\n",
    "features_nuc_155_max['nuc_3d'] = features_nuc_155_max['nuc_3d'] + features_nuc_140['nuc_3d'].max()"
   ]
  },
  {
   "cell_type": "code",
   "execution_count": null,
   "id": "a100e2bd",
   "metadata": {},
   "outputs": [],
   "source": [
    "features_nuc = pd.DataFrame()\n",
    "features_nuc = features_nuc.append(features_nuc_10)\n",
    "features_nuc = features_nuc.append(features_nuc_20_max)\n",
    "features_nuc = features_nuc.append(features_nuc_30_max)\n",
    "features_nuc = features_nuc.append(features_nuc_40_max)\n",
    "features_nuc = features_nuc.append(features_nuc_50_max)\n",
    "features_nuc = features_nuc.append(features_nuc_60_max)\n",
    "features_nuc = features_nuc.append(features_nuc_70_max)\n",
    "features_nuc = features_nuc.append(features_nuc_80_max)\n",
    "features_nuc = features_nuc.append(features_nuc_90_max)\n",
    "features_nuc = features_nuc.append(features_nuc_100_max)\n",
    "features_nuc = features_nuc.append(features_nuc_110_max)\n",
    "features_nuc = features_nuc.append(features_nuc_120_max)\n",
    "features_nuc = features_nuc.append(features_nuc_130_max)\n",
    "features_nuc = features_nuc.append(features_nuc_140_max)\n",
    "features_nuc = features_nuc.append(features_nuc_155_max)"
   ]
  },
  {
   "cell_type": "code",
   "execution_count": null,
   "id": "e2bba3cc",
   "metadata": {},
   "outputs": [],
   "source": [
    "features_nuc['cell_3d'] = 0\n",
    "pbar = ProgressBar()\n",
    "for i in pbar(range(len(features_nuc))):\n",
    "    for j in range(len(features_3d)):\n",
    "        if (features_nuc['min_row'][i] > features_3d['x1'][j]) and (features_nuc['min_col'][i] > features_3d['y1'][j]) and (features_nuc['max_row'][i] < features_3d['x2'][j]) and (features_nuc['max_col'][i] < features_3d['y2'][j]):\n",
    "            features_nuc['cell_3d'][i] = features_3d['id_3d'][j]"
   ]
  },
  {
   "cell_type": "code",
   "execution_count": null,
   "id": "6f9a3d57",
   "metadata": {},
   "outputs": [],
   "source": [
    "features_nuc.to_excel('features_nuc_all_v3.xlsx')"
   ]
  },
  {
   "cell_type": "code",
   "execution_count": null,
   "id": "4a922aca",
   "metadata": {},
   "outputs": [],
   "source": [
    "features_nuc_sum_volume = features_nuc.groupby('cell_3d').sum().reset_index()\n",
    "features_nuc_sum_volume = features_nuc_sum_volume[['cell_3d','volumen']]\n",
    "features_nuc_sum_volume.rename(columns = {'volumen':'nuc_sum_volume'}, inplace=True)"
   ]
  },
  {
   "cell_type": "code",
   "execution_count": null,
   "id": "d983d367",
   "metadata": {},
   "outputs": [],
   "source": [
    "features_nuc_area = features_nuc.groupby('nuc_3d').mean().reset_index()\n",
    "features_nuc_area = features_nuc_area[['nuc_area', 'nuc_3d']]"
   ]
  },
  {
   "cell_type": "code",
   "execution_count": null,
   "id": "b818b853",
   "metadata": {},
   "outputs": [],
   "source": [
    "features_nuc_volume = features_nuc.groupby('nuc_3d').sum().reset_index()\n",
    "features_nuc_volume.reset_index(drop=True)\n",
    "features_nuc_volume = features_nuc_volume[['volumen', 'nuc_3d']]"
   ]
  },
  {
   "cell_type": "code",
   "execution_count": 23,
   "id": "6d0bab70",
   "metadata": {},
   "outputs": [
    {
     "ename": "NameError",
     "evalue": "name 'features_nuc' is not defined",
     "output_type": "error",
     "traceback": [
      "\u001b[1;31m---------------------------------------------------------------------------\u001b[0m",
      "\u001b[1;31mNameError\u001b[0m                                 Traceback (most recent call last)",
      "Cell \u001b[1;32mIn[23], line 1\u001b[0m\n\u001b[1;32m----> 1\u001b[0m features_nuc_counts \u001b[38;5;241m=\u001b[39m \u001b[43mfeatures_nuc\u001b[49m\u001b[38;5;241m.\u001b[39mgroupby(\u001b[38;5;124m'\u001b[39m\u001b[38;5;124mnuc_3d\u001b[39m\u001b[38;5;124m'\u001b[39m, dropna\u001b[38;5;241m=\u001b[39m\u001b[38;5;28;01mFalse\u001b[39;00m)\u001b[38;5;241m.\u001b[39msize()\u001b[38;5;241m.\u001b[39mreset_index(name\u001b[38;5;241m=\u001b[39m\u001b[38;5;124m'\u001b[39m\u001b[38;5;124mcounts\u001b[39m\u001b[38;5;124m'\u001b[39m)\n\u001b[0;32m      2\u001b[0m features_nuc_counts[\u001b[38;5;124m'\u001b[39m\u001b[38;5;124mheight\u001b[39m\u001b[38;5;124m'\u001b[39m] \u001b[38;5;241m=\u001b[39m \u001b[38;5;241m0\u001b[39m\n\u001b[0;32m      3\u001b[0m features_nuc_counts[\u001b[38;5;124m'\u001b[39m\u001b[38;5;124mheight\u001b[39m\u001b[38;5;124m'\u001b[39m] \u001b[38;5;241m=\u001b[39m features_nuc_counts[\u001b[38;5;124m'\u001b[39m\u001b[38;5;124mcounts\u001b[39m\u001b[38;5;124m'\u001b[39m]\u001b[38;5;241m*\u001b[39m\u001b[38;5;241m100\u001b[39m\n",
      "\u001b[1;31mNameError\u001b[0m: name 'features_nuc' is not defined"
     ]
    }
   ],
   "source": [
    "features_nuc_counts = features_nuc.groupby('nuc_3d', dropna=False).size().reset_index(name='counts')\n",
    "features_nuc_counts['height'] = 0\n",
    "features_nuc_counts['height'] = features_nuc_counts['counts']*100"
   ]
  },
  {
   "cell_type": "code",
   "execution_count": null,
   "id": "f2cb7be0",
   "metadata": {},
   "outputs": [],
   "source": [
    "features_nuc_large = pd.DataFrame()\n",
    "features_nuc_large = features_nuc.groupby('nuc_3d').max().reset_index()\n",
    "features_nuc_large = features_nuc_large[['nuc_large', 'nuc_3d']]\n",
    "\n",
    "features_nuc_diameter = pd.merge(features_nuc_counts, features_nuc_large, on='nuc_3d')\n",
    "features_nuc_diameter['diameter'] = 0\n",
    "for i in range(len(features_nuc_diameter)):\n",
    "    if features_nuc_diameter['nuc_large'][i] >= features_nuc_diameter['height'][i]:\n",
    "        features_nuc_diameter['diameter'][i] = features_nuc_diameter['nuc_large'][i]\n",
    "    else:\n",
    "        features_nuc_diameter['diameter'][i] = features_nuc_diameter['height'][i]\n",
    "diameter = features_nuc_diameter['diameter']\n",
    "radius = diameter / 2\n",
    "volume = (4/3) * np.pi * (radius ** 3)\n",
    "features_nuc_diameter['volume_circ'] = volume\n",
    "features_nuc_diameter"
   ]
  },
  {
   "cell_type": "code",
   "execution_count": null,
   "id": "e571c043",
   "metadata": {},
   "outputs": [],
   "source": [
    "features_nuc_sphericity = pd.merge(features_nuc_diameter, features_nuc_volume, on= 'nuc_3d')\n",
    "features_nuc_sphericity['sphericity'] = (features_nuc_sphericity['volumen']/features_nuc_sphericity['volume_circ'])**(1./3.)\n",
    "features_nuc_sphericity = pd.merge(features_nuc_sphericity, features_nuc_area, on='nuc_3d')"
   ]
  },
  {
   "cell_type": "code",
   "execution_count": null,
   "id": "122dd1c8",
   "metadata": {},
   "outputs": [],
   "source": [
    "features_nuc_3d = features_nuc[['nuc_3d', 'cell_3d']]\n",
    "features_nuc_final = pd.DataFrame()\n",
    "features_nuc_final = pd.merge(features_nuc_sphericity, features_nuc_3d, on='nuc_3d')\n",
    "features_nuc_final= features_nuc_final.groupby('cell_3d').mean().reset_index()"
   ]
  },
  {
   "cell_type": "code",
   "execution_count": null,
   "id": "8618ab95",
   "metadata": {},
   "outputs": [],
   "source": [
    "features_nuc_final_volume = pd.merge(features_nuc_final, features_nuc_sum_volume, on='cell_3d')\n",
    "features_nuc_final_volume = features_nuc_final_volume.rename(columns = {'counts':'nuc_number', 'sphericity':'nuc_sphericity'})\n",
    "features_nuc_final_volume = features_nuc_final_volume[['cell_3d', 'nuc_number', 'nuc_sphericity', 'nuc_sum_volume', 'nuc_area']]\n",
    "features_nuc_final_volume.to_excel('features_nuc_final_volume_v3.xlsx')"
   ]
  },
  {
   "cell_type": "markdown",
   "id": "061a48a7",
   "metadata": {},
   "source": [
    "## 4.4 Combine cell, mito and nuc features in 3d"
   ]
  },
  {
   "cell_type": "code",
   "execution_count": null,
   "id": "0b36d733",
   "metadata": {},
   "outputs": [],
   "source": [
    "features3d_total = pd.read_excel('features3d_total_v2.xlsx', index_col = 0)\n",
    "features_mito_total = pd.read_excel('features_mito_final_volume_v2.xlsx', index_col = 0)\n",
    "features_nuc_total = pd.read_excel('features_nuc_final_volume_v3.xlsx', index_col = 0)"
   ]
  },
  {
   "cell_type": "code",
   "execution_count": null,
   "id": "ebd37e37",
   "metadata": {},
   "outputs": [],
   "source": [
    "features3d_mito_total = pd.merge(features3d_total, features_mito_final_volume, on = 'cell_3d')\n",
    "features3d_mito_nuc = pd.merge(features3d_mito_total, features_nuc_final_volume, on = 'cell_3d')\n",
    "features3d_mito_nuc.to_excel('features3d_mito_nuc_v4.xlsx')"
   ]
  },
  {
   "cell_type": "markdown",
   "id": "e6c58c68",
   "metadata": {},
   "source": [
    "#### Selection\n",
    "We select only cells that have at least a count of 5, meaning they have at least 5 sections; and less than 50, as cell_3d 0 has a huge number of cells."
   ]
  },
  {
   "cell_type": "code",
   "execution_count": null,
   "id": "8ee13a45",
   "metadata": {},
   "outputs": [],
   "source": [
    "features3d_mito_nuc_sel = features3d_mito_nuc[(features3d_mito_nuc['counts'] >= 5) & (features3d_mito_nuc['counts'] < 50)]"
   ]
  },
  {
   "cell_type": "code",
   "execution_count": null,
   "id": "b5ac6295",
   "metadata": {},
   "outputs": [],
   "source": [
    "features3d_mito_nuc_sel.to_excel('features3d_mito_nuc_sel_v4.xlsx')"
   ]
  },
  {
   "cell_type": "markdown",
   "id": "4efd9daa",
   "metadata": {},
   "source": [
    "# 5. PCA analysis and kmeans clustering of 3D features\n",
    "Explanation of the code and the steps are equal to those in 2d_tcell_analysis.ipynb"
   ]
  },
  {
   "cell_type": "code",
   "execution_count": null,
   "id": "4e0f3369",
   "metadata": {},
   "outputs": [],
   "source": [
    "import seaborn as sns\n",
    "from sklearn.preprocessing import StandardScaler\n",
    "from sklearn.cluster import KMeans\n",
    "from sklearn.decomposition import PCA"
   ]
  },
  {
   "cell_type": "code",
   "execution_count": null,
   "id": "17aded53",
   "metadata": {},
   "outputs": [],
   "source": [
    "featuresraw = pd.read_excel('features3d_mito_nuc_sel_v4.xlsx',  index_col=0)"
   ]
  },
  {
   "cell_type": "markdown",
   "id": "640d3847",
   "metadata": {},
   "source": [
    "#### ratios_3d\n",
    "Additional features can be added to this data frame, such as the ratio between the sum_mito_volume/volume and the sum_nuc_volume/volume"
   ]
  },
  {
   "cell_type": "code",
   "execution_count": null,
   "id": "74e389b7",
   "metadata": {},
   "outputs": [],
   "source": [
    "ratios_3d = pd.DataFrame()\n",
    "ratios_3d['sphericity'] = featuresraw['sphericity']\n",
    "ratios_3d['mito_sphericity'] = featuresraw['mito_sphericity']\n",
    "ratios_3d['nuc_sphericity'] = featuresraw['nuc_sphericity']\n",
    "ratios_3d['mito_cytoplasm_R'] = featuresraw['mito_area']/featuresraw['cytoplasm_area']\n",
    "ratios_3d['nuc_cell_R'] = featuresraw['nuc_area']/featuresraw['cell_area']\n",
    "ratios_3d['heterochromatin_nucleus_R'] = featuresraw['heterochromatin_area']/featuresraw['nucleus_area']\n",
    "ratios_3d['gold_cytoplasm_R'] = featuresraw['gold_area']/featuresraw['cytoplasm_area']\n",
    "ratios_3d['lysosome_cytoplasm_R'] = featuresraw['lysosomal_area']/featuresraw['cytoplasm_area']\n",
    "ratios_3d['ER_lengths_R'] = featuresraw['ER_lengths']/featuresraw['cytoplasm_area']"
   ]
  },
  {
   "cell_type": "code",
   "execution_count": null,
   "id": "7ddb5e42",
   "metadata": {},
   "outputs": [],
   "source": [
    "ratios_3d.fillna(0, inplace=True)"
   ]
  },
  {
   "cell_type": "code",
   "execution_count": null,
   "id": "ad2efd9e",
   "metadata": {},
   "outputs": [],
   "source": [
    "scaler = StandardScaler() #Standardize features by removing the mean and scaling to unit variance.\n",
    "std = scaler.fit_transform(ratios_3d) #returns a transformed array\n",
    "pca = PCA()\n",
    "pca.fit(std)"
   ]
  },
  {
   "cell_type": "code",
   "execution_count": null,
   "id": "77f6d8b9",
   "metadata": {},
   "outputs": [],
   "source": [
    "pca.explained_variance_ratio_.cumsum()"
   ]
  },
  {
   "cell_type": "code",
   "execution_count": null,
   "id": "fd2fea9a",
   "metadata": {},
   "outputs": [],
   "source": [
    "plt.figure(figsize=(4, 3))\n",
    "plt.plot(range(0,9), pca.explained_variance_ratio_.cumsum()) #use number of atributes for the range of the plot\n",
    "plt.xlabel('Num component')\n",
    "plt.ylabel('Cumul explained var')\n",
    "plt.tight_layout()\n",
    "plt.show()\n",
    "#plt.savefig('acumulative_pca_mean.png')"
   ]
  },
  {
   "cell_type": "code",
   "execution_count": null,
   "id": "774b6fae",
   "metadata": {},
   "outputs": [],
   "source": [
    "pca = PCA(n_components=3)\n",
    "pca.fit(std)\n",
    "scores_pca = pca.transform(std)"
   ]
  },
  {
   "cell_type": "code",
   "execution_count": null,
   "id": "a9d0c968",
   "metadata": {},
   "outputs": [],
   "source": [
    "wcss = []\n",
    "for i in range(1,22):\n",
    "    kmeans_pca = KMeans(n_clusters=i, init='k-means++', random_state=42) \n",
    "    kmeans_pca.fit(scores_pca)\n",
    "    wcss.append(kmeans_pca.inertia_)"
   ]
  },
  {
   "cell_type": "code",
   "execution_count": null,
   "id": "e2f42372",
   "metadata": {},
   "outputs": [],
   "source": [
    "plt.figure(figsize = (5,4))\n",
    "plt.plot(range(1, 22), wcss, marker='o')\n",
    "plt.xlabel('num clusters')\n",
    "plt.ylabel('WCSS')\n",
    "plt.tight_layout()\n",
    "plt.show()\n",
    "#plt.savefig('wcss_pca3.png')"
   ]
  },
  {
   "cell_type": "code",
   "execution_count": null,
   "id": "a07ce3ae",
   "metadata": {},
   "outputs": [],
   "source": [
    "kmeans_pca = KMeans(n_clusters=4, init='k-means++', random_state=42)\n",
    "kmeans_pca.fit(scores_pca)"
   ]
  },
  {
   "cell_type": "code",
   "execution_count": null,
   "id": "b448ec0e",
   "metadata": {},
   "outputs": [],
   "source": [
    "ratios_pca = pd.concat([ratios_3d.reset_index(drop = True), pd.DataFrame(scores_pca)], axis=1)\n",
    "ratios_pca.columns.values[-3:] = ['Component1', 'Component2', 'Component3']\n",
    "ratios_pca['pca_kmeans_labels'] = kmeans_pca.labels_"
   ]
  },
  {
   "cell_type": "code",
   "execution_count": null,
   "id": "b25b62d7",
   "metadata": {},
   "outputs": [],
   "source": [
    "ratios_plot = ratios_pca[['sphericity',\n",
    "                         'mito_sphericity',\n",
    "                        'nuc_sphericity',\n",
    "                          'mito_cytoplasm_R',\n",
    "                          'nuc_cell_R',\n",
    "                            #'mito_volume_R',\n",
    "                          #'nuc_volume_R',\n",
    "                          'heterochromatin_nucleus_R',\n",
    "                          'gold_cytoplasm_R',\n",
    "                          'lysosome_cytoplasm_R',\n",
    "                          'ER_lengths_R',\n",
    "                         'pca_kmeans_labels'\n",
    "                            ]]\n",
    "ratios_plot = ratios_plot.fillna(0, inplace = True)"
   ]
  },
  {
   "cell_type": "code",
   "execution_count": null,
   "id": "5deebbba",
   "metadata": {},
   "outputs": [],
   "source": [
    "cmap = {0:'#3a60c2',\n",
    "       1: '#bf4dab', #purple\n",
    "       2:'#f9526d', \n",
    "       3:'#f38928',\n",
    "       4:'#b8c20e'\n",
    "       }\n",
    "\n",
    "clabels = [cmap.get(k) for k in ratios_plot['pca_kmeans_labels']]"
   ]
  },
  {
   "cell_type": "code",
   "execution_count": null,
   "id": "fa8c6669",
   "metadata": {},
   "outputs": [],
   "source": [
    "x_axis = ratios_pca['Component2']\n",
    "y_axis = ratios_pca['Component1']\n",
    "plt.figure(figsize=(10,8))\n",
    "sns.scatterplot(data=ratios_pca, x='Component2', y='Component1', hue='pca_kmeans_labels', palette=cmap)\n",
    "sns.scatterplot(s = 100)\n",
    "\n",
    "plt.title('clusters by pca')\n",
    "plt.savefig('final_pca3_cluster4.png')"
   ]
  },
  {
   "cell_type": "code",
   "execution_count": null,
   "id": "e7766418",
   "metadata": {},
   "outputs": [],
   "source": [
    "sns.set(rc={'figure.figsize':(100,120)})\n",
    "g = sns.PairGrid(ratios_plot,\n",
    "                 hue='pca_kmeans_labels',\n",
    "                 palette=cmap\n",
    "                )\n",
    "\n",
    "g.map_offdiag(sns.scatterplot, alpha=0.8)\n",
    "g.map_diag(sns.histplot)\n",
    "g.add_legend()\n",
    "plt.savefig('features3d_mean_5pca_5clusters.png')"
   ]
  },
  {
   "cell_type": "markdown",
   "id": "3050108f",
   "metadata": {},
   "source": [
    "#### violin plot\n",
    "All features used in the PCA analysis are plotted individually in violin plots divided by the cluster number, which allows comparisons of the different clusters "
   ]
  },
  {
   "cell_type": "code",
   "execution_count": null,
   "id": "949a767b",
   "metadata": {},
   "outputs": [],
   "source": [
    "plt.clf()\n",
    "features = ['sphericity', 'mito_sphericity', 'nuc_sphericity',  'mito_cytoplasm_R','nuc_cell_R', 'heterochromatin_nucleus_R', 'gold_cytoplasm_R', 'lysosome_cytoplasm_R', 'ER_lengths_R']\n",
    "\n",
    "# Create a 3x3 grid of subplots\n",
    "fig, axes = plt.subplots(3, 3, figsize=(12, 10))\n",
    "fig.suptitle('Features in 3D per cluster')\n",
    "\n",
    "# Loop through each feature and create a violinplot in the corresponding subplot\n",
    "for i, feature in enumerate(features):\n",
    "    row, col = i // 3, i % 3\n",
    "    sns.violinplot(data=ratios_plot, x='pca_kmeans_labels', y=feature, ax=axes[row, col], \n",
    "                   palette = cmap, legend = False)\n",
    "    axes[row, col].set_title(feature)\n",
    "axes[0, 0].set_ylim(0, 1.2)\n",
    "axes[0, 1].set_ylim(0, 1.2)\n",
    "axes[0, 2].set_ylim(0, 1.2)\n",
    "axes[1, 0].set_ylim(-0.05, 0.1)\n",
    "axes[1, 1].set_ylim(-0.1, 1.1)\n",
    "axes[1, 2].set_ylim(-0.2, 1.1)\n",
    "axes[2,0].set_ylim(-0.05,0.2)\n",
    "axes[2,1].set_ylim(-0.05, 0.2)\n",
    "axes[2,2].set_ylim(-0.05, 0.2)\n",
    "axes[0, 0].set_title(\"Whole cell spherictiy\")\n",
    "axes[0, 1].set_title(\"Mean mitochondria spherictiy\")\n",
    "axes[0, 2].set_title(\"Mean nuclear spherictiy\")\n",
    "axes[1, 0].set_title(\"Mean mitochondria/whole cytoplasm area\")\n",
    "axes[1, 1].set_title(\"Mean nucleus/whole cell area\")\n",
    "axes[1, 2].set_title(\"Heterochromatin/nucleus area\")\n",
    "axes[2, 0].set_title(\"Gold/cytoplasm area\")\n",
    "axes[2, 1].set_title(\"Lysosome/cytoplasm area\")\n",
    "axes[2, 2].set_title(\"ER length/cytoplasm area\")\n",
    "for j in range(3):\n",
    "    axes[2, j].set_xlabel(\"Cluster\")\n",
    "\n",
    "# Remove x-axis for all other rows except the last one\n",
    "for i in range(2):\n",
    "    for j in range(3):\n",
    "        axes[i, j].xaxis.set_visible(False)\n",
    "# Adjust spacing between subplots\n",
    "plt.tight_layout()\n",
    "\n",
    "# Show the plots\n",
    "\n",
    "plt.savefig('violin_final_pca3_3clusters.png')"
   ]
  },
  {
   "cell_type": "markdown",
   "id": "6733c97a",
   "metadata": {},
   "source": [
    "# 6. Statistical analysis"
   ]
  },
  {
   "cell_type": "markdown",
   "id": "a31e9be9",
   "metadata": {},
   "source": [
    "1. For each feature, we first run a Shapiro-Wilk Test to evaluate normality of the distribution. \n",
    "- If p-value > 0.05 for all clusters, we can consider that data to be normally distributed.\n",
    "2. If normal distributed, we run a Levene test to evaluate equal variance of the data.\n",
    "- If p-value > 0.05, we can assume an equal variance in the data.\n",
    "3. We evaluate if two groups have significantly different mean by:\n",
    "- a. Student t-test: if normally distributed and equal variances.\n",
    "- b.Welch´s t-test: if normally distributed but cannot assume equal variances.\n",
    "- c. Mann-Whitney t-test: if non-normally distirbuted.\n",
    "    \n",
    "Examples of how to run each test are shown below. For each feature, run 1. and 2. and depending on the results run 3a, 3b or 3c."
   ]
  },
  {
   "cell_type": "markdown",
   "id": "b61b02ca",
   "metadata": {},
   "source": [
    "#### Shapiro-Wilk test"
   ]
  },
  {
   "cell_type": "code",
   "execution_count": null,
   "id": "65ad316c",
   "metadata": {},
   "outputs": [],
   "source": [
    "subgroups = {}\n",
    "# Iterate through unique values in the 'pca_kmeans_values' column\n",
    "for value in ratios_plot['pca_kmeans_labels'].unique():\n",
    "    if value in [0,2,3]:\n",
    "        # Create a subgroup based on the unique value\n",
    "        subgroup = ratios_plot[ratios_plot['pca_kmeans_labels'] == value]\n",
    "\n",
    "        # Extract the data_column values for this subgroup\n",
    "        data = subgroup['mito_sphericity']\n",
    "\n",
    "        # Perform the Shapiro-Wilk test for normality\n",
    "        stat, p = stats.shapiro(data)\n",
    "\n",
    "        # Print or store the results\n",
    "        print(f\"Subgroup {value}:\")\n",
    "        print(f\"Shapiro-Wilk test statistic: {stat}, p-value: {p}\")\n",
    "        subgroups[value] = subgroup"
   ]
  },
  {
   "cell_type": "markdown",
   "id": "adfc1a6d",
   "metadata": {},
   "source": [
    "#### Levene test"
   ]
  },
  {
   "cell_type": "code",
   "execution_count": null,
   "id": "ab3d234f",
   "metadata": {},
   "outputs": [],
   "source": [
    "subgroups = {}\n",
    "\n",
    "# Create an empty list to store data from each subgroup\n",
    "data_lists = []\n",
    "\n",
    "# Iterate through unique values in the 'pca_kmeans_labels' column\n",
    "for value in ratios_plot['pca_kmeans_labels'].unique():\n",
    "    if value in [0,2,4]:\n",
    "        # Create a subgroup based on the unique value\n",
    "        subgroup = ratios_plot[ratios_plot['pca_kmeans_labels'] == value]\n",
    "\n",
    "        # Extract the 'sphericity' values for this subgroup\n",
    "        data = subgroup['mito_sphericity']\n",
    "\n",
    "        # Append the data to the list\n",
    "        data_lists.append(data)\n",
    "\n",
    "        # Print or store the results\n",
    "        print(f\"Subgroup {value}:\")\n",
    "        print(f\"Number of observations: {len(data)}\")\n",
    "\n",
    "# Perform Levene's test for homogeneity of variances\n",
    "stat, p = stats.levene(*data_lists)\n",
    "\n",
    "# Print the overall result\n",
    "print(\"\\nOverall Levene's Test Result:\")\n",
    "print(f\"Levene's test statistic: {stat}, p-value: {p}\")"
   ]
  },
  {
   "cell_type": "markdown",
   "id": "47415b1b",
   "metadata": {},
   "source": [
    "#### Student t-test"
   ]
  },
  {
   "cell_type": "code",
   "execution_count": null,
   "id": "9b673376",
   "metadata": {},
   "outputs": [],
   "source": [
    "subgroups = {}\n",
    "\n",
    "# Iterate through unique values in the 'pca_kmeans_labels' column\n",
    "for value in ratios_plot['pca_kmeans_labels'].unique():\n",
    "    if value in [0,2,3]:\n",
    "        # Create a subgroup based on the unique value\n",
    "        subgroup = ratios_plot[ratios_plot['pca_kmeans_labels'] == value]\n",
    "        subgroups[value] = subgroup\n",
    "\n",
    "# Perform unpaired Student's t-test for pairwise comparisons within subgroups\n",
    "for group1, group2 in itertools.combinations(subgroups.keys(), 2):\n",
    "    data1 = subgroups[group1]['mito_sphericity']  # Replace 'my_data' with your actual column name\n",
    "    data2 = subgroups[group2]['mito_sphericity']  # Replace 'my_data' with your actual column name\n",
    "\n",
    "    t_stat, p_value = stats.ttest_ind(data1, data2)\n",
    "    print(f\"Comparison between Subgroup {group1} and Subgroup {group2}:\")\n",
    "    print(f\"Student's t-test statistic: {t_stat}\")\n",
    "    print(f\"P-value: {p_value}\")\n",
    "    print()"
   ]
  },
  {
   "cell_type": "markdown",
   "id": "b5f7c3b5",
   "metadata": {},
   "source": [
    "#### Welch´s t-test"
   ]
  },
  {
   "cell_type": "code",
   "execution_count": null,
   "id": "2bc72ffc",
   "metadata": {},
   "outputs": [],
   "source": [
    "subgroups = {}\n",
    "\n",
    "# Iterate through unique values in the 'pca_kmeans_labels' column\n",
    "for value in df['pca_kmeans_labels'].unique():\n",
    "    # Create a subgroup based on the unique value\n",
    "    subgroup = df[df['pca_kmeans_labels'] == value]\n",
    "    subgroups[value] = subgroup\n",
    "\n",
    "# Perform Welch's t-test for pairwise comparisons within subgroups\n",
    "for group1, group2 in itertools.combinations(subgroups.keys(), 2):\n",
    "    data1 = subgroups[group1]['my_data']  # Replace 'my_data' with your actual column name\n",
    "    data2 = subgroups[group2]['my_data']  # Replace 'my_data' with your actual column name\n",
    "\n",
    "    t_stat, p_value = stats.ttest_ind(data1, data2, equal_var=False)\n",
    "    print(f\"Comparison between Subgroup {group1} and Subgroup {group2}:\")\n",
    "    print(f\"Welch's t-test statistic: {t_stat}\")\n",
    "    print(f\"P-value: {p_value}\")\n",
    "    print()"
   ]
  },
  {
   "cell_type": "markdown",
   "id": "9272ed45",
   "metadata": {},
   "source": [
    "#### Mann-Whitney U test"
   ]
  },
  {
   "cell_type": "code",
   "execution_count": null,
   "id": "26b0ff4d",
   "metadata": {},
   "outputs": [],
   "source": [
    "subgroups = {}\n",
    "\n",
    "# Iterate through unique values in the 'pca_kmeans_labels' column\n",
    "for value in ratios_plot['pca_kmeans_labels'].unique():\n",
    "    if value in [0,2,3]:\n",
    "        # Create a subgroup based on the unique value\n",
    "        subgroup = ratios_plot[ratios_plot['pca_kmeans_labels'] == value]\n",
    "        subgroups[value] = subgroup\n",
    "\n",
    "# Perform unpaired Student's t-test for pairwise comparisons within subgroups\n",
    "for group1, group2 in itertools.combinations(subgroups.keys(), 2):\n",
    "    data1 = subgroups[group1]['heterochromatin_nucleus_R']  # Replace 'my_data' with your actual column name\n",
    "    data2 = subgroups[group2]['heterochromatin_nucleus_R']  # Replace 'my_data' with your actual column name\n",
    "\n",
    "    stat, p_value = stats.mannwhitneyu(data1, data2, alternative='two-sided')\n",
    "    print(f\"Comparison between Subgroup {group1} and Subgroup {group2}:\")\n",
    "    print(f\"Student's t-test statistic: {t_stat}\")\n",
    "    print(f\"P-value: {p_value}\")\n",
    "    print()"
   ]
  },
  {
   "cell_type": "markdown",
   "id": "e0cd8c3b",
   "metadata": {},
   "source": [
    "# 7. Napari visualization"
   ]
  },
  {
   "cell_type": "code",
   "execution_count": null,
   "id": "8bed19ea",
   "metadata": {},
   "outputs": [],
   "source": [
    "from MGFeatures import remake_bbox, make_bbox_stack"
   ]
  },
  {
   "cell_type": "markdown",
   "id": "794c5951",
   "metadata": {},
   "source": [
    "The coordinates have to be readjusted due to the way of the export of the segmentation, which does not match the size of the image"
   ]
  },
  {
   "cell_type": "code",
   "execution_count": null,
   "id": "62b2ac98",
   "metadata": {},
   "outputs": [],
   "source": [
    "featuresraw_2 = featuresraw.copy()\n",
    "for i in range(len(featuresraw_2)):\n",
    "    if featuresraw_2['y1'][i] > 28080:\n",
    "        featuresraw_2['y1'][i] =  featuresraw_2['y1'][i]-37440\n",
    "    if featuresraw_2['y2'][i] > 28080:\n",
    "        featuresraw_2['y2'][i] =  featuresraw_2['y2'][i]-37440\n",
    "featuresraw_3 = featuresraw_2.copy()\n",
    "for i in range(len(featuresraw_3)):\n",
    "    featuresraw_3['x1'][i] =  featuresraw_3['x1'][i]+8792\n",
    "    featuresraw_3['x2'][i] =  featuresraw_3['x2'][i]+8792\n",
    "    featuresraw_3['y1'][i] =  featuresraw_3['y1'][i]+9360\n",
    "    featuresraw_3['y2'][i] =  featuresraw_3['y2'][i]+9360"
   ]
  },
  {
   "cell_type": "code",
   "execution_count": null,
   "id": "55b4e49d",
   "metadata": {},
   "outputs": [],
   "source": [
    "features_napari = featuresraw_3[['x1', 'x2', 'y1', 'y2']]\n",
    "ratios_napari = pd.concat([ratios_plot, features_napari], axis = 1)"
   ]
  },
  {
   "cell_type": "code",
   "execution_count": null,
   "id": "bcd90f9e",
   "metadata": {},
   "outputs": [],
   "source": [
    "# These two cells were eliminated in this case because of some errors in the coordinates\n",
    "ratios_napari_2 = ratios_napari.copy()\n",
    "ratios_napari_2 = ratios_napari_2.drop([20,36])"
   ]
  },
  {
   "cell_type": "code",
   "execution_count": null,
   "id": "3c33aa34",
   "metadata": {},
   "outputs": [],
   "source": [
    "def create_bbox(row):\n",
    "    bbox = (row['x1'], row['y1'], row['x2'], row['y2'])\n",
    "    rect = np.array([[bbox[0], bbox[1]], [bbox[2], bbox[1]], [bbox[2], bbox[3]], [bbox[0], bbox[3]]])\n",
    "    return rect\n",
    "# Apply the function to create the 'bbox' column\n",
    "ratios_napari_2['bbox_rect'] = ratios_napari_2.apply(create_bbox, axis=1)"
   ]
  },
  {
   "cell_type": "code",
   "execution_count": null,
   "id": "982552cb",
   "metadata": {},
   "outputs": [],
   "source": [
    "viewer = napari.Viewer()\n",
    "# Add to the napari viewer the location of the cells and colored them based on the cluster number they belong to\n",
    "viewer.add_shapes(data=ratios_napari_2['bbox_rect'], face_color = clabels)"
   ]
  }
 ],
 "metadata": {
  "kernelspec": {
   "display_name": "Python 3 (ipykernel)",
   "language": "python",
   "name": "python3"
  },
  "language_info": {
   "codemirror_mode": {
    "name": "ipython",
    "version": 3
   },
   "file_extension": ".py",
   "mimetype": "text/x-python",
   "name": "python",
   "nbconvert_exporter": "python",
   "pygments_lexer": "ipython3",
   "version": "3.10.4"
  }
 },
 "nbformat": 4,
 "nbformat_minor": 5
}
