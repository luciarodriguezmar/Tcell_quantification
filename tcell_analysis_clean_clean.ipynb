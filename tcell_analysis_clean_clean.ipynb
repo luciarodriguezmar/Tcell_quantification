{
 "cells": [
  {
   "cell_type": "markdown",
   "id": "6d3c775e",
   "metadata": {},
   "source": [
    "# 1. Extraction of features from segmentation data"
   ]
  },
  {
   "cell_type": "markdown",
   "id": "3ed5efe2",
   "metadata": {},
   "source": [
    "This first part of the analysis quantifies several features of the cells in 2D (analysis of each section of the stack individually): area of all segmented organelles per cell, number of mitochondria and nucleus, and shape of cell, mitochondria and nuclei. Shape is quantified as:\n",
    "\n",
    "Aspect ratio: ratio between the longest and shortest sides of the bbox. The bbox is the minimal rectangle that contains the whole object in terms of its coordenates.\n",
    "Roundness: ratio between the object´s area and its longest side (FH) of the bbox:\n",
    "$$roundness = \\frac{4*A}{\\pi*F_{H}^{2}}$$"
   ]
  },
  {
   "cell_type": "markdown",
   "id": "c336d09a",
   "metadata": {},
   "source": [
    "## Export segmentation\n",
    "The script uses segmentation files exported from Vast Lite using the following conditions:\n",
    "\n",
    "- Multi-tile stack\n",
    "- Mip level: 0\n",
    "- Export segmentation as \".png\"\n",
    "- 8bit/px\n",
    "- Collapsed labels as in current view\n",
    "- Export currently selected label (and select each segmen layer for each organelle manually).\n",
    "\n",
    "Each of the segments for each organelle has to be stored in a different folder and the name of the individual files must contain \".vsseg_export_s\". After \"s\", it detects the number of the section using the following, so that if the section has two digits zfill(2) and if it has three digits zfill(3):\n",
    "\n",
    "- self.file = r'*export_s{}*'.format(str(sl_num).zfill(...))\n",
    "For the tile size: recommended to use a divisible number to the total height and width of the section.\n",
    "\n",
    "In case of changing the tile size: need to change the numbers on Cells.py (in patchsize inside of the function definition get_imageshape) and the number of tiles that will be created from that into self.imageshape (first two values).\n",
    "For example: if for a image of 1024x1024 the tile size selected is 256x256, it would create four tiles, so:\n",
    "\n",
    "- patchsize=(256,256)\n",
    "- self.imageshape = (4,4,*patchsize)"
   ]
  },
  {
   "cell_type": "code",
   "execution_count": 1,
   "id": "44ffbf7f",
   "metadata": {},
   "outputs": [
    {
     "name": "stderr",
     "output_type": "stream",
     "text": [
      "C:\\Users\\Gast-User\\.conda\\envs\\MG\\lib\\site-packages\\numba\\core\\decorators.py:253: RuntimeWarning: nopython is set for njit and is ignored\n",
      "  warnings.warn('nopython is set for njit and is ignored', RuntimeWarning)\n"
     ]
    }
   ],
   "source": [
    "from Cells import Cells\n",
    "from MGFeatures import *\n",
    "import numpy as np\n",
    "import pandas as pd\n",
    "from joblib import Parallel, delayed\n",
    "import napari\n",
    "from tifffile import imsave\n",
    "import skimage.measure\n",
    "import time\n",
    "import matplotlib.pyplot as plt\n",
    "import seaborn as sns\n",
    "from sklearn.preprocessing import StandardScaler\n",
    "from sklearn.cluster import KMeans\n",
    "from sklearn.decomposition import PCA"
   ]
  },
  {
   "cell_type": "code",
   "execution_count": 2,
   "id": "e0a0c4f8",
   "metadata": {},
   "outputs": [],
   "source": [
    "# TO-DO: include this definition in Cells.py or MGFeatures.py\n",
    "\n",
    "def get_area(labels, labels_list): \n",
    "    areas = []\n",
    "    for i in labels_list:\n",
    "        area = np.count_nonzero(labels == i)\n",
    "        areas.append(area)\n",
    "    areas = np.array(areas)\n",
    "    return areas"
   ]
  },
  {
   "cell_type": "code",
   "execution_count": 3,
   "id": "852391d3",
   "metadata": {},
   "outputs": [],
   "source": [
    "folder = r'Y:\\MS293_Shun_Immunogold_030523\\Segmentation\\cell_final'\n",
    "heterochromatin_folder = r'Y:\\MS293_Shun_Immunogold_030523\\Segmentation\\heterochromatin_final'\n",
    "gold_folder = r'Y:\\MS293_Shun_Immunogold_030523\\Segmentation\\gold_final'\n",
    "lysosomes_folder = r'Y:\\MS293_Shun_Immunogold_030523\\Segmentation\\lysosome_final'\n",
    "mitochondria_folder = r'Y:\\MS293_Shun_Immunogold_030523\\Segmentation\\mitochondria_final'\n",
    "nucleus_folder = r'Y:\\MS293_Shun_Immunogold_030523\\Segmentation\\nucleus_final'\n",
    "ER_folder = r'Y:\\MS293_Shun_Immunogold_030523\\Segmentation\\er_final'\n",
    "golgi_folder = r'Y:\\MS293_Shun_Immunogold_030523\\Segmentation\\golgi_final'"
   ]
  },
  {
   "cell_type": "markdown",
   "id": "abe285df",
   "metadata": {},
   "source": [
    "##  tcell_properties function"
   ]
  },
  {
   "cell_type": "markdown",
   "id": "630665ec",
   "metadata": {},
   "source": [
    "The following functionautomatically extracts several features of the segments per label, being here a label one cell in each plane. The code is divided into different functions:\n",
    "\n",
    "- #### A. Label cells\n",
    "\n",
    "This part of the code creates the labels for the cell segment. It runs over the i, which is the section number. The functions indicated: 'get_imageshape()', 'img_from_tiles()', 'label_cells()' are described in Cells.py. These functions reconstruct the whole image from the tiles created for the segmentation export and detects the connected elements to label the individual cells. 'cell_labels' is an array that can be visualized with napari.\n",
    "\n",
    "- #### B: Label organelles\n",
    "\n",
    "This part of the code creates individual labels for the organelles, but they are dependent of the cell label via the mask_it() function. This function returns an array np.int8, in which the information is the number of the label of the cell.\n",
    "For example, if a cell with label number 1 has two mitochondria, both of these mitochondria will be labeled 1.\n",
    "\n",
    "- #### C: Connected labels\n",
    "\n",
    "The skimage.measure.label() with connectivity=2 creates labelling of the organelles in a different way, so that two mitochondria present in the same cell contain a different label. This is not necessary for the cell labels, but it changes the data to an array of np.int64 in all cases.\n",
    "\n",
    "- #### D: Dataframe with cell, mitochondria and nucleus coordinates\n",
    "\n",
    "For the cell, mitochondria and nucleus labels, a pandas data frame is created that contains per label the coordinates of the bbox, stored as the minimum and maximum values of x and y axis.\n",
    "\n",
    "- #### E. Assign mitochondria and nucleus to cell coordinates\n",
    "\n",
    "The loop assigns the label of the cell to which each organelle belongs and stores it as 'id_cell', so that the organelles that belong to the same cell can later be grouped and extracted the mean values.\n",
    "\n",
    "- #### F. Calculate properties per cell\n",
    "\n",
    "Using the coordinates of each label we calculate the aspect ratio and roundness. For the aspect ratio, the largest and smallest side of the bbox are calculated as the maximum and minimum difference, respectively, between the row and column values. \n",
    "\n",
    "- #### G. Add properties to data frame\n",
    "\n",
    "All properties are added to an empty data frame. In the case of properties related to mitochondria and nucleus, the mean properties of the organelles is calculated per cell, by grouping them by their cell id."
   ]
  },
  {
   "cell_type": "code",
   "execution_count": 24,
   "id": "b57acb0c",
   "metadata": {},
   "outputs": [],
   "source": [
    "def tcell_properties(i):\n",
    "    #propertiesall  = pd.DataFrame()\n",
    "    # A. Label cells\n",
    "    cell = Cells(i)\n",
    "    imageshape = cell.get_imageshape(folder) #TODO: this step is redundant! Fix in cells\n",
    "    cell_image = cell.img_from_tiles(folder)\n",
    "    cell_labels = cell.label_cells(cell_image)\n",
    "    labels_list = np.unique(cell_labels)[1:]\n",
    "    \n",
    "    # B. label organelles\n",
    "    heterochromatin_labels = mask_it(cell_labels, cell.img_from_tiles(heterochromatin_folder))\n",
    "    lysosomes_labels = mask_it(cell_labels, cell.img_from_tiles(lysosomes_folder))\n",
    "    mitochondria_labels = mask_it(cell_labels, cell.img_from_tiles(mitochondria_folder))\n",
    "    nucleus_labels = mask_it(cell_labels, cell.img_from_tiles(nucleus_folder))\n",
    "    gold_labels = mask_it(cell_labels, cell.img_from_tiles(gold_folder))\n",
    "    golgi_labels = mask_it(cell_labels, cell.img_from_tiles(golgi_folder))\n",
    "    ER = cell.img_from_tiles(ER_folder)\n",
    "    \n",
    "    # C. Connected labels\n",
    "    cell_label = skimage.measure.label(cell_labels, connectivity=2)\n",
    "    mito_label = skimage.measure.label(mitochondria_labels, connectivity=2)\n",
    "    nuc_label = skimage.measure.label(nucleus_labels, connectivity=2)\n",
    "    \n",
    "    #D. Dataframe with cell, mitochondria and nucleus coordinates\n",
    "    cell_coord = []\n",
    "    coord_cell = pd.DataFrame()\n",
    "    region = regionprops(cell_label)\n",
    "    for r in region:\n",
    "        min_row, min_col, max_row, max_col = r.bbox\n",
    "        cell_coord.append((min_row, max_row, min_col, max_col))\n",
    "    coord_cell = pd.DataFrame(cell_coord, columns = [\"min_row\",\"max_row\", \"min_col\", \"max_col\"])\n",
    "   \n",
    "    mito_coord = []\n",
    "    coord_mito = pd.DataFrame()\n",
    "    region = regionprops(mito_label)\n",
    "    for r in region:\n",
    "        min_row, min_col, max_row, max_col = r.bbox\n",
    "        mito_coord.append((min_row, min_col, max_row, max_col))\n",
    "    coord_mito = pd.DataFrame(mito_coord, columns = [\"min_row\", \"min_col\", \"max_row\", \"max_col\"])\n",
    "    \n",
    "    nuc_coord = []\n",
    "    coord_nuc = pd.DataFrame()\n",
    "    region = regionprops(nuc_label)\n",
    "    for r in region:\n",
    "        min_row, min_col, max_row, max_col = r.bbox\n",
    "        nuc_coord.append((min_row, min_col, max_row, max_col))\n",
    "    coord_nuc = pd.DataFrame(nuc_coord, columns = [\"min_row\", \"min_col\", \"max_row\", \"max_col\"])\n",
    "    \n",
    "    #E. Assign mitochondria and nucleus to cell coordinates\n",
    "    coord_mito['id_cell'] = 0\n",
    "    for x in range(len(coord_cell)):\n",
    "        for y in range(len(coord_mito)):\n",
    "            if (coord_mito[\"min_row\"][y] >= coord_cell[\"min_row\"][x]  and coord_mito[\"max_row\"][y] <= coord_cell[\"max_row\"][x]) and (coord_mito[\"min_col\"][y] >= coord_cell[\"min_col\"][x]and coord_mito[\"max_col\"][y] <= coord_cell[\"max_col\"][x]):\n",
    "                coord_mito['id_cell'][y] = x\n",
    "    \n",
    "    coord_nuc['id_cell'] = 0\n",
    "    for y in range(len(coord_nuc)):\n",
    "        for x in range(len(coord_cell)):\n",
    "            if (coord_nuc[\"min_row\"][y] >= coord_cell[\"min_row\"][x]  and coord_nuc[\"max_row\"][y] <= coord_cell[\"max_row\"][x]) and (coord_nuc[\"min_col\"][y] >= coord_cell[\"min_col\"][x]and coord_nuc[\"max_col\"][y] <= coord_cell[\"max_col\"][x]):\n",
    "                coord_nuc['id_cell'][y] = x\n",
    "    \n",
    "    #F. Calculate properties per cell\n",
    "    #F1. Mitochondria\n",
    "    coord_mito['mito_large'] = 0\n",
    "    coord_mito['mito_small'] = 0\n",
    "    for y in range(len(coord_mito)):\n",
    "        D = max(coord_mito['max_row'][y] - coord_mito['min_row'][y], coord_mito['max_col'][y] - coord_mito['min_col'][y])\n",
    "        coord_mito['mito_large'][y] = D\n",
    "        d = min(coord_mito['max_row'][y] - coord_mito['min_row'][y], coord_mito['max_col'][y] - coord_mito['min_col'][y])\n",
    "        coord_mito['mito_small'][y] = d\n",
    "    coord_mito['mito_aspect'] = coord_mito['mito_small']/coord_mito['mito_large']\n",
    "    mito_list = np.unique(mito_label)[1:]\n",
    "    coord_mito['mito_area'] = get_area(mito_label, mito_list)\n",
    "    coord_mito['mito_roundness'] = (4*coord_mito['mito_area'])/(np.pi*(coord_mito['mito_large']**2))\n",
    "    \n",
    "    #F2. Nucleus\n",
    "    coord_nuc['nuc_large'] = 0\n",
    "    coord_nuc['nuc_small'] = 0\n",
    "    for y in range(len(coord_nuc)):\n",
    "        M = max(coord_nuc['max_row'][y] - coord_nuc['min_row'][y], coord_nuc['max_col'][y] - coord_nuc['min_col'][y])\n",
    "        coord_nuc['nuc_large'][y] = M\n",
    "        m = min(coord_nuc['max_row'][y] - coord_nuc['min_row'][y], coord_nuc['max_col'][y] - coord_nuc['min_col'][y])\n",
    "        coord_nuc['nuc_small'][y] = m\n",
    "    coord_nuc['nuc_aspect'] = coord_nuc['nuc_small']/coord_nuc['nuc_large']\n",
    "    nuc_list = np.unique(nuc_label)[1:]\n",
    "    coord_nuc['nuc_area'] =  get_area(nuc_label, nuc_list)\n",
    "    coord_nuc['nuc_roundness'] = (4*coord_nuc['nuc_area'])/(np.pi*(coord_nuc['nuc_large']**2))\n",
    "    \n",
    "    #F3. Cell\n",
    "    coord_cell['cell_large'] = 0\n",
    "    coord_cell['cell_small'] = 0\n",
    "    for y in range(len(coord_cell)):\n",
    "        D = max(coord_cell['max_row'][y] - coord_cell['min_row'][y], coord_cell['max_col'][y] - coord_cell['min_col'][y])\n",
    "        coord_cell['cell_large'][y] = D\n",
    "        d = min(coord_cell['max_row'][y] - coord_cell['min_row'][y], coord_cell['max_col'][y] - coord_cell['min_col'][y])\n",
    "        coord_cell['cell_small'][y] = d\n",
    "    coord_cell['cell_aspect'] = coord_cell['cell_small']/coord_cell['cell_large']\n",
    "    \n",
    "    #G. Add to properties data frame\n",
    "    properties = pd.DataFrame()\n",
    "    cell_list = np.unique(cell_labels)[1:]\n",
    "    properties['cell_area'] = get_area(cell_labels, cell_list)\n",
    "    properties['cell_aspect'] = coord_cell['cell_aspect']\n",
    "    properties['cell_roundness'] = (4*properties['cell_area'])/(np.pi*(coord_cell['cell_large']**2))\n",
    "    properties['number_mito'] = coord_mito.groupby(['id_cell']).size()\n",
    "    properties['mean_mito_aspect'] = coord_mito.groupby(['id_cell'])['mito_aspect'].mean()\n",
    "    properties['std_mito_aspect'] = coord_mito.groupby(['id_cell'])['mito_aspect'].std()\n",
    "    properties['mean_mito_area'] = coord_mito.groupby(['id_cell'])['mito_area'].mean()\n",
    "    properties['std_mito_area'] = coord_mito.groupby(['id_cell'])['mito_area'].std()\n",
    "    properties['mean_mito_roundness'] = coord_mito.groupby(['id_cell'])['mito_roundness'].mean()\n",
    "    properties['std_mito_roundness'] = coord_mito.groupby(['id_cell'])['mito_roundness'].std()\n",
    "    properties['sum_mito_area'] = coord_mito.groupby(['id_cell'])['mito_area'].sum()\n",
    "    properties['number_nuc'] = coord_nuc.groupby(['id_cell']).size()\n",
    "    properties['mean_nuc_aspect'] = coord_nuc.groupby(['id_cell'])['nuc_aspect'].mean()\n",
    "    properties['std_nuc_aspect'] = coord_nuc.groupby(['id_cell'])['nuc_aspect'].std()\n",
    "    properties['mean_nuc_area'] = coord_nuc.groupby(['id_cell'])['nuc_area'].mean()\n",
    "    properties['std_nuc_area'] = coord_nuc.groupby(['id_cell'])['nuc_area'].std()\n",
    "    properties['mean_nuc_roundness'] = coord_nuc.groupby(['id_cell'])['nuc_roundness'].mean()\n",
    "    properties['std_nuc_roundness'] = coord_nuc.groupby(['id_cell'])['nuc_roundness'].std()\n",
    "    properties['std_nuc_area'] = coord_nuc.groupby(['id_cell'])['nuc_area'].std()\n",
    "    properties['lysosomal_area'] = get_area(lysosomes_labels, labels_list)\n",
    "    properties['heterochromatin_area'] = get_area(heterochromatin_labels, labels_list)\n",
    "    properties['gold_area'] = get_area(gold_labels, labels_list)\n",
    "    properties['nucleus_area'] = get_area(nucleus_labels, labels_list)\n",
    "    properties['golgi_area'] = get_area(golgi_labels, labels_list)\n",
    "    properties['cytoplasm_area'] = properties['cell_area'] - properties['nucleus_area']\n",
    "    properties['ER_lengths'] = ER_length(ER, cell_labels)\n",
    "    properties['sl_num'] = np.array([i]*len(labels_list))\n",
    "    properties['x1'] = coord_cell['min_row']\n",
    "    properties['x2'] = coord_cell['max_row']\n",
    "    properties['y1'] = coord_cell['min_col']\n",
    "    properties['y2'] = coord_cell['max_col']\n",
    "    properties= properties.fillna(0)\n",
    "    #propertiesall = propertiesall.append(properties)\n",
    "    return properties"
   ]
  },
  {
   "cell_type": "code",
   "execution_count": 25,
   "id": "67dd4839",
   "metadata": {},
   "outputs": [],
   "source": [
    "trial = tcell_properties(0)"
   ]
  },
  {
   "cell_type": "code",
   "execution_count": 27,
   "id": "1c436a26",
   "metadata": {},
   "outputs": [],
   "source": [
    "trial.to_excel(\"trial_v5.xlsx\")"
   ]
  },
  {
   "cell_type": "markdown",
   "id": "aaa8354c",
   "metadata": {},
   "source": [
    "## Running the tcell_properties function in parallel\n",
    "In order to make the process faster, the for loop to run each section using this function is achieved by running them in parallel. The nslices that can run in parallel in each case will depend on the number of cores of the pc and the total number in the range in the station´s RAM."
   ]
  },
  {
   "cell_type": "code",
   "execution_count": null,
   "id": "509ef217",
   "metadata": {},
   "outputs": [],
   "source": [
    "start_time = time.time()\n",
    "nslices = 6\n",
    "properties0_5 = Parallel(n_jobs=nslices, verbose=True)(delayed(tcell_properties)(i) for i in range(5))\n",
    "end_time = time.time()\n",
    "elapsed_time = end_time - start_time\n",
    "print(\"Elapsed time: \", elapsed_time)"
   ]
  },
  {
   "cell_type": "code",
   "execution_count": null,
   "id": "36db523c",
   "metadata": {},
   "outputs": [],
   "source": [
    "propertiessum0_5 = pd.DataFrame()\n",
    "for i in range(5):\n",
    "    propertiessum0_5= propertiessum0_5.append(properties0_5[i]) \n",
    "propertiessum0_5.to_excel(\"tcell_properties_0_5_v4.xlsx\")"
   ]
  },
  {
   "cell_type": "code",
   "execution_count": null,
   "id": "4bc0d6e6",
   "metadata": {},
   "outputs": [],
   "source": [
    "start_time = time.time()\n",
    "nslices = 5\n",
    "properties5_10 = Parallel(n_jobs=nslices, verbose=True)(delayed(tcell_properties)(i) for i in range(5,10))\n",
    "end_time = time.time()\n",
    "elapsed_time = end_time - start_time\n",
    "print(\"Elapsed time: \", elapsed_time)"
   ]
  },
  {
   "cell_type": "code",
   "execution_count": null,
   "id": "4691ff1f",
   "metadata": {},
   "outputs": [],
   "source": [
    "propertiessum5_10 = pd.DataFrame()\n",
    "for i in range(5):\n",
    "    propertiessum5_10= propertiessum5_10.append(properties5_10[i]) \n",
    "propertiessum5_10.to_excel(\"tcell_properties_5_10_v4.xlsx\")"
   ]
  },
  {
   "cell_type": "code",
   "execution_count": null,
   "id": "63e6acf6",
   "metadata": {},
   "outputs": [],
   "source": [
    "start_time = time.time()\n",
    "nslices = 5\n",
    "properties10_15 = Parallel(n_jobs=nslices, verbose=True)(delayed(tcell_properties)(i) for i in range(10,15))\n",
    "end_time = time.time()\n",
    "elapsed_time = end_time - start_time\n",
    "print(\"Elapsed time: \", elapsed_time)"
   ]
  },
  {
   "cell_type": "code",
   "execution_count": null,
   "id": "a98c6853",
   "metadata": {},
   "outputs": [],
   "source": [
    "propertiessum10_15 = pd.DataFrame()\n",
    "for i in range(5):\n",
    "    propertiessum10_15= propertiessum10_15.append(properties10_15[i]) \n",
    "propertiessum10_15.to_excel(\"tcell_properties_10_15_v4.xlsx\")"
   ]
  },
  {
   "cell_type": "code",
   "execution_count": null,
   "id": "5571c207",
   "metadata": {},
   "outputs": [],
   "source": [
    "start_time = time.time()\n",
    "nslices = 5\n",
    "properties15_20 = Parallel(n_jobs=nslices, verbose=True)(delayed(tcell_properties)(i) for i in range(15,20))\n",
    "end_time = time.time()\n",
    "elapsed_time = end_time - start_time\n",
    "print(\"Elapsed time: \", elapsed_time)"
   ]
  },
  {
   "cell_type": "code",
   "execution_count": null,
   "id": "aef780b2",
   "metadata": {},
   "outputs": [],
   "source": [
    "propertiessum15_20 = pd.DataFrame()\n",
    "for i in range(5):\n",
    "    propertiessum15_20= propertiessum15_20.append(properties15_20[i]) \n",
    "propertiessum15_20.to_excel(\"tcell_properties_15_20_v4.xlsx\")"
   ]
  },
  {
   "cell_type": "code",
   "execution_count": null,
   "id": "30154d60",
   "metadata": {},
   "outputs": [],
   "source": [
    "start_time = time.time()\n",
    "nslices = 5\n",
    "properties20_25 = Parallel(n_jobs=nslices, verbose=True)(delayed(tcell_properties)(i) for i in range(20,25))\n",
    "end_time = time.time()\n",
    "elapsed_time = end_time - start_time\n",
    "print(\"Elapsed time: \", elapsed_time)"
   ]
  },
  {
   "cell_type": "code",
   "execution_count": null,
   "id": "425fa73c",
   "metadata": {},
   "outputs": [],
   "source": [
    "propertiessum20_25 = pd.DataFrame()\n",
    "for i in range(5):\n",
    "    propertiessum20_25= propertiessum20_25.append(properties20_25[i]) \n",
    "propertiessum20_25.to_excel(\"tcell_properties_20_25_v4.xlsx\")"
   ]
  },
  {
   "cell_type": "markdown",
   "id": "6b570f89",
   "metadata": {},
   "source": [
    "## Start from here"
   ]
  },
  {
   "cell_type": "code",
   "execution_count": 5,
   "id": "57d20d5d",
   "metadata": {},
   "outputs": [
    {
     "name": "stderr",
     "output_type": "stream",
     "text": [
      "[Parallel(n_jobs=5)]: Using backend LokyBackend with 5 concurrent workers.\n",
      "[Parallel(n_jobs=5)]: Done   2 out of   5 | elapsed: 16.3min remaining: 24.4min\n"
     ]
    },
    {
     "name": "stdout",
     "output_type": "stream",
     "text": [
      "Elapsed time:  2112.881951570511\n"
     ]
    },
    {
     "name": "stderr",
     "output_type": "stream",
     "text": [
      "[Parallel(n_jobs=5)]: Done   5 out of   5 | elapsed: 35.2min finished\n"
     ]
    }
   ],
   "source": [
    "start_time = time.time()\n",
    "nslices = 5\n",
    "properties25_30 = Parallel(n_jobs=nslices, verbose=True)(delayed(tcell_properties)(i) for i in range(25,30))\n",
    "end_time = time.time()\n",
    "elapsed_time = end_time - start_time\n",
    "print(\"Elapsed time: \", elapsed_time)"
   ]
  },
  {
   "cell_type": "code",
   "execution_count": 6,
   "id": "7af4ac15",
   "metadata": {},
   "outputs": [
    {
     "name": "stderr",
     "output_type": "stream",
     "text": [
      "C:\\Users\\Gast-User\\AppData\\Local\\Temp\\ipykernel_3292\\2626863135.py:3: FutureWarning: The frame.append method is deprecated and will be removed from pandas in a future version. Use pandas.concat instead.\n",
      "  propertiessum25_30= propertiessum25_30.append(properties25_30[i])\n",
      "C:\\Users\\Gast-User\\AppData\\Local\\Temp\\ipykernel_3292\\2626863135.py:3: FutureWarning: The frame.append method is deprecated and will be removed from pandas in a future version. Use pandas.concat instead.\n",
      "  propertiessum25_30= propertiessum25_30.append(properties25_30[i])\n",
      "C:\\Users\\Gast-User\\AppData\\Local\\Temp\\ipykernel_3292\\2626863135.py:3: FutureWarning: The frame.append method is deprecated and will be removed from pandas in a future version. Use pandas.concat instead.\n",
      "  propertiessum25_30= propertiessum25_30.append(properties25_30[i])\n"
     ]
    }
   ],
   "source": [
    "propertiessum25_30 = pd.DataFrame()\n",
    "for i in range(5):\n",
    "    propertiessum25_30= propertiessum25_30.append(properties25_30[i]) \n",
    "propertiessum25_30.to_excel(\"tcell_properties_25_30_v4.xlsx\")"
   ]
  },
  {
   "cell_type": "code",
   "execution_count": 7,
   "id": "4cc32a75",
   "metadata": {},
   "outputs": [
    {
     "name": "stderr",
     "output_type": "stream",
     "text": [
      "[Parallel(n_jobs=5)]: Using backend LokyBackend with 5 concurrent workers.\n",
      "[Parallel(n_jobs=5)]: Done   2 out of   5 | elapsed: 14.7min remaining: 22.1min\n"
     ]
    },
    {
     "name": "stdout",
     "output_type": "stream",
     "text": [
      "Elapsed time:  954.7967352867126\n"
     ]
    },
    {
     "name": "stderr",
     "output_type": "stream",
     "text": [
      "[Parallel(n_jobs=5)]: Done   5 out of   5 | elapsed: 15.9min finished\n"
     ]
    }
   ],
   "source": [
    "start_time = time.time()\n",
    "nslices = 5\n",
    "properties30_35 = Parallel(n_jobs=nslices, verbose=True)(delayed(tcell_properties)(i) for i in range(30,35))\n",
    "end_time = time.time()\n",
    "elapsed_time = end_time - start_time\n",
    "print(\"Elapsed time: \", elapsed_time)"
   ]
  },
  {
   "cell_type": "code",
   "execution_count": 8,
   "id": "0704f949",
   "metadata": {},
   "outputs": [
    {
     "name": "stderr",
     "output_type": "stream",
     "text": [
      "C:\\Users\\Gast-User\\AppData\\Local\\Temp\\ipykernel_3292\\512546378.py:3: FutureWarning: The frame.append method is deprecated and will be removed from pandas in a future version. Use pandas.concat instead.\n",
      "  propertiessum30_35= propertiessum30_35.append(properties30_35[i])\n",
      "C:\\Users\\Gast-User\\AppData\\Local\\Temp\\ipykernel_3292\\512546378.py:3: FutureWarning: The frame.append method is deprecated and will be removed from pandas in a future version. Use pandas.concat instead.\n",
      "  propertiessum30_35= propertiessum30_35.append(properties30_35[i])\n",
      "C:\\Users\\Gast-User\\AppData\\Local\\Temp\\ipykernel_3292\\512546378.py:3: FutureWarning: The frame.append method is deprecated and will be removed from pandas in a future version. Use pandas.concat instead.\n",
      "  propertiessum30_35= propertiessum30_35.append(properties30_35[i])\n"
     ]
    }
   ],
   "source": [
    "propertiessum30_35 = pd.DataFrame()\n",
    "for i in range(5):\n",
    "    propertiessum30_35= propertiessum30_35.append(properties30_35[i]) \n",
    "propertiessum30_35.to_excel(\"tcell_properties_30_35_v4.xlsx\")"
   ]
  },
  {
   "cell_type": "code",
   "execution_count": 9,
   "id": "8491da6c",
   "metadata": {},
   "outputs": [
    {
     "name": "stderr",
     "output_type": "stream",
     "text": [
      "[Parallel(n_jobs=5)]: Using backend LokyBackend with 5 concurrent workers.\n",
      "[Parallel(n_jobs=5)]: Done   2 out of   5 | elapsed: 13.6min remaining: 20.4min\n"
     ]
    },
    {
     "name": "stdout",
     "output_type": "stream",
     "text": [
      "Elapsed time:  931.2061541080475\n"
     ]
    },
    {
     "name": "stderr",
     "output_type": "stream",
     "text": [
      "[Parallel(n_jobs=5)]: Done   5 out of   5 | elapsed: 15.5min finished\n"
     ]
    }
   ],
   "source": [
    "start_time = time.time()\n",
    "nslices = 5\n",
    "properties35_40 = Parallel(n_jobs=nslices, verbose=True)(delayed(tcell_properties)(i) for i in range(35,40))\n",
    "end_time = time.time()\n",
    "elapsed_time = end_time - start_time\n",
    "print(\"Elapsed time: \", elapsed_time)"
   ]
  },
  {
   "cell_type": "code",
   "execution_count": 10,
   "id": "2ad193e3",
   "metadata": {},
   "outputs": [
    {
     "name": "stderr",
     "output_type": "stream",
     "text": [
      "C:\\Users\\Gast-User\\AppData\\Local\\Temp\\ipykernel_3292\\3265785951.py:3: FutureWarning: The frame.append method is deprecated and will be removed from pandas in a future version. Use pandas.concat instead.\n",
      "  propertiessum35_40= propertiessum35_40.append(properties35_40[i])\n",
      "C:\\Users\\Gast-User\\AppData\\Local\\Temp\\ipykernel_3292\\3265785951.py:3: FutureWarning: The frame.append method is deprecated and will be removed from pandas in a future version. Use pandas.concat instead.\n",
      "  propertiessum35_40= propertiessum35_40.append(properties35_40[i])\n",
      "C:\\Users\\Gast-User\\AppData\\Local\\Temp\\ipykernel_3292\\3265785951.py:3: FutureWarning: The frame.append method is deprecated and will be removed from pandas in a future version. Use pandas.concat instead.\n",
      "  propertiessum35_40= propertiessum35_40.append(properties35_40[i])\n"
     ]
    }
   ],
   "source": [
    "propertiessum35_40 = pd.DataFrame()\n",
    "for i in range(5):\n",
    "    propertiessum35_40= propertiessum35_40.append(properties35_40[i]) \n",
    "propertiessum35_40.to_excel(\"tcell_properties_35_40_v4.xlsx\")"
   ]
  },
  {
   "cell_type": "code",
   "execution_count": 11,
   "id": "5726243b",
   "metadata": {},
   "outputs": [
    {
     "name": "stderr",
     "output_type": "stream",
     "text": [
      "[Parallel(n_jobs=5)]: Using backend LokyBackend with 5 concurrent workers.\n",
      "[Parallel(n_jobs=5)]: Done   2 out of   5 | elapsed: 10.5min remaining: 15.8min\n"
     ]
    },
    {
     "name": "stdout",
     "output_type": "stream",
     "text": [
      "Elapsed time:  792.4029803276062\n"
     ]
    },
    {
     "name": "stderr",
     "output_type": "stream",
     "text": [
      "[Parallel(n_jobs=5)]: Done   5 out of   5 | elapsed: 13.2min finished\n"
     ]
    }
   ],
   "source": [
    "start_time = time.time()\n",
    "nslices = 5\n",
    "properties40_45 = Parallel(n_jobs=nslices, verbose=True)(delayed(tcell_properties)(i) for i in range(40,45))\n",
    "end_time = time.time()\n",
    "elapsed_time = end_time - start_time\n",
    "print(\"Elapsed time: \", elapsed_time)"
   ]
  },
  {
   "cell_type": "code",
   "execution_count": 12,
   "id": "aefb5277",
   "metadata": {},
   "outputs": [
    {
     "name": "stderr",
     "output_type": "stream",
     "text": [
      "C:\\Users\\Gast-User\\AppData\\Local\\Temp\\ipykernel_3292\\3284945451.py:3: FutureWarning: The frame.append method is deprecated and will be removed from pandas in a future version. Use pandas.concat instead.\n",
      "  propertiessum40_45= propertiessum40_45.append(properties40_45[i])\n",
      "C:\\Users\\Gast-User\\AppData\\Local\\Temp\\ipykernel_3292\\3284945451.py:3: FutureWarning: The frame.append method is deprecated and will be removed from pandas in a future version. Use pandas.concat instead.\n",
      "  propertiessum40_45= propertiessum40_45.append(properties40_45[i])\n",
      "C:\\Users\\Gast-User\\AppData\\Local\\Temp\\ipykernel_3292\\3284945451.py:3: FutureWarning: The frame.append method is deprecated and will be removed from pandas in a future version. Use pandas.concat instead.\n",
      "  propertiessum40_45= propertiessum40_45.append(properties40_45[i])\n"
     ]
    }
   ],
   "source": [
    "propertiessum40_45 = pd.DataFrame()\n",
    "for i in range(5):\n",
    "    propertiessum40_45= propertiessum40_45.append(properties40_45[i]) \n",
    "propertiessum40_45.to_excel(\"tcell_properties_40_45_v4.xlsx\")"
   ]
  },
  {
   "cell_type": "code",
   "execution_count": 13,
   "id": "c798a81a",
   "metadata": {},
   "outputs": [
    {
     "name": "stderr",
     "output_type": "stream",
     "text": [
      "[Parallel(n_jobs=5)]: Using backend LokyBackend with 5 concurrent workers.\n",
      "[Parallel(n_jobs=5)]: Done   2 out of   5 | elapsed: 10.4min remaining: 15.7min\n"
     ]
    },
    {
     "name": "stdout",
     "output_type": "stream",
     "text": [
      "Elapsed time:  831.9728043079376\n"
     ]
    },
    {
     "name": "stderr",
     "output_type": "stream",
     "text": [
      "[Parallel(n_jobs=5)]: Done   5 out of   5 | elapsed: 13.9min finished\n"
     ]
    }
   ],
   "source": [
    "start_time = time.time()\n",
    "nslices = 5\n",
    "properties45_50 = Parallel(n_jobs=nslices, verbose=True)(delayed(tcell_properties)(i) for i in range(45,50))\n",
    "end_time = time.time()\n",
    "elapsed_time = end_time - start_time\n",
    "print(\"Elapsed time: \", elapsed_time)"
   ]
  },
  {
   "cell_type": "code",
   "execution_count": 14,
   "id": "c83e5132",
   "metadata": {},
   "outputs": [
    {
     "name": "stderr",
     "output_type": "stream",
     "text": [
      "C:\\Users\\Gast-User\\AppData\\Local\\Temp\\ipykernel_3292\\3156594406.py:3: FutureWarning: The frame.append method is deprecated and will be removed from pandas in a future version. Use pandas.concat instead.\n",
      "  propertiessum45_50= propertiessum45_50.append(properties45_50[i])\n",
      "C:\\Users\\Gast-User\\AppData\\Local\\Temp\\ipykernel_3292\\3156594406.py:3: FutureWarning: The frame.append method is deprecated and will be removed from pandas in a future version. Use pandas.concat instead.\n",
      "  propertiessum45_50= propertiessum45_50.append(properties45_50[i])\n",
      "C:\\Users\\Gast-User\\AppData\\Local\\Temp\\ipykernel_3292\\3156594406.py:3: FutureWarning: The frame.append method is deprecated and will be removed from pandas in a future version. Use pandas.concat instead.\n",
      "  propertiessum45_50= propertiessum45_50.append(properties45_50[i])\n"
     ]
    }
   ],
   "source": [
    "propertiessum45_50 = pd.DataFrame()\n",
    "for i in range(5):\n",
    "    propertiessum45_50= propertiessum45_50.append(properties45_50[i]) \n",
    "propertiessum45_50.to_excel(\"tcell_properties_45_50_v4.xlsx\")"
   ]
  },
  {
   "cell_type": "code",
   "execution_count": 15,
   "id": "6e6c80ab",
   "metadata": {},
   "outputs": [
    {
     "name": "stderr",
     "output_type": "stream",
     "text": [
      "[Parallel(n_jobs=5)]: Using backend LokyBackend with 5 concurrent workers.\n",
      "[Parallel(n_jobs=5)]: Done   2 out of   5 | elapsed:  8.0min remaining: 11.9min\n"
     ]
    },
    {
     "name": "stdout",
     "output_type": "stream",
     "text": [
      "Elapsed time:  514.4088485240936\n"
     ]
    },
    {
     "name": "stderr",
     "output_type": "stream",
     "text": [
      "[Parallel(n_jobs=5)]: Done   5 out of   5 | elapsed:  8.6min finished\n"
     ]
    }
   ],
   "source": [
    "start_time = time.time()\n",
    "nslices = 5\n",
    "properties50_55 = Parallel(n_jobs=nslices, verbose=True)(delayed(tcell_properties)(i) for i in range(50,55))\n",
    "end_time = time.time()\n",
    "elapsed_time = end_time - start_time\n",
    "print(\"Elapsed time: \", elapsed_time)"
   ]
  },
  {
   "cell_type": "code",
   "execution_count": 16,
   "id": "7b41fe1f",
   "metadata": {},
   "outputs": [
    {
     "name": "stderr",
     "output_type": "stream",
     "text": [
      "C:\\Users\\Gast-User\\AppData\\Local\\Temp\\ipykernel_3292\\2998702726.py:3: FutureWarning: The frame.append method is deprecated and will be removed from pandas in a future version. Use pandas.concat instead.\n",
      "  propertiessum50_55= propertiessum50_55.append(properties50_55[i])\n",
      "C:\\Users\\Gast-User\\AppData\\Local\\Temp\\ipykernel_3292\\2998702726.py:3: FutureWarning: The frame.append method is deprecated and will be removed from pandas in a future version. Use pandas.concat instead.\n",
      "  propertiessum50_55= propertiessum50_55.append(properties50_55[i])\n",
      "C:\\Users\\Gast-User\\AppData\\Local\\Temp\\ipykernel_3292\\2998702726.py:3: FutureWarning: The frame.append method is deprecated and will be removed from pandas in a future version. Use pandas.concat instead.\n",
      "  propertiessum50_55= propertiessum50_55.append(properties50_55[i])\n"
     ]
    }
   ],
   "source": [
    "propertiessum50_55 = pd.DataFrame()\n",
    "for i in range(5):\n",
    "    propertiessum50_55= propertiessum50_55.append(properties50_55[i]) \n",
    "propertiessum50_55.to_excel(\"tcell_properties_50_55_v4.xlsx\")"
   ]
  },
  {
   "cell_type": "code",
   "execution_count": 17,
   "id": "d06087bd",
   "metadata": {},
   "outputs": [
    {
     "name": "stderr",
     "output_type": "stream",
     "text": [
      "[Parallel(n_jobs=5)]: Using backend LokyBackend with 5 concurrent workers.\n",
      "[Parallel(n_jobs=5)]: Done   2 out of   5 | elapsed:  7.6min remaining: 11.4min\n"
     ]
    },
    {
     "name": "stdout",
     "output_type": "stream",
     "text": [
      "Elapsed time:  485.8726234436035\n"
     ]
    },
    {
     "name": "stderr",
     "output_type": "stream",
     "text": [
      "[Parallel(n_jobs=5)]: Done   5 out of   5 | elapsed:  8.1min finished\n"
     ]
    }
   ],
   "source": [
    "start_time = time.time()\n",
    "nslices = 5\n",
    "properties55_60 = Parallel(n_jobs=nslices, verbose=True)(delayed(tcell_properties)(i) for i in range(55,60))\n",
    "end_time = time.time()\n",
    "elapsed_time = end_time - start_time\n",
    "print(\"Elapsed time: \", elapsed_time)"
   ]
  },
  {
   "cell_type": "code",
   "execution_count": 18,
   "id": "497c2af2",
   "metadata": {},
   "outputs": [
    {
     "name": "stderr",
     "output_type": "stream",
     "text": [
      "C:\\Users\\Gast-User\\AppData\\Local\\Temp\\ipykernel_3292\\1160059991.py:3: FutureWarning: The frame.append method is deprecated and will be removed from pandas in a future version. Use pandas.concat instead.\n",
      "  propertiessum55_60= propertiessum55_60.append(properties55_60[i])\n",
      "C:\\Users\\Gast-User\\AppData\\Local\\Temp\\ipykernel_3292\\1160059991.py:3: FutureWarning: The frame.append method is deprecated and will be removed from pandas in a future version. Use pandas.concat instead.\n",
      "  propertiessum55_60= propertiessum55_60.append(properties55_60[i])\n",
      "C:\\Users\\Gast-User\\AppData\\Local\\Temp\\ipykernel_3292\\1160059991.py:3: FutureWarning: The frame.append method is deprecated and will be removed from pandas in a future version. Use pandas.concat instead.\n",
      "  propertiessum55_60= propertiessum55_60.append(properties55_60[i])\n"
     ]
    }
   ],
   "source": [
    "propertiessum55_60 = pd.DataFrame()\n",
    "for i in range(5):\n",
    "    propertiessum55_60= propertiessum55_60.append(properties55_60[i]) \n",
    "propertiessum55_60.to_excel(\"tcell_properties_55_60_v4.xlsx\")"
   ]
  },
  {
   "cell_type": "code",
   "execution_count": 19,
   "id": "ffe698eb",
   "metadata": {},
   "outputs": [
    {
     "name": "stderr",
     "output_type": "stream",
     "text": [
      "[Parallel(n_jobs=5)]: Using backend LokyBackend with 5 concurrent workers.\n",
      "[Parallel(n_jobs=5)]: Done   2 out of   5 | elapsed:  8.9min remaining: 13.3min\n"
     ]
    },
    {
     "name": "stdout",
     "output_type": "stream",
     "text": [
      "Elapsed time:  1005.5485219955444\n"
     ]
    },
    {
     "name": "stderr",
     "output_type": "stream",
     "text": [
      "[Parallel(n_jobs=5)]: Done   5 out of   5 | elapsed: 16.8min finished\n"
     ]
    }
   ],
   "source": [
    "start_time = time.time()\n",
    "nslices = 5\n",
    "properties60_65 = Parallel(n_jobs=nslices, verbose=True)(delayed(tcell_properties)(i) for i in range(60,65))\n",
    "end_time = time.time()\n",
    "elapsed_time = end_time - start_time\n",
    "print(\"Elapsed time: \", elapsed_time)"
   ]
  },
  {
   "cell_type": "code",
   "execution_count": 20,
   "id": "b92cf969",
   "metadata": {},
   "outputs": [
    {
     "name": "stderr",
     "output_type": "stream",
     "text": [
      "C:\\Users\\Gast-User\\AppData\\Local\\Temp\\ipykernel_3292\\2365184860.py:3: FutureWarning: The frame.append method is deprecated and will be removed from pandas in a future version. Use pandas.concat instead.\n",
      "  propertiessum60_65= propertiessum60_65.append(properties60_65[i])\n",
      "C:\\Users\\Gast-User\\AppData\\Local\\Temp\\ipykernel_3292\\2365184860.py:3: FutureWarning: The frame.append method is deprecated and will be removed from pandas in a future version. Use pandas.concat instead.\n",
      "  propertiessum60_65= propertiessum60_65.append(properties60_65[i])\n",
      "C:\\Users\\Gast-User\\AppData\\Local\\Temp\\ipykernel_3292\\2365184860.py:3: FutureWarning: The frame.append method is deprecated and will be removed from pandas in a future version. Use pandas.concat instead.\n",
      "  propertiessum60_65= propertiessum60_65.append(properties60_65[i])\n"
     ]
    }
   ],
   "source": [
    "propertiessum60_65 = pd.DataFrame()\n",
    "for i in range(5):\n",
    "    propertiessum60_65= propertiessum60_65.append(properties60_65[i]) \n",
    "propertiessum60_65.to_excel(\"tcell_properties_60_65_v4.xlsx\")"
   ]
  },
  {
   "cell_type": "code",
   "execution_count": 21,
   "id": "34c5e480",
   "metadata": {},
   "outputs": [
    {
     "name": "stderr",
     "output_type": "stream",
     "text": [
      "[Parallel(n_jobs=5)]: Using backend LokyBackend with 5 concurrent workers.\n",
      "[Parallel(n_jobs=5)]: Done   2 out of   5 | elapsed:  8.2min remaining: 12.3min\n"
     ]
    },
    {
     "name": "stdout",
     "output_type": "stream",
     "text": [
      "Elapsed time:  512.316899061203\n"
     ]
    },
    {
     "name": "stderr",
     "output_type": "stream",
     "text": [
      "[Parallel(n_jobs=5)]: Done   5 out of   5 | elapsed:  8.5min finished\n"
     ]
    }
   ],
   "source": [
    "start_time = time.time()\n",
    "nslices = 5\n",
    "properties65_70 = Parallel(n_jobs=nslices, verbose=True)(delayed(tcell_properties)(i) for i in range(65,70))\n",
    "end_time = time.time()\n",
    "elapsed_time = end_time - start_time\n",
    "print(\"Elapsed time: \", elapsed_time)"
   ]
  },
  {
   "cell_type": "code",
   "execution_count": 22,
   "id": "149bca01",
   "metadata": {},
   "outputs": [
    {
     "name": "stderr",
     "output_type": "stream",
     "text": [
      "C:\\Users\\Gast-User\\AppData\\Local\\Temp\\ipykernel_3292\\2606102559.py:3: FutureWarning: The frame.append method is deprecated and will be removed from pandas in a future version. Use pandas.concat instead.\n",
      "  propertiessum65_70= propertiessum65_70.append(properties65_70[i])\n",
      "C:\\Users\\Gast-User\\AppData\\Local\\Temp\\ipykernel_3292\\2606102559.py:3: FutureWarning: The frame.append method is deprecated and will be removed from pandas in a future version. Use pandas.concat instead.\n",
      "  propertiessum65_70= propertiessum65_70.append(properties65_70[i])\n",
      "C:\\Users\\Gast-User\\AppData\\Local\\Temp\\ipykernel_3292\\2606102559.py:3: FutureWarning: The frame.append method is deprecated and will be removed from pandas in a future version. Use pandas.concat instead.\n",
      "  propertiessum65_70= propertiessum65_70.append(properties65_70[i])\n"
     ]
    }
   ],
   "source": [
    "propertiessum65_70 = pd.DataFrame()\n",
    "for i in range(5):\n",
    "    propertiessum65_70= propertiessum65_70.append(properties65_70[i]) \n",
    "propertiessum65_70.to_excel(\"tcell_properties_65_70_v4.xlsx\")"
   ]
  },
  {
   "cell_type": "code",
   "execution_count": 23,
   "id": "0f98e548",
   "metadata": {},
   "outputs": [
    {
     "name": "stderr",
     "output_type": "stream",
     "text": [
      "[Parallel(n_jobs=5)]: Using backend LokyBackend with 5 concurrent workers.\n",
      "[Parallel(n_jobs=5)]: Done   2 out of   5 | elapsed:  8.2min remaining: 12.3min\n"
     ]
    },
    {
     "name": "stdout",
     "output_type": "stream",
     "text": [
      "Elapsed time:  819.6705729961395\n"
     ]
    },
    {
     "name": "stderr",
     "output_type": "stream",
     "text": [
      "[Parallel(n_jobs=5)]: Done   5 out of   5 | elapsed: 13.7min finished\n"
     ]
    }
   ],
   "source": [
    "start_time = time.time()\n",
    "nslices = 5\n",
    "properties70_75 = Parallel(n_jobs=nslices, verbose=True)(delayed(tcell_properties)(i) for i in range(70,75))\n",
    "end_time = time.time()\n",
    "elapsed_time = end_time - start_time\n",
    "print(\"Elapsed time: \", elapsed_time)"
   ]
  },
  {
   "cell_type": "code",
   "execution_count": 24,
   "id": "139fd5cd",
   "metadata": {},
   "outputs": [
    {
     "name": "stderr",
     "output_type": "stream",
     "text": [
      "C:\\Users\\Gast-User\\AppData\\Local\\Temp\\ipykernel_3292\\871212467.py:3: FutureWarning: The frame.append method is deprecated and will be removed from pandas in a future version. Use pandas.concat instead.\n",
      "  propertiessum70_75= propertiessum70_75.append(properties70_75[i])\n",
      "C:\\Users\\Gast-User\\AppData\\Local\\Temp\\ipykernel_3292\\871212467.py:3: FutureWarning: The frame.append method is deprecated and will be removed from pandas in a future version. Use pandas.concat instead.\n",
      "  propertiessum70_75= propertiessum70_75.append(properties70_75[i])\n",
      "C:\\Users\\Gast-User\\AppData\\Local\\Temp\\ipykernel_3292\\871212467.py:3: FutureWarning: The frame.append method is deprecated and will be removed from pandas in a future version. Use pandas.concat instead.\n",
      "  propertiessum70_75= propertiessum70_75.append(properties70_75[i])\n"
     ]
    }
   ],
   "source": [
    "propertiessum70_75 = pd.DataFrame()\n",
    "for i in range(5):\n",
    "    propertiessum70_75= propertiessum70_75.append(properties70_75[i]) \n",
    "propertiessum70_75.to_excel(\"tcell_properties_70_75_v4.xlsx\")"
   ]
  },
  {
   "cell_type": "code",
   "execution_count": 25,
   "id": "ce8f3907",
   "metadata": {},
   "outputs": [
    {
     "name": "stderr",
     "output_type": "stream",
     "text": [
      "[Parallel(n_jobs=5)]: Using backend LokyBackend with 5 concurrent workers.\n",
      "[Parallel(n_jobs=5)]: Done   2 out of   5 | elapsed:  7.1min remaining: 10.6min\n"
     ]
    },
    {
     "name": "stdout",
     "output_type": "stream",
     "text": [
      "Elapsed time:  563.3684380054474\n"
     ]
    },
    {
     "name": "stderr",
     "output_type": "stream",
     "text": [
      "[Parallel(n_jobs=5)]: Done   5 out of   5 | elapsed:  9.4min finished\n"
     ]
    }
   ],
   "source": [
    "start_time = time.time()\n",
    "nslices = 5\n",
    "properties75_80 = Parallel(n_jobs=nslices, verbose=True)(delayed(tcell_properties)(i) for i in range(75,80))\n",
    "end_time = time.time()\n",
    "elapsed_time = end_time - start_time\n",
    "print(\"Elapsed time: \", elapsed_time)"
   ]
  },
  {
   "cell_type": "code",
   "execution_count": 26,
   "id": "6805fc9d",
   "metadata": {},
   "outputs": [
    {
     "name": "stderr",
     "output_type": "stream",
     "text": [
      "C:\\Users\\Gast-User\\AppData\\Local\\Temp\\ipykernel_3292\\598428996.py:3: FutureWarning: The frame.append method is deprecated and will be removed from pandas in a future version. Use pandas.concat instead.\n",
      "  propertiessum75_80= propertiessum75_80.append(properties75_80[i])\n",
      "C:\\Users\\Gast-User\\AppData\\Local\\Temp\\ipykernel_3292\\598428996.py:3: FutureWarning: The frame.append method is deprecated and will be removed from pandas in a future version. Use pandas.concat instead.\n",
      "  propertiessum75_80= propertiessum75_80.append(properties75_80[i])\n",
      "C:\\Users\\Gast-User\\AppData\\Local\\Temp\\ipykernel_3292\\598428996.py:3: FutureWarning: The frame.append method is deprecated and will be removed from pandas in a future version. Use pandas.concat instead.\n",
      "  propertiessum75_80= propertiessum75_80.append(properties75_80[i])\n"
     ]
    }
   ],
   "source": [
    "propertiessum75_80 = pd.DataFrame()\n",
    "for i in range(5):\n",
    "    propertiessum75_80= propertiessum75_80.append(properties75_80[i]) \n",
    "propertiessum75_80.to_excel(\"tcell_properties_75_80_v4.xlsx\")"
   ]
  },
  {
   "cell_type": "code",
   "execution_count": 27,
   "id": "bc07d501",
   "metadata": {},
   "outputs": [
    {
     "name": "stderr",
     "output_type": "stream",
     "text": [
      "[Parallel(n_jobs=5)]: Using backend LokyBackend with 5 concurrent workers.\n",
      "[Parallel(n_jobs=5)]: Done   2 out of   5 | elapsed:  6.7min remaining: 10.0min\n"
     ]
    },
    {
     "name": "stdout",
     "output_type": "stream",
     "text": [
      "Elapsed time:  468.00959491729736\n"
     ]
    },
    {
     "name": "stderr",
     "output_type": "stream",
     "text": [
      "[Parallel(n_jobs=5)]: Done   5 out of   5 | elapsed:  7.8min finished\n"
     ]
    }
   ],
   "source": [
    "start_time = time.time()\n",
    "nslices = 5\n",
    "properties80_85 = Parallel(n_jobs=nslices, verbose=True)(delayed(tcell_properties)(i) for i in range(80,85))\n",
    "end_time = time.time()\n",
    "elapsed_time = end_time - start_time\n",
    "print(\"Elapsed time: \", elapsed_time)"
   ]
  },
  {
   "cell_type": "code",
   "execution_count": 28,
   "id": "2a7ad511",
   "metadata": {},
   "outputs": [
    {
     "name": "stderr",
     "output_type": "stream",
     "text": [
      "C:\\Users\\Gast-User\\AppData\\Local\\Temp\\ipykernel_3292\\4108317824.py:3: FutureWarning: The frame.append method is deprecated and will be removed from pandas in a future version. Use pandas.concat instead.\n",
      "  propertiessum80_85= propertiessum80_85.append(properties80_85[i])\n",
      "C:\\Users\\Gast-User\\AppData\\Local\\Temp\\ipykernel_3292\\4108317824.py:3: FutureWarning: The frame.append method is deprecated and will be removed from pandas in a future version. Use pandas.concat instead.\n",
      "  propertiessum80_85= propertiessum80_85.append(properties80_85[i])\n",
      "C:\\Users\\Gast-User\\AppData\\Local\\Temp\\ipykernel_3292\\4108317824.py:3: FutureWarning: The frame.append method is deprecated and will be removed from pandas in a future version. Use pandas.concat instead.\n",
      "  propertiessum80_85= propertiessum80_85.append(properties80_85[i])\n"
     ]
    }
   ],
   "source": [
    "propertiessum80_85 = pd.DataFrame()\n",
    "for i in range(5):\n",
    "    propertiessum80_85= propertiessum80_85.append(properties80_85[i]) \n",
    "propertiessum80_85.to_excel(\"tcell_properties_80_85_v4.xlsx\")"
   ]
  },
  {
   "cell_type": "code",
   "execution_count": 29,
   "id": "930043ce",
   "metadata": {},
   "outputs": [
    {
     "name": "stderr",
     "output_type": "stream",
     "text": [
      "[Parallel(n_jobs=5)]: Using backend LokyBackend with 5 concurrent workers.\n",
      "[Parallel(n_jobs=5)]: Done   2 out of   5 | elapsed:  7.2min remaining: 10.8min\n"
     ]
    },
    {
     "name": "stdout",
     "output_type": "stream",
     "text": [
      "Elapsed time:  462.8449079990387\n"
     ]
    },
    {
     "name": "stderr",
     "output_type": "stream",
     "text": [
      "[Parallel(n_jobs=5)]: Done   5 out of   5 | elapsed:  7.7min finished\n"
     ]
    }
   ],
   "source": [
    "start_time = time.time()\n",
    "nslices = 5\n",
    "properties85_90 = Parallel(n_jobs=nslices, verbose=True)(delayed(tcell_properties)(i) for i in range(85,90))\n",
    "end_time = time.time()\n",
    "elapsed_time = end_time - start_time\n",
    "print(\"Elapsed time: \", elapsed_time)"
   ]
  },
  {
   "cell_type": "code",
   "execution_count": 30,
   "id": "771077f8",
   "metadata": {},
   "outputs": [
    {
     "name": "stderr",
     "output_type": "stream",
     "text": [
      "C:\\Users\\Gast-User\\AppData\\Local\\Temp\\ipykernel_3292\\1735509735.py:3: FutureWarning: The frame.append method is deprecated and will be removed from pandas in a future version. Use pandas.concat instead.\n",
      "  propertiessum85_90= propertiessum85_90.append(properties85_90[i])\n",
      "C:\\Users\\Gast-User\\AppData\\Local\\Temp\\ipykernel_3292\\1735509735.py:3: FutureWarning: The frame.append method is deprecated and will be removed from pandas in a future version. Use pandas.concat instead.\n",
      "  propertiessum85_90= propertiessum85_90.append(properties85_90[i])\n",
      "C:\\Users\\Gast-User\\AppData\\Local\\Temp\\ipykernel_3292\\1735509735.py:3: FutureWarning: The frame.append method is deprecated and will be removed from pandas in a future version. Use pandas.concat instead.\n",
      "  propertiessum85_90= propertiessum85_90.append(properties85_90[i])\n"
     ]
    }
   ],
   "source": [
    "propertiessum85_90 = pd.DataFrame()\n",
    "for i in range(5):\n",
    "    propertiessum85_90= propertiessum85_90.append(properties85_90[i]) \n",
    "propertiessum85_90.to_excel(\"tcell_properties_85_90_v4.xlsx\")"
   ]
  },
  {
   "cell_type": "code",
   "execution_count": 31,
   "id": "3f256c9a",
   "metadata": {},
   "outputs": [
    {
     "name": "stderr",
     "output_type": "stream",
     "text": [
      "[Parallel(n_jobs=5)]: Using backend LokyBackend with 5 concurrent workers.\n",
      "[Parallel(n_jobs=5)]: Done   2 out of   5 | elapsed:  7.0min remaining: 10.5min\n"
     ]
    },
    {
     "name": "stdout",
     "output_type": "stream",
     "text": [
      "Elapsed time:  487.57516050338745\n"
     ]
    },
    {
     "name": "stderr",
     "output_type": "stream",
     "text": [
      "[Parallel(n_jobs=5)]: Done   5 out of   5 | elapsed:  8.1min finished\n"
     ]
    }
   ],
   "source": [
    "start_time = time.time()\n",
    "nslices = 5\n",
    "properties90_95 = Parallel(n_jobs=nslices, verbose=True)(delayed(tcell_properties)(i) for i in range(90,95))\n",
    "end_time = time.time()\n",
    "elapsed_time = end_time - start_time\n",
    "print(\"Elapsed time: \", elapsed_time)"
   ]
  },
  {
   "cell_type": "code",
   "execution_count": 32,
   "id": "69ea2dc4",
   "metadata": {},
   "outputs": [
    {
     "name": "stderr",
     "output_type": "stream",
     "text": [
      "C:\\Users\\Gast-User\\AppData\\Local\\Temp\\ipykernel_3292\\1634514493.py:3: FutureWarning: The frame.append method is deprecated and will be removed from pandas in a future version. Use pandas.concat instead.\n",
      "  propertiessum90_95= propertiessum90_95.append(properties90_95[i])\n",
      "C:\\Users\\Gast-User\\AppData\\Local\\Temp\\ipykernel_3292\\1634514493.py:3: FutureWarning: The frame.append method is deprecated and will be removed from pandas in a future version. Use pandas.concat instead.\n",
      "  propertiessum90_95= propertiessum90_95.append(properties90_95[i])\n",
      "C:\\Users\\Gast-User\\AppData\\Local\\Temp\\ipykernel_3292\\1634514493.py:3: FutureWarning: The frame.append method is deprecated and will be removed from pandas in a future version. Use pandas.concat instead.\n",
      "  propertiessum90_95= propertiessum90_95.append(properties90_95[i])\n"
     ]
    }
   ],
   "source": [
    "propertiessum90_95 = pd.DataFrame()\n",
    "for i in range(5):\n",
    "    propertiessum90_95= propertiessum90_95.append(properties90_95[i]) \n",
    "propertiessum90_95.to_excel(\"tcell_properties_90_95_v4.xlsx\")"
   ]
  },
  {
   "cell_type": "code",
   "execution_count": 33,
   "id": "0e02dd8d",
   "metadata": {},
   "outputs": [
    {
     "name": "stderr",
     "output_type": "stream",
     "text": [
      "[Parallel(n_jobs=5)]: Using backend LokyBackend with 5 concurrent workers.\n",
      "[Parallel(n_jobs=5)]: Done   2 out of   5 | elapsed:  6.4min remaining:  9.7min\n"
     ]
    },
    {
     "name": "stdout",
     "output_type": "stream",
     "text": [
      "Elapsed time:  406.6454725265503\n"
     ]
    },
    {
     "name": "stderr",
     "output_type": "stream",
     "text": [
      "[Parallel(n_jobs=5)]: Done   5 out of   5 | elapsed:  6.8min finished\n"
     ]
    }
   ],
   "source": [
    "start_time = time.time()\n",
    "nslices = 5\n",
    "properties95_100 = Parallel(n_jobs=nslices, verbose=True)(delayed(tcell_properties)(i) for i in range(95,100))\n",
    "end_time = time.time()\n",
    "elapsed_time = end_time - start_time\n",
    "print(\"Elapsed time: \", elapsed_time)"
   ]
  },
  {
   "cell_type": "code",
   "execution_count": 34,
   "id": "005dac0f",
   "metadata": {},
   "outputs": [
    {
     "name": "stderr",
     "output_type": "stream",
     "text": [
      "C:\\Users\\Gast-User\\AppData\\Local\\Temp\\ipykernel_3292\\3984677415.py:3: FutureWarning: The frame.append method is deprecated and will be removed from pandas in a future version. Use pandas.concat instead.\n",
      "  propertiessum95_100= propertiessum95_100.append(properties95_100[i])\n",
      "C:\\Users\\Gast-User\\AppData\\Local\\Temp\\ipykernel_3292\\3984677415.py:3: FutureWarning: The frame.append method is deprecated and will be removed from pandas in a future version. Use pandas.concat instead.\n",
      "  propertiessum95_100= propertiessum95_100.append(properties95_100[i])\n",
      "C:\\Users\\Gast-User\\AppData\\Local\\Temp\\ipykernel_3292\\3984677415.py:3: FutureWarning: The frame.append method is deprecated and will be removed from pandas in a future version. Use pandas.concat instead.\n",
      "  propertiessum95_100= propertiessum95_100.append(properties95_100[i])\n"
     ]
    }
   ],
   "source": [
    "propertiessum95_100 = pd.DataFrame()\n",
    "for i in range(5):\n",
    "    propertiessum95_100= propertiessum95_100.append(properties95_100[i]) \n",
    "propertiessum95_100.to_excel(\"tcell_properties_95_100_v4.xlsx\")"
   ]
  },
  {
   "cell_type": "code",
   "execution_count": 35,
   "id": "0467e35d",
   "metadata": {},
   "outputs": [
    {
     "name": "stderr",
     "output_type": "stream",
     "text": [
      "[Parallel(n_jobs=5)]: Using backend LokyBackend with 5 concurrent workers.\n",
      "[Parallel(n_jobs=5)]: Done   2 out of   5 | elapsed:  6.5min remaining:  9.8min\n"
     ]
    },
    {
     "name": "stdout",
     "output_type": "stream",
     "text": [
      "Elapsed time:  408.8232614994049\n"
     ]
    },
    {
     "name": "stderr",
     "output_type": "stream",
     "text": [
      "[Parallel(n_jobs=5)]: Done   5 out of   5 | elapsed:  6.8min finished\n"
     ]
    }
   ],
   "source": [
    "start_time = time.time()\n",
    "nslices = 5\n",
    "properties100_105 = Parallel(n_jobs=nslices, verbose=True)(delayed(tcell_properties)(i) for i in range(100,105))\n",
    "end_time = time.time()\n",
    "elapsed_time = end_time - start_time\n",
    "print(\"Elapsed time: \", elapsed_time)"
   ]
  },
  {
   "cell_type": "code",
   "execution_count": 36,
   "id": "798a1122",
   "metadata": {},
   "outputs": [
    {
     "name": "stderr",
     "output_type": "stream",
     "text": [
      "C:\\Users\\Gast-User\\AppData\\Local\\Temp\\ipykernel_3292\\744529132.py:3: FutureWarning: The frame.append method is deprecated and will be removed from pandas in a future version. Use pandas.concat instead.\n",
      "  propertiessum100_105= propertiessum100_105.append(properties100_105[i])\n",
      "C:\\Users\\Gast-User\\AppData\\Local\\Temp\\ipykernel_3292\\744529132.py:3: FutureWarning: The frame.append method is deprecated and will be removed from pandas in a future version. Use pandas.concat instead.\n",
      "  propertiessum100_105= propertiessum100_105.append(properties100_105[i])\n",
      "C:\\Users\\Gast-User\\AppData\\Local\\Temp\\ipykernel_3292\\744529132.py:3: FutureWarning: The frame.append method is deprecated and will be removed from pandas in a future version. Use pandas.concat instead.\n",
      "  propertiessum100_105= propertiessum100_105.append(properties100_105[i])\n"
     ]
    }
   ],
   "source": [
    "propertiessum100_105 = pd.DataFrame()\n",
    "for i in range(5):\n",
    "    propertiessum100_105= propertiessum100_105.append(properties100_105[i]) \n",
    "propertiessum100_105.to_excel(\"tcell_properties_100_105_v4.xlsx\")"
   ]
  },
  {
   "cell_type": "code",
   "execution_count": 37,
   "id": "7863b348",
   "metadata": {},
   "outputs": [
    {
     "name": "stderr",
     "output_type": "stream",
     "text": [
      "[Parallel(n_jobs=5)]: Using backend LokyBackend with 5 concurrent workers.\n",
      "[Parallel(n_jobs=5)]: Done   2 out of   5 | elapsed:  5.6min remaining:  8.4min\n"
     ]
    },
    {
     "name": "stdout",
     "output_type": "stream",
     "text": [
      "Elapsed time:  347.4234023094177\n"
     ]
    },
    {
     "name": "stderr",
     "output_type": "stream",
     "text": [
      "[Parallel(n_jobs=5)]: Done   5 out of   5 | elapsed:  5.8min finished\n"
     ]
    }
   ],
   "source": [
    "start_time = time.time()\n",
    "nslices = 5\n",
    "properties105_110 = Parallel(n_jobs=nslices, verbose=True)(delayed(tcell_properties)(i) for i in range(105,110))\n",
    "end_time = time.time()\n",
    "elapsed_time = end_time - start_time\n",
    "print(\"Elapsed time: \", elapsed_time)"
   ]
  },
  {
   "cell_type": "code",
   "execution_count": 38,
   "id": "88022d44",
   "metadata": {},
   "outputs": [
    {
     "name": "stderr",
     "output_type": "stream",
     "text": [
      "C:\\Users\\Gast-User\\AppData\\Local\\Temp\\ipykernel_3292\\752507151.py:3: FutureWarning: The frame.append method is deprecated and will be removed from pandas in a future version. Use pandas.concat instead.\n",
      "  propertiessum105_110= propertiessum105_110.append(properties105_110[i])\n",
      "C:\\Users\\Gast-User\\AppData\\Local\\Temp\\ipykernel_3292\\752507151.py:3: FutureWarning: The frame.append method is deprecated and will be removed from pandas in a future version. Use pandas.concat instead.\n",
      "  propertiessum105_110= propertiessum105_110.append(properties105_110[i])\n",
      "C:\\Users\\Gast-User\\AppData\\Local\\Temp\\ipykernel_3292\\752507151.py:3: FutureWarning: The frame.append method is deprecated and will be removed from pandas in a future version. Use pandas.concat instead.\n",
      "  propertiessum105_110= propertiessum105_110.append(properties105_110[i])\n"
     ]
    }
   ],
   "source": [
    "propertiessum105_110= pd.DataFrame()\n",
    "for i in range(5):\n",
    "    propertiessum105_110= propertiessum105_110.append(properties105_110[i]) \n",
    "propertiessum105_110.to_excel(\"tcell_properties_105_110_v4.xlsx\")"
   ]
  },
  {
   "cell_type": "code",
   "execution_count": 39,
   "id": "dc570dc9",
   "metadata": {},
   "outputs": [
    {
     "name": "stderr",
     "output_type": "stream",
     "text": [
      "[Parallel(n_jobs=5)]: Using backend LokyBackend with 5 concurrent workers.\n",
      "[Parallel(n_jobs=5)]: Done   2 out of   5 | elapsed:  5.3min remaining:  8.0min\n"
     ]
    },
    {
     "name": "stdout",
     "output_type": "stream",
     "text": [
      "Elapsed time:  342.4164414405823\n"
     ]
    },
    {
     "name": "stderr",
     "output_type": "stream",
     "text": [
      "[Parallel(n_jobs=5)]: Done   5 out of   5 | elapsed:  5.7min finished\n"
     ]
    }
   ],
   "source": [
    "start_time = time.time()\n",
    "nslices = 5\n",
    "properties110_115 = Parallel(n_jobs=nslices, verbose=True)(delayed(tcell_properties)(i) for i in range(110,115))\n",
    "end_time = time.time()\n",
    "elapsed_time = end_time - start_time\n",
    "print(\"Elapsed time: \", elapsed_time)"
   ]
  },
  {
   "cell_type": "code",
   "execution_count": 40,
   "id": "3229aed0",
   "metadata": {},
   "outputs": [
    {
     "name": "stderr",
     "output_type": "stream",
     "text": [
      "C:\\Users\\Gast-User\\AppData\\Local\\Temp\\ipykernel_3292\\1977898756.py:3: FutureWarning: The frame.append method is deprecated and will be removed from pandas in a future version. Use pandas.concat instead.\n",
      "  propertiessum110_115= propertiessum110_115.append(properties110_115[i])\n",
      "C:\\Users\\Gast-User\\AppData\\Local\\Temp\\ipykernel_3292\\1977898756.py:3: FutureWarning: The frame.append method is deprecated and will be removed from pandas in a future version. Use pandas.concat instead.\n",
      "  propertiessum110_115= propertiessum110_115.append(properties110_115[i])\n",
      "C:\\Users\\Gast-User\\AppData\\Local\\Temp\\ipykernel_3292\\1977898756.py:3: FutureWarning: The frame.append method is deprecated and will be removed from pandas in a future version. Use pandas.concat instead.\n",
      "  propertiessum110_115= propertiessum110_115.append(properties110_115[i])\n"
     ]
    }
   ],
   "source": [
    "propertiessum110_115= pd.DataFrame()\n",
    "for i in range(5):\n",
    "    propertiessum110_115= propertiessum110_115.append(properties110_115[i]) \n",
    "propertiessum110_115.to_excel(\"tcell_properties_110_115_v4.xlsx\")"
   ]
  },
  {
   "cell_type": "code",
   "execution_count": 41,
   "id": "0b5423f3",
   "metadata": {},
   "outputs": [
    {
     "name": "stderr",
     "output_type": "stream",
     "text": [
      "[Parallel(n_jobs=5)]: Using backend LokyBackend with 5 concurrent workers.\n",
      "[Parallel(n_jobs=5)]: Done   2 out of   5 | elapsed:  5.5min remaining:  8.2min\n"
     ]
    },
    {
     "name": "stdout",
     "output_type": "stream",
     "text": [
      "Elapsed time:  347.4045889377594\n"
     ]
    },
    {
     "name": "stderr",
     "output_type": "stream",
     "text": [
      "[Parallel(n_jobs=5)]: Done   5 out of   5 | elapsed:  5.8min finished\n"
     ]
    }
   ],
   "source": [
    "start_time = time.time()\n",
    "nslices = 5\n",
    "properties115_120 = Parallel(n_jobs=nslices, verbose=True)(delayed(tcell_properties)(i) for i in range(115,120))\n",
    "end_time = time.time()\n",
    "elapsed_time = end_time - start_time\n",
    "print(\"Elapsed time: \", elapsed_time)"
   ]
  },
  {
   "cell_type": "code",
   "execution_count": 42,
   "id": "bdedbc8e",
   "metadata": {},
   "outputs": [
    {
     "name": "stderr",
     "output_type": "stream",
     "text": [
      "C:\\Users\\Gast-User\\AppData\\Local\\Temp\\ipykernel_3292\\3088768731.py:3: FutureWarning: The frame.append method is deprecated and will be removed from pandas in a future version. Use pandas.concat instead.\n",
      "  propertiessum115_120= propertiessum115_120.append(properties115_120[i])\n",
      "C:\\Users\\Gast-User\\AppData\\Local\\Temp\\ipykernel_3292\\3088768731.py:3: FutureWarning: The frame.append method is deprecated and will be removed from pandas in a future version. Use pandas.concat instead.\n",
      "  propertiessum115_120= propertiessum115_120.append(properties115_120[i])\n",
      "C:\\Users\\Gast-User\\AppData\\Local\\Temp\\ipykernel_3292\\3088768731.py:3: FutureWarning: The frame.append method is deprecated and will be removed from pandas in a future version. Use pandas.concat instead.\n",
      "  propertiessum115_120= propertiessum115_120.append(properties115_120[i])\n"
     ]
    }
   ],
   "source": [
    "propertiessum115_120= pd.DataFrame()\n",
    "for i in range(5):\n",
    "    propertiessum115_120= propertiessum115_120.append(properties115_120[i]) \n",
    "propertiessum115_120.to_excel(\"tcell_properties_115_120_v4.xlsx\")"
   ]
  },
  {
   "cell_type": "code",
   "execution_count": 43,
   "id": "5ed5219f",
   "metadata": {},
   "outputs": [
    {
     "name": "stderr",
     "output_type": "stream",
     "text": [
      "[Parallel(n_jobs=5)]: Using backend LokyBackend with 5 concurrent workers.\n",
      "[Parallel(n_jobs=5)]: Done   2 out of   5 | elapsed:  5.7min remaining:  8.5min\n"
     ]
    },
    {
     "name": "stdout",
     "output_type": "stream",
     "text": [
      "Elapsed time:  367.19653153419495\n"
     ]
    },
    {
     "name": "stderr",
     "output_type": "stream",
     "text": [
      "[Parallel(n_jobs=5)]: Done   5 out of   5 | elapsed:  6.1min finished\n"
     ]
    }
   ],
   "source": [
    "start_time = time.time()\n",
    "nslices = 5\n",
    "properties120_125 = Parallel(n_jobs=nslices, verbose=True)(delayed(tcell_properties)(i) for i in range(120,125))\n",
    "end_time = time.time()\n",
    "elapsed_time = end_time - start_time\n",
    "print(\"Elapsed time: \", elapsed_time)"
   ]
  },
  {
   "cell_type": "code",
   "execution_count": 44,
   "id": "0d0445c0",
   "metadata": {},
   "outputs": [
    {
     "name": "stderr",
     "output_type": "stream",
     "text": [
      "C:\\Users\\Gast-User\\AppData\\Local\\Temp\\ipykernel_3292\\3128661965.py:3: FutureWarning: The frame.append method is deprecated and will be removed from pandas in a future version. Use pandas.concat instead.\n",
      "  propertiessum120_125= propertiessum120_125.append(properties120_125[i])\n",
      "C:\\Users\\Gast-User\\AppData\\Local\\Temp\\ipykernel_3292\\3128661965.py:3: FutureWarning: The frame.append method is deprecated and will be removed from pandas in a future version. Use pandas.concat instead.\n",
      "  propertiessum120_125= propertiessum120_125.append(properties120_125[i])\n",
      "C:\\Users\\Gast-User\\AppData\\Local\\Temp\\ipykernel_3292\\3128661965.py:3: FutureWarning: The frame.append method is deprecated and will be removed from pandas in a future version. Use pandas.concat instead.\n",
      "  propertiessum120_125= propertiessum120_125.append(properties120_125[i])\n"
     ]
    }
   ],
   "source": [
    "propertiessum120_125= pd.DataFrame()\n",
    "for i in range(5):\n",
    "    propertiessum120_125= propertiessum120_125.append(properties120_125[i]) \n",
    "propertiessum120_125.to_excel(\"tcell_properties_120_125_v4.xlsx\")"
   ]
  },
  {
   "cell_type": "code",
   "execution_count": 45,
   "id": "265161c9",
   "metadata": {},
   "outputs": [
    {
     "name": "stderr",
     "output_type": "stream",
     "text": [
      "[Parallel(n_jobs=5)]: Using backend LokyBackend with 5 concurrent workers.\n",
      "[Parallel(n_jobs=5)]: Done   2 out of   5 | elapsed:  5.7min remaining:  8.5min\n"
     ]
    },
    {
     "name": "stdout",
     "output_type": "stream",
     "text": [
      "Elapsed time:  363.43441820144653\n"
     ]
    },
    {
     "name": "stderr",
     "output_type": "stream",
     "text": [
      "[Parallel(n_jobs=5)]: Done   5 out of   5 | elapsed:  6.1min finished\n"
     ]
    }
   ],
   "source": [
    "start_time = time.time()\n",
    "nslices = 5\n",
    "properties125_130 = Parallel(n_jobs=nslices, verbose=True)(delayed(tcell_properties)(i) for i in range(125,130))\n",
    "end_time = time.time()\n",
    "elapsed_time = end_time - start_time\n",
    "print(\"Elapsed time: \", elapsed_time)"
   ]
  },
  {
   "cell_type": "code",
   "execution_count": 46,
   "id": "af55a8b8",
   "metadata": {},
   "outputs": [
    {
     "name": "stderr",
     "output_type": "stream",
     "text": [
      "C:\\Users\\Gast-User\\AppData\\Local\\Temp\\ipykernel_3292\\2161199837.py:3: FutureWarning: The frame.append method is deprecated and will be removed from pandas in a future version. Use pandas.concat instead.\n",
      "  propertiessum125_130= propertiessum125_130.append(properties125_130[i])\n",
      "C:\\Users\\Gast-User\\AppData\\Local\\Temp\\ipykernel_3292\\2161199837.py:3: FutureWarning: The frame.append method is deprecated and will be removed from pandas in a future version. Use pandas.concat instead.\n",
      "  propertiessum125_130= propertiessum125_130.append(properties125_130[i])\n",
      "C:\\Users\\Gast-User\\AppData\\Local\\Temp\\ipykernel_3292\\2161199837.py:3: FutureWarning: The frame.append method is deprecated and will be removed from pandas in a future version. Use pandas.concat instead.\n",
      "  propertiessum125_130= propertiessum125_130.append(properties125_130[i])\n"
     ]
    }
   ],
   "source": [
    "propertiessum125_130= pd.DataFrame()\n",
    "for i in range(5):\n",
    "    propertiessum125_130= propertiessum125_130.append(properties125_130[i]) \n",
    "propertiessum125_130.to_excel(\"tcell_properties_125_130_v4.xlsx\")"
   ]
  },
  {
   "cell_type": "code",
   "execution_count": 47,
   "id": "e6285331",
   "metadata": {},
   "outputs": [
    {
     "name": "stderr",
     "output_type": "stream",
     "text": [
      "[Parallel(n_jobs=5)]: Using backend LokyBackend with 5 concurrent workers.\n",
      "[Parallel(n_jobs=5)]: Done   2 out of   5 | elapsed:  6.2min remaining:  9.3min\n"
     ]
    },
    {
     "name": "stdout",
     "output_type": "stream",
     "text": [
      "Elapsed time:  386.60404109954834\n"
     ]
    },
    {
     "name": "stderr",
     "output_type": "stream",
     "text": [
      "[Parallel(n_jobs=5)]: Done   5 out of   5 | elapsed:  6.4min finished\n"
     ]
    }
   ],
   "source": [
    "start_time = time.time()\n",
    "nslices = 5\n",
    "properties130_135 = Parallel(n_jobs=nslices, verbose=True)(delayed(tcell_properties)(i) for i in range(130,135))\n",
    "end_time = time.time()\n",
    "elapsed_time = end_time - start_time\n",
    "print(\"Elapsed time: \", elapsed_time)"
   ]
  },
  {
   "cell_type": "code",
   "execution_count": 48,
   "id": "374862fd",
   "metadata": {},
   "outputs": [
    {
     "name": "stderr",
     "output_type": "stream",
     "text": [
      "C:\\Users\\Gast-User\\AppData\\Local\\Temp\\ipykernel_3292\\3709007759.py:3: FutureWarning: The frame.append method is deprecated and will be removed from pandas in a future version. Use pandas.concat instead.\n",
      "  propertiessum130_135= propertiessum130_135.append(properties130_135[i])\n",
      "C:\\Users\\Gast-User\\AppData\\Local\\Temp\\ipykernel_3292\\3709007759.py:3: FutureWarning: The frame.append method is deprecated and will be removed from pandas in a future version. Use pandas.concat instead.\n",
      "  propertiessum130_135= propertiessum130_135.append(properties130_135[i])\n",
      "C:\\Users\\Gast-User\\AppData\\Local\\Temp\\ipykernel_3292\\3709007759.py:3: FutureWarning: The frame.append method is deprecated and will be removed from pandas in a future version. Use pandas.concat instead.\n",
      "  propertiessum130_135= propertiessum130_135.append(properties130_135[i])\n"
     ]
    }
   ],
   "source": [
    "propertiessum130_135= pd.DataFrame()\n",
    "for i in range(5):\n",
    "    propertiessum130_135= propertiessum130_135.append(properties130_135[i]) \n",
    "propertiessum130_135.to_excel(\"tcell_properties_130_135_v4.xlsx\")"
   ]
  },
  {
   "cell_type": "code",
   "execution_count": 49,
   "id": "c46dd227",
   "metadata": {},
   "outputs": [
    {
     "name": "stderr",
     "output_type": "stream",
     "text": [
      "[Parallel(n_jobs=5)]: Using backend LokyBackend with 5 concurrent workers.\n",
      "[Parallel(n_jobs=5)]: Done   2 out of   5 | elapsed:  6.3min remaining:  9.5min\n"
     ]
    },
    {
     "name": "stdout",
     "output_type": "stream",
     "text": [
      "Elapsed time:  424.1975305080414\n"
     ]
    },
    {
     "name": "stderr",
     "output_type": "stream",
     "text": [
      "[Parallel(n_jobs=5)]: Done   5 out of   5 | elapsed:  7.1min finished\n"
     ]
    }
   ],
   "source": [
    "start_time = time.time()\n",
    "nslices = 5\n",
    "properties135_140 = Parallel(n_jobs=nslices, verbose=True)(delayed(tcell_properties)(i) for i in range(135,140))\n",
    "end_time = time.time()\n",
    "elapsed_time = end_time - start_time\n",
    "print(\"Elapsed time: \", elapsed_time)"
   ]
  },
  {
   "cell_type": "code",
   "execution_count": 50,
   "id": "d19c91d8",
   "metadata": {},
   "outputs": [
    {
     "name": "stderr",
     "output_type": "stream",
     "text": [
      "C:\\Users\\Gast-User\\AppData\\Local\\Temp\\ipykernel_3292\\235415870.py:3: FutureWarning: The frame.append method is deprecated and will be removed from pandas in a future version. Use pandas.concat instead.\n",
      "  propertiessum135_140= propertiessum135_140.append(properties135_140[i])\n",
      "C:\\Users\\Gast-User\\AppData\\Local\\Temp\\ipykernel_3292\\235415870.py:3: FutureWarning: The frame.append method is deprecated and will be removed from pandas in a future version. Use pandas.concat instead.\n",
      "  propertiessum135_140= propertiessum135_140.append(properties135_140[i])\n",
      "C:\\Users\\Gast-User\\AppData\\Local\\Temp\\ipykernel_3292\\235415870.py:3: FutureWarning: The frame.append method is deprecated and will be removed from pandas in a future version. Use pandas.concat instead.\n",
      "  propertiessum135_140= propertiessum135_140.append(properties135_140[i])\n"
     ]
    }
   ],
   "source": [
    "propertiessum135_140= pd.DataFrame()\n",
    "for i in range(5):\n",
    "    propertiessum135_140= propertiessum135_140.append(properties135_140[i]) \n",
    "propertiessum135_140.to_excel(\"tcell_properties_135_140_v4.xlsx\")"
   ]
  },
  {
   "cell_type": "code",
   "execution_count": 51,
   "id": "52a3e8c0",
   "metadata": {},
   "outputs": [
    {
     "name": "stderr",
     "output_type": "stream",
     "text": [
      "[Parallel(n_jobs=5)]: Using backend LokyBackend with 5 concurrent workers.\n",
      "[Parallel(n_jobs=5)]: Done   2 out of   5 | elapsed:  6.2min remaining:  9.2min\n"
     ]
    },
    {
     "name": "stdout",
     "output_type": "stream",
     "text": [
      "Elapsed time:  402.0058629512787\n"
     ]
    },
    {
     "name": "stderr",
     "output_type": "stream",
     "text": [
      "[Parallel(n_jobs=5)]: Done   5 out of   5 | elapsed:  6.7min finished\n"
     ]
    }
   ],
   "source": [
    "start_time = time.time()\n",
    "nslices = 5\n",
    "properties140_145 = Parallel(n_jobs=nslices, verbose=True)(delayed(tcell_properties)(i) for i in range(140,145))\n",
    "end_time = time.time()\n",
    "elapsed_time = end_time - start_time\n",
    "print(\"Elapsed time: \", elapsed_time)"
   ]
  },
  {
   "cell_type": "code",
   "execution_count": 52,
   "id": "9fb664c4",
   "metadata": {},
   "outputs": [
    {
     "name": "stderr",
     "output_type": "stream",
     "text": [
      "C:\\Users\\Gast-User\\AppData\\Local\\Temp\\ipykernel_3292\\1241399371.py:3: FutureWarning: The frame.append method is deprecated and will be removed from pandas in a future version. Use pandas.concat instead.\n",
      "  propertiessum140_145= propertiessum140_145.append(properties140_145[i])\n",
      "C:\\Users\\Gast-User\\AppData\\Local\\Temp\\ipykernel_3292\\1241399371.py:3: FutureWarning: The frame.append method is deprecated and will be removed from pandas in a future version. Use pandas.concat instead.\n",
      "  propertiessum140_145= propertiessum140_145.append(properties140_145[i])\n",
      "C:\\Users\\Gast-User\\AppData\\Local\\Temp\\ipykernel_3292\\1241399371.py:3: FutureWarning: The frame.append method is deprecated and will be removed from pandas in a future version. Use pandas.concat instead.\n",
      "  propertiessum140_145= propertiessum140_145.append(properties140_145[i])\n"
     ]
    }
   ],
   "source": [
    "propertiessum140_145= pd.DataFrame()\n",
    "for i in range(5):\n",
    "    propertiessum140_145= propertiessum140_145.append(properties140_145[i]) \n",
    "propertiessum140_145.to_excel(\"tcell_properties_140_145_v4.xlsx\")"
   ]
  },
  {
   "cell_type": "code",
   "execution_count": 53,
   "id": "f4b3657d",
   "metadata": {},
   "outputs": [
    {
     "name": "stderr",
     "output_type": "stream",
     "text": [
      "[Parallel(n_jobs=5)]: Using backend LokyBackend with 5 concurrent workers.\n",
      "[Parallel(n_jobs=5)]: Done   2 out of   5 | elapsed:  5.7min remaining:  8.6min\n"
     ]
    },
    {
     "name": "stdout",
     "output_type": "stream",
     "text": [
      "Elapsed time:  366.25814938545227\n"
     ]
    },
    {
     "name": "stderr",
     "output_type": "stream",
     "text": [
      "[Parallel(n_jobs=5)]: Done   5 out of   5 | elapsed:  6.1min finished\n"
     ]
    }
   ],
   "source": [
    "start_time = time.time()\n",
    "nslices = 5\n",
    "properties145_150 = Parallel(n_jobs=nslices, verbose=True)(delayed(tcell_properties)(i) for i in range(145,150))\n",
    "end_time = time.time()\n",
    "elapsed_time = end_time - start_time\n",
    "print(\"Elapsed time: \", elapsed_time)"
   ]
  },
  {
   "cell_type": "code",
   "execution_count": 54,
   "id": "ed41f4fe",
   "metadata": {},
   "outputs": [
    {
     "name": "stderr",
     "output_type": "stream",
     "text": [
      "C:\\Users\\Gast-User\\AppData\\Local\\Temp\\ipykernel_3292\\477383314.py:3: FutureWarning: The frame.append method is deprecated and will be removed from pandas in a future version. Use pandas.concat instead.\n",
      "  propertiessum145_150= propertiessum145_150.append(properties145_150[i])\n",
      "C:\\Users\\Gast-User\\AppData\\Local\\Temp\\ipykernel_3292\\477383314.py:3: FutureWarning: The frame.append method is deprecated and will be removed from pandas in a future version. Use pandas.concat instead.\n",
      "  propertiessum145_150= propertiessum145_150.append(properties145_150[i])\n",
      "C:\\Users\\Gast-User\\AppData\\Local\\Temp\\ipykernel_3292\\477383314.py:3: FutureWarning: The frame.append method is deprecated and will be removed from pandas in a future version. Use pandas.concat instead.\n",
      "  propertiessum145_150= propertiessum145_150.append(properties145_150[i])\n"
     ]
    }
   ],
   "source": [
    "propertiessum145_150= pd.DataFrame()\n",
    "for i in range(5):\n",
    "    propertiessum145_150= propertiessum145_150.append(properties145_150[i]) \n",
    "propertiessum145_150.to_excel(\"tcell_properties_145_150_v4.xlsx\")"
   ]
  },
  {
   "cell_type": "code",
   "execution_count": 55,
   "id": "fcf54443",
   "metadata": {},
   "outputs": [
    {
     "name": "stderr",
     "output_type": "stream",
     "text": [
      "[Parallel(n_jobs=5)]: Using backend LokyBackend with 5 concurrent workers.\n",
      "[Parallel(n_jobs=5)]: Done   2 out of   5 | elapsed:  5.3min remaining:  8.0min\n"
     ]
    },
    {
     "name": "stdout",
     "output_type": "stream",
     "text": [
      "Elapsed time:  342.03448510169983\n"
     ]
    },
    {
     "name": "stderr",
     "output_type": "stream",
     "text": [
      "[Parallel(n_jobs=5)]: Done   5 out of   5 | elapsed:  5.7min finished\n"
     ]
    }
   ],
   "source": [
    "start_time = time.time()\n",
    "nslices = 5\n",
    "properties150_155 = Parallel(n_jobs=nslices, verbose=True)(delayed(tcell_properties)(i) for i in range(150,155))\n",
    "end_time = time.time()\n",
    "elapsed_time = end_time - start_time\n",
    "print(\"Elapsed time: \", elapsed_time)"
   ]
  },
  {
   "cell_type": "code",
   "execution_count": 56,
   "id": "11e756d0",
   "metadata": {},
   "outputs": [
    {
     "name": "stderr",
     "output_type": "stream",
     "text": [
      "C:\\Users\\Gast-User\\AppData\\Local\\Temp\\ipykernel_3292\\3030459622.py:3: FutureWarning: The frame.append method is deprecated and will be removed from pandas in a future version. Use pandas.concat instead.\n",
      "  propertiessum150_155= propertiessum150_155.append(properties150_155[i])\n",
      "C:\\Users\\Gast-User\\AppData\\Local\\Temp\\ipykernel_3292\\3030459622.py:3: FutureWarning: The frame.append method is deprecated and will be removed from pandas in a future version. Use pandas.concat instead.\n",
      "  propertiessum150_155= propertiessum150_155.append(properties150_155[i])\n",
      "C:\\Users\\Gast-User\\AppData\\Local\\Temp\\ipykernel_3292\\3030459622.py:3: FutureWarning: The frame.append method is deprecated and will be removed from pandas in a future version. Use pandas.concat instead.\n",
      "  propertiessum150_155= propertiessum150_155.append(properties150_155[i])\n"
     ]
    }
   ],
   "source": [
    "propertiessum150_155= pd.DataFrame()\n",
    "for i in range(5):\n",
    "    propertiessum150_155= propertiessum150_155.append(properties150_155[i]) \n",
    "propertiessum150_155.to_excel(\"tcell_properties_150_155_v4.xlsx\")"
   ]
  },
  {
   "cell_type": "markdown",
   "id": "7debfd9a",
   "metadata": {},
   "source": [
    "# PCA"
   ]
  },
  {
   "cell_type": "code",
   "execution_count": 5,
   "id": "e9a2ad8d",
   "metadata": {},
   "outputs": [],
   "source": [
    "features5 = pd.read_excel('tcell_properties_0_5_v4.xlsx', index_col=[0])\n",
    "features10 = pd.read_excel('tcell_properties_5_10_v4.xlsx', index_col=[0])\n",
    "features15 = pd.read_excel('tcell_properties_10_15_v4.xlsx', index_col=[0])\n",
    "features20 = pd.read_excel('tcell_properties_15_20_v4.xlsx', index_col=[0])\n",
    "features25 = pd.read_excel('tcell_properties_20_25_v4.xlsx', index_col=[0])\n",
    "features30 = pd.read_excel('tcell_properties_25_30_v4.xlsx', index_col=[0])\n",
    "features35 = pd.read_excel('tcell_properties_30_35_v4.xlsx', index_col=[0])\n",
    "features40 = pd.read_excel('tcell_properties_35_40_v4.xlsx', index_col=[0])\n",
    "features45 = pd.read_excel('tcell_properties_40_45_v4.xlsx', index_col=[0])\n",
    "features50 = pd.read_excel('tcell_properties_45_50_v4.xlsx', index_col=[0])\n",
    "features55 = pd.read_excel('tcell_properties_50_55_v4.xlsx', index_col=[0])\n",
    "features60 = pd.read_excel('tcell_properties_55_60_v4.xlsx', index_col=[0])\n",
    "features65 = pd.read_excel('tcell_properties_60_65_v4.xlsx', index_col=[0])\n",
    "features70 = pd.read_excel('tcell_properties_65_70_v4.xlsx', index_col=[0])\n",
    "features75 = pd.read_excel('tcell_properties_70_75_v4.xlsx', index_col=[0])\n",
    "features80 = pd.read_excel('tcell_properties_75_80_v4.xlsx', index_col=[0])\n",
    "features85 = pd.read_excel('tcell_properties_80_85_v4.xlsx', index_col=[0])\n",
    "features90 = pd.read_excel('tcell_properties_85_90_v4.xlsx', index_col=[0])\n",
    "features95 = pd.read_excel('tcell_properties_90_95_v4.xlsx', index_col=[0])\n",
    "features100 = pd.read_excel('tcell_properties_95_100_v4.xlsx', index_col=[0])\n",
    "features105= pd.read_excel('tcell_properties_100_105_v4.xlsx', index_col=[0])\n",
    "features110= pd.read_excel('tcell_properties_105_110_v4.xlsx', index_col=[0])\n",
    "features115 = pd.read_excel('tcell_properties_110_115_v4.xlsx', index_col=[0])\n",
    "features120 = pd.read_excel('tcell_properties_115_120_v4.xlsx', index_col=[0])\n",
    "features125 = pd.read_excel('tcell_properties_120_125_v4.xlsx', index_col=[0])\n",
    "features130 = pd.read_excel('tcell_properties_125_130_v4.xlsx', index_col=[0])\n",
    "features135 = pd.read_excel('tcell_properties_130_135_v4.xlsx', index_col=[0])\n",
    "features140 = pd.read_excel('tcell_properties_135_140_v4.xlsx', index_col=[0])\n",
    "features145 = pd.read_excel('tcell_properties_140_145_v4.xlsx', index_col=[0])\n",
    "features150 = pd.read_excel('tcell_properties_145_150_v4.xlsx', index_col=[0])\n",
    "features155 = pd.read_excel('tcell_properties_150_155_v4.xlsx', index_col=[0])"
   ]
  },
  {
   "cell_type": "code",
   "execution_count": 9,
   "id": "639890ac",
   "metadata": {},
   "outputs": [
    {
     "name": "stderr",
     "output_type": "stream",
     "text": [
      "C:\\Users\\Gast-User\\AppData\\Local\\Temp\\ipykernel_16728\\3462020068.py:2: FutureWarning: The frame.append method is deprecated and will be removed from pandas in a future version. Use pandas.concat instead.\n",
      "  total_features = total_features.append(features5)\n",
      "C:\\Users\\Gast-User\\AppData\\Local\\Temp\\ipykernel_16728\\3462020068.py:3: FutureWarning: The frame.append method is deprecated and will be removed from pandas in a future version. Use pandas.concat instead.\n",
      "  total_features = total_features.append(features10)\n",
      "C:\\Users\\Gast-User\\AppData\\Local\\Temp\\ipykernel_16728\\3462020068.py:4: FutureWarning: The frame.append method is deprecated and will be removed from pandas in a future version. Use pandas.concat instead.\n",
      "  total_features = total_features.append(features15)\n",
      "C:\\Users\\Gast-User\\AppData\\Local\\Temp\\ipykernel_16728\\3462020068.py:5: FutureWarning: The frame.append method is deprecated and will be removed from pandas in a future version. Use pandas.concat instead.\n",
      "  total_features = total_features.append(features20)\n",
      "C:\\Users\\Gast-User\\AppData\\Local\\Temp\\ipykernel_16728\\3462020068.py:6: FutureWarning: The frame.append method is deprecated and will be removed from pandas in a future version. Use pandas.concat instead.\n",
      "  total_features = total_features.append(features25)\n",
      "C:\\Users\\Gast-User\\AppData\\Local\\Temp\\ipykernel_16728\\3462020068.py:7: FutureWarning: The frame.append method is deprecated and will be removed from pandas in a future version. Use pandas.concat instead.\n",
      "  total_features = total_features.append(features30)\n",
      "C:\\Users\\Gast-User\\AppData\\Local\\Temp\\ipykernel_16728\\3462020068.py:8: FutureWarning: The frame.append method is deprecated and will be removed from pandas in a future version. Use pandas.concat instead.\n",
      "  total_features = total_features.append(features35)\n",
      "C:\\Users\\Gast-User\\AppData\\Local\\Temp\\ipykernel_16728\\3462020068.py:9: FutureWarning: The frame.append method is deprecated and will be removed from pandas in a future version. Use pandas.concat instead.\n",
      "  total_features = total_features.append(features40)\n",
      "C:\\Users\\Gast-User\\AppData\\Local\\Temp\\ipykernel_16728\\3462020068.py:10: FutureWarning: The frame.append method is deprecated and will be removed from pandas in a future version. Use pandas.concat instead.\n",
      "  total_features = total_features.append(features45)\n",
      "C:\\Users\\Gast-User\\AppData\\Local\\Temp\\ipykernel_16728\\3462020068.py:11: FutureWarning: The frame.append method is deprecated and will be removed from pandas in a future version. Use pandas.concat instead.\n",
      "  total_features = total_features.append(features50)\n",
      "C:\\Users\\Gast-User\\AppData\\Local\\Temp\\ipykernel_16728\\3462020068.py:12: FutureWarning: The frame.append method is deprecated and will be removed from pandas in a future version. Use pandas.concat instead.\n",
      "  total_features = total_features.append(features55)\n",
      "C:\\Users\\Gast-User\\AppData\\Local\\Temp\\ipykernel_16728\\3462020068.py:13: FutureWarning: The frame.append method is deprecated and will be removed from pandas in a future version. Use pandas.concat instead.\n",
      "  total_features = total_features.append(features60)\n",
      "C:\\Users\\Gast-User\\AppData\\Local\\Temp\\ipykernel_16728\\3462020068.py:14: FutureWarning: The frame.append method is deprecated and will be removed from pandas in a future version. Use pandas.concat instead.\n",
      "  total_features = total_features.append(features65)\n",
      "C:\\Users\\Gast-User\\AppData\\Local\\Temp\\ipykernel_16728\\3462020068.py:15: FutureWarning: The frame.append method is deprecated and will be removed from pandas in a future version. Use pandas.concat instead.\n",
      "  total_features = total_features.append(features70)\n",
      "C:\\Users\\Gast-User\\AppData\\Local\\Temp\\ipykernel_16728\\3462020068.py:16: FutureWarning: The frame.append method is deprecated and will be removed from pandas in a future version. Use pandas.concat instead.\n",
      "  total_features = total_features.append(features75)\n",
      "C:\\Users\\Gast-User\\AppData\\Local\\Temp\\ipykernel_16728\\3462020068.py:17: FutureWarning: The frame.append method is deprecated and will be removed from pandas in a future version. Use pandas.concat instead.\n",
      "  total_features = total_features.append(features80)\n",
      "C:\\Users\\Gast-User\\AppData\\Local\\Temp\\ipykernel_16728\\3462020068.py:18: FutureWarning: The frame.append method is deprecated and will be removed from pandas in a future version. Use pandas.concat instead.\n",
      "  total_features = total_features.append(features85)\n",
      "C:\\Users\\Gast-User\\AppData\\Local\\Temp\\ipykernel_16728\\3462020068.py:19: FutureWarning: The frame.append method is deprecated and will be removed from pandas in a future version. Use pandas.concat instead.\n",
      "  total_features = total_features.append(features90)\n",
      "C:\\Users\\Gast-User\\AppData\\Local\\Temp\\ipykernel_16728\\3462020068.py:20: FutureWarning: The frame.append method is deprecated and will be removed from pandas in a future version. Use pandas.concat instead.\n",
      "  total_features = total_features.append(features95)\n",
      "C:\\Users\\Gast-User\\AppData\\Local\\Temp\\ipykernel_16728\\3462020068.py:21: FutureWarning: The frame.append method is deprecated and will be removed from pandas in a future version. Use pandas.concat instead.\n",
      "  total_features = total_features.append(features100)\n",
      "C:\\Users\\Gast-User\\AppData\\Local\\Temp\\ipykernel_16728\\3462020068.py:22: FutureWarning: The frame.append method is deprecated and will be removed from pandas in a future version. Use pandas.concat instead.\n",
      "  total_features = total_features.append(features105)\n",
      "C:\\Users\\Gast-User\\AppData\\Local\\Temp\\ipykernel_16728\\3462020068.py:23: FutureWarning: The frame.append method is deprecated and will be removed from pandas in a future version. Use pandas.concat instead.\n",
      "  total_features = total_features.append(features110)\n",
      "C:\\Users\\Gast-User\\AppData\\Local\\Temp\\ipykernel_16728\\3462020068.py:24: FutureWarning: The frame.append method is deprecated and will be removed from pandas in a future version. Use pandas.concat instead.\n",
      "  total_features = total_features.append(features115)\n",
      "C:\\Users\\Gast-User\\AppData\\Local\\Temp\\ipykernel_16728\\3462020068.py:25: FutureWarning: The frame.append method is deprecated and will be removed from pandas in a future version. Use pandas.concat instead.\n",
      "  total_features = total_features.append(features120)\n",
      "C:\\Users\\Gast-User\\AppData\\Local\\Temp\\ipykernel_16728\\3462020068.py:26: FutureWarning: The frame.append method is deprecated and will be removed from pandas in a future version. Use pandas.concat instead.\n",
      "  total_features = total_features.append(features125)\n",
      "C:\\Users\\Gast-User\\AppData\\Local\\Temp\\ipykernel_16728\\3462020068.py:27: FutureWarning: The frame.append method is deprecated and will be removed from pandas in a future version. Use pandas.concat instead.\n",
      "  total_features = total_features.append(features130)\n",
      "C:\\Users\\Gast-User\\AppData\\Local\\Temp\\ipykernel_16728\\3462020068.py:28: FutureWarning: The frame.append method is deprecated and will be removed from pandas in a future version. Use pandas.concat instead.\n",
      "  total_features = total_features.append(features135)\n",
      "C:\\Users\\Gast-User\\AppData\\Local\\Temp\\ipykernel_16728\\3462020068.py:29: FutureWarning: The frame.append method is deprecated and will be removed from pandas in a future version. Use pandas.concat instead.\n",
      "  total_features = total_features.append(features140)\n",
      "C:\\Users\\Gast-User\\AppData\\Local\\Temp\\ipykernel_16728\\3462020068.py:30: FutureWarning: The frame.append method is deprecated and will be removed from pandas in a future version. Use pandas.concat instead.\n",
      "  total_features = total_features.append(features145)\n",
      "C:\\Users\\Gast-User\\AppData\\Local\\Temp\\ipykernel_16728\\3462020068.py:31: FutureWarning: The frame.append method is deprecated and will be removed from pandas in a future version. Use pandas.concat instead.\n",
      "  total_features = total_features.append(features150)\n",
      "C:\\Users\\Gast-User\\AppData\\Local\\Temp\\ipykernel_16728\\3462020068.py:32: FutureWarning: The frame.append method is deprecated and will be removed from pandas in a future version. Use pandas.concat instead.\n",
      "  total_features = total_features.append(features155)\n"
     ]
    }
   ],
   "source": [
    "total_features = pd.DataFrame()\n",
    "total_features = total_features.append(features5) \n",
    "total_features = total_features.append(features10) \n",
    "total_features = total_features.append(features15)\n",
    "total_features = total_features.append(features20)\n",
    "total_features = total_features.append(features25)\n",
    "total_features = total_features.append(features30)\n",
    "total_features = total_features.append(features35)\n",
    "total_features = total_features.append(features40)\n",
    "total_features = total_features.append(features45)\n",
    "total_features = total_features.append(features50)\n",
    "total_features = total_features.append(features55)\n",
    "total_features = total_features.append(features60)\n",
    "total_features = total_features.append(features65)\n",
    "total_features = total_features.append(features70)\n",
    "total_features = total_features.append(features75)\n",
    "total_features = total_features.append(features80)\n",
    "total_features = total_features.append(features85)\n",
    "total_features = total_features.append(features90)\n",
    "total_features = total_features.append(features95)\n",
    "total_features = total_features.append(features100)\n",
    "total_features = total_features.append(features105)\n",
    "total_features = total_features.append(features110)\n",
    "total_features = total_features.append(features115)\n",
    "total_features = total_features.append(features120)\n",
    "total_features = total_features.append(features125)\n",
    "total_features = total_features.append(features130)\n",
    "total_features = total_features.append(features135)\n",
    "total_features = total_features.append(features140)\n",
    "total_features = total_features.append(features145)\n",
    "total_features = total_features.append(features150)\n",
    "total_features = total_features.append(features155)"
   ]
  },
  {
   "cell_type": "code",
   "execution_count": 10,
   "id": "458c0ad8",
   "metadata": {},
   "outputs": [
    {
     "data": {
      "text/html": [
       "<div>\n",
       "<style scoped>\n",
       "    .dataframe tbody tr th:only-of-type {\n",
       "        vertical-align: middle;\n",
       "    }\n",
       "\n",
       "    .dataframe tbody tr th {\n",
       "        vertical-align: top;\n",
       "    }\n",
       "\n",
       "    .dataframe thead th {\n",
       "        text-align: right;\n",
       "    }\n",
       "</style>\n",
       "<table border=\"1\" class=\"dataframe\">\n",
       "  <thead>\n",
       "    <tr style=\"text-align: right;\">\n",
       "      <th></th>\n",
       "      <th>cell_area</th>\n",
       "      <th>cell_aspect</th>\n",
       "      <th>cell_roundness</th>\n",
       "      <th>number_mito</th>\n",
       "      <th>mean_mito_aspect</th>\n",
       "      <th>std_mito_aspect</th>\n",
       "      <th>mean_mito_area</th>\n",
       "      <th>std_mito_area</th>\n",
       "      <th>mean_mito_roundness</th>\n",
       "      <th>std_mito_roundness</th>\n",
       "      <th>...</th>\n",
       "      <th>gold_area</th>\n",
       "      <th>nucleus_area</th>\n",
       "      <th>golgi_area</th>\n",
       "      <th>cytoplasm_area</th>\n",
       "      <th>ER_lengths</th>\n",
       "      <th>sl_num</th>\n",
       "      <th>x1</th>\n",
       "      <th>x2</th>\n",
       "      <th>y1</th>\n",
       "      <th>y2</th>\n",
       "    </tr>\n",
       "  </thead>\n",
       "  <tbody>\n",
       "    <tr>\n",
       "      <th>0</th>\n",
       "      <td>567924</td>\n",
       "      <td>0.692308</td>\n",
       "      <td>0.505520</td>\n",
       "      <td>0</td>\n",
       "      <td>0.000000</td>\n",
       "      <td>0.000000</td>\n",
       "      <td>0.000000</td>\n",
       "      <td>0.000000</td>\n",
       "      <td>0.000000</td>\n",
       "      <td>0.000000</td>\n",
       "      <td>...</td>\n",
       "      <td>13744</td>\n",
       "      <td>281000</td>\n",
       "      <td>0</td>\n",
       "      <td>286924</td>\n",
       "      <td>5790.005387</td>\n",
       "      <td>0</td>\n",
       "      <td>3256</td>\n",
       "      <td>4084</td>\n",
       "      <td>29148</td>\n",
       "      <td>30344</td>\n",
       "    </tr>\n",
       "    <tr>\n",
       "      <th>1</th>\n",
       "      <td>523764</td>\n",
       "      <td>0.821293</td>\n",
       "      <td>0.602579</td>\n",
       "      <td>13</td>\n",
       "      <td>0.859884</td>\n",
       "      <td>0.146664</td>\n",
       "      <td>1620.307692</td>\n",
       "      <td>978.392507</td>\n",
       "      <td>0.844462</td>\n",
       "      <td>0.142653</td>\n",
       "      <td>...</td>\n",
       "      <td>7468</td>\n",
       "      <td>24</td>\n",
       "      <td>1237</td>\n",
       "      <td>523740</td>\n",
       "      <td>9256.108314</td>\n",
       "      <td>0</td>\n",
       "      <td>3658</td>\n",
       "      <td>4710</td>\n",
       "      <td>28706</td>\n",
       "      <td>29570</td>\n",
       "    </tr>\n",
       "    <tr>\n",
       "      <th>2</th>\n",
       "      <td>29448</td>\n",
       "      <td>0.535000</td>\n",
       "      <td>0.234340</td>\n",
       "      <td>0</td>\n",
       "      <td>0.000000</td>\n",
       "      <td>0.000000</td>\n",
       "      <td>0.000000</td>\n",
       "      <td>0.000000</td>\n",
       "      <td>0.000000</td>\n",
       "      <td>0.000000</td>\n",
       "      <td>...</td>\n",
       "      <td>540</td>\n",
       "      <td>97008</td>\n",
       "      <td>0</td>\n",
       "      <td>-67560</td>\n",
       "      <td>452.752307</td>\n",
       "      <td>0</td>\n",
       "      <td>4720</td>\n",
       "      <td>5120</td>\n",
       "      <td>29274</td>\n",
       "      <td>29488</td>\n",
       "    </tr>\n",
       "    <tr>\n",
       "      <th>3</th>\n",
       "      <td>110076</td>\n",
       "      <td>0.555133</td>\n",
       "      <td>0.506560</td>\n",
       "      <td>3</td>\n",
       "      <td>0.954545</td>\n",
       "      <td>0.078730</td>\n",
       "      <td>945.333333</td>\n",
       "      <td>392.333192</td>\n",
       "      <td>0.991240</td>\n",
       "      <td>0.099072</td>\n",
       "      <td>...</td>\n",
       "      <td>1368</td>\n",
       "      <td>56</td>\n",
       "      <td>0</td>\n",
       "      <td>110020</td>\n",
       "      <td>0.000000</td>\n",
       "      <td>0</td>\n",
       "      <td>6784</td>\n",
       "      <td>7310</td>\n",
       "      <td>30750</td>\n",
       "      <td>31042</td>\n",
       "    </tr>\n",
       "    <tr>\n",
       "      <th>4</th>\n",
       "      <td>99388</td>\n",
       "      <td>0.684647</td>\n",
       "      <td>0.544691</td>\n",
       "      <td>3</td>\n",
       "      <td>0.944444</td>\n",
       "      <td>0.096225</td>\n",
       "      <td>574.000000</td>\n",
       "      <td>228.085510</td>\n",
       "      <td>0.984248</td>\n",
       "      <td>0.111467</td>\n",
       "      <td>...</td>\n",
       "      <td>712</td>\n",
       "      <td>30432</td>\n",
       "      <td>0</td>\n",
       "      <td>68956</td>\n",
       "      <td>1835.581945</td>\n",
       "      <td>0</td>\n",
       "      <td>9622</td>\n",
       "      <td>10104</td>\n",
       "      <td>29474</td>\n",
       "      <td>29804</td>\n",
       "    </tr>\n",
       "    <tr>\n",
       "      <th>...</th>\n",
       "      <td>...</td>\n",
       "      <td>...</td>\n",
       "      <td>...</td>\n",
       "      <td>...</td>\n",
       "      <td>...</td>\n",
       "      <td>...</td>\n",
       "      <td>...</td>\n",
       "      <td>...</td>\n",
       "      <td>...</td>\n",
       "      <td>...</td>\n",
       "      <td>...</td>\n",
       "      <td>...</td>\n",
       "      <td>...</td>\n",
       "      <td>...</td>\n",
       "      <td>...</td>\n",
       "      <td>...</td>\n",
       "      <td>...</td>\n",
       "      <td>...</td>\n",
       "      <td>...</td>\n",
       "      <td>...</td>\n",
       "      <td>...</td>\n",
       "    </tr>\n",
       "    <tr>\n",
       "      <th>0</th>\n",
       "      <td>369140</td>\n",
       "      <td>0.600406</td>\n",
       "      <td>0.483445</td>\n",
       "      <td>5</td>\n",
       "      <td>0.850536</td>\n",
       "      <td>0.065374</td>\n",
       "      <td>1480.800000</td>\n",
       "      <td>277.105034</td>\n",
       "      <td>0.761238</td>\n",
       "      <td>0.125115</td>\n",
       "      <td>...</td>\n",
       "      <td>49612</td>\n",
       "      <td>154752</td>\n",
       "      <td>0</td>\n",
       "      <td>214388</td>\n",
       "      <td>1810.378847</td>\n",
       "      <td>150</td>\n",
       "      <td>9782</td>\n",
       "      <td>10768</td>\n",
       "      <td>32244</td>\n",
       "      <td>32836</td>\n",
       "    </tr>\n",
       "    <tr>\n",
       "      <th>0</th>\n",
       "      <td>365204</td>\n",
       "      <td>0.560158</td>\n",
       "      <td>0.452241</td>\n",
       "      <td>3</td>\n",
       "      <td>0.951297</td>\n",
       "      <td>0.004712</td>\n",
       "      <td>1310.666667</td>\n",
       "      <td>246.619815</td>\n",
       "      <td>0.972257</td>\n",
       "      <td>0.014880</td>\n",
       "      <td>...</td>\n",
       "      <td>23112</td>\n",
       "      <td>173936</td>\n",
       "      <td>0</td>\n",
       "      <td>191268</td>\n",
       "      <td>942.607209</td>\n",
       "      <td>151</td>\n",
       "      <td>9792</td>\n",
       "      <td>10806</td>\n",
       "      <td>32336</td>\n",
       "      <td>32904</td>\n",
       "    </tr>\n",
       "    <tr>\n",
       "      <th>0</th>\n",
       "      <td>380196</td>\n",
       "      <td>0.542650</td>\n",
       "      <td>0.398616</td>\n",
       "      <td>2</td>\n",
       "      <td>0.917273</td>\n",
       "      <td>0.052712</td>\n",
       "      <td>1592.000000</td>\n",
       "      <td>175.362482</td>\n",
       "      <td>0.919702</td>\n",
       "      <td>0.064701</td>\n",
       "      <td>...</td>\n",
       "      <td>11752</td>\n",
       "      <td>189780</td>\n",
       "      <td>0</td>\n",
       "      <td>190416</td>\n",
       "      <td>524.724962</td>\n",
       "      <td>152</td>\n",
       "      <td>9754</td>\n",
       "      <td>10856</td>\n",
       "      <td>32274</td>\n",
       "      <td>32872</td>\n",
       "    </tr>\n",
       "    <tr>\n",
       "      <th>0</th>\n",
       "      <td>333256</td>\n",
       "      <td>0.579957</td>\n",
       "      <td>0.482261</td>\n",
       "      <td>2</td>\n",
       "      <td>0.797203</td>\n",
       "      <td>0.093951</td>\n",
       "      <td>1330.000000</td>\n",
       "      <td>82.024387</td>\n",
       "      <td>0.755895</td>\n",
       "      <td>0.221953</td>\n",
       "      <td>...</td>\n",
       "      <td>20952</td>\n",
       "      <td>187116</td>\n",
       "      <td>0</td>\n",
       "      <td>146140</td>\n",
       "      <td>1117.300639</td>\n",
       "      <td>153</td>\n",
       "      <td>9834</td>\n",
       "      <td>10772</td>\n",
       "      <td>32334</td>\n",
       "      <td>32878</td>\n",
       "    </tr>\n",
       "    <tr>\n",
       "      <th>0</th>\n",
       "      <td>309984</td>\n",
       "      <td>0.554371</td>\n",
       "      <td>0.448584</td>\n",
       "      <td>1</td>\n",
       "      <td>0.777778</td>\n",
       "      <td>0.000000</td>\n",
       "      <td>1476.000000</td>\n",
       "      <td>0.000000</td>\n",
       "      <td>0.644479</td>\n",
       "      <td>0.000000</td>\n",
       "      <td>...</td>\n",
       "      <td>17676</td>\n",
       "      <td>165912</td>\n",
       "      <td>0</td>\n",
       "      <td>144072</td>\n",
       "      <td>625.671134</td>\n",
       "      <td>154</td>\n",
       "      <td>9844</td>\n",
       "      <td>10782</td>\n",
       "      <td>32412</td>\n",
       "      <td>32932</td>\n",
       "    </tr>\n",
       "  </tbody>\n",
       "</table>\n",
       "<p>3291 rows × 30 columns</p>\n",
       "</div>"
      ],
      "text/plain": [
       "    cell_area  cell_aspect  cell_roundness  number_mito  mean_mito_aspect  \\\n",
       "0      567924     0.692308        0.505520            0          0.000000   \n",
       "1      523764     0.821293        0.602579           13          0.859884   \n",
       "2       29448     0.535000        0.234340            0          0.000000   \n",
       "3      110076     0.555133        0.506560            3          0.954545   \n",
       "4       99388     0.684647        0.544691            3          0.944444   \n",
       "..        ...          ...             ...          ...               ...   \n",
       "0      369140     0.600406        0.483445            5          0.850536   \n",
       "0      365204     0.560158        0.452241            3          0.951297   \n",
       "0      380196     0.542650        0.398616            2          0.917273   \n",
       "0      333256     0.579957        0.482261            2          0.797203   \n",
       "0      309984     0.554371        0.448584            1          0.777778   \n",
       "\n",
       "    std_mito_aspect  mean_mito_area  std_mito_area  mean_mito_roundness  \\\n",
       "0          0.000000        0.000000       0.000000             0.000000   \n",
       "1          0.146664     1620.307692     978.392507             0.844462   \n",
       "2          0.000000        0.000000       0.000000             0.000000   \n",
       "3          0.078730      945.333333     392.333192             0.991240   \n",
       "4          0.096225      574.000000     228.085510             0.984248   \n",
       "..              ...             ...            ...                  ...   \n",
       "0          0.065374     1480.800000     277.105034             0.761238   \n",
       "0          0.004712     1310.666667     246.619815             0.972257   \n",
       "0          0.052712     1592.000000     175.362482             0.919702   \n",
       "0          0.093951     1330.000000      82.024387             0.755895   \n",
       "0          0.000000     1476.000000       0.000000             0.644479   \n",
       "\n",
       "    std_mito_roundness  ...  gold_area  nucleus_area  golgi_area  \\\n",
       "0             0.000000  ...      13744        281000           0   \n",
       "1             0.142653  ...       7468            24        1237   \n",
       "2             0.000000  ...        540         97008           0   \n",
       "3             0.099072  ...       1368            56           0   \n",
       "4             0.111467  ...        712         30432           0   \n",
       "..                 ...  ...        ...           ...         ...   \n",
       "0             0.125115  ...      49612        154752           0   \n",
       "0             0.014880  ...      23112        173936           0   \n",
       "0             0.064701  ...      11752        189780           0   \n",
       "0             0.221953  ...      20952        187116           0   \n",
       "0             0.000000  ...      17676        165912           0   \n",
       "\n",
       "    cytoplasm_area   ER_lengths  sl_num    x1     x2     y1     y2  \n",
       "0           286924  5790.005387       0  3256   4084  29148  30344  \n",
       "1           523740  9256.108314       0  3658   4710  28706  29570  \n",
       "2           -67560   452.752307       0  4720   5120  29274  29488  \n",
       "3           110020     0.000000       0  6784   7310  30750  31042  \n",
       "4            68956  1835.581945       0  9622  10104  29474  29804  \n",
       "..             ...          ...     ...   ...    ...    ...    ...  \n",
       "0           214388  1810.378847     150  9782  10768  32244  32836  \n",
       "0           191268   942.607209     151  9792  10806  32336  32904  \n",
       "0           190416   524.724962     152  9754  10856  32274  32872  \n",
       "0           146140  1117.300639     153  9834  10772  32334  32878  \n",
       "0           144072   625.671134     154  9844  10782  32412  32932  \n",
       "\n",
       "[3291 rows x 30 columns]"
      ]
     },
     "execution_count": 10,
     "metadata": {},
     "output_type": "execute_result"
    }
   ],
   "source": [
    "total_features\n"
   ]
  },
  {
   "cell_type": "code",
   "execution_count": 11,
   "id": "f25c01ba",
   "metadata": {},
   "outputs": [],
   "source": [
    "total_features.to_excel(\"total_features_v4.xlsx\")"
   ]
  },
  {
   "cell_type": "code",
   "execution_count": 19,
   "id": "7043d279",
   "metadata": {},
   "outputs": [],
   "source": [
    "featuresraw = pd.read_excel('total_features_v4.xlsx', index_col=[0])\n"
   ]
  },
  {
   "cell_type": "code",
   "execution_count": 20,
   "id": "c3cc815f",
   "metadata": {},
   "outputs": [
    {
     "data": {
      "text/html": [
       "<div>\n",
       "<style scoped>\n",
       "    .dataframe tbody tr th:only-of-type {\n",
       "        vertical-align: middle;\n",
       "    }\n",
       "\n",
       "    .dataframe tbody tr th {\n",
       "        vertical-align: top;\n",
       "    }\n",
       "\n",
       "    .dataframe thead th {\n",
       "        text-align: right;\n",
       "    }\n",
       "</style>\n",
       "<table border=\"1\" class=\"dataframe\">\n",
       "  <thead>\n",
       "    <tr style=\"text-align: right;\">\n",
       "      <th></th>\n",
       "      <th>cell_area</th>\n",
       "      <th>cell_aspect</th>\n",
       "      <th>cell_roundness</th>\n",
       "      <th>number_mito</th>\n",
       "      <th>mean_mito_aspect</th>\n",
       "      <th>std_mito_aspect</th>\n",
       "      <th>mean_mito_area</th>\n",
       "      <th>std_mito_area</th>\n",
       "      <th>mean_mito_roundness</th>\n",
       "      <th>std_mito_roundness</th>\n",
       "      <th>...</th>\n",
       "      <th>gold_area</th>\n",
       "      <th>nucleus_area</th>\n",
       "      <th>golgi_area</th>\n",
       "      <th>cytoplasm_area</th>\n",
       "      <th>ER_lengths</th>\n",
       "      <th>sl_num</th>\n",
       "      <th>x1</th>\n",
       "      <th>x2</th>\n",
       "      <th>y1</th>\n",
       "      <th>y2</th>\n",
       "    </tr>\n",
       "  </thead>\n",
       "  <tbody>\n",
       "    <tr>\n",
       "      <th>0</th>\n",
       "      <td>567924</td>\n",
       "      <td>0.692308</td>\n",
       "      <td>0.505520</td>\n",
       "      <td>0</td>\n",
       "      <td>0.000000</td>\n",
       "      <td>0.000000</td>\n",
       "      <td>0.000000</td>\n",
       "      <td>0.000000</td>\n",
       "      <td>0.000000</td>\n",
       "      <td>0.000000</td>\n",
       "      <td>...</td>\n",
       "      <td>13744</td>\n",
       "      <td>281000</td>\n",
       "      <td>0</td>\n",
       "      <td>286924</td>\n",
       "      <td>5790.005387</td>\n",
       "      <td>0</td>\n",
       "      <td>3256</td>\n",
       "      <td>4084</td>\n",
       "      <td>29148</td>\n",
       "      <td>30344</td>\n",
       "    </tr>\n",
       "    <tr>\n",
       "      <th>1</th>\n",
       "      <td>523764</td>\n",
       "      <td>0.821293</td>\n",
       "      <td>0.602579</td>\n",
       "      <td>13</td>\n",
       "      <td>0.859884</td>\n",
       "      <td>0.146664</td>\n",
       "      <td>1620.307692</td>\n",
       "      <td>978.392507</td>\n",
       "      <td>0.844462</td>\n",
       "      <td>0.142653</td>\n",
       "      <td>...</td>\n",
       "      <td>7468</td>\n",
       "      <td>24</td>\n",
       "      <td>1237</td>\n",
       "      <td>523740</td>\n",
       "      <td>9256.108314</td>\n",
       "      <td>0</td>\n",
       "      <td>3658</td>\n",
       "      <td>4710</td>\n",
       "      <td>28706</td>\n",
       "      <td>29570</td>\n",
       "    </tr>\n",
       "    <tr>\n",
       "      <th>2</th>\n",
       "      <td>29448</td>\n",
       "      <td>0.535000</td>\n",
       "      <td>0.234340</td>\n",
       "      <td>0</td>\n",
       "      <td>0.000000</td>\n",
       "      <td>0.000000</td>\n",
       "      <td>0.000000</td>\n",
       "      <td>0.000000</td>\n",
       "      <td>0.000000</td>\n",
       "      <td>0.000000</td>\n",
       "      <td>...</td>\n",
       "      <td>540</td>\n",
       "      <td>97008</td>\n",
       "      <td>0</td>\n",
       "      <td>-67560</td>\n",
       "      <td>452.752307</td>\n",
       "      <td>0</td>\n",
       "      <td>4720</td>\n",
       "      <td>5120</td>\n",
       "      <td>29274</td>\n",
       "      <td>29488</td>\n",
       "    </tr>\n",
       "    <tr>\n",
       "      <th>3</th>\n",
       "      <td>110076</td>\n",
       "      <td>0.555133</td>\n",
       "      <td>0.506560</td>\n",
       "      <td>3</td>\n",
       "      <td>0.954545</td>\n",
       "      <td>0.078730</td>\n",
       "      <td>945.333333</td>\n",
       "      <td>392.333192</td>\n",
       "      <td>0.991240</td>\n",
       "      <td>0.099072</td>\n",
       "      <td>...</td>\n",
       "      <td>1368</td>\n",
       "      <td>56</td>\n",
       "      <td>0</td>\n",
       "      <td>110020</td>\n",
       "      <td>0.000000</td>\n",
       "      <td>0</td>\n",
       "      <td>6784</td>\n",
       "      <td>7310</td>\n",
       "      <td>30750</td>\n",
       "      <td>31042</td>\n",
       "    </tr>\n",
       "    <tr>\n",
       "      <th>4</th>\n",
       "      <td>99388</td>\n",
       "      <td>0.684647</td>\n",
       "      <td>0.544691</td>\n",
       "      <td>3</td>\n",
       "      <td>0.944444</td>\n",
       "      <td>0.096225</td>\n",
       "      <td>574.000000</td>\n",
       "      <td>228.085510</td>\n",
       "      <td>0.984248</td>\n",
       "      <td>0.111467</td>\n",
       "      <td>...</td>\n",
       "      <td>712</td>\n",
       "      <td>30432</td>\n",
       "      <td>0</td>\n",
       "      <td>68956</td>\n",
       "      <td>1835.581945</td>\n",
       "      <td>0</td>\n",
       "      <td>9622</td>\n",
       "      <td>10104</td>\n",
       "      <td>29474</td>\n",
       "      <td>29804</td>\n",
       "    </tr>\n",
       "    <tr>\n",
       "      <th>...</th>\n",
       "      <td>...</td>\n",
       "      <td>...</td>\n",
       "      <td>...</td>\n",
       "      <td>...</td>\n",
       "      <td>...</td>\n",
       "      <td>...</td>\n",
       "      <td>...</td>\n",
       "      <td>...</td>\n",
       "      <td>...</td>\n",
       "      <td>...</td>\n",
       "      <td>...</td>\n",
       "      <td>...</td>\n",
       "      <td>...</td>\n",
       "      <td>...</td>\n",
       "      <td>...</td>\n",
       "      <td>...</td>\n",
       "      <td>...</td>\n",
       "      <td>...</td>\n",
       "      <td>...</td>\n",
       "      <td>...</td>\n",
       "      <td>...</td>\n",
       "    </tr>\n",
       "    <tr>\n",
       "      <th>0</th>\n",
       "      <td>369140</td>\n",
       "      <td>0.600406</td>\n",
       "      <td>0.483445</td>\n",
       "      <td>5</td>\n",
       "      <td>0.850536</td>\n",
       "      <td>0.065374</td>\n",
       "      <td>1480.800000</td>\n",
       "      <td>277.105034</td>\n",
       "      <td>0.761238</td>\n",
       "      <td>0.125115</td>\n",
       "      <td>...</td>\n",
       "      <td>49612</td>\n",
       "      <td>154752</td>\n",
       "      <td>0</td>\n",
       "      <td>214388</td>\n",
       "      <td>1810.378847</td>\n",
       "      <td>150</td>\n",
       "      <td>9782</td>\n",
       "      <td>10768</td>\n",
       "      <td>32244</td>\n",
       "      <td>32836</td>\n",
       "    </tr>\n",
       "    <tr>\n",
       "      <th>0</th>\n",
       "      <td>365204</td>\n",
       "      <td>0.560158</td>\n",
       "      <td>0.452241</td>\n",
       "      <td>3</td>\n",
       "      <td>0.951297</td>\n",
       "      <td>0.004712</td>\n",
       "      <td>1310.666667</td>\n",
       "      <td>246.619815</td>\n",
       "      <td>0.972257</td>\n",
       "      <td>0.014880</td>\n",
       "      <td>...</td>\n",
       "      <td>23112</td>\n",
       "      <td>173936</td>\n",
       "      <td>0</td>\n",
       "      <td>191268</td>\n",
       "      <td>942.607209</td>\n",
       "      <td>151</td>\n",
       "      <td>9792</td>\n",
       "      <td>10806</td>\n",
       "      <td>32336</td>\n",
       "      <td>32904</td>\n",
       "    </tr>\n",
       "    <tr>\n",
       "      <th>0</th>\n",
       "      <td>380196</td>\n",
       "      <td>0.542650</td>\n",
       "      <td>0.398616</td>\n",
       "      <td>2</td>\n",
       "      <td>0.917273</td>\n",
       "      <td>0.052712</td>\n",
       "      <td>1592.000000</td>\n",
       "      <td>175.362482</td>\n",
       "      <td>0.919702</td>\n",
       "      <td>0.064701</td>\n",
       "      <td>...</td>\n",
       "      <td>11752</td>\n",
       "      <td>189780</td>\n",
       "      <td>0</td>\n",
       "      <td>190416</td>\n",
       "      <td>524.724962</td>\n",
       "      <td>152</td>\n",
       "      <td>9754</td>\n",
       "      <td>10856</td>\n",
       "      <td>32274</td>\n",
       "      <td>32872</td>\n",
       "    </tr>\n",
       "    <tr>\n",
       "      <th>0</th>\n",
       "      <td>333256</td>\n",
       "      <td>0.579957</td>\n",
       "      <td>0.482261</td>\n",
       "      <td>2</td>\n",
       "      <td>0.797203</td>\n",
       "      <td>0.093951</td>\n",
       "      <td>1330.000000</td>\n",
       "      <td>82.024387</td>\n",
       "      <td>0.755895</td>\n",
       "      <td>0.221953</td>\n",
       "      <td>...</td>\n",
       "      <td>20952</td>\n",
       "      <td>187116</td>\n",
       "      <td>0</td>\n",
       "      <td>146140</td>\n",
       "      <td>1117.300639</td>\n",
       "      <td>153</td>\n",
       "      <td>9834</td>\n",
       "      <td>10772</td>\n",
       "      <td>32334</td>\n",
       "      <td>32878</td>\n",
       "    </tr>\n",
       "    <tr>\n",
       "      <th>0</th>\n",
       "      <td>309984</td>\n",
       "      <td>0.554371</td>\n",
       "      <td>0.448584</td>\n",
       "      <td>1</td>\n",
       "      <td>0.777778</td>\n",
       "      <td>0.000000</td>\n",
       "      <td>1476.000000</td>\n",
       "      <td>0.000000</td>\n",
       "      <td>0.644479</td>\n",
       "      <td>0.000000</td>\n",
       "      <td>...</td>\n",
       "      <td>17676</td>\n",
       "      <td>165912</td>\n",
       "      <td>0</td>\n",
       "      <td>144072</td>\n",
       "      <td>625.671134</td>\n",
       "      <td>154</td>\n",
       "      <td>9844</td>\n",
       "      <td>10782</td>\n",
       "      <td>32412</td>\n",
       "      <td>32932</td>\n",
       "    </tr>\n",
       "  </tbody>\n",
       "</table>\n",
       "<p>1820 rows × 30 columns</p>\n",
       "</div>"
      ],
      "text/plain": [
       "    cell_area  cell_aspect  cell_roundness  number_mito  mean_mito_aspect  \\\n",
       "0      567924     0.692308        0.505520            0          0.000000   \n",
       "1      523764     0.821293        0.602579           13          0.859884   \n",
       "2       29448     0.535000        0.234340            0          0.000000   \n",
       "3      110076     0.555133        0.506560            3          0.954545   \n",
       "4       99388     0.684647        0.544691            3          0.944444   \n",
       "..        ...          ...             ...          ...               ...   \n",
       "0      369140     0.600406        0.483445            5          0.850536   \n",
       "0      365204     0.560158        0.452241            3          0.951297   \n",
       "0      380196     0.542650        0.398616            2          0.917273   \n",
       "0      333256     0.579957        0.482261            2          0.797203   \n",
       "0      309984     0.554371        0.448584            1          0.777778   \n",
       "\n",
       "    std_mito_aspect  mean_mito_area  std_mito_area  mean_mito_roundness  \\\n",
       "0          0.000000        0.000000       0.000000             0.000000   \n",
       "1          0.146664     1620.307692     978.392507             0.844462   \n",
       "2          0.000000        0.000000       0.000000             0.000000   \n",
       "3          0.078730      945.333333     392.333192             0.991240   \n",
       "4          0.096225      574.000000     228.085510             0.984248   \n",
       "..              ...             ...            ...                  ...   \n",
       "0          0.065374     1480.800000     277.105034             0.761238   \n",
       "0          0.004712     1310.666667     246.619815             0.972257   \n",
       "0          0.052712     1592.000000     175.362482             0.919702   \n",
       "0          0.093951     1330.000000      82.024387             0.755895   \n",
       "0          0.000000     1476.000000       0.000000             0.644479   \n",
       "\n",
       "    std_mito_roundness  ...  gold_area  nucleus_area  golgi_area  \\\n",
       "0             0.000000  ...      13744        281000           0   \n",
       "1             0.142653  ...       7468            24        1237   \n",
       "2             0.000000  ...        540         97008           0   \n",
       "3             0.099072  ...       1368            56           0   \n",
       "4             0.111467  ...        712         30432           0   \n",
       "..                 ...  ...        ...           ...         ...   \n",
       "0             0.125115  ...      49612        154752           0   \n",
       "0             0.014880  ...      23112        173936           0   \n",
       "0             0.064701  ...      11752        189780           0   \n",
       "0             0.221953  ...      20952        187116           0   \n",
       "0             0.000000  ...      17676        165912           0   \n",
       "\n",
       "    cytoplasm_area   ER_lengths  sl_num    x1     x2     y1     y2  \n",
       "0           286924  5790.005387       0  3256   4084  29148  30344  \n",
       "1           523740  9256.108314       0  3658   4710  28706  29570  \n",
       "2           -67560   452.752307       0  4720   5120  29274  29488  \n",
       "3           110020     0.000000       0  6784   7310  30750  31042  \n",
       "4            68956  1835.581945       0  9622  10104  29474  29804  \n",
       "..             ...          ...     ...   ...    ...    ...    ...  \n",
       "0           214388  1810.378847     150  9782  10768  32244  32836  \n",
       "0           191268   942.607209     151  9792  10806  32336  32904  \n",
       "0           190416   524.724962     152  9754  10856  32274  32872  \n",
       "0           146140  1117.300639     153  9834  10772  32334  32878  \n",
       "0           144072   625.671134     154  9844  10782  32412  32932  \n",
       "\n",
       "[1820 rows x 30 columns]"
      ]
     },
     "execution_count": 20,
     "metadata": {},
     "output_type": "execute_result"
    }
   ],
   "source": [
    "featuresraw = featuresraw[featuresraw['cell_area']>2000] \n",
    "featuresraw"
   ]
  },
  {
   "cell_type": "code",
   "execution_count": 21,
   "id": "77783150",
   "metadata": {},
   "outputs": [
    {
     "data": {
      "text/html": [
       "<div>\n",
       "<style scoped>\n",
       "    .dataframe tbody tr th:only-of-type {\n",
       "        vertical-align: middle;\n",
       "    }\n",
       "\n",
       "    .dataframe tbody tr th {\n",
       "        vertical-align: top;\n",
       "    }\n",
       "\n",
       "    .dataframe thead th {\n",
       "        text-align: right;\n",
       "    }\n",
       "</style>\n",
       "<table border=\"1\" class=\"dataframe\">\n",
       "  <thead>\n",
       "    <tr style=\"text-align: right;\">\n",
       "      <th></th>\n",
       "      <th>cell_area</th>\n",
       "      <th>cell_aspect</th>\n",
       "      <th>cell_roundness</th>\n",
       "      <th>number_mito</th>\n",
       "      <th>mean_mito_aspect</th>\n",
       "      <th>std_mito_aspect</th>\n",
       "      <th>mean_mito_area</th>\n",
       "      <th>std_mito_area</th>\n",
       "      <th>mean_mito_roundness</th>\n",
       "      <th>std_mito_roundness</th>\n",
       "      <th>...</th>\n",
       "      <th>gold_area</th>\n",
       "      <th>nucleus_area</th>\n",
       "      <th>golgi_area</th>\n",
       "      <th>cytoplasm_area</th>\n",
       "      <th>ER_lengths</th>\n",
       "      <th>sl_num</th>\n",
       "      <th>x1</th>\n",
       "      <th>x2</th>\n",
       "      <th>y1</th>\n",
       "      <th>y2</th>\n",
       "    </tr>\n",
       "  </thead>\n",
       "  <tbody>\n",
       "    <tr>\n",
       "      <th>0</th>\n",
       "      <td>567924</td>\n",
       "      <td>0.692308</td>\n",
       "      <td>0.505520</td>\n",
       "      <td>0</td>\n",
       "      <td>0.000000</td>\n",
       "      <td>0.000000</td>\n",
       "      <td>0.000000</td>\n",
       "      <td>0.000000</td>\n",
       "      <td>0.000000</td>\n",
       "      <td>0.000000</td>\n",
       "      <td>...</td>\n",
       "      <td>13744</td>\n",
       "      <td>281000</td>\n",
       "      <td>0</td>\n",
       "      <td>286924</td>\n",
       "      <td>5790.005387</td>\n",
       "      <td>0</td>\n",
       "      <td>3256</td>\n",
       "      <td>4084</td>\n",
       "      <td>29148</td>\n",
       "      <td>30344</td>\n",
       "    </tr>\n",
       "    <tr>\n",
       "      <th>1</th>\n",
       "      <td>523764</td>\n",
       "      <td>0.821293</td>\n",
       "      <td>0.602579</td>\n",
       "      <td>13</td>\n",
       "      <td>0.859884</td>\n",
       "      <td>0.146664</td>\n",
       "      <td>1620.307692</td>\n",
       "      <td>978.392507</td>\n",
       "      <td>0.844462</td>\n",
       "      <td>0.142653</td>\n",
       "      <td>...</td>\n",
       "      <td>7468</td>\n",
       "      <td>24</td>\n",
       "      <td>1237</td>\n",
       "      <td>523740</td>\n",
       "      <td>9256.108314</td>\n",
       "      <td>0</td>\n",
       "      <td>3658</td>\n",
       "      <td>4710</td>\n",
       "      <td>28706</td>\n",
       "      <td>29570</td>\n",
       "    </tr>\n",
       "    <tr>\n",
       "      <th>2</th>\n",
       "      <td>29448</td>\n",
       "      <td>0.535000</td>\n",
       "      <td>0.234340</td>\n",
       "      <td>0</td>\n",
       "      <td>0.000000</td>\n",
       "      <td>0.000000</td>\n",
       "      <td>0.000000</td>\n",
       "      <td>0.000000</td>\n",
       "      <td>0.000000</td>\n",
       "      <td>0.000000</td>\n",
       "      <td>...</td>\n",
       "      <td>540</td>\n",
       "      <td>97008</td>\n",
       "      <td>0</td>\n",
       "      <td>-67560</td>\n",
       "      <td>452.752307</td>\n",
       "      <td>0</td>\n",
       "      <td>4720</td>\n",
       "      <td>5120</td>\n",
       "      <td>29274</td>\n",
       "      <td>29488</td>\n",
       "    </tr>\n",
       "    <tr>\n",
       "      <th>3</th>\n",
       "      <td>110076</td>\n",
       "      <td>0.555133</td>\n",
       "      <td>0.506560</td>\n",
       "      <td>3</td>\n",
       "      <td>0.954545</td>\n",
       "      <td>0.078730</td>\n",
       "      <td>945.333333</td>\n",
       "      <td>392.333192</td>\n",
       "      <td>0.991240</td>\n",
       "      <td>0.099072</td>\n",
       "      <td>...</td>\n",
       "      <td>1368</td>\n",
       "      <td>56</td>\n",
       "      <td>0</td>\n",
       "      <td>110020</td>\n",
       "      <td>0.000000</td>\n",
       "      <td>0</td>\n",
       "      <td>6784</td>\n",
       "      <td>7310</td>\n",
       "      <td>30750</td>\n",
       "      <td>31042</td>\n",
       "    </tr>\n",
       "    <tr>\n",
       "      <th>4</th>\n",
       "      <td>99388</td>\n",
       "      <td>0.684647</td>\n",
       "      <td>0.544691</td>\n",
       "      <td>3</td>\n",
       "      <td>0.944444</td>\n",
       "      <td>0.096225</td>\n",
       "      <td>574.000000</td>\n",
       "      <td>228.085510</td>\n",
       "      <td>0.984248</td>\n",
       "      <td>0.111467</td>\n",
       "      <td>...</td>\n",
       "      <td>712</td>\n",
       "      <td>30432</td>\n",
       "      <td>0</td>\n",
       "      <td>68956</td>\n",
       "      <td>1835.581945</td>\n",
       "      <td>0</td>\n",
       "      <td>9622</td>\n",
       "      <td>10104</td>\n",
       "      <td>29474</td>\n",
       "      <td>29804</td>\n",
       "    </tr>\n",
       "    <tr>\n",
       "      <th>...</th>\n",
       "      <td>...</td>\n",
       "      <td>...</td>\n",
       "      <td>...</td>\n",
       "      <td>...</td>\n",
       "      <td>...</td>\n",
       "      <td>...</td>\n",
       "      <td>...</td>\n",
       "      <td>...</td>\n",
       "      <td>...</td>\n",
       "      <td>...</td>\n",
       "      <td>...</td>\n",
       "      <td>...</td>\n",
       "      <td>...</td>\n",
       "      <td>...</td>\n",
       "      <td>...</td>\n",
       "      <td>...</td>\n",
       "      <td>...</td>\n",
       "      <td>...</td>\n",
       "      <td>...</td>\n",
       "      <td>...</td>\n",
       "      <td>...</td>\n",
       "    </tr>\n",
       "    <tr>\n",
       "      <th>1815</th>\n",
       "      <td>369140</td>\n",
       "      <td>0.600406</td>\n",
       "      <td>0.483445</td>\n",
       "      <td>5</td>\n",
       "      <td>0.850536</td>\n",
       "      <td>0.065374</td>\n",
       "      <td>1480.800000</td>\n",
       "      <td>277.105034</td>\n",
       "      <td>0.761238</td>\n",
       "      <td>0.125115</td>\n",
       "      <td>...</td>\n",
       "      <td>49612</td>\n",
       "      <td>154752</td>\n",
       "      <td>0</td>\n",
       "      <td>214388</td>\n",
       "      <td>1810.378847</td>\n",
       "      <td>150</td>\n",
       "      <td>9782</td>\n",
       "      <td>10768</td>\n",
       "      <td>32244</td>\n",
       "      <td>32836</td>\n",
       "    </tr>\n",
       "    <tr>\n",
       "      <th>1816</th>\n",
       "      <td>365204</td>\n",
       "      <td>0.560158</td>\n",
       "      <td>0.452241</td>\n",
       "      <td>3</td>\n",
       "      <td>0.951297</td>\n",
       "      <td>0.004712</td>\n",
       "      <td>1310.666667</td>\n",
       "      <td>246.619815</td>\n",
       "      <td>0.972257</td>\n",
       "      <td>0.014880</td>\n",
       "      <td>...</td>\n",
       "      <td>23112</td>\n",
       "      <td>173936</td>\n",
       "      <td>0</td>\n",
       "      <td>191268</td>\n",
       "      <td>942.607209</td>\n",
       "      <td>151</td>\n",
       "      <td>9792</td>\n",
       "      <td>10806</td>\n",
       "      <td>32336</td>\n",
       "      <td>32904</td>\n",
       "    </tr>\n",
       "    <tr>\n",
       "      <th>1817</th>\n",
       "      <td>380196</td>\n",
       "      <td>0.542650</td>\n",
       "      <td>0.398616</td>\n",
       "      <td>2</td>\n",
       "      <td>0.917273</td>\n",
       "      <td>0.052712</td>\n",
       "      <td>1592.000000</td>\n",
       "      <td>175.362482</td>\n",
       "      <td>0.919702</td>\n",
       "      <td>0.064701</td>\n",
       "      <td>...</td>\n",
       "      <td>11752</td>\n",
       "      <td>189780</td>\n",
       "      <td>0</td>\n",
       "      <td>190416</td>\n",
       "      <td>524.724962</td>\n",
       "      <td>152</td>\n",
       "      <td>9754</td>\n",
       "      <td>10856</td>\n",
       "      <td>32274</td>\n",
       "      <td>32872</td>\n",
       "    </tr>\n",
       "    <tr>\n",
       "      <th>1818</th>\n",
       "      <td>333256</td>\n",
       "      <td>0.579957</td>\n",
       "      <td>0.482261</td>\n",
       "      <td>2</td>\n",
       "      <td>0.797203</td>\n",
       "      <td>0.093951</td>\n",
       "      <td>1330.000000</td>\n",
       "      <td>82.024387</td>\n",
       "      <td>0.755895</td>\n",
       "      <td>0.221953</td>\n",
       "      <td>...</td>\n",
       "      <td>20952</td>\n",
       "      <td>187116</td>\n",
       "      <td>0</td>\n",
       "      <td>146140</td>\n",
       "      <td>1117.300639</td>\n",
       "      <td>153</td>\n",
       "      <td>9834</td>\n",
       "      <td>10772</td>\n",
       "      <td>32334</td>\n",
       "      <td>32878</td>\n",
       "    </tr>\n",
       "    <tr>\n",
       "      <th>1819</th>\n",
       "      <td>309984</td>\n",
       "      <td>0.554371</td>\n",
       "      <td>0.448584</td>\n",
       "      <td>1</td>\n",
       "      <td>0.777778</td>\n",
       "      <td>0.000000</td>\n",
       "      <td>1476.000000</td>\n",
       "      <td>0.000000</td>\n",
       "      <td>0.644479</td>\n",
       "      <td>0.000000</td>\n",
       "      <td>...</td>\n",
       "      <td>17676</td>\n",
       "      <td>165912</td>\n",
       "      <td>0</td>\n",
       "      <td>144072</td>\n",
       "      <td>625.671134</td>\n",
       "      <td>154</td>\n",
       "      <td>9844</td>\n",
       "      <td>10782</td>\n",
       "      <td>32412</td>\n",
       "      <td>32932</td>\n",
       "    </tr>\n",
       "  </tbody>\n",
       "</table>\n",
       "<p>1820 rows × 30 columns</p>\n",
       "</div>"
      ],
      "text/plain": [
       "      cell_area  cell_aspect  cell_roundness  number_mito  mean_mito_aspect  \\\n",
       "0        567924     0.692308        0.505520            0          0.000000   \n",
       "1        523764     0.821293        0.602579           13          0.859884   \n",
       "2         29448     0.535000        0.234340            0          0.000000   \n",
       "3        110076     0.555133        0.506560            3          0.954545   \n",
       "4         99388     0.684647        0.544691            3          0.944444   \n",
       "...         ...          ...             ...          ...               ...   \n",
       "1815     369140     0.600406        0.483445            5          0.850536   \n",
       "1816     365204     0.560158        0.452241            3          0.951297   \n",
       "1817     380196     0.542650        0.398616            2          0.917273   \n",
       "1818     333256     0.579957        0.482261            2          0.797203   \n",
       "1819     309984     0.554371        0.448584            1          0.777778   \n",
       "\n",
       "      std_mito_aspect  mean_mito_area  std_mito_area  mean_mito_roundness  \\\n",
       "0            0.000000        0.000000       0.000000             0.000000   \n",
       "1            0.146664     1620.307692     978.392507             0.844462   \n",
       "2            0.000000        0.000000       0.000000             0.000000   \n",
       "3            0.078730      945.333333     392.333192             0.991240   \n",
       "4            0.096225      574.000000     228.085510             0.984248   \n",
       "...               ...             ...            ...                  ...   \n",
       "1815         0.065374     1480.800000     277.105034             0.761238   \n",
       "1816         0.004712     1310.666667     246.619815             0.972257   \n",
       "1817         0.052712     1592.000000     175.362482             0.919702   \n",
       "1818         0.093951     1330.000000      82.024387             0.755895   \n",
       "1819         0.000000     1476.000000       0.000000             0.644479   \n",
       "\n",
       "      std_mito_roundness  ...  gold_area  nucleus_area  golgi_area  \\\n",
       "0               0.000000  ...      13744        281000           0   \n",
       "1               0.142653  ...       7468            24        1237   \n",
       "2               0.000000  ...        540         97008           0   \n",
       "3               0.099072  ...       1368            56           0   \n",
       "4               0.111467  ...        712         30432           0   \n",
       "...                  ...  ...        ...           ...         ...   \n",
       "1815            0.125115  ...      49612        154752           0   \n",
       "1816            0.014880  ...      23112        173936           0   \n",
       "1817            0.064701  ...      11752        189780           0   \n",
       "1818            0.221953  ...      20952        187116           0   \n",
       "1819            0.000000  ...      17676        165912           0   \n",
       "\n",
       "      cytoplasm_area   ER_lengths  sl_num    x1     x2     y1     y2  \n",
       "0             286924  5790.005387       0  3256   4084  29148  30344  \n",
       "1             523740  9256.108314       0  3658   4710  28706  29570  \n",
       "2             -67560   452.752307       0  4720   5120  29274  29488  \n",
       "3             110020     0.000000       0  6784   7310  30750  31042  \n",
       "4              68956  1835.581945       0  9622  10104  29474  29804  \n",
       "...              ...          ...     ...   ...    ...    ...    ...  \n",
       "1815          214388  1810.378847     150  9782  10768  32244  32836  \n",
       "1816          191268   942.607209     151  9792  10806  32336  32904  \n",
       "1817          190416   524.724962     152  9754  10856  32274  32872  \n",
       "1818          146140  1117.300639     153  9834  10772  32334  32878  \n",
       "1819          144072   625.671134     154  9844  10782  32412  32932  \n",
       "\n",
       "[1820 rows x 30 columns]"
      ]
     },
     "execution_count": 21,
     "metadata": {},
     "output_type": "execute_result"
    }
   ],
   "source": [
    "featuresraw.reset_index(drop=True, inplace=True)\n",
    "featuresraw"
   ]
  },
  {
   "cell_type": "code",
   "execution_count": 22,
   "id": "46e9204a",
   "metadata": {},
   "outputs": [],
   "source": [
    "ratios = pd.DataFrame()\n",
    "ratios['hetero_nuc_R'] = featuresraw['heterochromatin_area']/featuresraw['nucleus_area']\n",
    "ratios['nuc_cell_R'] = featuresraw['nucleus_area']/featuresraw['cell_area']\n",
    "ratios['gold_cyto_R'] = featuresraw['gold_area']/featuresraw['cytoplasm_area']\n",
    "ratios['mito_cyto_R'] = featuresraw['sum_mito_area']/featuresraw['cytoplasm_area']\n",
    "ratios['lyso_cyto_R'] = featuresraw['lysosomal_area']/featuresraw['cytoplasm_area']\n",
    "ratios['cell_aspect'] = featuresraw['cell_aspect']\n",
    "ratios['cell_roundness']=featuresraw['cell_roundness']\n",
    "ratios['ER_cyto_R'] = featuresraw['ER_lengths']/featuresraw['cytoplasm_area']\n",
    "ratios['mean_mito_aspect']= featuresraw['mean_mito_aspect']\n",
    "ratios['mean_mito_area']= featuresraw['mean_mito_area']\n",
    "ratios['mean_mito_roundness']= featuresraw['mean_mito_roundness']\n",
    "ratios['mean_nuc_aspect']= featuresraw['mean_nuc_aspect']\n",
    "ratios['mean_nuc_area']= featuresraw['mean_nuc_area']\n",
    "ratios['mean_nuc_roundness']= featuresraw['mean_nuc_roundness']\n",
    "ratios['mito_cell_aspect']=featuresraw['mean_mito_aspect']/featuresraw['cell_aspect']\n",
    "ratios['nuc_cell_aspect']=featuresraw['mean_nuc_aspect']/featuresraw['cell_aspect']\n",
    "ratios['mito_cell_roundness']=featuresraw['mean_mito_roundness']/featuresraw['cell_roundness']\n",
    "ratios['nuc_cell_roundness']=featuresraw['mean_nuc_roundness']/featuresraw['cell_roundness']"
   ]
  },
  {
   "cell_type": "code",
   "execution_count": 23,
   "id": "7f5d6871",
   "metadata": {},
   "outputs": [
    {
     "data": {
      "text/html": [
       "<div>\n",
       "<style scoped>\n",
       "    .dataframe tbody tr th:only-of-type {\n",
       "        vertical-align: middle;\n",
       "    }\n",
       "\n",
       "    .dataframe tbody tr th {\n",
       "        vertical-align: top;\n",
       "    }\n",
       "\n",
       "    .dataframe thead th {\n",
       "        text-align: right;\n",
       "    }\n",
       "</style>\n",
       "<table border=\"1\" class=\"dataframe\">\n",
       "  <thead>\n",
       "    <tr style=\"text-align: right;\">\n",
       "      <th></th>\n",
       "      <th>hetero_nuc_R</th>\n",
       "      <th>nuc_cell_R</th>\n",
       "      <th>gold_cyto_R</th>\n",
       "      <th>mito_cyto_R</th>\n",
       "      <th>lyso_cyto_R</th>\n",
       "      <th>cell_aspect</th>\n",
       "      <th>cell_roundness</th>\n",
       "      <th>ER_cyto_R</th>\n",
       "      <th>mean_mito_aspect</th>\n",
       "      <th>mean_mito_area</th>\n",
       "      <th>mean_mito_roundness</th>\n",
       "      <th>mean_nuc_aspect</th>\n",
       "      <th>mean_nuc_area</th>\n",
       "      <th>mean_nuc_roundness</th>\n",
       "      <th>mito_cell_aspect</th>\n",
       "      <th>nuc_cell_aspect</th>\n",
       "      <th>mito_cell_roundness</th>\n",
       "      <th>nuc_cell_roundness</th>\n",
       "    </tr>\n",
       "  </thead>\n",
       "  <tbody>\n",
       "    <tr>\n",
       "      <th>0</th>\n",
       "      <td>0.451160</td>\n",
       "      <td>0.494785</td>\n",
       "      <td>0.047901</td>\n",
       "      <td>0.000000</td>\n",
       "      <td>0.000000</td>\n",
       "      <td>0.692308</td>\n",
       "      <td>0.505520</td>\n",
       "      <td>0.020180</td>\n",
       "      <td>0.000000</td>\n",
       "      <td>0.000000</td>\n",
       "      <td>0.000000</td>\n",
       "      <td>0.830022</td>\n",
       "      <td>93693.333333</td>\n",
       "      <td>0.774896</td>\n",
       "      <td>0.000000</td>\n",
       "      <td>1.198921</td>\n",
       "      <td>0.000000</td>\n",
       "      <td>1.532871</td>\n",
       "    </tr>\n",
       "    <tr>\n",
       "      <th>1</th>\n",
       "      <td>5961.833333</td>\n",
       "      <td>0.000046</td>\n",
       "      <td>0.014259</td>\n",
       "      <td>0.040218</td>\n",
       "      <td>0.000000</td>\n",
       "      <td>0.821293</td>\n",
       "      <td>0.602579</td>\n",
       "      <td>0.017673</td>\n",
       "      <td>0.859884</td>\n",
       "      <td>1620.307692</td>\n",
       "      <td>0.844462</td>\n",
       "      <td>0.847731</td>\n",
       "      <td>97104.000000</td>\n",
       "      <td>0.713138</td>\n",
       "      <td>1.046989</td>\n",
       "      <td>1.032192</td>\n",
       "      <td>1.401413</td>\n",
       "      <td>1.183476</td>\n",
       "    </tr>\n",
       "    <tr>\n",
       "      <th>2</th>\n",
       "      <td>0.000000</td>\n",
       "      <td>3.294214</td>\n",
       "      <td>-0.007993</td>\n",
       "      <td>-0.000000</td>\n",
       "      <td>-0.000000</td>\n",
       "      <td>0.535000</td>\n",
       "      <td>0.234340</td>\n",
       "      <td>-0.006701</td>\n",
       "      <td>0.000000</td>\n",
       "      <td>0.000000</td>\n",
       "      <td>0.000000</td>\n",
       "      <td>0.000000</td>\n",
       "      <td>0.000000</td>\n",
       "      <td>0.000000</td>\n",
       "      <td>0.000000</td>\n",
       "      <td>0.000000</td>\n",
       "      <td>0.000000</td>\n",
       "      <td>0.000000</td>\n",
       "    </tr>\n",
       "    <tr>\n",
       "      <th>3</th>\n",
       "      <td>769.500000</td>\n",
       "      <td>0.000509</td>\n",
       "      <td>0.012434</td>\n",
       "      <td>0.025777</td>\n",
       "      <td>0.000000</td>\n",
       "      <td>0.555133</td>\n",
       "      <td>0.506560</td>\n",
       "      <td>0.000000</td>\n",
       "      <td>0.954545</td>\n",
       "      <td>945.333333</td>\n",
       "      <td>0.991240</td>\n",
       "      <td>0.650000</td>\n",
       "      <td>72748.000000</td>\n",
       "      <td>0.578910</td>\n",
       "      <td>1.719489</td>\n",
       "      <td>1.170890</td>\n",
       "      <td>1.956805</td>\n",
       "      <td>1.142826</td>\n",
       "    </tr>\n",
       "    <tr>\n",
       "      <th>4</th>\n",
       "      <td>0.316805</td>\n",
       "      <td>0.306194</td>\n",
       "      <td>0.010325</td>\n",
       "      <td>0.024972</td>\n",
       "      <td>0.346177</td>\n",
       "      <td>0.684647</td>\n",
       "      <td>0.544691</td>\n",
       "      <td>0.026620</td>\n",
       "      <td>0.944444</td>\n",
       "      <td>574.000000</td>\n",
       "      <td>0.984248</td>\n",
       "      <td>0.743590</td>\n",
       "      <td>13240.000000</td>\n",
       "      <td>0.692706</td>\n",
       "      <td>1.379461</td>\n",
       "      <td>1.086092</td>\n",
       "      <td>1.806985</td>\n",
       "      <td>1.271742</td>\n",
       "    </tr>\n",
       "    <tr>\n",
       "      <th>...</th>\n",
       "      <td>...</td>\n",
       "      <td>...</td>\n",
       "      <td>...</td>\n",
       "      <td>...</td>\n",
       "      <td>...</td>\n",
       "      <td>...</td>\n",
       "      <td>...</td>\n",
       "      <td>...</td>\n",
       "      <td>...</td>\n",
       "      <td>...</td>\n",
       "      <td>...</td>\n",
       "      <td>...</td>\n",
       "      <td>...</td>\n",
       "      <td>...</td>\n",
       "      <td>...</td>\n",
       "      <td>...</td>\n",
       "      <td>...</td>\n",
       "      <td>...</td>\n",
       "    </tr>\n",
       "    <tr>\n",
       "      <th>1815</th>\n",
       "      <td>0.902166</td>\n",
       "      <td>0.419223</td>\n",
       "      <td>0.231412</td>\n",
       "      <td>0.034536</td>\n",
       "      <td>0.000000</td>\n",
       "      <td>0.600406</td>\n",
       "      <td>0.483445</td>\n",
       "      <td>0.008444</td>\n",
       "      <td>0.850536</td>\n",
       "      <td>1480.800000</td>\n",
       "      <td>0.761238</td>\n",
       "      <td>0.892113</td>\n",
       "      <td>38693.000000</td>\n",
       "      <td>0.984433</td>\n",
       "      <td>1.416602</td>\n",
       "      <td>1.485851</td>\n",
       "      <td>1.574609</td>\n",
       "      <td>2.036286</td>\n",
       "    </tr>\n",
       "    <tr>\n",
       "      <th>1816</th>\n",
       "      <td>0.459065</td>\n",
       "      <td>0.476271</td>\n",
       "      <td>0.120836</td>\n",
       "      <td>0.020558</td>\n",
       "      <td>0.000000</td>\n",
       "      <td>0.560158</td>\n",
       "      <td>0.452241</td>\n",
       "      <td>0.004928</td>\n",
       "      <td>0.951297</td>\n",
       "      <td>1310.666667</td>\n",
       "      <td>0.972257</td>\n",
       "      <td>0.690058</td>\n",
       "      <td>43491.000000</td>\n",
       "      <td>0.737275</td>\n",
       "      <td>1.698266</td>\n",
       "      <td>1.231900</td>\n",
       "      <td>2.149865</td>\n",
       "      <td>1.630270</td>\n",
       "    </tr>\n",
       "    <tr>\n",
       "      <th>1817</th>\n",
       "      <td>0.607735</td>\n",
       "      <td>0.499164</td>\n",
       "      <td>0.061718</td>\n",
       "      <td>0.016721</td>\n",
       "      <td>0.000000</td>\n",
       "      <td>0.542650</td>\n",
       "      <td>0.398616</td>\n",
       "      <td>0.002756</td>\n",
       "      <td>0.917273</td>\n",
       "      <td>1592.000000</td>\n",
       "      <td>0.919702</td>\n",
       "      <td>0.611594</td>\n",
       "      <td>189780.000000</td>\n",
       "      <td>0.507531</td>\n",
       "      <td>1.690359</td>\n",
       "      <td>1.127052</td>\n",
       "      <td>2.307239</td>\n",
       "      <td>1.273233</td>\n",
       "    </tr>\n",
       "    <tr>\n",
       "      <th>1818</th>\n",
       "      <td>0.483401</td>\n",
       "      <td>0.561478</td>\n",
       "      <td>0.143369</td>\n",
       "      <td>0.018202</td>\n",
       "      <td>0.000000</td>\n",
       "      <td>0.579957</td>\n",
       "      <td>0.482261</td>\n",
       "      <td>0.007645</td>\n",
       "      <td>0.797203</td>\n",
       "      <td>1330.000000</td>\n",
       "      <td>0.755895</td>\n",
       "      <td>0.605042</td>\n",
       "      <td>187116.000000</td>\n",
       "      <td>0.467331</td>\n",
       "      <td>1.374589</td>\n",
       "      <td>1.043253</td>\n",
       "      <td>1.567396</td>\n",
       "      <td>0.969041</td>\n",
       "    </tr>\n",
       "    <tr>\n",
       "      <th>1819</th>\n",
       "      <td>0.560201</td>\n",
       "      <td>0.535228</td>\n",
       "      <td>0.122689</td>\n",
       "      <td>0.010245</td>\n",
       "      <td>0.000000</td>\n",
       "      <td>0.554371</td>\n",
       "      <td>0.448584</td>\n",
       "      <td>0.004343</td>\n",
       "      <td>0.777778</td>\n",
       "      <td>1476.000000</td>\n",
       "      <td>0.644479</td>\n",
       "      <td>0.695402</td>\n",
       "      <td>55308.000000</td>\n",
       "      <td>0.781981</td>\n",
       "      <td>1.402991</td>\n",
       "      <td>1.254399</td>\n",
       "      <td>1.436697</td>\n",
       "      <td>1.743221</td>\n",
       "    </tr>\n",
       "  </tbody>\n",
       "</table>\n",
       "<p>1820 rows × 18 columns</p>\n",
       "</div>"
      ],
      "text/plain": [
       "      hetero_nuc_R  nuc_cell_R  gold_cyto_R  mito_cyto_R  lyso_cyto_R  \\\n",
       "0         0.451160    0.494785     0.047901     0.000000     0.000000   \n",
       "1      5961.833333    0.000046     0.014259     0.040218     0.000000   \n",
       "2         0.000000    3.294214    -0.007993    -0.000000    -0.000000   \n",
       "3       769.500000    0.000509     0.012434     0.025777     0.000000   \n",
       "4         0.316805    0.306194     0.010325     0.024972     0.346177   \n",
       "...            ...         ...          ...          ...          ...   \n",
       "1815      0.902166    0.419223     0.231412     0.034536     0.000000   \n",
       "1816      0.459065    0.476271     0.120836     0.020558     0.000000   \n",
       "1817      0.607735    0.499164     0.061718     0.016721     0.000000   \n",
       "1818      0.483401    0.561478     0.143369     0.018202     0.000000   \n",
       "1819      0.560201    0.535228     0.122689     0.010245     0.000000   \n",
       "\n",
       "      cell_aspect  cell_roundness  ER_cyto_R  mean_mito_aspect  \\\n",
       "0        0.692308        0.505520   0.020180          0.000000   \n",
       "1        0.821293        0.602579   0.017673          0.859884   \n",
       "2        0.535000        0.234340  -0.006701          0.000000   \n",
       "3        0.555133        0.506560   0.000000          0.954545   \n",
       "4        0.684647        0.544691   0.026620          0.944444   \n",
       "...           ...             ...        ...               ...   \n",
       "1815     0.600406        0.483445   0.008444          0.850536   \n",
       "1816     0.560158        0.452241   0.004928          0.951297   \n",
       "1817     0.542650        0.398616   0.002756          0.917273   \n",
       "1818     0.579957        0.482261   0.007645          0.797203   \n",
       "1819     0.554371        0.448584   0.004343          0.777778   \n",
       "\n",
       "      mean_mito_area  mean_mito_roundness  mean_nuc_aspect  mean_nuc_area  \\\n",
       "0           0.000000             0.000000         0.830022   93693.333333   \n",
       "1        1620.307692             0.844462         0.847731   97104.000000   \n",
       "2           0.000000             0.000000         0.000000       0.000000   \n",
       "3         945.333333             0.991240         0.650000   72748.000000   \n",
       "4         574.000000             0.984248         0.743590   13240.000000   \n",
       "...              ...                  ...              ...            ...   \n",
       "1815     1480.800000             0.761238         0.892113   38693.000000   \n",
       "1816     1310.666667             0.972257         0.690058   43491.000000   \n",
       "1817     1592.000000             0.919702         0.611594  189780.000000   \n",
       "1818     1330.000000             0.755895         0.605042  187116.000000   \n",
       "1819     1476.000000             0.644479         0.695402   55308.000000   \n",
       "\n",
       "      mean_nuc_roundness  mito_cell_aspect  nuc_cell_aspect  \\\n",
       "0               0.774896          0.000000         1.198921   \n",
       "1               0.713138          1.046989         1.032192   \n",
       "2               0.000000          0.000000         0.000000   \n",
       "3               0.578910          1.719489         1.170890   \n",
       "4               0.692706          1.379461         1.086092   \n",
       "...                  ...               ...              ...   \n",
       "1815            0.984433          1.416602         1.485851   \n",
       "1816            0.737275          1.698266         1.231900   \n",
       "1817            0.507531          1.690359         1.127052   \n",
       "1818            0.467331          1.374589         1.043253   \n",
       "1819            0.781981          1.402991         1.254399   \n",
       "\n",
       "      mito_cell_roundness  nuc_cell_roundness  \n",
       "0                0.000000            1.532871  \n",
       "1                1.401413            1.183476  \n",
       "2                0.000000            0.000000  \n",
       "3                1.956805            1.142826  \n",
       "4                1.806985            1.271742  \n",
       "...                   ...                 ...  \n",
       "1815             1.574609            2.036286  \n",
       "1816             2.149865            1.630270  \n",
       "1817             2.307239            1.273233  \n",
       "1818             1.567396            0.969041  \n",
       "1819             1.436697            1.743221  \n",
       "\n",
       "[1820 rows x 18 columns]"
      ]
     },
     "execution_count": 23,
     "metadata": {},
     "output_type": "execute_result"
    }
   ],
   "source": [
    "ratios"
   ]
  },
  {
   "cell_type": "code",
   "execution_count": 17,
   "id": "5092b95f",
   "metadata": {},
   "outputs": [],
   "source": [
    "import seaborn as sns\n",
    "from sklearn.preprocessing import StandardScaler\n",
    "from sklearn.cluster import KMeans\n",
    "from sklearn.decomposition import PCA"
   ]
  },
  {
   "cell_type": "code",
   "execution_count": 18,
   "id": "811179f0",
   "metadata": {},
   "outputs": [
    {
     "data": {
      "text/html": [
       "<style>#sk-container-id-1 {color: black;background-color: white;}#sk-container-id-1 pre{padding: 0;}#sk-container-id-1 div.sk-toggleable {background-color: white;}#sk-container-id-1 label.sk-toggleable__label {cursor: pointer;display: block;width: 100%;margin-bottom: 0;padding: 0.3em;box-sizing: border-box;text-align: center;}#sk-container-id-1 label.sk-toggleable__label-arrow:before {content: \"▸\";float: left;margin-right: 0.25em;color: #696969;}#sk-container-id-1 label.sk-toggleable__label-arrow:hover:before {color: black;}#sk-container-id-1 div.sk-estimator:hover label.sk-toggleable__label-arrow:before {color: black;}#sk-container-id-1 div.sk-toggleable__content {max-height: 0;max-width: 0;overflow: hidden;text-align: left;background-color: #f0f8ff;}#sk-container-id-1 div.sk-toggleable__content pre {margin: 0.2em;color: black;border-radius: 0.25em;background-color: #f0f8ff;}#sk-container-id-1 input.sk-toggleable__control:checked~div.sk-toggleable__content {max-height: 200px;max-width: 100%;overflow: auto;}#sk-container-id-1 input.sk-toggleable__control:checked~label.sk-toggleable__label-arrow:before {content: \"▾\";}#sk-container-id-1 div.sk-estimator input.sk-toggleable__control:checked~label.sk-toggleable__label {background-color: #d4ebff;}#sk-container-id-1 div.sk-label input.sk-toggleable__control:checked~label.sk-toggleable__label {background-color: #d4ebff;}#sk-container-id-1 input.sk-hidden--visually {border: 0;clip: rect(1px 1px 1px 1px);clip: rect(1px, 1px, 1px, 1px);height: 1px;margin: -1px;overflow: hidden;padding: 0;position: absolute;width: 1px;}#sk-container-id-1 div.sk-estimator {font-family: monospace;background-color: #f0f8ff;border: 1px dotted black;border-radius: 0.25em;box-sizing: border-box;margin-bottom: 0.5em;}#sk-container-id-1 div.sk-estimator:hover {background-color: #d4ebff;}#sk-container-id-1 div.sk-parallel-item::after {content: \"\";width: 100%;border-bottom: 1px solid gray;flex-grow: 1;}#sk-container-id-1 div.sk-label:hover label.sk-toggleable__label {background-color: #d4ebff;}#sk-container-id-1 div.sk-serial::before {content: \"\";position: absolute;border-left: 1px solid gray;box-sizing: border-box;top: 0;bottom: 0;left: 50%;z-index: 0;}#sk-container-id-1 div.sk-serial {display: flex;flex-direction: column;align-items: center;background-color: white;padding-right: 0.2em;padding-left: 0.2em;position: relative;}#sk-container-id-1 div.sk-item {position: relative;z-index: 1;}#sk-container-id-1 div.sk-parallel {display: flex;align-items: stretch;justify-content: center;background-color: white;position: relative;}#sk-container-id-1 div.sk-item::before, #sk-container-id-1 div.sk-parallel-item::before {content: \"\";position: absolute;border-left: 1px solid gray;box-sizing: border-box;top: 0;bottom: 0;left: 50%;z-index: -1;}#sk-container-id-1 div.sk-parallel-item {display: flex;flex-direction: column;z-index: 1;position: relative;background-color: white;}#sk-container-id-1 div.sk-parallel-item:first-child::after {align-self: flex-end;width: 50%;}#sk-container-id-1 div.sk-parallel-item:last-child::after {align-self: flex-start;width: 50%;}#sk-container-id-1 div.sk-parallel-item:only-child::after {width: 0;}#sk-container-id-1 div.sk-dashed-wrapped {border: 1px dashed gray;margin: 0 0.4em 0.5em 0.4em;box-sizing: border-box;padding-bottom: 0.4em;background-color: white;}#sk-container-id-1 div.sk-label label {font-family: monospace;font-weight: bold;display: inline-block;line-height: 1.2em;}#sk-container-id-1 div.sk-label-container {text-align: center;}#sk-container-id-1 div.sk-container {/* jupyter's `normalize.less` sets `[hidden] { display: none; }` but bootstrap.min.css set `[hidden] { display: none !important; }` so we also need the `!important` here to be able to override the default hidden behavior on the sphinx rendered scikit-learn.org. See: https://github.com/scikit-learn/scikit-learn/issues/21755 */display: inline-block !important;position: relative;}#sk-container-id-1 div.sk-text-repr-fallback {display: none;}</style><div id=\"sk-container-id-1\" class=\"sk-top-container\"><div class=\"sk-text-repr-fallback\"><pre>PCA()</pre><b>In a Jupyter environment, please rerun this cell to show the HTML representation or trust the notebook. <br />On GitHub, the HTML representation is unable to render, please try loading this page with nbviewer.org.</b></div><div class=\"sk-container\" hidden><div class=\"sk-item\"><div class=\"sk-estimator sk-toggleable\"><input class=\"sk-toggleable__control sk-hidden--visually\" id=\"sk-estimator-id-1\" type=\"checkbox\" checked><label for=\"sk-estimator-id-1\" class=\"sk-toggleable__label sk-toggleable__label-arrow\">PCA</label><div class=\"sk-toggleable__content\"><pre>PCA()</pre></div></div></div></div></div>"
      ],
      "text/plain": [
       "PCA()"
      ]
     },
     "execution_count": 18,
     "metadata": {},
     "output_type": "execute_result"
    }
   ],
   "source": [
    "scaler = StandardScaler()\n",
    "std = scaler.fit_transform(total_features)\n",
    "pca = PCA()\n",
    "pca.fit(std)"
   ]
  },
  {
   "cell_type": "code",
   "execution_count": null,
   "id": "b84d4fc6",
   "metadata": {},
   "outputs": [],
   "source": [
    "pca.explained_variance_ratio_.cumsum()"
   ]
  }
 ],
 "metadata": {
  "kernelspec": {
   "display_name": "Python 3 (ipykernel)",
   "language": "python",
   "name": "python3"
  },
  "language_info": {
   "codemirror_mode": {
    "name": "ipython",
    "version": 3
   },
   "file_extension": ".py",
   "mimetype": "text/x-python",
   "name": "python",
   "nbconvert_exporter": "python",
   "pygments_lexer": "ipython3",
   "version": "3.10.4"
  }
 },
 "nbformat": 4,
 "nbformat_minor": 5
}
