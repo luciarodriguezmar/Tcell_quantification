{
 "cells": [
  {
   "cell_type": "code",
   "execution_count": 3,
   "id": "71d0a730",
   "metadata": {},
   "outputs": [
    {
     "name": "stderr",
     "output_type": "stream",
     "text": [
      "C:\\Users\\Gast-User\\.conda\\envs\\MG\\lib\\site-packages\\numba\\core\\decorators.py:253: RuntimeWarning: nopython is set for njit and is ignored\n",
      "  warnings.warn('nopython is set for njit and is ignored', RuntimeWarning)\n"
     ]
    }
   ],
   "source": [
    "from Cells import Cells\n",
    "from MGFeatures import *\n",
    "import numpy as np\n",
    "import pandas as pd\n",
    "from joblib import Parallel, delayed\n",
    "import napari\n",
    "from tifffile import imsave\n",
    "import skimage.measure\n",
    "import time\n",
    "import seaborn as sns\n",
    "import matplotlib.pyplot as plt\n",
    "import cc3d"
   ]
  },
  {
   "cell_type": "code",
   "execution_count": 4,
   "id": "69376851",
   "metadata": {},
   "outputs": [],
   "source": [
    "def get_area(labels, labels_list): \n",
    "    areas = []\n",
    "    for i in labels_list:\n",
    "        area = np.count_nonzero(labels == i)\n",
    "        areas.append(area)\n",
    "    areas = np.array(areas)\n",
    "    return areas"
   ]
  },
  {
   "cell_type": "code",
   "execution_count": 5,
   "id": "06699ff0",
   "metadata": {},
   "outputs": [],
   "source": [
    "folder = r'Y:\\MS293_Shun_Immunogold_030523\\Segmentation\\cell_final'\n",
    "heterochromatin_folder = r'Y:\\MS293_Shun_Immunogold_030523\\Segmentation\\heterochromatin_final'\n",
    "gold_folder = r'Y:\\MS293_Shun_Immunogold_030523\\Segmentation\\gold_final'\n",
    "lysosomes_folder = r'Y:\\MS293_Shun_Immunogold_030523\\Segmentation\\lysosomes_final'\n",
    "mitochondria_folder = r'Y:\\MS293_Shun_Immunogold_030523\\Segmentation\\mitochondria_final'\n",
    "nucleus_folder = r'Y:\\MS293_Shun_Immunogold_030523\\Segmentation\\nucleus_final'\n",
    "ER_folder = r'Y:\\MS293_Shun_Immunogold_030523\\Segmentation\\er_final'\n",
    "golgi_folder = r'Y:\\MS293_Shun_Immunogold_030523\\Segmentation\\golgi_final'"
   ]
  },
  {
   "cell_type": "code",
   "execution_count": null,
   "id": "69b1f061",
   "metadata": {},
   "outputs": [],
   "source": []
  },
  {
   "cell_type": "code",
   "execution_count": 9,
   "id": "589d08d6",
   "metadata": {},
   "outputs": [],
   "source": [
    "start_time = time.time()\n",
    "# Initialize an empty list to collect data for all 'sl_num'\n",
    "all_mito_data = []\n",
    "\n",
    "# Initialize an empty list to collect 'mito_area' values for each 'sl_num'\n",
    "mito_area_values_list = []\n",
    "\n",
    "for i in range(0, 5):\n",
    "    cell = Cells(i)\n",
    "    imageshape = cell.get_imageshape(folder) \n",
    "    cell_image = cell.img_from_tiles(folder)\n",
    "    cell_labels = cell.label_cells(cell_image)\n",
    "    mitochondria_labels = mask_it(cell_labels, cell.img_from_tiles(mitochondria_folder))\n",
    "    mito_label = skimage.measure.label(mitochondria_labels, connectivity=2)\n",
    "    mito_coord = []\n",
    "    region = regionprops(mito_label)\n",
    "    for r in region:\n",
    "        sl_num = i\n",
    "        min_row, min_col, max_row, max_col = r.bbox\n",
    "        mito_coord.append((min_row, min_col, max_row, max_col, sl_num))\n",
    "    \n",
    "    # Append mito_coord data for the current 'sl_num' to all_mito_data\n",
    "    all_mito_data.extend(mito_coord)\n",
    "    \n",
    "    # Calculate 'mito_area' for the current 'sl_num' and collect the values\n",
    "    mito_list = np.unique(mito_label)[1:]\n",
    "    mito_area_values = get_area(mito_label, mito_list)\n",
    "    mito_area_values_list.append(mito_area_values)\n",
    "\n",
    "# Create the coord_mito DataFrame from the collected data\n",
    "coord_mito = pd.DataFrame(all_mito_data, columns=[\"min_row\", \"min_col\", \"max_row\", \"max_col\", 'sl_num'])\n",
    "\n",
    "# Combine 'mito_area' values into a single list\n",
    "mito_area_values_combined = np.concatenate(mito_area_values_list)\n",
    "\n",
    "# Assign 'mito_area' values to the coord_mito DataFrame\n",
    "coord_mito['mito_area'] = mito_area_values_combined\n",
    "\n",
    "# Initialize the 'mito_large' column with zeros\n",
    "coord_mito['mito_large'] = 0\n",
    "\n",
    "# Calculate 'mito_large' values\n",
    "for y in range(len(coord_mito)):\n",
    "    D = max(coord_mito['max_row'][y] - coord_mito['min_row'][y], coord_mito['max_col'][y] - coord_mito['min_col'][y])\n",
    "    coord_mito.loc[y, 'mito_large'] = D\n",
    "end_time = time.time()\n",
    "elapsed_time = end_time - start_time\n",
    "print(\"Elapsed time: \", elapsed_time)"
   ]
  },
  {
   "cell_type": "code",
   "execution_count": 10,
   "id": "8365ef7b",
   "metadata": {},
   "outputs": [
    {
     "data": {
      "text/html": [
       "<div>\n",
       "<style scoped>\n",
       "    .dataframe tbody tr th:only-of-type {\n",
       "        vertical-align: middle;\n",
       "    }\n",
       "\n",
       "    .dataframe tbody tr th {\n",
       "        vertical-align: top;\n",
       "    }\n",
       "\n",
       "    .dataframe thead th {\n",
       "        text-align: right;\n",
       "    }\n",
       "</style>\n",
       "<table border=\"1\" class=\"dataframe\">\n",
       "  <thead>\n",
       "    <tr style=\"text-align: right;\">\n",
       "      <th></th>\n",
       "      <th>min_row</th>\n",
       "      <th>min_col</th>\n",
       "      <th>max_row</th>\n",
       "      <th>max_col</th>\n",
       "      <th>sl_num</th>\n",
       "      <th>mito_area</th>\n",
       "      <th>mito_large</th>\n",
       "    </tr>\n",
       "  </thead>\n",
       "  <tbody>\n",
       "    <tr>\n",
       "      <th>0</th>\n",
       "      <td>3726</td>\n",
       "      <td>29344</td>\n",
       "      <td>3764</td>\n",
       "      <td>29376</td>\n",
       "      <td>0</td>\n",
       "      <td>944</td>\n",
       "      <td>38</td>\n",
       "    </tr>\n",
       "    <tr>\n",
       "      <th>1</th>\n",
       "      <td>3744</td>\n",
       "      <td>29272</td>\n",
       "      <td>3786</td>\n",
       "      <td>29324</td>\n",
       "      <td>0</td>\n",
       "      <td>1700</td>\n",
       "      <td>52</td>\n",
       "    </tr>\n",
       "    <tr>\n",
       "      <th>2</th>\n",
       "      <td>3860</td>\n",
       "      <td>28856</td>\n",
       "      <td>3912</td>\n",
       "      <td>28888</td>\n",
       "      <td>0</td>\n",
       "      <td>1296</td>\n",
       "      <td>52</td>\n",
       "    </tr>\n",
       "    <tr>\n",
       "      <th>3</th>\n",
       "      <td>3874</td>\n",
       "      <td>29368</td>\n",
       "      <td>3916</td>\n",
       "      <td>29410</td>\n",
       "      <td>0</td>\n",
       "      <td>1320</td>\n",
       "      <td>42</td>\n",
       "    </tr>\n",
       "    <tr>\n",
       "      <th>4</th>\n",
       "      <td>3880</td>\n",
       "      <td>29308</td>\n",
       "      <td>3906</td>\n",
       "      <td>29336</td>\n",
       "      <td>0</td>\n",
       "      <td>576</td>\n",
       "      <td>28</td>\n",
       "    </tr>\n",
       "    <tr>\n",
       "      <th>...</th>\n",
       "      <td>...</td>\n",
       "      <td>...</td>\n",
       "      <td>...</td>\n",
       "      <td>...</td>\n",
       "      <td>...</td>\n",
       "      <td>...</td>\n",
       "      <td>...</td>\n",
       "    </tr>\n",
       "    <tr>\n",
       "      <th>340</th>\n",
       "      <td>17931</td>\n",
       "      <td>12016</td>\n",
       "      <td>17963</td>\n",
       "      <td>12043</td>\n",
       "      <td>4</td>\n",
       "      <td>653</td>\n",
       "      <td>32</td>\n",
       "    </tr>\n",
       "    <tr>\n",
       "      <th>341</th>\n",
       "      <td>17962</td>\n",
       "      <td>7344</td>\n",
       "      <td>17992</td>\n",
       "      <td>7376</td>\n",
       "      <td>4</td>\n",
       "      <td>772</td>\n",
       "      <td>32</td>\n",
       "    </tr>\n",
       "    <tr>\n",
       "      <th>342</th>\n",
       "      <td>18035</td>\n",
       "      <td>12081</td>\n",
       "      <td>18079</td>\n",
       "      <td>12110</td>\n",
       "      <td>4</td>\n",
       "      <td>900</td>\n",
       "      <td>44</td>\n",
       "    </tr>\n",
       "    <tr>\n",
       "      <th>343</th>\n",
       "      <td>18122</td>\n",
       "      <td>12093</td>\n",
       "      <td>18178</td>\n",
       "      <td>12130</td>\n",
       "      <td>4</td>\n",
       "      <td>1540</td>\n",
       "      <td>56</td>\n",
       "    </tr>\n",
       "    <tr>\n",
       "      <th>344</th>\n",
       "      <td>18407</td>\n",
       "      <td>12030</td>\n",
       "      <td>18447</td>\n",
       "      <td>12067</td>\n",
       "      <td>4</td>\n",
       "      <td>1139</td>\n",
       "      <td>40</td>\n",
       "    </tr>\n",
       "  </tbody>\n",
       "</table>\n",
       "<p>345 rows × 7 columns</p>\n",
       "</div>"
      ],
      "text/plain": [
       "     min_row  min_col  max_row  max_col  sl_num  mito_area  mito_large\n",
       "0       3726    29344     3764    29376       0        944          38\n",
       "1       3744    29272     3786    29324       0       1700          52\n",
       "2       3860    28856     3912    28888       0       1296          52\n",
       "3       3874    29368     3916    29410       0       1320          42\n",
       "4       3880    29308     3906    29336       0        576          28\n",
       "..       ...      ...      ...      ...     ...        ...         ...\n",
       "340    17931    12016    17963    12043       4        653          32\n",
       "341    17962     7344    17992     7376       4        772          32\n",
       "342    18035    12081    18079    12110       4        900          44\n",
       "343    18122    12093    18178    12130       4       1540          56\n",
       "344    18407    12030    18447    12067       4       1139          40\n",
       "\n",
       "[345 rows x 7 columns]"
      ]
     },
     "execution_count": 10,
     "metadata": {},
     "output_type": "execute_result"
    }
   ],
   "source": [
    "coord_mito"
   ]
  },
  {
   "cell_type": "code",
   "execution_count": 11,
   "id": "5891c468",
   "metadata": {},
   "outputs": [],
   "source": [
    "coord_mito['volumen'] = coord_mito['mito_area'] * 200"
   ]
  },
  {
   "cell_type": "code",
   "execution_count": 12,
   "id": "c99b8f75",
   "metadata": {},
   "outputs": [
    {
     "data": {
      "text/html": [
       "<div>\n",
       "<style scoped>\n",
       "    .dataframe tbody tr th:only-of-type {\n",
       "        vertical-align: middle;\n",
       "    }\n",
       "\n",
       "    .dataframe tbody tr th {\n",
       "        vertical-align: top;\n",
       "    }\n",
       "\n",
       "    .dataframe thead th {\n",
       "        text-align: right;\n",
       "    }\n",
       "</style>\n",
       "<table border=\"1\" class=\"dataframe\">\n",
       "  <thead>\n",
       "    <tr style=\"text-align: right;\">\n",
       "      <th></th>\n",
       "      <th>min_row</th>\n",
       "      <th>min_col</th>\n",
       "      <th>max_row</th>\n",
       "      <th>max_col</th>\n",
       "      <th>sl_num</th>\n",
       "      <th>mito_area</th>\n",
       "      <th>mito_large</th>\n",
       "      <th>volumen</th>\n",
       "    </tr>\n",
       "  </thead>\n",
       "  <tbody>\n",
       "    <tr>\n",
       "      <th>0</th>\n",
       "      <td>3726</td>\n",
       "      <td>29344</td>\n",
       "      <td>3764</td>\n",
       "      <td>29376</td>\n",
       "      <td>0</td>\n",
       "      <td>944</td>\n",
       "      <td>38</td>\n",
       "      <td>188800</td>\n",
       "    </tr>\n",
       "    <tr>\n",
       "      <th>1</th>\n",
       "      <td>3744</td>\n",
       "      <td>29272</td>\n",
       "      <td>3786</td>\n",
       "      <td>29324</td>\n",
       "      <td>0</td>\n",
       "      <td>1700</td>\n",
       "      <td>52</td>\n",
       "      <td>340000</td>\n",
       "    </tr>\n",
       "    <tr>\n",
       "      <th>2</th>\n",
       "      <td>3860</td>\n",
       "      <td>28856</td>\n",
       "      <td>3912</td>\n",
       "      <td>28888</td>\n",
       "      <td>0</td>\n",
       "      <td>1296</td>\n",
       "      <td>52</td>\n",
       "      <td>259200</td>\n",
       "    </tr>\n",
       "    <tr>\n",
       "      <th>3</th>\n",
       "      <td>3874</td>\n",
       "      <td>29368</td>\n",
       "      <td>3916</td>\n",
       "      <td>29410</td>\n",
       "      <td>0</td>\n",
       "      <td>1320</td>\n",
       "      <td>42</td>\n",
       "      <td>264000</td>\n",
       "    </tr>\n",
       "    <tr>\n",
       "      <th>4</th>\n",
       "      <td>3880</td>\n",
       "      <td>29308</td>\n",
       "      <td>3906</td>\n",
       "      <td>29336</td>\n",
       "      <td>0</td>\n",
       "      <td>576</td>\n",
       "      <td>28</td>\n",
       "      <td>115200</td>\n",
       "    </tr>\n",
       "    <tr>\n",
       "      <th>...</th>\n",
       "      <td>...</td>\n",
       "      <td>...</td>\n",
       "      <td>...</td>\n",
       "      <td>...</td>\n",
       "      <td>...</td>\n",
       "      <td>...</td>\n",
       "      <td>...</td>\n",
       "      <td>...</td>\n",
       "    </tr>\n",
       "    <tr>\n",
       "      <th>340</th>\n",
       "      <td>17931</td>\n",
       "      <td>12016</td>\n",
       "      <td>17963</td>\n",
       "      <td>12043</td>\n",
       "      <td>4</td>\n",
       "      <td>653</td>\n",
       "      <td>32</td>\n",
       "      <td>130600</td>\n",
       "    </tr>\n",
       "    <tr>\n",
       "      <th>341</th>\n",
       "      <td>17962</td>\n",
       "      <td>7344</td>\n",
       "      <td>17992</td>\n",
       "      <td>7376</td>\n",
       "      <td>4</td>\n",
       "      <td>772</td>\n",
       "      <td>32</td>\n",
       "      <td>154400</td>\n",
       "    </tr>\n",
       "    <tr>\n",
       "      <th>342</th>\n",
       "      <td>18035</td>\n",
       "      <td>12081</td>\n",
       "      <td>18079</td>\n",
       "      <td>12110</td>\n",
       "      <td>4</td>\n",
       "      <td>900</td>\n",
       "      <td>44</td>\n",
       "      <td>180000</td>\n",
       "    </tr>\n",
       "    <tr>\n",
       "      <th>343</th>\n",
       "      <td>18122</td>\n",
       "      <td>12093</td>\n",
       "      <td>18178</td>\n",
       "      <td>12130</td>\n",
       "      <td>4</td>\n",
       "      <td>1540</td>\n",
       "      <td>56</td>\n",
       "      <td>308000</td>\n",
       "    </tr>\n",
       "    <tr>\n",
       "      <th>344</th>\n",
       "      <td>18407</td>\n",
       "      <td>12030</td>\n",
       "      <td>18447</td>\n",
       "      <td>12067</td>\n",
       "      <td>4</td>\n",
       "      <td>1139</td>\n",
       "      <td>40</td>\n",
       "      <td>227800</td>\n",
       "    </tr>\n",
       "  </tbody>\n",
       "</table>\n",
       "<p>345 rows × 8 columns</p>\n",
       "</div>"
      ],
      "text/plain": [
       "     min_row  min_col  max_row  max_col  sl_num  mito_area  mito_large  \\\n",
       "0       3726    29344     3764    29376       0        944          38   \n",
       "1       3744    29272     3786    29324       0       1700          52   \n",
       "2       3860    28856     3912    28888       0       1296          52   \n",
       "3       3874    29368     3916    29410       0       1320          42   \n",
       "4       3880    29308     3906    29336       0        576          28   \n",
       "..       ...      ...      ...      ...     ...        ...         ...   \n",
       "340    17931    12016    17963    12043       4        653          32   \n",
       "341    17962     7344    17992     7376       4        772          32   \n",
       "342    18035    12081    18079    12110       4        900          44   \n",
       "343    18122    12093    18178    12130       4       1540          56   \n",
       "344    18407    12030    18447    12067       4       1139          40   \n",
       "\n",
       "     volumen  \n",
       "0     188800  \n",
       "1     340000  \n",
       "2     259200  \n",
       "3     264000  \n",
       "4     115200  \n",
       "..       ...  \n",
       "340   130600  \n",
       "341   154400  \n",
       "342   180000  \n",
       "343   308000  \n",
       "344   227800  \n",
       "\n",
       "[345 rows x 8 columns]"
      ]
     },
     "execution_count": 12,
     "metadata": {},
     "output_type": "execute_result"
    }
   ],
   "source": [
    "coord_mito"
   ]
  },
  {
   "cell_type": "code",
   "execution_count": 13,
   "id": "685d5be1",
   "metadata": {},
   "outputs": [],
   "source": [
    "mito_labels = cc3d.connected_components(mito_stack, connectivity=26)"
   ]
  },
  {
   "cell_type": "code",
   "execution_count": 14,
   "id": "5b0316d5",
   "metadata": {},
   "outputs": [
    {
     "data": {
      "text/plain": [
       "324"
      ]
     },
     "execution_count": 14,
     "metadata": {},
     "output_type": "execute_result"
    }
   ],
   "source": [
    "mito_labels.max()"
   ]
  },
  {
   "cell_type": "code",
   "execution_count": 15,
   "id": "b07374e9",
   "metadata": {},
   "outputs": [],
   "source": [
    "def mito_to_3d(mito_labels, coord_mito):\n",
    "    features_mito =  coord_mito.copy()\n",
    "    features_mito['mito_3d'] = 0\n",
    "    for j in range(5):\n",
    "        for i in range(1, mito_labels[j].max()+1):\n",
    "            layer = np.where(mito_labels[j] == i)\n",
    "            if layer[0].size != 0: #coordinates of the first section of each of the cells\n",
    "                for n in range(len(features_mito)):\n",
    "                    if features_mito.loc[n, 'sl_num'] == j:\n",
    "                        if (layer[0].min() >= features_mito['min_row'][n]) and (layer[0].max() <= features_mito['max_row'][n]) and (layer[1].min() >= features_mito['min_col'][n]) and (layer[1].max() <= features_mito['max_col'][n]):\n",
    "                            features_mito['mito_3d'][n] = i\n",
    "    return features_mito"
   ]
  },
  {
   "cell_type": "code",
   "execution_count": 17,
   "id": "056893dd",
   "metadata": {},
   "outputs": [
    {
     "name": "stderr",
     "output_type": "stream",
     "text": [
      "C:\\Users\\Gast-User\\AppData\\Local\\Temp\\ipykernel_16972\\803661094.py:11: SettingWithCopyWarning: \n",
      "A value is trying to be set on a copy of a slice from a DataFrame\n",
      "\n",
      "See the caveats in the documentation: https://pandas.pydata.org/pandas-docs/stable/user_guide/indexing.html#returning-a-view-versus-a-copy\n",
      "  features_mito['mito_3d'][n] = i\n"
     ]
    },
    {
     "name": "stdout",
     "output_type": "stream",
     "text": [
      "Elapsed time:  3093.943882703781\n"
     ]
    }
   ],
   "source": [
    "start_time = time.time()\n",
    "features_mito_5_3d = mito_to_3d(mito_labels, coord_mito)\n",
    "end_time = time.time()\n",
    "elapsed_time = end_time - start_time\n",
    "print(\"Elapsed time: \", elapsed_time)"
   ]
  },
  {
   "cell_type": "code",
   "execution_count": 20,
   "id": "96184cc3",
   "metadata": {},
   "outputs": [
    {
     "ename": "AttributeError",
     "evalue": "'NoneType' object has no attribute 'to_excel'",
     "output_type": "error",
     "traceback": [
      "\u001b[1;31m---------------------------------------------------------------------------\u001b[0m",
      "\u001b[1;31mAttributeError\u001b[0m                            Traceback (most recent call last)",
      "Cell \u001b[1;32mIn[20], line 1\u001b[0m\n\u001b[1;32m----> 1\u001b[0m \u001b[43mfeatures_mito_5_3d\u001b[49m\u001b[38;5;241;43m.\u001b[39;49m\u001b[43mto_excel\u001b[49m(\u001b[38;5;124m'\u001b[39m\u001b[38;5;124mfeatures_mito_5_3d.xlsx\u001b[39m\u001b[38;5;124m'\u001b[39m)\n",
      "\u001b[1;31mAttributeError\u001b[0m: 'NoneType' object has no attribute 'to_excel'"
     ]
    }
   ],
   "source": [
    "features_mito_5_3d.to_excel('features_mito_5_3d.xlsx')"
   ]
  },
  {
   "cell_type": "code",
   "execution_count": 6,
   "id": "fa639877",
   "metadata": {},
   "outputs": [],
   "source": [
    "mitochondria_labels = mask_it(cell_labels, cell.img_from_tiles(mitochondria_folder))"
   ]
  },
  {
   "cell_type": "code",
   "execution_count": 7,
   "id": "9607c7de",
   "metadata": {},
   "outputs": [],
   "source": [
    "mito_label = skimage.measure.label(mitochondria_labels, connectivity=2)"
   ]
  },
  {
   "cell_type": "markdown",
   "id": "08713cf4",
   "metadata": {},
   "source": [
    "###  connectivity=26"
   ]
  },
  {
   "cell_type": "code",
   "execution_count": 22,
   "id": "29427dba",
   "metadata": {},
   "outputs": [
    {
     "data": {
      "text/plain": [
       "(49, 116, 182, 254, 324)"
      ]
     },
     "execution_count": 22,
     "metadata": {},
     "output_type": "execute_result"
    }
   ],
   "source": [
    "mito_labels[0].max(), mito_labels[1].max(), mito_labels[2].max(), mito_labels[3].max(), mito_labels[4].max()"
   ]
  },
  {
   "cell_type": "markdown",
   "id": "579c5e45",
   "metadata": {},
   "source": [
    "### connectivity=18"
   ]
  },
  {
   "cell_type": "code",
   "execution_count": 27,
   "id": "3ce6b3c4",
   "metadata": {},
   "outputs": [],
   "source": [
    "mito_labels = cc3d.connected_components(mito_stack, connectivity=18)"
   ]
  },
  {
   "cell_type": "code",
   "execution_count": 29,
   "id": "fbe0ec64",
   "metadata": {},
   "outputs": [
    {
     "data": {
      "text/plain": [
       "(49, 116, 183, 257, 327)"
      ]
     },
     "execution_count": 29,
     "metadata": {},
     "output_type": "execute_result"
    }
   ],
   "source": [
    "mito_labels[0].max(), mito_labels[1].max(), mito_labels[2].max(), mito_labels[3].max(), mito_labels[4].max()"
   ]
  },
  {
   "cell_type": "markdown",
   "id": "468fd8e3",
   "metadata": {},
   "source": [
    "### connectivity=6"
   ]
  },
  {
   "cell_type": "code",
   "execution_count": 33,
   "id": "687c7536",
   "metadata": {},
   "outputs": [],
   "source": [
    "mito_labels = cc3d.connected_components(mito_stack, connectivity=6)"
   ]
  },
  {
   "cell_type": "code",
   "execution_count": 34,
   "id": "3ce21aa2",
   "metadata": {},
   "outputs": [
    {
     "data": {
      "text/plain": [
       "(49, 116, 187, 261, 333)"
      ]
     },
     "execution_count": 34,
     "metadata": {},
     "output_type": "execute_result"
    }
   ],
   "source": [
    "mito_labels[0].max(), mito_labels[1].max(), mito_labels[2].max(), mito_labels[3].max(), mito_labels[4].max()"
   ]
  },
  {
   "cell_type": "code",
   "execution_count": 32,
   "id": "fc7ea022",
   "metadata": {},
   "outputs": [],
   "source": [
    "coord_mito = np.where(mito_labels[0] == 0)"
   ]
  },
  {
   "cell_type": "code",
   "execution_count": 31,
   "id": "0bff25ba",
   "metadata": {},
   "outputs": [
    {
     "data": {
      "text/plain": [
       "(array([18115, 18115, 18115, 18115, 18115, 18115, 18115, 18116, 18116,\n",
       "        18116, 18116, 18116, 18116, 18116, 18116, 18116, 18117, 18117,\n",
       "        18117, 18117, 18117, 18117, 18117, 18117, 18117, 18117, 18117,\n",
       "        18118, 18118, 18118, 18118, 18118, 18118, 18118, 18118, 18118,\n",
       "        18118, 18118, 18118, 18118, 18119, 18119, 18119, 18119, 18119,\n",
       "        18119, 18119, 18119, 18119, 18119, 18119, 18119, 18119, 18119,\n",
       "        18119, 18120, 18120, 18120, 18120, 18120, 18120, 18120, 18120,\n",
       "        18120, 18120, 18120, 18120, 18120, 18120, 18120, 18120, 18121,\n",
       "        18121, 18121, 18121, 18121, 18121, 18121, 18121, 18121, 18121,\n",
       "        18121, 18121, 18121, 18121, 18121, 18121, 18122, 18122, 18122,\n",
       "        18122, 18122, 18122, 18122, 18122, 18122, 18122, 18122, 18122,\n",
       "        18122, 18122, 18122, 18122, 18123, 18123, 18123, 18123, 18123,\n",
       "        18123, 18123, 18123, 18123, 18123, 18123, 18123, 18123, 18123,\n",
       "        18123, 18123, 18123, 18124, 18124, 18124, 18124, 18124, 18124,\n",
       "        18124, 18124, 18124, 18124, 18124, 18124, 18124, 18124, 18124,\n",
       "        18124, 18124, 18124, 18124, 18125, 18125, 18125, 18125, 18125,\n",
       "        18125, 18125, 18125, 18125, 18125, 18125, 18125, 18125, 18125,\n",
       "        18125, 18125, 18125, 18125, 18125, 18125, 18126, 18126, 18126,\n",
       "        18126, 18126, 18126, 18126, 18126, 18126, 18126, 18126, 18126,\n",
       "        18126, 18126, 18126, 18126, 18126, 18126, 18126, 18126, 18127,\n",
       "        18127, 18127, 18127, 18127, 18127, 18127, 18127, 18127, 18127,\n",
       "        18127, 18127, 18127, 18127, 18127, 18127, 18127, 18127, 18127,\n",
       "        18127, 18128, 18128, 18128, 18128, 18128, 18128, 18128, 18128,\n",
       "        18128, 18128, 18128, 18128, 18128, 18128, 18128, 18128, 18128,\n",
       "        18128, 18128, 18128, 18129, 18129, 18129, 18129, 18129, 18129,\n",
       "        18129, 18129, 18129, 18129, 18129, 18129, 18129, 18129, 18129,\n",
       "        18129, 18129, 18129, 18129, 18129, 18130, 18130, 18130, 18130,\n",
       "        18130, 18130, 18130, 18130, 18130, 18130, 18130, 18130, 18130,\n",
       "        18130, 18130, 18130, 18130, 18130, 18130, 18130, 18130, 18131,\n",
       "        18131, 18131, 18131, 18131, 18131, 18131, 18131, 18131, 18131,\n",
       "        18131, 18131, 18131, 18131, 18131, 18131, 18131, 18131, 18131,\n",
       "        18131, 18132, 18132, 18132, 18132, 18132, 18132, 18132, 18132,\n",
       "        18132, 18132, 18132, 18132, 18132, 18132, 18132, 18132, 18132,\n",
       "        18132, 18132, 18132, 18133, 18133, 18133, 18133, 18133, 18133,\n",
       "        18133, 18133, 18133, 18133, 18133, 18133, 18133, 18133, 18133,\n",
       "        18133, 18133, 18133, 18133, 18133, 18134, 18134, 18134, 18134,\n",
       "        18134, 18134, 18134, 18134, 18134, 18134, 18134, 18134, 18134,\n",
       "        18134, 18134, 18134, 18134, 18134, 18134, 18134, 18134, 18135,\n",
       "        18135, 18135, 18135, 18135, 18135, 18135, 18135, 18135, 18135,\n",
       "        18135, 18135, 18135, 18135, 18135, 18135, 18135, 18135, 18135,\n",
       "        18135, 18135, 18136, 18136, 18136, 18136, 18136, 18136, 18136,\n",
       "        18136, 18136, 18136, 18136, 18136, 18136, 18136, 18136, 18136,\n",
       "        18136, 18136, 18136, 18136, 18136, 18137, 18137, 18137, 18137,\n",
       "        18137, 18137, 18137, 18137, 18137, 18137, 18137, 18137, 18137,\n",
       "        18137, 18137, 18137, 18137, 18137, 18137, 18137, 18137, 18138,\n",
       "        18138, 18138, 18138, 18138, 18138, 18138, 18138, 18138, 18138,\n",
       "        18138, 18138, 18138, 18138, 18138, 18138, 18138, 18138, 18138,\n",
       "        18138, 18139, 18139, 18139, 18139, 18139, 18139, 18139, 18139,\n",
       "        18139, 18139, 18139, 18139, 18139, 18139, 18139, 18139, 18139,\n",
       "        18139, 18139, 18139, 18140, 18140, 18140, 18140, 18140, 18140,\n",
       "        18140, 18140, 18140, 18140, 18140, 18140, 18140, 18140, 18140,\n",
       "        18140, 18140, 18140, 18140, 18141, 18141, 18141, 18141, 18141,\n",
       "        18141, 18141, 18141, 18141, 18141, 18141, 18141, 18141, 18141,\n",
       "        18141, 18141, 18141, 18141, 18141, 18142, 18142, 18142, 18142,\n",
       "        18142, 18142, 18142, 18142, 18142, 18142, 18142, 18142, 18142,\n",
       "        18142, 18142, 18142, 18142, 18142, 18143, 18143, 18143, 18143,\n",
       "        18143, 18143, 18143, 18143, 18143, 18143, 18143, 18143, 18143,\n",
       "        18143, 18143, 18143, 18143, 18143, 18144, 18144, 18144, 18144,\n",
       "        18144, 18144, 18144, 18144, 18144, 18144, 18144, 18144, 18144,\n",
       "        18144, 18144, 18144, 18144, 18144, 18145, 18145, 18145, 18145,\n",
       "        18145, 18145, 18145, 18145, 18145, 18145, 18145, 18145, 18145,\n",
       "        18145, 18145, 18145, 18146, 18146, 18146, 18146, 18146, 18146,\n",
       "        18146, 18146, 18146, 18146, 18146, 18146, 18146, 18146, 18146,\n",
       "        18147, 18147, 18147, 18147, 18147, 18147, 18147, 18147, 18147,\n",
       "        18147, 18147, 18147, 18147, 18148, 18148, 18148, 18148, 18148,\n",
       "        18148, 18148, 18148, 18148, 18148, 18148, 18149, 18149, 18149,\n",
       "        18149, 18149, 18149, 18149, 18149, 18149, 18150, 18150, 18150,\n",
       "        18150, 18150, 18150, 18150], dtype=int64),\n",
       " array([12069, 12070, 12071, 12072, 12073, 12074, 12075, 12068, 12069,\n",
       "        12070, 12071, 12072, 12073, 12074, 12075, 12076, 12067, 12068,\n",
       "        12069, 12070, 12071, 12072, 12073, 12074, 12075, 12076, 12077,\n",
       "        12066, 12067, 12068, 12069, 12070, 12071, 12072, 12073, 12074,\n",
       "        12075, 12076, 12077, 12078, 12065, 12066, 12067, 12068, 12069,\n",
       "        12070, 12071, 12072, 12073, 12074, 12075, 12076, 12077, 12078,\n",
       "        12079, 12065, 12066, 12067, 12068, 12069, 12070, 12071, 12072,\n",
       "        12073, 12074, 12075, 12076, 12077, 12078, 12079, 12080, 12065,\n",
       "        12066, 12067, 12068, 12069, 12070, 12071, 12072, 12073, 12074,\n",
       "        12075, 12076, 12077, 12078, 12079, 12080, 12065, 12066, 12067,\n",
       "        12068, 12069, 12070, 12071, 12072, 12073, 12074, 12075, 12076,\n",
       "        12077, 12078, 12079, 12080, 12064, 12065, 12066, 12067, 12068,\n",
       "        12069, 12070, 12071, 12072, 12073, 12074, 12075, 12076, 12077,\n",
       "        12078, 12079, 12080, 12063, 12064, 12065, 12066, 12067, 12068,\n",
       "        12069, 12070, 12071, 12072, 12073, 12074, 12075, 12076, 12077,\n",
       "        12078, 12079, 12080, 12081, 12063, 12064, 12065, 12066, 12067,\n",
       "        12068, 12069, 12070, 12071, 12072, 12073, 12074, 12075, 12076,\n",
       "        12077, 12078, 12079, 12080, 12081, 12082, 12063, 12064, 12065,\n",
       "        12066, 12067, 12068, 12069, 12070, 12071, 12072, 12073, 12074,\n",
       "        12075, 12076, 12077, 12078, 12079, 12080, 12081, 12082, 12063,\n",
       "        12064, 12065, 12066, 12067, 12068, 12069, 12070, 12071, 12072,\n",
       "        12073, 12074, 12075, 12076, 12077, 12078, 12079, 12080, 12081,\n",
       "        12082, 12063, 12064, 12065, 12066, 12067, 12068, 12069, 12070,\n",
       "        12071, 12072, 12073, 12074, 12075, 12076, 12077, 12078, 12079,\n",
       "        12080, 12081, 12082, 12063, 12064, 12065, 12066, 12067, 12068,\n",
       "        12069, 12070, 12071, 12072, 12073, 12074, 12075, 12076, 12077,\n",
       "        12078, 12079, 12080, 12081, 12082, 12063, 12064, 12065, 12066,\n",
       "        12067, 12068, 12069, 12070, 12071, 12072, 12073, 12074, 12075,\n",
       "        12076, 12077, 12078, 12079, 12080, 12081, 12082, 12083, 12064,\n",
       "        12065, 12066, 12067, 12068, 12069, 12070, 12071, 12072, 12073,\n",
       "        12074, 12075, 12076, 12077, 12078, 12079, 12080, 12081, 12082,\n",
       "        12083, 12064, 12065, 12066, 12067, 12068, 12069, 12070, 12071,\n",
       "        12072, 12073, 12074, 12075, 12076, 12077, 12078, 12079, 12080,\n",
       "        12081, 12082, 12083, 12064, 12065, 12066, 12067, 12068, 12069,\n",
       "        12070, 12071, 12072, 12073, 12074, 12075, 12076, 12077, 12078,\n",
       "        12079, 12080, 12081, 12082, 12083, 12064, 12065, 12066, 12067,\n",
       "        12068, 12069, 12070, 12071, 12072, 12073, 12074, 12075, 12076,\n",
       "        12077, 12078, 12079, 12080, 12081, 12082, 12083, 12084, 12065,\n",
       "        12066, 12067, 12068, 12069, 12070, 12071, 12072, 12073, 12074,\n",
       "        12075, 12076, 12077, 12078, 12079, 12080, 12081, 12082, 12083,\n",
       "        12084, 12085, 12065, 12066, 12067, 12068, 12069, 12070, 12071,\n",
       "        12072, 12073, 12074, 12075, 12076, 12077, 12078, 12079, 12080,\n",
       "        12081, 12082, 12083, 12084, 12085, 12065, 12066, 12067, 12068,\n",
       "        12069, 12070, 12071, 12072, 12073, 12074, 12075, 12076, 12077,\n",
       "        12078, 12079, 12080, 12081, 12082, 12083, 12084, 12085, 12066,\n",
       "        12067, 12068, 12069, 12070, 12071, 12072, 12073, 12074, 12075,\n",
       "        12076, 12077, 12078, 12079, 12080, 12081, 12082, 12083, 12084,\n",
       "        12085, 12066, 12067, 12068, 12069, 12070, 12071, 12072, 12073,\n",
       "        12074, 12075, 12076, 12077, 12078, 12079, 12080, 12081, 12082,\n",
       "        12083, 12084, 12085, 12067, 12068, 12069, 12070, 12071, 12072,\n",
       "        12073, 12074, 12075, 12076, 12077, 12078, 12079, 12080, 12081,\n",
       "        12082, 12083, 12084, 12085, 12067, 12068, 12069, 12070, 12071,\n",
       "        12072, 12073, 12074, 12075, 12076, 12077, 12078, 12079, 12080,\n",
       "        12081, 12082, 12083, 12084, 12085, 12068, 12069, 12070, 12071,\n",
       "        12072, 12073, 12074, 12075, 12076, 12077, 12078, 12079, 12080,\n",
       "        12081, 12082, 12083, 12084, 12085, 12068, 12069, 12070, 12071,\n",
       "        12072, 12073, 12074, 12075, 12076, 12077, 12078, 12079, 12080,\n",
       "        12081, 12082, 12083, 12084, 12085, 12068, 12069, 12070, 12071,\n",
       "        12072, 12073, 12074, 12075, 12076, 12077, 12078, 12079, 12080,\n",
       "        12081, 12082, 12083, 12084, 12085, 12069, 12070, 12071, 12072,\n",
       "        12073, 12074, 12075, 12076, 12077, 12078, 12079, 12080, 12081,\n",
       "        12082, 12083, 12084, 12070, 12071, 12072, 12073, 12074, 12075,\n",
       "        12076, 12077, 12078, 12079, 12080, 12081, 12082, 12083, 12084,\n",
       "        12071, 12072, 12073, 12074, 12075, 12076, 12077, 12078, 12079,\n",
       "        12080, 12081, 12082, 12083, 12072, 12073, 12074, 12075, 12076,\n",
       "        12077, 12078, 12079, 12080, 12081, 12082, 12073, 12074, 12075,\n",
       "        12076, 12077, 12078, 12079, 12080, 12081, 12074, 12075, 12076,\n",
       "        12077, 12078, 12079, 12080], dtype=int64))"
      ]
     },
     "execution_count": 31,
     "metadata": {},
     "output_type": "execute_result"
    }
   ],
   "source": [
    "coord_mito"
   ]
  },
  {
   "cell_type": "markdown",
   "id": "7005bca0",
   "metadata": {},
   "source": [
    "# Nuclear calculations"
   ]
  },
  {
   "cell_type": "code",
   "execution_count": null,
   "id": "f9e2c26f",
   "metadata": {},
   "outputs": [],
   "source": [
    "start_time = time.time()\n",
    "nuc_stack = np.zeros(shape = (5, 37440, 35168))\n",
    "all_nuc_data = []\n",
    "for i in range(0,5):\n",
    "    cell = Cells(i)\n",
    "    imageshape = cell.get_imageshape(folder) \n",
    "    cell_image = cell.img_from_tiles(folder)\n",
    "    cell_labels = cell.label_cells(cell_image)\n",
    "    nucleus_labels = mask_it(cell_labels, cell.img_from_tiles(nucleus_folder))\n",
    "    nuc_label = skimage.measure.label(nucleus_labels, connectivity=2)\n",
    "    nuc_coord = []\n",
    "    region = regionprops(nuc_label)\n",
    "    for r in region:\n",
    "        sl_num = i\n",
    "        min_row, min_col, max_row, max_col = r.bbox\n",
    "        nuc_coord.append((min_row, min_col, max_row, max_col, sl_num))\n",
    "    all_nuc_data.extend(mito_coord)\n",
    "    nuc_stack[i] = nuc_label\n",
    "coord_nuc = pd.DataFrame(all_mito_data, columns=[\"min_row\", \"min_col\", \"max_row\", \"max_col\", 'sl_num'])\n",
    "#       coord_mito['sl_num'][r] = i\n",
    "unique_sl_nums = coord_mito['sl_num'].unique()\n",
    "for sl_num in unique_sl_nums:\n",
    "    mito_list = np.unique(coord_mito[coord_mito['sl_num'] == sl_num]['sl_num'])\n",
    "    mito_area_values = get_area(mito_label, mito_list)\n",
    "    coord_mito.loc[coord_mito['sl_num'] == sl_num, 'mito_area'] = mito_area_values\n",
    "coord_mito['mito_large'] = 0\n",
    "for y in range(len(coord_mito)):\n",
    "    D = max(coord_mito['max_row'][y] - coord_mito['min_row'][y], coord_mito['max_col'][y] - coord_mito['min_col'][y])\n",
    "    coord_mito['mito_large'][y] = D\n",
    "end_time = time.time()\n",
    "elapsed_time = end_time - start_time\n",
    "print(\"Elapsed time: \", elapsed_time)"
   ]
  }
 ],
 "metadata": {
  "kernelspec": {
   "display_name": "Python 3 (ipykernel)",
   "language": "python",
   "name": "python3"
  },
  "language_info": {
   "codemirror_mode": {
    "name": "ipython",
    "version": 3
   },
   "file_extension": ".py",
   "mimetype": "text/x-python",
   "name": "python",
   "nbconvert_exporter": "python",
   "pygments_lexer": "ipython3",
   "version": "3.10.4"
  }
 },
 "nbformat": 4,
 "nbformat_minor": 5
}
